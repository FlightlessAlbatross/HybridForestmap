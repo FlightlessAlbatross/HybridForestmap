{
 "cells": [
  {
   "cell_type": "code",
   "execution_count": 1,
   "id": "e083c7de",
   "metadata": {},
   "outputs": [],
   "source": [
    "import numpy as np\n",
    "import rasterio\n",
    "from rasterio.mask import mask\n",
    "\n",
    "\n",
    "from rasterio.features import bounds as feature_bounds\n",
    "import pandas as pd\n",
    "\n",
    "import geopandas as gpd\n",
    "import fiona\n",
    "\n",
    "import numpy.ma as ma # for masked arrays. This allows us to handle NAs for integer arrays\n",
    "\n",
    "\n",
    "# for the blur\n",
    "from scipy.ndimage import convolve, median_filter\n",
    "\n",
    "#todo: align the subnational subtiffs to the overall 100m tif. "
   ]
  },
  {
   "cell_type": "code",
   "execution_count": 2,
   "id": "c98a2be3",
   "metadata": {},
   "outputs": [],
   "source": [
    "# # input data:\n",
    "# probability maps (as a list of paths)\n",
    "# fixed pixels maps\n",
    "# admin polygon or rasterized --> they need to have columns cl_1 to cl_n containing the number of pixels (or area?)\n",
    "# admin totals\n",
    "\n",
    "# 2 lists of integers giving the probability layers and the fixed layers the class intergers in order!\n",
    "\n",
    "# # input parameters:\n",
    "# type of blur / kernel\n",
    "\n",
    "\n",
    "\n",
    "# output: final map"
   ]
  },
  {
   "cell_type": "code",
   "execution_count": 3,
   "id": "016ded83",
   "metadata": {},
   "outputs": [],
   "source": [
    "# lets write the function for a single element first. \n",
    "\n",
    "# check for raster alignment first!!? how. \n",
    "# check if polys number of cl_columns mathces the number of layers\n",
    "\n",
    "# somehow check the classes\n",
    "#   number of fixed pixel and probability layers must equal the number of admin stats. \n",
    "#   the fixed ones could be inferred. \n",
    "\n",
    "# make sure 255 is the NA value\n",
    "# make sure the croped  layers have the same number of masked pixels??\n",
    "\n",
    "# stitching back together the nuts regions\n"
   ]
  },
  {
   "cell_type": "code",
   "execution_count": 286,
   "id": "d5a29bd6",
   "metadata": {},
   "outputs": [
    {
     "name": "stdout",
     "output_type": "stream",
     "text": [
      "Origin = (4596000.000000000000000,3556200.000000000000000)\n",
      "Size is 7163, 6103\n",
      "Pixel Size = (100.000000000000000,-100.000000000000000)\n"
     ]
    }
   ],
   "source": [
    "!gdalinfo in_data/Corine_landcover/Grass_ptobability_final_layer_Poland.tif | grep Origin\n",
    "!gdalinfo in_data/Corine_landcover/Grass_ptobability_final_layer_Poland.tif | grep Size"
   ]
  },
  {
   "cell_type": "code",
   "execution_count": 287,
   "id": "32e3d7df",
   "metadata": {},
   "outputs": [
    {
     "name": "stdout",
     "output_type": "stream",
     "text": [
      "Origin = (4598000.000000000000000,3554000.000000000000000)\n",
      "Size is 7120, 6060\n",
      "Pixel Size = (100.000000000000000,-100.000000000000000)\n"
     ]
    }
   ],
   "source": [
    "# check alignment manually\n",
    "!gdalinfo in_data/CLC/u2018_clc2018_v2020_20u1_raster100m/DATA/PL_urbanmask_1xx.tif | grep Origin\n",
    "!gdalinfo in_data/CLC/u2018_clc2018_v2020_20u1_raster100m/DATA/PL_urbanmask_1xx.tif | grep Size"
   ]
  },
  {
   "cell_type": "code",
   "execution_count": 207,
   "id": "ef2f0470",
   "metadata": {},
   "outputs": [],
   "source": [
    "# parameters:\n",
    "windowsize_median = 3\n",
    "blurtype = 'median' # unused"
   ]
  },
  {
   "cell_type": "code",
   "execution_count": 208,
   "id": "b070a8c1",
   "metadata": {},
   "outputs": [],
   "source": [
    "admin_GIS_path = 'in_data/admin/PL_stats.geojson'\n",
    "current_nutsid = 'PL72'"
   ]
  },
  {
   "cell_type": "code",
   "execution_count": 184,
   "id": "1c1014ab",
   "metadata": {},
   "outputs": [],
   "source": [
    "polys = gpd.read_file(admin_GIS_path)"
   ]
  },
  {
   "cell_type": "code",
   "execution_count": 194,
   "id": "15816f63",
   "metadata": {},
   "outputs": [],
   "source": [
    "poly = polys.loc[polys['id'] == 'PL72', ]"
   ]
  },
  {
   "cell_type": "code",
   "execution_count": 185,
   "id": "d8e563f8",
   "metadata": {},
   "outputs": [],
   "source": [
    "urban_mask_path = 'in_data/CLC/u2018_clc2018_v2020_20u1_raster100m/DATA/PL_urbanmask_1xx.tif'"
   ]
  },
  {
   "cell_type": "code",
   "execution_count": 186,
   "id": "7ca59719",
   "metadata": {},
   "outputs": [],
   "source": [
    "foresttif_path    = \"out_data/PL_expert_map_integer.tif\"\n",
    "grasslandtif_path = \"in_data/Corine_landcover/Grass_ptobability_final_layer_Poland.tif\"\n",
    "croplandtif_path  = \"in_data/Corine_landcover/Crops_ptobability_final_layer_Poland.tif\"\n"
   ]
  },
  {
   "cell_type": "code",
   "execution_count": 187,
   "id": "7d1dcf78",
   "metadata": {},
   "outputs": [
    {
     "data": {
      "text/plain": [
       "Index(['id', 'NUTS_ID', 'LEVL_CODE', 'CNTR_CODE', 'NAME_LATN', 'NUTS_NAME',\n",
       "       'MOUNT_TYPE', 'URBN_TYPE', 'COAST_TYPE', 'FID', 'numeric_id', 'X1990',\n",
       "       'X1991', 'X1992', 'X1993', 'X1994', 'X1995', 'X1996', 'X1997', 'X1998',\n",
       "       'X1999', 'X2000', 'X2001', 'X2002', 'X2003', 'X2004', 'X2005', 'X2006',\n",
       "       'X2007', 'X2008', 'X2009', 'X2010', 'X2011', 'X2012', 'X2013', 'X2014',\n",
       "       'X2015', 'X2016', 'X2017', 'X2018', 'X2019', 'X2020', 'X2021', 'X2022',\n",
       "       'cl_1_total', 'cl_2_total', 'cl_3_total', 'cl_4_total', 'geometry'],\n",
       "      dtype='object')"
      ]
     },
     "execution_count": 187,
     "metadata": {},
     "output_type": "execute_result"
    }
   ],
   "source": [
    "polys.columns"
   ]
  },
  {
   "cell_type": "code",
   "execution_count": 188,
   "id": "01908574",
   "metadata": {},
   "outputs": [],
   "source": [
    "# 0 = -----\n",
    "# 1 = forest;\n",
    "# 2 = arable cropland;\n",
    "# 3 = permanent cropland;\n",
    "# 4 = grassland;\n",
    "# 5 = built-up; \n",
    "# 6 = other natural land; \n",
    "# 7 = the rest/not releva\n"
   ]
  },
  {
   "cell_type": "code",
   "execution_count": 189,
   "id": "feb163c7",
   "metadata": {},
   "outputs": [],
   "source": [
    "fixed_layer_paths = [urban_mask_path]\n",
    "fixed_layer_codes = [5]\n",
    "\n",
    "probability_layers_paths = [foresttif_path, grasslandtif_path, croplandtif_path]\n",
    "probability_layers_codes = [1, 4, 2]\n"
   ]
  },
  {
   "cell_type": "code",
   "execution_count": 196,
   "id": "f711ba71",
   "metadata": {},
   "outputs": [],
   "source": [
    "class Input_Data_Exception(Exception):\n",
    "    pass\n",
    "\n",
    "def check_admin_data():\n",
    "    all_classes = fixed_layers_codes + probability_layers_codes\n",
    "\n",
    "    # check for NAs in the cl columns\n",
    "    \n",
    "    # check if all classes are in admin data\n",
    "    for cl in probability_layers_codes:\n",
    "        if not f\"cl_{cl}_total\" in poly.columns:\n",
    "            print(f\"cl_{cl}_total is not in the polys file\")\n",
    "            return False\n",
    "        \n",
    "    return True"
   ]
  },
  {
   "cell_type": "code",
   "execution_count": 197,
   "id": "72f1cd2d",
   "metadata": {},
   "outputs": [
    {
     "data": {
      "text/plain": [
       "True"
      ]
     },
     "execution_count": 197,
     "metadata": {},
     "output_type": "execute_result"
    }
   ],
   "source": [
    "check_admin_data()"
   ]
  },
  {
   "cell_type": "code",
   "execution_count": 192,
   "id": "2b3b5e0f",
   "metadata": {},
   "outputs": [],
   "source": [
    "def check_input_layers():\n",
    "    length_probability_layers =  len(probability_layers_paths) == len(probability_layers_codes)\n",
    "    length_fixed_layers       =  len(fixed_layer_paths) == len(fixed_layers_codes)\n",
    "    \n",
    "    all_classes = fixed_layers_codes + probability_layers_codes\n",
    "    \n",
    "    duplicates = len(all_classes) == len(set(all_classes))\n",
    "    \n",
    "    \n",
    "    \n",
    "    return all([length_probability_layers, length_fixed_layers, duplicates])\n",
    "\n"
   ]
  },
  {
   "cell_type": "code",
   "execution_count": 193,
   "id": "f298b48e",
   "metadata": {},
   "outputs": [
    {
     "data": {
      "text/plain": [
       "True"
      ]
     },
     "execution_count": 193,
     "metadata": {},
     "output_type": "execute_result"
    }
   ],
   "source": [
    "check_input_layers()"
   ]
  },
  {
   "cell_type": "code",
   "execution_count": 205,
   "id": "2e880015",
   "metadata": {},
   "outputs": [
    {
     "data": {
      "text/plain": [
       "shapely.geometry.multipolygon.MultiPolygon"
      ]
     },
     "execution_count": 205,
     "metadata": {},
     "output_type": "execute_result"
    }
   ],
   "source": [
    "type(geometry.iloc[0])"
   ]
  },
  {
   "cell_type": "code",
   "execution_count": 277,
   "id": "445de184",
   "metadata": {},
   "outputs": [],
   "source": [
    "\n",
    "input_path = probability_layers_paths[0]\n",
    "\n",
    "def read_and_smear_raster(input_path, poly):\n",
    "    with rasterio.open(input_path) as src:\n",
    "            geometry = poly.geometry.iloc[0]\n",
    "            nutsid = poly['id']\n",
    "\n",
    "            # Mask and crop the raster using the current polygon\n",
    "            out_image, out_transform = mask(src, [geometry], invert=False, crop=True)\n",
    "\n",
    "            out_image = out_image.astype(float)  # Ensure the data is in float\n",
    "            out_image[out_image == 255] = np.nan\n",
    "\n",
    "\n",
    "            resolution = src.res  # (pixel width, pixel height)\n",
    "\n",
    "            # Get CRS\n",
    "            crs = src.crs\n",
    "            if crs is not None:\n",
    "                # Extract EPSG code\n",
    "                epsg_code = crs.to_epsg()  # This will be None if the EPSG code can't be determined\n",
    "\n",
    "\n",
    "            affine = out_transform\n",
    "\n",
    "            if len(out_image.shape) in [1 , 3]:\n",
    "                raise Input_Data_Exception\n",
    "\n",
    "            if len(out_image.shape) == 3:\n",
    "                array = np.squeeze(out_image, axis = 0)\n",
    "\n",
    "            # mask the 255 values\n",
    "            array_mask = np.isnan(array)\n",
    "\n",
    "            array = ma.array(array, mask = array_mask)\n",
    "\n",
    "            # now blur\n",
    "            smeared_array  = median_filter(array, size= windowsize_median)\n",
    "\n",
    "            # Reapply the mask to the blurred band\n",
    "            smeared_array = ma.array(smeared_array, mask = array_mask)\n",
    "\n",
    "\n",
    "            return smeared_array\n"
   ]
  },
  {
   "cell_type": "code",
   "execution_count": 264,
   "id": "062e4aec",
   "metadata": {},
   "outputs": [],
   "source": [
    "# make a stack of smeared probability layers\n",
    "probability_layers = np.ma.stack([read_and_smear_raster(layer, poly) for layer in probability_layers_paths])\n"
   ]
  },
  {
   "cell_type": "code",
   "execution_count": 276,
   "id": "06e23de0",
   "metadata": {},
   "outputs": [],
   "source": [
    "layer_idx_2_final = {position:classlabel for (position, classlabel) in enumerate(probability_layers_codes)}\n",
    "\n",
    "rev_layer_idx_2_final = {classlabel:position for (position, classlabel) in enumerate(probability_layers_codes)}\n"
   ]
  },
  {
   "cell_type": "code",
   "execution_count": 279,
   "id": "dee2044c",
   "metadata": {},
   "outputs": [],
   "source": [
    "# Flatten the array into a list of (row_index, column_index, value) tuples\n",
    "\n",
    "def order_probability_layer_pixels(probability_layers):\n",
    "\n",
    "    # take the probability layer stack and extract the pixel values, together with the x,y,z (layer) location. \n",
    "    # also translate the layer postion (i) to the final class code. \n",
    "    \n",
    "    flattened_with_indices = [(layer_idx_2_final[i], j, k, probability_layers[i, j, k]) \n",
    "                              for i in range(probability_layers.shape[0]) # layers \n",
    "                              for j in range(probability_layers.shape[1]) # rows\n",
    "                              for k in range(probability_layers.shape[2]) # cols\n",
    "                              if not ma.is_masked(probability_layers[i, j, k]) and not np.isnan(probability_layers[i, j, k]) ]\n",
    "    \n",
    "    # Order the values by the value, which is the 3rd (starting at 0) element of each tuple of the list. \n",
    "    flattened_sorted = sorted(flattened_with_indices, key=lambda x: x[3], reverse=True)\n",
    "       \n",
    "    \n",
    "    return flattened_sorted"
   ]
  },
  {
   "cell_type": "code",
   "execution_count": 51,
   "id": "d82d63b2",
   "metadata": {},
   "outputs": [],
   "source": []
  },
  {
   "cell_type": "code",
   "execution_count": 92,
   "id": "e7bea970",
   "metadata": {},
   "outputs": [
    {
     "data": {
      "text/plain": [
       "84238"
      ]
     },
     "execution_count": 92,
     "metadata": {},
     "output_type": "execute_result"
    }
   ],
   "source": [
    "# Linda asked me to hard-code fix the urban areas. \n",
    "# load an urban mask. flatten it, only take the urban pixels and put them at the top of the flattened_sorted list so they get assigned first\n",
    "# and added to the seen pixels set automatically. \n",
    "\n",
    "with rasterio.open(urban_mask_path) as src:\n",
    "    urban_mask, urban_mask_transform = mask(src, [geometry], invert=False, crop=True)\n",
    "    \n",
    "#     urban_mask = ma.array(urban_mask, mask=array_mask[0,:,:])\n",
    "\n",
    "\n",
    "fixed_pixels =  [(5, j, k, 100* urban_mask[0, j, k]) \n",
    "                              for j in range(masked_array.shape[1]) \n",
    "                              for k in range(masked_array.shape[2]) \n",
    "                              if not ma.is_masked(masked_array[0, j, k]) and urban_mask[0, j, k] == 1  ]\n",
    "\n",
    "\n",
    "len(fixed_pixels)"
   ]
  },
  {
   "cell_type": "code",
   "execution_count": 93,
   "id": "28a9fb06",
   "metadata": {},
   "outputs": [
    {
     "data": {
      "text/plain": [
       "(1272, 1497)"
      ]
     },
     "execution_count": 93,
     "metadata": {},
     "output_type": "execute_result"
    }
   ],
   "source": [
    "array.shape"
   ]
  },
  {
   "cell_type": "code",
   "execution_count": 94,
   "id": "f415b2c0",
   "metadata": {},
   "outputs": [
    {
     "data": {
      "text/plain": [
       "(1, 1272, 1497)"
      ]
     },
     "execution_count": 94,
     "metadata": {},
     "output_type": "execute_result"
    }
   ],
   "source": [
    "urban_mask.shape"
   ]
  },
  {
   "cell_type": "code",
   "execution_count": 95,
   "id": "af50bc82",
   "metadata": {},
   "outputs": [
    {
     "data": {
      "text/plain": [
       "[(5, 10, 415, 100),\n",
       " (5, 11, 415, 100),\n",
       " (5, 12, 415, 100),\n",
       " (5, 12, 423, 100),\n",
       " (5, 12, 424, 100),\n",
       " (5, 13, 415, 100),\n",
       " (5, 13, 416, 100),\n",
       " (5, 13, 417, 100),\n",
       " (5, 13, 418, 100),\n",
       " (5, 13, 419, 100)]"
      ]
     },
     "execution_count": 95,
     "metadata": {},
     "output_type": "execute_result"
    }
   ],
   "source": [
    "flattened_sorted = fixed_pixels +  flattened_sorted \n",
    "\n",
    "flattened_sorted[:10]"
   ]
  },
  {
   "cell_type": "code",
   "execution_count": null,
   "id": "891ee4e1",
   "metadata": {},
   "outputs": [],
   "source": [
    "# 0 = -----\n",
    "# 1 = forest;\n",
    "# 2 = arable cropland;\n",
    "# 3 = permanent cropland;\n",
    "# 4 = grassland;\n",
    "# 5 = built-up; \n",
    "# 6 = other natural land; \n",
    "# 7 = the rest/not releva\n"
   ]
  },
  {
   "cell_type": "code",
   "execution_count": 97,
   "id": "379fe6ee",
   "metadata": {},
   "outputs": [
    {
     "data": {
      "text/plain": [
       "(5, 330, 755, 100)"
      ]
     },
     "execution_count": 97,
     "metadata": {},
     "output_type": "execute_result"
    }
   ],
   "source": [
    "flattened_sorted[15524]"
   ]
  },
  {
   "cell_type": "code",
   "execution_count": 103,
   "id": "dde5e63b",
   "metadata": {},
   "outputs": [
    {
     "name": "stdout",
     "output_type": "stream",
     "text": [
      "[0, 0, 0, 0, 0, 0, 0, 0]\n"
     ]
    }
   ],
   "source": [
    "NUTSID = \"PL91\"\n",
    "seen_px = set()\n",
    "output = np.full(array3d.shape[1:3], 10, dtype = 'int')\n",
    "output = ma.array(output, mask=array_mask[0])\n",
    "\n",
    "\n",
    "for i, tupl in enumerate(flattened_sorted):\n",
    "    idx = tupl[1:3]\n",
    "    \n",
    "    if idx in seen_px or counter[tupl[0]] < 1:\n",
    "        continue\n",
    "    else:\n",
    "        output[idx] = tupl[0]\n",
    "        seen_px.add(idx)\n",
    "        counter[tupl[0]] -= 1\n",
    "\n",
    "print(counter)"
   ]
  },
  {
   "cell_type": "code",
   "execution_count": 104,
   "id": "15395c1c",
   "metadata": {},
   "outputs": [],
   "source": [
    "from rasterio.transform import from_origin\n",
    "\n",
    "data = output\n",
    "\n",
    "\n",
    "\n",
    "# Define the transformation and metadata\n",
    "transform = from_origin(west, north, resolution[0], resolution[1])\n",
    "height, width = data.shape\n",
    "crs = f\"EPSG:{epsg_code}\"  # Example CRS - replace with the appropriate CRS for your data\n",
    "\n",
    "# Metadata dictionary\n",
    "metadata = {\n",
    "    'driver': 'GTiff',\n",
    "    'height': height,\n",
    "    'width': width,\n",
    "    'count': 1,\n",
    "    'dtype': 'int16',\n",
    "    'crs': crs,\n",
    "    'transform': transform,\n",
    "    'nodata': 255 \n",
    "}\n",
    "\n",
    "# Write to a new TIFF file\n",
    "with rasterio.open('out_data/predictions/landcover_fillup/PL72_prediction_kernel_newclasses.tif', 'w', **metadata) as dst:\n",
    "    dst.write(data, 1)\n"
   ]
  },
  {
   "cell_type": "code",
   "execution_count": 60,
   "id": "48b9c650",
   "metadata": {},
   "outputs": [],
   "source": [
    "# Counting the frequency of each element\n",
    "unique_elements, counts = np.unique(output, return_counts=True)\n",
    "\n",
    "# Creating a dictionary for better readability\n",
    "frequency = dict(zip(['grassland', 'cropland', 'forest', 'urban', 'misc', 'na'], counts))\n",
    "\n",
    "print(frequency)"
   ]
  },
  {
   "cell_type": "code",
   "execution_count": null,
   "id": "f6963c52",
   "metadata": {},
   "outputs": [],
   "source": []
  },
  {
   "cell_type": "code",
   "execution_count": null,
   "id": "2896eb4e",
   "metadata": {},
   "outputs": [],
   "source": []
  },
  {
   "cell_type": "code",
   "execution_count": null,
   "id": "69ddc7be",
   "metadata": {},
   "outputs": [],
   "source": []
  }
 ],
 "metadata": {
  "kernelspec": {
   "display_name": "Python 3 (ipykernel)",
   "language": "python",
   "name": "python3"
  },
  "language_info": {
   "codemirror_mode": {
    "name": "ipython",
    "version": 3
   },
   "file_extension": ".py",
   "mimetype": "text/x-python",
   "name": "python",
   "nbconvert_exporter": "python",
   "pygments_lexer": "ipython3",
   "version": "3.10.12"
  }
 },
 "nbformat": 4,
 "nbformat_minor": 5
}
