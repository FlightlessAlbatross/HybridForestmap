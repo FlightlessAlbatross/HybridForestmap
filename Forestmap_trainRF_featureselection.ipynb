{
 "cells": [
  {
   "cell_type": "code",
   "execution_count": 1,
   "id": "96e16064",
   "metadata": {},
   "outputs": [],
   "source": [
    "import pandas as pd\n",
    "import numpy as np\n",
    "import rasterio\n",
    "from rasterio import *\n",
    "from rasterio.plot import show\n",
    "from pyspatialml import Raster\n",
    "\n",
    "from sklearn.model_selection import train_test_split,GridSearchCV\n",
    "import matplotlib.pyplot as plt\n",
    "from sklearn.metrics import confusion_matrix, ConfusionMatrixDisplay\n",
    "import joblib\n",
    "\n",
    "from sklearn.ensemble import RandomForestClassifier\n",
    "from sklearn.feature_selection import SelectFromModel\n",
    "from sklearn.feature_selection import RFE\n"
   ]
  },
  {
   "cell_type": "code",
   "execution_count": 2,
   "id": "bb9c7c85",
   "metadata": {},
   "outputs": [],
   "source": [
    "predictors = pd.read_csv(\"out_data/forest_data_poland_lucas.csv\", sep=\" \",  index_col=False, na_values = 48,\n",
    "                         header = None)\n",
    "pd.set_option('display.max_columns',None)\n"
   ]
  },
  {
   "cell_type": "markdown",
   "id": "3a001981",
   "metadata": {},
   "source": [
    "Better variable names"
   ]
  },
  {
   "cell_type": "code",
   "execution_count": 3,
   "id": "32f64b3f",
   "metadata": {},
   "outputs": [
    {
     "data": {
      "text/html": [
       "<div>\n",
       "<style scoped>\n",
       "    .dataframe tbody tr th:only-of-type {\n",
       "        vertical-align: middle;\n",
       "    }\n",
       "\n",
       "    .dataframe tbody tr th {\n",
       "        vertical-align: top;\n",
       "    }\n",
       "\n",
       "    .dataframe thead th {\n",
       "        text-align: right;\n",
       "    }\n",
       "</style>\n",
       "<table border=\"1\" class=\"dataframe\">\n",
       "  <thead>\n",
       "    <tr style=\"text-align: right;\">\n",
       "      <th></th>\n",
       "      <th>GLAD_mean100m</th>\n",
       "      <th>GLAD_median100m</th>\n",
       "      <th>GLAD_mode100m</th>\n",
       "      <th>GLAD_q1</th>\n",
       "      <th>GLAD_q3</th>\n",
       "      <th>CLC10m_mean</th>\n",
       "      <th>CLC10m_median</th>\n",
       "      <th>CLC10m_mode.</th>\n",
       "      <th>CLC10m_q1</th>\n",
       "      <th>CLC10m_q3</th>\n",
       "      <th>CLC_01.vrt</th>\n",
       "      <th>C-GLOPS_mean</th>\n",
       "      <th>C-GLOPS_median</th>\n",
       "      <th>C-GLOPS_mode</th>\n",
       "      <th>C-GLOPS_q1</th>\n",
       "      <th>C-GLOPS_q3</th>\n",
       "      <th>JAXA_q3</th>\n",
       "      <th>JAXA_q1</th>\n",
       "      <th>JAXA_mode</th>\n",
       "      <th>JAXA_median</th>\n",
       "      <th>JAXA_mean</th>\n",
       "    </tr>\n",
       "  </thead>\n",
       "  <tbody>\n",
       "    <tr>\n",
       "      <th>23079</th>\n",
       "      <td>0.246136</td>\n",
       "      <td>0</td>\n",
       "      <td>0</td>\n",
       "      <td>0</td>\n",
       "      <td>1</td>\n",
       "      <td>0.60</td>\n",
       "      <td>1</td>\n",
       "      <td>1</td>\n",
       "      <td>0</td>\n",
       "      <td>1</td>\n",
       "      <td>0</td>\n",
       "      <td>0.191063</td>\n",
       "      <td>0.07</td>\n",
       "      <td>0.07</td>\n",
       "      <td>0.04</td>\n",
       "      <td>0.08</td>\n",
       "      <td>0.5</td>\n",
       "      <td>0.0</td>\n",
       "      <td>0.0</td>\n",
       "      <td>0.0</td>\n",
       "      <td>0.277736</td>\n",
       "    </tr>\n",
       "    <tr>\n",
       "      <th>23080</th>\n",
       "      <td>0.000000</td>\n",
       "      <td>0</td>\n",
       "      <td>0</td>\n",
       "      <td>0</td>\n",
       "      <td>0</td>\n",
       "      <td>0.00</td>\n",
       "      <td>0</td>\n",
       "      <td>0</td>\n",
       "      <td>0</td>\n",
       "      <td>0</td>\n",
       "      <td>0</td>\n",
       "      <td>0.016844</td>\n",
       "      <td>0.01</td>\n",
       "      <td>0.01</td>\n",
       "      <td>0.01</td>\n",
       "      <td>0.03</td>\n",
       "      <td>0.0</td>\n",
       "      <td>0.0</td>\n",
       "      <td>0.0</td>\n",
       "      <td>0.0</td>\n",
       "      <td>0.000000</td>\n",
       "    </tr>\n",
       "    <tr>\n",
       "      <th>23081</th>\n",
       "      <td>0.932173</td>\n",
       "      <td>1</td>\n",
       "      <td>1</td>\n",
       "      <td>1</td>\n",
       "      <td>1</td>\n",
       "      <td>0.95</td>\n",
       "      <td>1</td>\n",
       "      <td>1</td>\n",
       "      <td>1</td>\n",
       "      <td>1</td>\n",
       "      <td>1</td>\n",
       "      <td>0.402705</td>\n",
       "      <td>0.44</td>\n",
       "      <td>0.39</td>\n",
       "      <td>0.39</td>\n",
       "      <td>0.62</td>\n",
       "      <td>1.0</td>\n",
       "      <td>1.0</td>\n",
       "      <td>1.0</td>\n",
       "      <td>1.0</td>\n",
       "      <td>0.961699</td>\n",
       "    </tr>\n",
       "    <tr>\n",
       "      <th>23082</th>\n",
       "      <td>0.000000</td>\n",
       "      <td>0</td>\n",
       "      <td>0</td>\n",
       "      <td>0</td>\n",
       "      <td>0</td>\n",
       "      <td>0.00</td>\n",
       "      <td>0</td>\n",
       "      <td>0</td>\n",
       "      <td>0</td>\n",
       "      <td>0</td>\n",
       "      <td>0</td>\n",
       "      <td>0.043004</td>\n",
       "      <td>0.03</td>\n",
       "      <td>0.03</td>\n",
       "      <td>0.02</td>\n",
       "      <td>0.03</td>\n",
       "      <td>0.0</td>\n",
       "      <td>0.0</td>\n",
       "      <td>0.0</td>\n",
       "      <td>0.0</td>\n",
       "      <td>0.023998</td>\n",
       "    </tr>\n",
       "    <tr>\n",
       "      <th>23083</th>\n",
       "      <td>0.000000</td>\n",
       "      <td>0</td>\n",
       "      <td>0</td>\n",
       "      <td>0</td>\n",
       "      <td>0</td>\n",
       "      <td>0.09</td>\n",
       "      <td>0</td>\n",
       "      <td>0</td>\n",
       "      <td>0</td>\n",
       "      <td>0</td>\n",
       "      <td>0</td>\n",
       "      <td>0.098559</td>\n",
       "      <td>0.09</td>\n",
       "      <td>0.06</td>\n",
       "      <td>0.06</td>\n",
       "      <td>0.11</td>\n",
       "      <td>0.0</td>\n",
       "      <td>0.0</td>\n",
       "      <td>0.0</td>\n",
       "      <td>0.0</td>\n",
       "      <td>0.000000</td>\n",
       "    </tr>\n",
       "  </tbody>\n",
       "</table>\n",
       "</div>"
      ],
      "text/plain": [
       "       GLAD_mean100m  GLAD_median100m  GLAD_mode100m  GLAD_q1  GLAD_q3  \\\n",
       "23079       0.246136                0              0        0        1   \n",
       "23080       0.000000                0              0        0        0   \n",
       "23081       0.932173                1              1        1        1   \n",
       "23082       0.000000                0              0        0        0   \n",
       "23083       0.000000                0              0        0        0   \n",
       "\n",
       "       CLC10m_mean  CLC10m_median  CLC10m_mode.  CLC10m_q1  CLC10m_q3  \\\n",
       "23079         0.60              1             1          0          1   \n",
       "23080         0.00              0             0          0          0   \n",
       "23081         0.95              1             1          1          1   \n",
       "23082         0.00              0             0          0          0   \n",
       "23083         0.09              0             0          0          0   \n",
       "\n",
       "       CLC_01.vrt  C-GLOPS_mean  C-GLOPS_median  C-GLOPS_mode  C-GLOPS_q1  \\\n",
       "23079           0      0.191063            0.07          0.07        0.04   \n",
       "23080           0      0.016844            0.01          0.01        0.01   \n",
       "23081           1      0.402705            0.44          0.39        0.39   \n",
       "23082           0      0.043004            0.03          0.03        0.02   \n",
       "23083           0      0.098559            0.09          0.06        0.06   \n",
       "\n",
       "       C-GLOPS_q3  JAXA_q3  JAXA_q1  JAXA_mode  JAXA_median  JAXA_mean  \n",
       "23079        0.08      0.5      0.0        0.0          0.0   0.277736  \n",
       "23080        0.03      0.0      0.0        0.0          0.0   0.000000  \n",
       "23081        0.62      1.0      1.0        1.0          1.0   0.961699  \n",
       "23082        0.03      0.0      0.0        0.0          0.0   0.023998  \n",
       "23083        0.11      0.0      0.0        0.0          0.0   0.000000  "
      ]
     },
     "execution_count": 3,
     "metadata": {},
     "output_type": "execute_result"
    }
   ],
   "source": [
    "predictors_names = pd.read_csv(\"out_data/available_features_names.csv\", sep=\",\",  index_col=False)\n",
    "predictors.columns = predictors_names.name.tolist()\n",
    "predictors.tail(5)"
   ]
  },
  {
   "cell_type": "markdown",
   "id": "3b515778",
   "metadata": {},
   "source": [
    "Now the left hand side"
   ]
  },
  {
   "cell_type": "code",
   "execution_count": 4,
   "id": "94faa470",
   "metadata": {},
   "outputs": [
    {
     "data": {
      "text/html": [
       "<div>\n",
       "<style scoped>\n",
       "    .dataframe tbody tr th:only-of-type {\n",
       "        vertical-align: middle;\n",
       "    }\n",
       "\n",
       "    .dataframe tbody tr th {\n",
       "        vertical-align: top;\n",
       "    }\n",
       "\n",
       "    .dataframe thead th {\n",
       "        text-align: right;\n",
       "    }\n",
       "</style>\n",
       "<table border=\"1\" class=\"dataframe\">\n",
       "  <thead>\n",
       "    <tr style=\"text-align: right;\">\n",
       "      <th></th>\n",
       "      <th>X</th>\n",
       "      <th>Y</th>\n",
       "      <th>LC1</th>\n",
       "      <th>LC1_PERC</th>\n",
       "      <th>forest</th>\n",
       "    </tr>\n",
       "  </thead>\n",
       "  <tbody>\n",
       "    <tr>\n",
       "      <th>23079</th>\n",
       "      <td>5.278000e+06</td>\n",
       "      <td>3.114000e+06</td>\n",
       "      <td>C22</td>\n",
       "      <td>100</td>\n",
       "      <td>1</td>\n",
       "    </tr>\n",
       "    <tr>\n",
       "      <th>23080</th>\n",
       "      <td>5.278000e+06</td>\n",
       "      <td>3.136000e+06</td>\n",
       "      <td>B11</td>\n",
       "      <td>100</td>\n",
       "      <td>0</td>\n",
       "    </tr>\n",
       "    <tr>\n",
       "      <th>23081</th>\n",
       "      <td>5.294000e+06</td>\n",
       "      <td>3.150000e+06</td>\n",
       "      <td>C10</td>\n",
       "      <td>100</td>\n",
       "      <td>1</td>\n",
       "    </tr>\n",
       "    <tr>\n",
       "      <th>23082</th>\n",
       "      <td>5.294000e+06</td>\n",
       "      <td>3.172000e+06</td>\n",
       "      <td>B11</td>\n",
       "      <td>92</td>\n",
       "      <td>0</td>\n",
       "    </tr>\n",
       "    <tr>\n",
       "      <th>23083</th>\n",
       "      <td>5.286000e+06</td>\n",
       "      <td>3.116000e+06</td>\n",
       "      <td>Bx1</td>\n",
       "      <td>98</td>\n",
       "      <td>0</td>\n",
       "    </tr>\n",
       "  </tbody>\n",
       "</table>\n",
       "</div>"
      ],
      "text/plain": [
       "                  X             Y  LC1  LC1_PERC  forest\n",
       "23079  5.278000e+06  3.114000e+06  C22       100       1\n",
       "23080  5.278000e+06  3.136000e+06  B11       100       0\n",
       "23081  5.294000e+06  3.150000e+06  C10       100       1\n",
       "23082  5.294000e+06  3.172000e+06  B11        92       0\n",
       "23083  5.286000e+06  3.116000e+06  Bx1        98       0"
      ]
     },
     "execution_count": 4,
     "metadata": {},
     "output_type": "execute_result"
    }
   ],
   "source": [
    "outcome = pd.read_csv(\"out_data/LUCAS/LUCAS_locations.csv\", sep=\",\",  index_col=False)\n",
    "outcome.tail(5)"
   ]
  },
  {
   "cell_type": "code",
   "execution_count": 5,
   "id": "c7863217",
   "metadata": {},
   "outputs": [
    {
     "name": "stdout",
     "output_type": "stream",
     "text": [
      "23084\n",
      "23084\n"
     ]
    }
   ],
   "source": [
    "print (len(outcome))\n",
    "print (len(predictors))"
   ]
  },
  {
   "cell_type": "code",
   "execution_count": 6,
   "id": "956682df",
   "metadata": {},
   "outputs": [
    {
     "data": {
      "text/html": [
       "<div>\n",
       "<style scoped>\n",
       "    .dataframe tbody tr th:only-of-type {\n",
       "        vertical-align: middle;\n",
       "    }\n",
       "\n",
       "    .dataframe tbody tr th {\n",
       "        vertical-align: top;\n",
       "    }\n",
       "\n",
       "    .dataframe thead th {\n",
       "        text-align: right;\n",
       "    }\n",
       "</style>\n",
       "<table border=\"1\" class=\"dataframe\">\n",
       "  <thead>\n",
       "    <tr style=\"text-align: right;\">\n",
       "      <th></th>\n",
       "      <th>X</th>\n",
       "      <th>Y</th>\n",
       "      <th>LC1</th>\n",
       "      <th>LC1_PERC</th>\n",
       "      <th>forest</th>\n",
       "    </tr>\n",
       "  </thead>\n",
       "  <tbody>\n",
       "    <tr>\n",
       "      <th>0</th>\n",
       "      <td>5.214000e+06</td>\n",
       "      <td>3.064000e+06</td>\n",
       "      <td>B16</td>\n",
       "      <td>95</td>\n",
       "      <td>0</td>\n",
       "    </tr>\n",
       "    <tr>\n",
       "      <th>1</th>\n",
       "      <td>5.214000e+06</td>\n",
       "      <td>3.116000e+06</td>\n",
       "      <td>E20</td>\n",
       "      <td>100</td>\n",
       "      <td>0</td>\n",
       "    </tr>\n",
       "    <tr>\n",
       "      <th>2</th>\n",
       "      <td>5.214000e+06</td>\n",
       "      <td>3.388000e+06</td>\n",
       "      <td>C10</td>\n",
       "      <td>100</td>\n",
       "      <td>1</td>\n",
       "    </tr>\n",
       "    <tr>\n",
       "      <th>3</th>\n",
       "      <td>5.214000e+06</td>\n",
       "      <td>3.474000e+06</td>\n",
       "      <td>B16</td>\n",
       "      <td>1</td>\n",
       "      <td>0</td>\n",
       "    </tr>\n",
       "    <tr>\n",
       "      <th>4</th>\n",
       "      <td>4.792000e+06</td>\n",
       "      <td>3.082000e+06</td>\n",
       "      <td>B14</td>\n",
       "      <td>50</td>\n",
       "      <td>0</td>\n",
       "    </tr>\n",
       "  </tbody>\n",
       "</table>\n",
       "</div>"
      ],
      "text/plain": [
       "              X             Y  LC1  LC1_PERC  forest\n",
       "0  5.214000e+06  3.064000e+06  B16        95       0\n",
       "1  5.214000e+06  3.116000e+06  E20       100       0\n",
       "2  5.214000e+06  3.388000e+06  C10       100       1\n",
       "3  5.214000e+06  3.474000e+06  B16         1       0\n",
       "4  4.792000e+06  3.082000e+06  B14        50       0"
      ]
     },
     "execution_count": 6,
     "metadata": {},
     "output_type": "execute_result"
    }
   ],
   "source": [
    "outcome.head()"
   ]
  },
  {
   "cell_type": "markdown",
   "id": "d59574f8",
   "metadata": {},
   "source": [
    "Split the Dataset"
   ]
  },
  {
   "cell_type": "code",
   "execution_count": 7,
   "id": "8de0f47d",
   "metadata": {},
   "outputs": [
    {
     "name": "stdout",
     "output_type": "stream",
     "text": [
      "(23084, 21)\n",
      "(23084, 1)\n",
      "<class 'pandas.core.frame.DataFrame'>\n",
      "<class 'pandas.core.frame.DataFrame'>\n"
     ]
    }
   ],
   "source": [
    "X    = predictors\n",
    "Y    = outcome.iloc[:,4].to_frame()\n",
    "feat = predictors.columns.values\n",
    "print(X.shape)\n",
    "print(Y.shape)\n",
    "print(type(X))\n",
    "print(type(Y))"
   ]
  },
  {
   "cell_type": "markdown",
   "id": "65725909",
   "metadata": {},
   "source": [
    "There are a handful of NAs"
   ]
  },
  {
   "cell_type": "code",
   "execution_count": 8,
   "id": "781c5744",
   "metadata": {},
   "outputs": [
    {
     "name": "stdout",
     "output_type": "stream",
     "text": [
      "number NA: 1265\n"
     ]
    }
   ],
   "source": [
    "na_rows = X.apply(lambda x: np.any(pd.isna(x)), axis=1)\n",
    "result = np.where(na_rows)[0]\n",
    "print('number NA: ' + str(len(result)))"
   ]
  },
  {
   "cell_type": "code",
   "execution_count": 9,
   "id": "ec4d2354",
   "metadata": {},
   "outputs": [],
   "source": [
    "X = X.drop(X.index[result])\n",
    "Y = Y.drop(Y.index[result])\n"
   ]
  },
  {
   "cell_type": "code",
   "execution_count": 10,
   "id": "e552acf2",
   "metadata": {},
   "outputs": [
    {
     "name": "stdout",
     "output_type": "stream",
     "text": [
      "(21819, 21)\n",
      "(21819, 1)\n"
     ]
    }
   ],
   "source": [
    "print(X.shape)\n",
    "print(Y.shape)"
   ]
  },
  {
   "cell_type": "markdown",
   "id": "82ebc05e",
   "metadata": {},
   "source": [
    "Create 4 dataset for training and testing the algorithm "
   ]
  },
  {
   "cell_type": "code",
   "execution_count": 11,
   "id": "0f0778f7",
   "metadata": {},
   "outputs": [],
   "source": [
    "X_train, X_test, Y_train, Y_test = train_test_split(X, Y, test_size=0.5, random_state=2023)\n",
    "y_train = np.ravel(Y_train)\n",
    "y_test = np.ravel(Y_test)"
   ]
  },
  {
   "cell_type": "code",
   "execution_count": 12,
   "id": "5e758d34",
   "metadata": {},
   "outputs": [
    {
     "name": "stdout",
     "output_type": "stream",
     "text": [
      "0.3208360069667247\n",
      "0.3242896425297892\n"
     ]
    }
   ],
   "source": [
    "print(np.mean(y_train==1))\n",
    "print(np.mean(y_test==1))"
   ]
  },
  {
   "cell_type": "markdown",
   "id": "5f9f26a0",
   "metadata": {},
   "source": [
    "rfReg = RandomForestClassifier(n_estimators=2799,\n",
    "                        max_features=3,\n",
    "                        max_depth=250,\n",
    "                        max_samples=0.3335,\n",
    "                        n_jobs=-1,\n",
    "                        oob_score = True)\n",
    "\n",
    "n_features = 15  # specify the number of desired features\n",
    "\n",
    "rfe = RFE(estimator=rfReg, n_features_to_select=n_features)\n",
    "\n",
    "\n",
    "rfe.fit(X_train, y_train)\n",
    "\n",
    "selected_features = predictors.columns[rfe.get_support()]"
   ]
  },
  {
   "cell_type": "markdown",
   "id": "b15e3d6e",
   "metadata": {},
   "source": [
    "type(selected_features)"
   ]
  },
  {
   "cell_type": "markdown",
   "id": "75ba871b",
   "metadata": {},
   "source": [
    "rfe.score(X_test, y_test)"
   ]
  },
  {
   "cell_type": "markdown",
   "id": "b4f757f3",
   "metadata": {},
   "source": [
    "predictors.columns[rfe.get_support()]"
   ]
  },
  {
   "cell_type": "markdown",
   "id": "357c95ab",
   "metadata": {},
   "source": [
    "Use wandb to seach the model space "
   ]
  },
  {
   "cell_type": "code",
   "execution_count": 13,
   "id": "33650f3e",
   "metadata": {},
   "outputs": [],
   "source": [
    "import wandb"
   ]
  },
  {
   "cell_type": "code",
   "execution_count": 15,
   "id": "a07ee277",
   "metadata": {},
   "outputs": [
    {
     "name": "stderr",
     "output_type": "stream",
     "text": [
      "\u001b[34m\u001b[1mwandb\u001b[0m: Currently logged in as: \u001b[33mhofer1991\u001b[0m (\u001b[33mnodes\u001b[0m). Use \u001b[1m`wandb login --relogin`\u001b[0m to force relogin\n"
     ]
    },
    {
     "data": {
      "text/html": [
       "Tracking run with wandb version 0.15.4"
      ],
      "text/plain": [
       "<IPython.core.display.HTML object>"
      ]
     },
     "metadata": {},
     "output_type": "display_data"
    },
    {
     "data": {
      "text/html": [
       "Run data is saved locally in <code>/media/sf_geocomputation_class/forestmap/wandb/run-20230609_110152-ygrn0o3z</code>"
      ],
      "text/plain": [
       "<IPython.core.display.HTML object>"
      ]
     },
     "metadata": {},
     "output_type": "display_data"
    },
    {
     "data": {
      "text/html": [
       "Syncing run <strong><a href='https://wandb.ai/nodes/RF_Foresthybrid_table/runs/ygrn0o3z' target=\"_blank\">eternal-deluge-1</a></strong> to <a href='https://wandb.ai/nodes/RF_Foresthybrid_table' target=\"_blank\">Weights & Biases</a> (<a href='https://wandb.me/run' target=\"_blank\">docs</a>)<br/>"
      ],
      "text/plain": [
       "<IPython.core.display.HTML object>"
      ]
     },
     "metadata": {},
     "output_type": "display_data"
    },
    {
     "data": {
      "text/html": [
       " View project at <a href='https://wandb.ai/nodes/RF_Foresthybrid_table' target=\"_blank\">https://wandb.ai/nodes/RF_Foresthybrid_table</a>"
      ],
      "text/plain": [
       "<IPython.core.display.HTML object>"
      ]
     },
     "metadata": {},
     "output_type": "display_data"
    },
    {
     "data": {
      "text/html": [
       " View run at <a href='https://wandb.ai/nodes/RF_Foresthybrid_table/runs/ygrn0o3z' target=\"_blank\">https://wandb.ai/nodes/RF_Foresthybrid_table/runs/ygrn0o3z</a>"
      ],
      "text/plain": [
       "<IPython.core.display.HTML object>"
      ]
     },
     "metadata": {},
     "output_type": "display_data"
    },
    {
     "data": {
      "text/html": [
       "<button onClick=\"this.nextSibling.style.display='block';this.style.display='none';\">Display W&B run</button><iframe src='https://wandb.ai/nodes/RF_Foresthybrid_table/runs/ygrn0o3z?jupyter=true' style='border:none;width:100%;height:420px;display:none;'></iframe>"
      ],
      "text/plain": [
       "<wandb.sdk.wandb_run.Run at 0x7fe0aa5a49a0>"
      ]
     },
     "execution_count": 15,
     "metadata": {},
     "output_type": "execute_result"
    }
   ],
   "source": [
    "my_entity=\"hofer1991\"\n",
    "my_project=\"RF_Foresthybrid_table\"\n",
    "\n",
    "wandb.init(project=my_project)"
   ]
  },
  {
   "cell_type": "code",
   "execution_count": 16,
   "id": "15079cc1",
   "metadata": {},
   "outputs": [],
   "source": [
    "#wandb.sklearn.plot_confusion_matrix(y_train, dic_pred['train'])\n"
   ]
  },
  {
   "cell_type": "code",
   "execution_count": 17,
   "id": "7320f17f",
   "metadata": {},
   "outputs": [],
   "source": [
    "sweep_config = {\n",
    "    'method': 'bayes',\n",
    "    'metric': {\n",
    "      'name': 'BIC/val',\n",
    "      'goal': 'maximize'   \n",
    "    },\n",
    "    'parameters': {\n",
    "        'sel__n_features': {\n",
    "            'distribution': 'int_uniform',\n",
    "            'min' : 3 ,\n",
    "            'max' : 10\n",
    "        },\n",
    "        'rf__max_features': {\n",
    "            'distribution': 'int_uniform',\n",
    "            'min' : 3 ,\n",
    "            'max' : 10\n",
    "        },\n",
    "        'rf__max_samples':{\n",
    "            'distribution': 'uniform',\n",
    "            'min' : 0.3 ,\n",
    "            'max' : 0.7\n",
    "        },\n",
    "        'rf__n_estimators':{\n",
    "            'distribution': 'int_uniform',\n",
    "            'min' : 500 ,\n",
    "            'max' : 2000\n",
    "        },\n",
    "        'rf__max_depth':{\n",
    "            'distribution': 'int_uniform',\n",
    "            'min' : 50 ,\n",
    "            'max' : 300\n",
    "        }\n",
    "    }\n",
    "}"
   ]
  },
  {
   "cell_type": "code",
   "execution_count": 21,
   "id": "e374c503",
   "metadata": {},
   "outputs": [
    {
     "name": "stdout",
     "output_type": "stream",
     "text": [
      "Create sweep with ID: uq2lt86p\n",
      "Sweep URL: https://wandb.ai/hofer1991/RF_Foresthybrid_table/sweeps/uq2lt86p\n"
     ]
    }
   ],
   "source": [
    "# Initialize a new sweep\n",
    "# Arguments:\n",
    "#     – sweep_config: the sweep config dictionary defined above\n",
    "#     – entity: Set the username for the sweep\n",
    "#     – project: Set the project name for the sweep\n",
    "sweep_id = wandb.sweep(sweep_config, entity=my_entity, project=my_project)"
   ]
  },
  {
   "cell_type": "code",
   "execution_count": 23,
   "id": "ffa48098",
   "metadata": {},
   "outputs": [],
   "source": [
    "# Training and Evaluation routines for Sweeping\n",
    "def performance_metrics(y_true, y_pred):\n",
    "    tn, fp, fn, tp = confusion_matrix(y_true, y_pred).ravel()\n",
    "    acc = (tp + tn) / (tn + tp + fp + fn)\n",
    "#    tpr = tp / (tp + fn)\n",
    "#    tnr = tn / (tn + fn)\n",
    "#    bacc= (tpr + tnr) * 0.5\n",
    "#    f1 = (tpr * tnr) / (tpr + tnr)\n",
    "    return(acc)\n",
    "\n",
    "def calculate_bic(y_true, y_pred, num_params):\n",
    "    resid = y_true - y_pred\n",
    "    sse = np.sum(resid**2)\n",
    "    n = len(y_true)\n",
    "    bic = num_params * np.log(n) + n * np.log(sse/n)\n",
    "    return -bic\n",
    "\n",
    "def evaluate_acc(model, X, y):\n",
    "    y_pred = model.predict(X) \n",
    "    metric  = performance_metrics(y, y_pred)\n",
    "    return(metric)\n",
    "    \n",
    "\n",
    "def evaluate_bic(model, X, y, num_params):\n",
    "    y_pred = model.predict(X) \n",
    "    metric  = calculate_bic(y, y_pred, num_params )\n",
    "    return(metric)\n",
    "    \n",
    "def train(config=None):\n",
    "#    best_acc = -1\n",
    "    with wandb.init(config=config):\n",
    "        \n",
    "        # Config is a variable that holds and saves hyperparameters and inputs\n",
    "        config = wandb.config\n",
    "        \n",
    "        n_features = config.sel__n_features  # specify the number of desired features\n",
    "        \n",
    "#         n_features must be smaller or equal to rf__max_features\n",
    "        \n",
    "    \n",
    "    \n",
    "        rfReg = RandomForestClassifier(n_estimators=config.rf__n_estimators,\n",
    "                              max_features=min(config.rf__max_features, n_features),\n",
    "                              max_depth=config.rf__max_depth,\n",
    "                              max_samples=config.rf__max_samples,\n",
    "                              n_jobs=-1,\n",
    "                              oob_score = True) \n",
    "        \n",
    "      \n",
    "    \n",
    "\n",
    "\n",
    "        selector = RFE(rfReg, n_features_to_select=n_features)\n",
    "\n",
    "        selector.fit(X_train, y_train)\n",
    "  \n",
    "        selected_features = predictors.columns[selector.get_support()]\n",
    "        selected_features_log = list(predictors.columns[selector.get_support()])\n",
    "        \n",
    "        bic_train = evaluate_bic(selector,X_train, y_train, n_features)\n",
    "        bic_test  = evaluate_bic(selector, X_test, y_test, n_features)\n",
    "        \n",
    "        acc_train = evaluate_acc(selector,X_train, y_train)\n",
    "        acc_test  = evaluate_acc(selector, X_test, y_test)\n",
    "\n",
    "        \n",
    "        wandb.log({\n",
    "               \"BIC/train\": bic_train,\n",
    "               \"BIC/val\": bic_test,\n",
    "                \"Accuracy/train\": acc_train,\n",
    "                \"Accuracy/val\": acc_test, \n",
    "                \"SelectedFeatures\": selected_features_log\n",
    "        })\n",
    "        \n",
    "    \n",
    "        \n",
    "        # Save the model with the best accuracy\n",
    "        if bic_test < wandb.run.summary.get(\"best_accuracy\", 0):\n",
    "            print('bic_test: ',bic_test)\n",
    "            wandb.run.summary[\"best_accuracy\"] = bic_test\n",
    "            model_name = \"models/best_RF_Foresthybrid\" + str(n_features) + \"_featuresel.pkl\"\n",
    "            joblib.dump(selector, model_name)\n",
    "    \n",
    "        "
   ]
  },
  {
   "cell_type": "code",
   "execution_count": 24,
   "id": "0f72d5d4",
   "metadata": {},
   "outputs": [
    {
     "name": "stderr",
     "output_type": "stream",
     "text": [
      "\u001b[34m\u001b[1mwandb\u001b[0m: \u001b[33mWARNING\u001b[0m Calling wandb.login() after wandb.init() has no effect.\n",
      "\u001b[34m\u001b[1mwandb\u001b[0m: Agent Starting Run: yw06bai5 with config:\n",
      "\u001b[34m\u001b[1mwandb\u001b[0m: \trf__max_depth: 151\n",
      "\u001b[34m\u001b[1mwandb\u001b[0m: \trf__max_features: 3\n",
      "\u001b[34m\u001b[1mwandb\u001b[0m: \trf__max_samples: 0.3710091095623782\n",
      "\u001b[34m\u001b[1mwandb\u001b[0m: \trf__n_estimators: 566\n",
      "\u001b[34m\u001b[1mwandb\u001b[0m: \tsel__n_features: 8\n"
     ]
    },
    {
     "data": {
      "text/html": [
       "Tracking run with wandb version 0.15.4"
      ],
      "text/plain": [
       "<IPython.core.display.HTML object>"
      ]
     },
     "metadata": {},
     "output_type": "display_data"
    },
    {
     "data": {
      "text/html": [
       "Run data is saved locally in <code>/media/sf_geocomputation_class/forestmap/wandb/run-20230609_110224-yw06bai5</code>"
      ],
      "text/plain": [
       "<IPython.core.display.HTML object>"
      ]
     },
     "metadata": {},
     "output_type": "display_data"
    },
    {
     "data": {
      "text/html": [
       "Syncing run <strong><a href='https://wandb.ai/hofer1991/RF_Foresthybrid_table/runs/yw06bai5' target=\"_blank\">major-sweep-1</a></strong> to <a href='https://wandb.ai/hofer1991/RF_Foresthybrid_table' target=\"_blank\">Weights & Biases</a> (<a href='https://wandb.me/run' target=\"_blank\">docs</a>)<br/>Sweep page: <a href='https://wandb.ai/hofer1991/RF_Foresthybrid_table/sweeps/uq2lt86p' target=\"_blank\">https://wandb.ai/hofer1991/RF_Foresthybrid_table/sweeps/uq2lt86p</a>"
      ],
      "text/plain": [
       "<IPython.core.display.HTML object>"
      ]
     },
     "metadata": {},
     "output_type": "display_data"
    },
    {
     "data": {
      "text/html": [
       " View project at <a href='https://wandb.ai/hofer1991/RF_Foresthybrid_table' target=\"_blank\">https://wandb.ai/hofer1991/RF_Foresthybrid_table</a>"
      ],
      "text/plain": [
       "<IPython.core.display.HTML object>"
      ]
     },
     "metadata": {},
     "output_type": "display_data"
    },
    {
     "data": {
      "text/html": [
       " View sweep at <a href='https://wandb.ai/hofer1991/RF_Foresthybrid_table/sweeps/uq2lt86p' target=\"_blank\">https://wandb.ai/hofer1991/RF_Foresthybrid_table/sweeps/uq2lt86p</a>"
      ],
      "text/plain": [
       "<IPython.core.display.HTML object>"
      ]
     },
     "metadata": {},
     "output_type": "display_data"
    },
    {
     "data": {
      "text/html": [
       " View run at <a href='https://wandb.ai/hofer1991/RF_Foresthybrid_table/runs/yw06bai5' target=\"_blank\">https://wandb.ai/hofer1991/RF_Foresthybrid_table/runs/yw06bai5</a>"
      ],
      "text/plain": [
       "<IPython.core.display.HTML object>"
      ]
     },
     "metadata": {},
     "output_type": "display_data"
    },
    {
     "name": "stdout",
     "output_type": "stream",
     "text": [
      "<IPython.core.display.HTML object>\n",
      "<IPython.core.display.HTML object>\n",
      "<IPython.core.display.HTML object>\n"
     ]
    },
    {
     "data": {
      "text/html": [
       "Waiting for W&B process to finish... <strong style=\"color:green\">(success).</strong>"
      ],
      "text/plain": [
       "<IPython.core.display.HTML object>"
      ]
     },
     "metadata": {},
     "output_type": "display_data"
    },
    {
     "data": {
      "text/html": [
       "<style>\n",
       "    table.wandb td:nth-child(1) { padding: 0 10px; text-align: left ; width: auto;} td:nth-child(2) {text-align: left ; width: 100%}\n",
       "    .wandb-row { display: flex; flex-direction: row; flex-wrap: wrap; justify-content: flex-start; width: 100% }\n",
       "    .wandb-col { display: flex; flex-direction: column; flex-basis: 100%; flex: 1; padding: 10px; }\n",
       "    </style>\n",
       "<div class=\"wandb-row\"><div class=\"wandb-col\"><h3>Run history:</h3><br/><table class=\"wandb\"><tr><td>Accuracy/train</td><td>▁</td></tr><tr><td>Accuracy/val</td><td>▁</td></tr><tr><td>BIC/train</td><td>▁</td></tr><tr><td>BIC/val</td><td>▁</td></tr></table><br/></div><div class=\"wandb-col\"><h3>Run summary:</h3><br/><table class=\"wandb\"><tr><td>Accuracy/train</td><td>0.95481</td></tr><tr><td>Accuracy/val</td><td>0.90009</td></tr><tr><td>BIC/train</td><td>33708.98599</td></tr><tr><td>BIC/val</td><td>25056.82847</td></tr></table><br/></div></div>"
      ],
      "text/plain": [
       "<IPython.core.display.HTML object>"
      ]
     },
     "metadata": {},
     "output_type": "display_data"
    },
    {
     "data": {
      "text/html": [
       " View run <strong style=\"color:#cdcd00\">major-sweep-1</strong> at: <a href='https://wandb.ai/hofer1991/RF_Foresthybrid_table/runs/yw06bai5' target=\"_blank\">https://wandb.ai/hofer1991/RF_Foresthybrid_table/runs/yw06bai5</a><br/>Synced 5 W&B file(s), 0 media file(s), 0 artifact file(s) and 0 other file(s)"
      ],
      "text/plain": [
       "<IPython.core.display.HTML object>"
      ]
     },
     "metadata": {},
     "output_type": "display_data"
    },
    {
     "data": {
      "text/html": [
       "Find logs at: <code>./wandb/run-20230609_110224-yw06bai5/logs</code>"
      ],
      "text/plain": [
       "<IPython.core.display.HTML object>"
      ]
     },
     "metadata": {},
     "output_type": "display_data"
    },
    {
     "name": "stderr",
     "output_type": "stream",
     "text": [
      "\u001b[34m\u001b[1mwandb\u001b[0m: Agent Starting Run: egruz733 with config:\n",
      "\u001b[34m\u001b[1mwandb\u001b[0m: \trf__max_depth: 150\n",
      "\u001b[34m\u001b[1mwandb\u001b[0m: \trf__max_features: 9\n",
      "\u001b[34m\u001b[1mwandb\u001b[0m: \trf__max_samples: 0.3288761638549175\n",
      "\u001b[34m\u001b[1mwandb\u001b[0m: \trf__n_estimators: 1992\n",
      "\u001b[34m\u001b[1mwandb\u001b[0m: \tsel__n_features: 4\n",
      "\u001b[34m\u001b[1mwandb\u001b[0m: Currently logged in as: \u001b[33mhofer1991\u001b[0m. Use \u001b[1m`wandb login --relogin`\u001b[0m to force relogin\n"
     ]
    },
    {
     "data": {
      "text/html": [
       "Tracking run with wandb version 0.15.4"
      ],
      "text/plain": [
       "<IPython.core.display.HTML object>"
      ]
     },
     "metadata": {},
     "output_type": "display_data"
    },
    {
     "data": {
      "text/html": [
       "Run data is saved locally in <code>/media/sf_geocomputation_class/forestmap/wandb/run-20230609_110323-egruz733</code>"
      ],
      "text/plain": [
       "<IPython.core.display.HTML object>"
      ]
     },
     "metadata": {},
     "output_type": "display_data"
    },
    {
     "data": {
      "text/html": [
       "Syncing run <strong><a href='https://wandb.ai/hofer1991/RF_Foresthybrid_table/runs/egruz733' target=\"_blank\">rare-sweep-2</a></strong> to <a href='https://wandb.ai/hofer1991/RF_Foresthybrid_table' target=\"_blank\">Weights & Biases</a> (<a href='https://wandb.me/run' target=\"_blank\">docs</a>)<br/>Sweep page: <a href='https://wandb.ai/hofer1991/RF_Foresthybrid_table/sweeps/uq2lt86p' target=\"_blank\">https://wandb.ai/hofer1991/RF_Foresthybrid_table/sweeps/uq2lt86p</a>"
      ],
      "text/plain": [
       "<IPython.core.display.HTML object>"
      ]
     },
     "metadata": {},
     "output_type": "display_data"
    },
    {
     "data": {
      "text/html": [
       " View project at <a href='https://wandb.ai/hofer1991/RF_Foresthybrid_table' target=\"_blank\">https://wandb.ai/hofer1991/RF_Foresthybrid_table</a>"
      ],
      "text/plain": [
       "<IPython.core.display.HTML object>"
      ]
     },
     "metadata": {},
     "output_type": "display_data"
    },
    {
     "data": {
      "text/html": [
       " View sweep at <a href='https://wandb.ai/hofer1991/RF_Foresthybrid_table/sweeps/uq2lt86p' target=\"_blank\">https://wandb.ai/hofer1991/RF_Foresthybrid_table/sweeps/uq2lt86p</a>"
      ],
      "text/plain": [
       "<IPython.core.display.HTML object>"
      ]
     },
     "metadata": {},
     "output_type": "display_data"
    },
    {
     "data": {
      "text/html": [
       " View run at <a href='https://wandb.ai/hofer1991/RF_Foresthybrid_table/runs/egruz733' target=\"_blank\">https://wandb.ai/hofer1991/RF_Foresthybrid_table/runs/egruz733</a>"
      ],
      "text/plain": [
       "<IPython.core.display.HTML object>"
      ]
     },
     "metadata": {},
     "output_type": "display_data"
    },
    {
     "data": {
      "text/html": [
       "Waiting for W&B process to finish... <strong style=\"color:green\">(success).</strong>"
      ],
      "text/plain": [
       "<IPython.core.display.HTML object>"
      ]
     },
     "metadata": {},
     "output_type": "display_data"
    },
    {
     "name": "stderr",
     "output_type": "stream",
     "text": [
      "Widget Javascript not detected.  It may not be installed or enabled properly. Reconnecting the current kernel may help.\n"
     ]
    },
    {
     "data": {
      "application/vnd.jupyter.widget-view+json": {
       "model_id": "2ccbc294803c4603b34d8139b4855dee"
      }
     },
     "metadata": {},
     "output_type": "display_data"
    },
    {
     "data": {
      "text/html": [
       "<style>\n",
       "    table.wandb td:nth-child(1) { padding: 0 10px; text-align: left ; width: auto;} td:nth-child(2) {text-align: left ; width: 100%}\n",
       "    .wandb-row { display: flex; flex-direction: row; flex-wrap: wrap; justify-content: flex-start; width: 100% }\n",
       "    .wandb-col { display: flex; flex-direction: column; flex-basis: 100%; flex: 1; padding: 10px; }\n",
       "    </style>\n",
       "<div class=\"wandb-row\"><div class=\"wandb-col\"><h3>Run history:</h3><br/><table class=\"wandb\"><tr><td>Accuracy/train</td><td>▁</td></tr><tr><td>Accuracy/val</td><td>▁</td></tr><tr><td>BIC/train</td><td>▁</td></tr><tr><td>BIC/val</td><td>▁</td></tr></table><br/></div><div class=\"wandb-col\"><h3>Run summary:</h3><br/><table class=\"wandb\"><tr><td>Accuracy/train</td><td>0.94628</td></tr><tr><td>Accuracy/val</td><td>0.8967</td></tr><tr><td>BIC/train</td><td>31860.98436</td></tr><tr><td>BIC/val</td><td>24729.82562</td></tr></table><br/></div></div>"
      ],
      "text/plain": [
       "<IPython.core.display.HTML object>"
      ]
     },
     "metadata": {},
     "output_type": "display_data"
    },
    {
     "data": {
      "text/html": [
       " View run <strong style=\"color:#cdcd00\">rare-sweep-2</strong> at: <a href='https://wandb.ai/hofer1991/RF_Foresthybrid_table/runs/egruz733' target=\"_blank\">https://wandb.ai/hofer1991/RF_Foresthybrid_table/runs/egruz733</a><br/>Synced 4 W&B file(s), 0 media file(s), 0 artifact file(s) and 0 other file(s)"
      ],
      "text/plain": [
       "<IPython.core.display.HTML object>"
      ]
     },
     "metadata": {},
     "output_type": "display_data"
    },
    {
     "data": {
      "text/html": [
       "Find logs at: <code>./wandb/run-20230609_110323-egruz733/logs</code>"
      ],
      "text/plain": [
       "<IPython.core.display.HTML object>"
      ]
     },
     "metadata": {},
     "output_type": "display_data"
    },
    {
     "name": "stderr",
     "output_type": "stream",
     "text": [
      "\u001b[34m\u001b[1mwandb\u001b[0m: Agent Starting Run: rkrkz6ej with config:\n",
      "\u001b[34m\u001b[1mwandb\u001b[0m: \trf__max_depth: 276\n",
      "\u001b[34m\u001b[1mwandb\u001b[0m: \trf__max_features: 5\n",
      "\u001b[34m\u001b[1mwandb\u001b[0m: \trf__max_samples: 0.5596967120710226\n",
      "\u001b[34m\u001b[1mwandb\u001b[0m: \trf__n_estimators: 1846\n",
      "\u001b[34m\u001b[1mwandb\u001b[0m: \tsel__n_features: 3\n"
     ]
    },
    {
     "data": {
      "text/html": [
       "Tracking run with wandb version 0.15.4"
      ],
      "text/plain": [
       "<IPython.core.display.HTML object>"
      ]
     },
     "metadata": {},
     "output_type": "display_data"
    },
    {
     "data": {
      "text/html": [
       "Run data is saved locally in <code>/media/sf_geocomputation_class/forestmap/wandb/run-20230609_110659-rkrkz6ej</code>"
      ],
      "text/plain": [
       "<IPython.core.display.HTML object>"
      ]
     },
     "metadata": {},
     "output_type": "display_data"
    },
    {
     "data": {
      "text/html": [
       "Syncing run <strong><a href='https://wandb.ai/hofer1991/RF_Foresthybrid_table/runs/rkrkz6ej' target=\"_blank\">lunar-sweep-3</a></strong> to <a href='https://wandb.ai/hofer1991/RF_Foresthybrid_table' target=\"_blank\">Weights & Biases</a> (<a href='https://wandb.me/run' target=\"_blank\">docs</a>)<br/>Sweep page: <a href='https://wandb.ai/hofer1991/RF_Foresthybrid_table/sweeps/uq2lt86p' target=\"_blank\">https://wandb.ai/hofer1991/RF_Foresthybrid_table/sweeps/uq2lt86p</a>"
      ],
      "text/plain": [
       "<IPython.core.display.HTML object>"
      ]
     },
     "metadata": {},
     "output_type": "display_data"
    },
    {
     "data": {
      "text/html": [
       " View project at <a href='https://wandb.ai/hofer1991/RF_Foresthybrid_table' target=\"_blank\">https://wandb.ai/hofer1991/RF_Foresthybrid_table</a>"
      ],
      "text/plain": [
       "<IPython.core.display.HTML object>"
      ]
     },
     "metadata": {},
     "output_type": "display_data"
    },
    {
     "data": {
      "text/html": [
       " View sweep at <a href='https://wandb.ai/hofer1991/RF_Foresthybrid_table/sweeps/uq2lt86p' target=\"_blank\">https://wandb.ai/hofer1991/RF_Foresthybrid_table/sweeps/uq2lt86p</a>"
      ],
      "text/plain": [
       "<IPython.core.display.HTML object>"
      ]
     },
     "metadata": {},
     "output_type": "display_data"
    },
    {
     "data": {
      "text/html": [
       " View run at <a href='https://wandb.ai/hofer1991/RF_Foresthybrid_table/runs/rkrkz6ej' target=\"_blank\">https://wandb.ai/hofer1991/RF_Foresthybrid_table/runs/rkrkz6ej</a>"
      ],
      "text/plain": [
       "<IPython.core.display.HTML object>"
      ]
     },
     "metadata": {},
     "output_type": "display_data"
    },
    {
     "data": {
      "text/html": [
       "Waiting for W&B process to finish... <strong style=\"color:green\">(success).</strong>"
      ],
      "text/plain": [
       "<IPython.core.display.HTML object>"
      ]
     },
     "metadata": {},
     "output_type": "display_data"
    },
    {
     "name": "stderr",
     "output_type": "stream",
     "text": [
      "Widget Javascript not detected.  It may not be installed or enabled properly. Reconnecting the current kernel may help.\n"
     ]
    },
    {
     "data": {
      "application/vnd.jupyter.widget-view+json": {
       "model_id": "ad9aa913a07c499688ea162f1688ccc4"
      }
     },
     "metadata": {},
     "output_type": "display_data"
    },
    {
     "data": {
      "text/html": [
       "<style>\n",
       "    table.wandb td:nth-child(1) { padding: 0 10px; text-align: left ; width: auto;} td:nth-child(2) {text-align: left ; width: 100%}\n",
       "    .wandb-row { display: flex; flex-direction: row; flex-wrap: wrap; justify-content: flex-start; width: 100% }\n",
       "    .wandb-col { display: flex; flex-direction: column; flex-basis: 100%; flex: 1; padding: 10px; }\n",
       "    </style>\n",
       "<div class=\"wandb-row\"><div class=\"wandb-col\"><h3>Run history:</h3><br/><table class=\"wandb\"><tr><td>Accuracy/train</td><td>▁</td></tr><tr><td>Accuracy/val</td><td>▁</td></tr><tr><td>BIC/train</td><td>▁</td></tr><tr><td>BIC/val</td><td>▁</td></tr></table><br/></div><div class=\"wandb-col\"><h3>Run summary:</h3><br/><table class=\"wandb\"><tr><td>Accuracy/train</td><td>0.97653</td></tr><tr><td>Accuracy/val</td><td>0.89166</td></tr><tr><td>BIC/train</td><td>40904.48655</td></tr><tr><td>BIC/val</td><td>24219.27591</td></tr></table><br/></div></div>"
      ],
      "text/plain": [
       "<IPython.core.display.HTML object>"
      ]
     },
     "metadata": {},
     "output_type": "display_data"
    },
    {
     "data": {
      "text/html": [
       " View run <strong style=\"color:#cdcd00\">lunar-sweep-3</strong> at: <a href='https://wandb.ai/hofer1991/RF_Foresthybrid_table/runs/rkrkz6ej' target=\"_blank\">https://wandb.ai/hofer1991/RF_Foresthybrid_table/runs/rkrkz6ej</a><br/>Synced 4 W&B file(s), 0 media file(s), 0 artifact file(s) and 0 other file(s)"
      ],
      "text/plain": [
       "<IPython.core.display.HTML object>"
      ]
     },
     "metadata": {},
     "output_type": "display_data"
    },
    {
     "data": {
      "text/html": [
       "Find logs at: <code>./wandb/run-20230609_110659-rkrkz6ej/logs</code>"
      ],
      "text/plain": [
       "<IPython.core.display.HTML object>"
      ]
     },
     "metadata": {},
     "output_type": "display_data"
    },
    {
     "name": "stderr",
     "output_type": "stream",
     "text": [
      "\u001b[34m\u001b[1mwandb\u001b[0m: Sweep Agent: Waiting for job.\n",
      "\u001b[34m\u001b[1mwandb\u001b[0m: Job received.\n",
      "\u001b[34m\u001b[1mwandb\u001b[0m: Agent Starting Run: jry4o7ei with config:\n",
      "\u001b[34m\u001b[1mwandb\u001b[0m: \trf__max_depth: 146\n",
      "\u001b[34m\u001b[1mwandb\u001b[0m: \trf__max_features: 9\n",
      "\u001b[34m\u001b[1mwandb\u001b[0m: \trf__max_samples: 0.4917876537170725\n",
      "\u001b[34m\u001b[1mwandb\u001b[0m: \trf__n_estimators: 616\n",
      "\u001b[34m\u001b[1mwandb\u001b[0m: \tsel__n_features: 8\n"
     ]
    },
    {
     "data": {
      "text/html": [
       "Tracking run with wandb version 0.15.4"
      ],
      "text/plain": [
       "<IPython.core.display.HTML object>"
      ]
     },
     "metadata": {},
     "output_type": "display_data"
    },
    {
     "data": {
      "text/html": [
       "Run data is saved locally in <code>/media/sf_geocomputation_class/forestmap/wandb/run-20230609_111116-jry4o7ei</code>"
      ],
      "text/plain": [
       "<IPython.core.display.HTML object>"
      ]
     },
     "metadata": {},
     "output_type": "display_data"
    },
    {
     "data": {
      "text/html": [
       "Syncing run <strong><a href='https://wandb.ai/hofer1991/RF_Foresthybrid_table/runs/jry4o7ei' target=\"_blank\">amber-sweep-4</a></strong> to <a href='https://wandb.ai/hofer1991/RF_Foresthybrid_table' target=\"_blank\">Weights & Biases</a> (<a href='https://wandb.me/run' target=\"_blank\">docs</a>)<br/>Sweep page: <a href='https://wandb.ai/hofer1991/RF_Foresthybrid_table/sweeps/uq2lt86p' target=\"_blank\">https://wandb.ai/hofer1991/RF_Foresthybrid_table/sweeps/uq2lt86p</a>"
      ],
      "text/plain": [
       "<IPython.core.display.HTML object>"
      ]
     },
     "metadata": {},
     "output_type": "display_data"
    },
    {
     "data": {
      "text/html": [
       " View project at <a href='https://wandb.ai/hofer1991/RF_Foresthybrid_table' target=\"_blank\">https://wandb.ai/hofer1991/RF_Foresthybrid_table</a>"
      ],
      "text/plain": [
       "<IPython.core.display.HTML object>"
      ]
     },
     "metadata": {},
     "output_type": "display_data"
    },
    {
     "data": {
      "text/html": [
       " View sweep at <a href='https://wandb.ai/hofer1991/RF_Foresthybrid_table/sweeps/uq2lt86p' target=\"_blank\">https://wandb.ai/hofer1991/RF_Foresthybrid_table/sweeps/uq2lt86p</a>"
      ],
      "text/plain": [
       "<IPython.core.display.HTML object>"
      ]
     },
     "metadata": {},
     "output_type": "display_data"
    },
    {
     "data": {
      "text/html": [
       " View run at <a href='https://wandb.ai/hofer1991/RF_Foresthybrid_table/runs/jry4o7ei' target=\"_blank\">https://wandb.ai/hofer1991/RF_Foresthybrid_table/runs/jry4o7ei</a>"
      ],
      "text/plain": [
       "<IPython.core.display.HTML object>"
      ]
     },
     "metadata": {},
     "output_type": "display_data"
    },
    {
     "data": {
      "text/html": [
       "Waiting for W&B process to finish... <strong style=\"color:green\">(success).</strong>"
      ],
      "text/plain": [
       "<IPython.core.display.HTML object>"
      ]
     },
     "metadata": {},
     "output_type": "display_data"
    },
    {
     "name": "stderr",
     "output_type": "stream",
     "text": [
      "Widget Javascript not detected.  It may not be installed or enabled properly. Reconnecting the current kernel may help.\n"
     ]
    },
    {
     "data": {
      "application/vnd.jupyter.widget-view+json": {
       "model_id": "009035b96cb84325a60426e489bbdc83"
      }
     },
     "metadata": {},
     "output_type": "display_data"
    },
    {
     "data": {
      "text/html": [
       "<style>\n",
       "    table.wandb td:nth-child(1) { padding: 0 10px; text-align: left ; width: auto;} td:nth-child(2) {text-align: left ; width: 100%}\n",
       "    .wandb-row { display: flex; flex-direction: row; flex-wrap: wrap; justify-content: flex-start; width: 100% }\n",
       "    .wandb-col { display: flex; flex-direction: column; flex-basis: 100%; flex: 1; padding: 10px; }\n",
       "    </style>\n",
       "<div class=\"wandb-row\"><div class=\"wandb-col\"><h3>Run history:</h3><br/><table class=\"wandb\"><tr><td>Accuracy/train</td><td>▁</td></tr><tr><td>Accuracy/val</td><td>▁</td></tr><tr><td>BIC/train</td><td>▁</td></tr><tr><td>BIC/val</td><td>▁</td></tr></table><br/></div><div class=\"wandb-col\"><h3>Run summary:</h3><br/><table class=\"wandb\"><tr><td>Accuracy/train</td><td>0.96938</td></tr><tr><td>Accuracy/val</td><td>0.89927</td></tr><tr><td>BIC/train</td><td>37956.60348</td></tr><tr><td>BIC/val</td><td>24967.11577</td></tr></table><br/></div></div>"
      ],
      "text/plain": [
       "<IPython.core.display.HTML object>"
      ]
     },
     "metadata": {},
     "output_type": "display_data"
    },
    {
     "data": {
      "text/html": [
       " View run <strong style=\"color:#cdcd00\">amber-sweep-4</strong> at: <a href='https://wandb.ai/hofer1991/RF_Foresthybrid_table/runs/jry4o7ei' target=\"_blank\">https://wandb.ai/hofer1991/RF_Foresthybrid_table/runs/jry4o7ei</a><br/>Synced 4 W&B file(s), 0 media file(s), 0 artifact file(s) and 0 other file(s)"
      ],
      "text/plain": [
       "<IPython.core.display.HTML object>"
      ]
     },
     "metadata": {},
     "output_type": "display_data"
    },
    {
     "data": {
      "text/html": [
       "Find logs at: <code>./wandb/run-20230609_111116-jry4o7ei/logs</code>"
      ],
      "text/plain": [
       "<IPython.core.display.HTML object>"
      ]
     },
     "metadata": {},
     "output_type": "display_data"
    },
    {
     "name": "stderr",
     "output_type": "stream",
     "text": [
      "\u001b[34m\u001b[1mwandb\u001b[0m: Agent Starting Run: 61a7ig66 with config:\n",
      "\u001b[34m\u001b[1mwandb\u001b[0m: \trf__max_depth: 135\n",
      "\u001b[34m\u001b[1mwandb\u001b[0m: \trf__max_features: 6\n",
      "\u001b[34m\u001b[1mwandb\u001b[0m: \trf__max_samples: 0.4439562124505703\n",
      "\u001b[34m\u001b[1mwandb\u001b[0m: \trf__n_estimators: 711\n",
      "\u001b[34m\u001b[1mwandb\u001b[0m: \tsel__n_features: 9\n"
     ]
    },
    {
     "data": {
      "text/html": [
       "Tracking run with wandb version 0.15.4"
      ],
      "text/plain": [
       "<IPython.core.display.HTML object>"
      ]
     },
     "metadata": {},
     "output_type": "display_data"
    },
    {
     "data": {
      "text/html": [
       "Run data is saved locally in <code>/media/sf_geocomputation_class/forestmap/wandb/run-20230609_111307-61a7ig66</code>"
      ],
      "text/plain": [
       "<IPython.core.display.HTML object>"
      ]
     },
     "metadata": {},
     "output_type": "display_data"
    },
    {
     "data": {
      "text/html": [
       "Syncing run <strong><a href='https://wandb.ai/hofer1991/RF_Foresthybrid_table/runs/61a7ig66' target=\"_blank\">ethereal-sweep-5</a></strong> to <a href='https://wandb.ai/hofer1991/RF_Foresthybrid_table' target=\"_blank\">Weights & Biases</a> (<a href='https://wandb.me/run' target=\"_blank\">docs</a>)<br/>Sweep page: <a href='https://wandb.ai/hofer1991/RF_Foresthybrid_table/sweeps/uq2lt86p' target=\"_blank\">https://wandb.ai/hofer1991/RF_Foresthybrid_table/sweeps/uq2lt86p</a>"
      ],
      "text/plain": [
       "<IPython.core.display.HTML object>"
      ]
     },
     "metadata": {},
     "output_type": "display_data"
    },
    {
     "data": {
      "text/html": [
       " View project at <a href='https://wandb.ai/hofer1991/RF_Foresthybrid_table' target=\"_blank\">https://wandb.ai/hofer1991/RF_Foresthybrid_table</a>"
      ],
      "text/plain": [
       "<IPython.core.display.HTML object>"
      ]
     },
     "metadata": {},
     "output_type": "display_data"
    },
    {
     "data": {
      "text/html": [
       " View sweep at <a href='https://wandb.ai/hofer1991/RF_Foresthybrid_table/sweeps/uq2lt86p' target=\"_blank\">https://wandb.ai/hofer1991/RF_Foresthybrid_table/sweeps/uq2lt86p</a>"
      ],
      "text/plain": [
       "<IPython.core.display.HTML object>"
      ]
     },
     "metadata": {},
     "output_type": "display_data"
    },
    {
     "data": {
      "text/html": [
       " View run at <a href='https://wandb.ai/hofer1991/RF_Foresthybrid_table/runs/61a7ig66' target=\"_blank\">https://wandb.ai/hofer1991/RF_Foresthybrid_table/runs/61a7ig66</a>"
      ],
      "text/plain": [
       "<IPython.core.display.HTML object>"
      ]
     },
     "metadata": {},
     "output_type": "display_data"
    },
    {
     "data": {
      "text/html": [
       "Waiting for W&B process to finish... <strong style=\"color:green\">(success).</strong>"
      ],
      "text/plain": [
       "<IPython.core.display.HTML object>"
      ]
     },
     "metadata": {},
     "output_type": "display_data"
    },
    {
     "name": "stderr",
     "output_type": "stream",
     "text": [
      "Widget Javascript not detected.  It may not be installed or enabled properly. Reconnecting the current kernel may help.\n"
     ]
    },
    {
     "data": {
      "application/vnd.jupyter.widget-view+json": {
       "model_id": "24f5ca10765b4323865a278bf5fea0f9"
      }
     },
     "metadata": {},
     "output_type": "display_data"
    },
    {
     "data": {
      "text/html": [
       "<style>\n",
       "    table.wandb td:nth-child(1) { padding: 0 10px; text-align: left ; width: auto;} td:nth-child(2) {text-align: left ; width: 100%}\n",
       "    .wandb-row { display: flex; flex-direction: row; flex-wrap: wrap; justify-content: flex-start; width: 100% }\n",
       "    .wandb-col { display: flex; flex-direction: column; flex-basis: 100%; flex: 1; padding: 10px; }\n",
       "    </style>\n",
       "<div class=\"wandb-row\"><div class=\"wandb-col\"><h3>Run history:</h3><br/><table class=\"wandb\"><tr><td>Accuracy/train</td><td>▁</td></tr><tr><td>Accuracy/val</td><td>▁</td></tr><tr><td>BIC/train</td><td>▁</td></tr><tr><td>BIC/val</td><td>▁</td></tr></table><br/></div><div class=\"wandb-col\"><h3>Run summary:</h3><br/><table class=\"wandb\"><tr><td>Accuracy/train</td><td>0.96379</td></tr><tr><td>Accuracy/val</td><td>0.90046</td></tr><tr><td>BIC/train</td><td>36117.37842</td></tr><tr><td>BIC/val</td><td>25087.64137</td></tr></table><br/></div></div>"
      ],
      "text/plain": [
       "<IPython.core.display.HTML object>"
      ]
     },
     "metadata": {},
     "output_type": "display_data"
    },
    {
     "data": {
      "text/html": [
       " View run <strong style=\"color:#cdcd00\">ethereal-sweep-5</strong> at: <a href='https://wandb.ai/hofer1991/RF_Foresthybrid_table/runs/61a7ig66' target=\"_blank\">https://wandb.ai/hofer1991/RF_Foresthybrid_table/runs/61a7ig66</a><br/>Synced 4 W&B file(s), 0 media file(s), 0 artifact file(s) and 0 other file(s)"
      ],
      "text/plain": [
       "<IPython.core.display.HTML object>"
      ]
     },
     "metadata": {},
     "output_type": "display_data"
    },
    {
     "data": {
      "text/html": [
       "Find logs at: <code>./wandb/run-20230609_111307-61a7ig66/logs</code>"
      ],
      "text/plain": [
       "<IPython.core.display.HTML object>"
      ]
     },
     "metadata": {},
     "output_type": "display_data"
    },
    {
     "name": "stderr",
     "output_type": "stream",
     "text": [
      "\u001b[34m\u001b[1mwandb\u001b[0m: Agent Starting Run: 98sml4nj with config:\n",
      "\u001b[34m\u001b[1mwandb\u001b[0m: \trf__max_depth: 60\n",
      "\u001b[34m\u001b[1mwandb\u001b[0m: \trf__max_features: 6\n",
      "\u001b[34m\u001b[1mwandb\u001b[0m: \trf__max_samples: 0.3913667962025087\n",
      "\u001b[34m\u001b[1mwandb\u001b[0m: \trf__n_estimators: 660\n",
      "\u001b[34m\u001b[1mwandb\u001b[0m: \tsel__n_features: 10\n"
     ]
    },
    {
     "data": {
      "text/html": [
       "Tracking run with wandb version 0.15.4"
      ],
      "text/plain": [
       "<IPython.core.display.HTML object>"
      ]
     },
     "metadata": {},
     "output_type": "display_data"
    },
    {
     "data": {
      "text/html": [
       "Run data is saved locally in <code>/media/sf_geocomputation_class/forestmap/wandb/run-20230609_111437-98sml4nj</code>"
      ],
      "text/plain": [
       "<IPython.core.display.HTML object>"
      ]
     },
     "metadata": {},
     "output_type": "display_data"
    },
    {
     "data": {
      "text/html": [
       "Syncing run <strong><a href='https://wandb.ai/hofer1991/RF_Foresthybrid_table/runs/98sml4nj' target=\"_blank\">eager-sweep-6</a></strong> to <a href='https://wandb.ai/hofer1991/RF_Foresthybrid_table' target=\"_blank\">Weights & Biases</a> (<a href='https://wandb.me/run' target=\"_blank\">docs</a>)<br/>Sweep page: <a href='https://wandb.ai/hofer1991/RF_Foresthybrid_table/sweeps/uq2lt86p' target=\"_blank\">https://wandb.ai/hofer1991/RF_Foresthybrid_table/sweeps/uq2lt86p</a>"
      ],
      "text/plain": [
       "<IPython.core.display.HTML object>"
      ]
     },
     "metadata": {},
     "output_type": "display_data"
    },
    {
     "data": {
      "text/html": [
       " View project at <a href='https://wandb.ai/hofer1991/RF_Foresthybrid_table' target=\"_blank\">https://wandb.ai/hofer1991/RF_Foresthybrid_table</a>"
      ],
      "text/plain": [
       "<IPython.core.display.HTML object>"
      ]
     },
     "metadata": {},
     "output_type": "display_data"
    },
    {
     "data": {
      "text/html": [
       " View sweep at <a href='https://wandb.ai/hofer1991/RF_Foresthybrid_table/sweeps/uq2lt86p' target=\"_blank\">https://wandb.ai/hofer1991/RF_Foresthybrid_table/sweeps/uq2lt86p</a>"
      ],
      "text/plain": [
       "<IPython.core.display.HTML object>"
      ]
     },
     "metadata": {},
     "output_type": "display_data"
    },
    {
     "data": {
      "text/html": [
       " View run at <a href='https://wandb.ai/hofer1991/RF_Foresthybrid_table/runs/98sml4nj' target=\"_blank\">https://wandb.ai/hofer1991/RF_Foresthybrid_table/runs/98sml4nj</a>"
      ],
      "text/plain": [
       "<IPython.core.display.HTML object>"
      ]
     },
     "metadata": {},
     "output_type": "display_data"
    },
    {
     "data": {
      "text/html": [
       "Waiting for W&B process to finish... <strong style=\"color:green\">(success).</strong>"
      ],
      "text/plain": [
       "<IPython.core.display.HTML object>"
      ]
     },
     "metadata": {},
     "output_type": "display_data"
    },
    {
     "name": "stderr",
     "output_type": "stream",
     "text": [
      "Widget Javascript not detected.  It may not be installed or enabled properly. Reconnecting the current kernel may help.\n"
     ]
    },
    {
     "data": {
      "application/vnd.jupyter.widget-view+json": {
       "model_id": "d221e3ec187f4f5ea4c27f0ba46ebaff"
      }
     },
     "metadata": {},
     "output_type": "display_data"
    },
    {
     "data": {
      "text/html": [
       "<style>\n",
       "    table.wandb td:nth-child(1) { padding: 0 10px; text-align: left ; width: auto;} td:nth-child(2) {text-align: left ; width: 100%}\n",
       "    .wandb-row { display: flex; flex-direction: row; flex-wrap: wrap; justify-content: flex-start; width: 100% }\n",
       "    .wandb-col { display: flex; flex-direction: column; flex-basis: 100%; flex: 1; padding: 10px; }\n",
       "    </style>\n",
       "<div class=\"wandb-row\"><div class=\"wandb-col\"><h3>Run history:</h3><br/><table class=\"wandb\"><tr><td>Accuracy/train</td><td>▁</td></tr><tr><td>Accuracy/val</td><td>▁</td></tr><tr><td>BIC/train</td><td>▁</td></tr><tr><td>BIC/val</td><td>▁</td></tr></table><br/></div><div class=\"wandb-col\"><h3>Run summary:</h3><br/><table class=\"wandb\"><tr><td>Accuracy/train</td><td>0.95811</td></tr><tr><td>Accuracy/val</td><td>0.90147</td></tr><tr><td>BIC/train</td><td>34517.57478</td></tr><tr><td>BIC/val</td><td>25189.41385</td></tr></table><br/></div></div>"
      ],
      "text/plain": [
       "<IPython.core.display.HTML object>"
      ]
     },
     "metadata": {},
     "output_type": "display_data"
    },
    {
     "data": {
      "text/html": [
       " View run <strong style=\"color:#cdcd00\">eager-sweep-6</strong> at: <a href='https://wandb.ai/hofer1991/RF_Foresthybrid_table/runs/98sml4nj' target=\"_blank\">https://wandb.ai/hofer1991/RF_Foresthybrid_table/runs/98sml4nj</a><br/>Synced 4 W&B file(s), 0 media file(s), 0 artifact file(s) and 0 other file(s)"
      ],
      "text/plain": [
       "<IPython.core.display.HTML object>"
      ]
     },
     "metadata": {},
     "output_type": "display_data"
    },
    {
     "data": {
      "text/html": [
       "Find logs at: <code>./wandb/run-20230609_111437-98sml4nj/logs</code>"
      ],
      "text/plain": [
       "<IPython.core.display.HTML object>"
      ]
     },
     "metadata": {},
     "output_type": "display_data"
    },
    {
     "name": "stderr",
     "output_type": "stream",
     "text": [
      "\u001b[34m\u001b[1mwandb\u001b[0m: Agent Starting Run: dnzg4dit with config:\n",
      "\u001b[34m\u001b[1mwandb\u001b[0m: \trf__max_depth: 87\n",
      "\u001b[34m\u001b[1mwandb\u001b[0m: \trf__max_features: 10\n",
      "\u001b[34m\u001b[1mwandb\u001b[0m: \trf__max_samples: 0.3111304063107557\n",
      "\u001b[34m\u001b[1mwandb\u001b[0m: \trf__n_estimators: 711\n",
      "\u001b[34m\u001b[1mwandb\u001b[0m: \tsel__n_features: 10\n"
     ]
    },
    {
     "data": {
      "text/html": [
       "Tracking run with wandb version 0.15.4"
      ],
      "text/plain": [
       "<IPython.core.display.HTML object>"
      ]
     },
     "metadata": {},
     "output_type": "display_data"
    },
    {
     "data": {
      "text/html": [
       "Run data is saved locally in <code>/media/sf_geocomputation_class/forestmap/wandb/run-20230609_111549-dnzg4dit</code>"
      ],
      "text/plain": [
       "<IPython.core.display.HTML object>"
      ]
     },
     "metadata": {},
     "output_type": "display_data"
    },
    {
     "data": {
      "text/html": [
       "Syncing run <strong><a href='https://wandb.ai/hofer1991/RF_Foresthybrid_table/runs/dnzg4dit' target=\"_blank\">charmed-sweep-7</a></strong> to <a href='https://wandb.ai/hofer1991/RF_Foresthybrid_table' target=\"_blank\">Weights & Biases</a> (<a href='https://wandb.me/run' target=\"_blank\">docs</a>)<br/>Sweep page: <a href='https://wandb.ai/hofer1991/RF_Foresthybrid_table/sweeps/uq2lt86p' target=\"_blank\">https://wandb.ai/hofer1991/RF_Foresthybrid_table/sweeps/uq2lt86p</a>"
      ],
      "text/plain": [
       "<IPython.core.display.HTML object>"
      ]
     },
     "metadata": {},
     "output_type": "display_data"
    },
    {
     "data": {
      "text/html": [
       " View project at <a href='https://wandb.ai/hofer1991/RF_Foresthybrid_table' target=\"_blank\">https://wandb.ai/hofer1991/RF_Foresthybrid_table</a>"
      ],
      "text/plain": [
       "<IPython.core.display.HTML object>"
      ]
     },
     "metadata": {},
     "output_type": "display_data"
    },
    {
     "data": {
      "text/html": [
       " View sweep at <a href='https://wandb.ai/hofer1991/RF_Foresthybrid_table/sweeps/uq2lt86p' target=\"_blank\">https://wandb.ai/hofer1991/RF_Foresthybrid_table/sweeps/uq2lt86p</a>"
      ],
      "text/plain": [
       "<IPython.core.display.HTML object>"
      ]
     },
     "metadata": {},
     "output_type": "display_data"
    },
    {
     "data": {
      "text/html": [
       " View run at <a href='https://wandb.ai/hofer1991/RF_Foresthybrid_table/runs/dnzg4dit' target=\"_blank\">https://wandb.ai/hofer1991/RF_Foresthybrid_table/runs/dnzg4dit</a>"
      ],
      "text/plain": [
       "<IPython.core.display.HTML object>"
      ]
     },
     "metadata": {},
     "output_type": "display_data"
    },
    {
     "data": {
      "text/html": [
       "Waiting for W&B process to finish... <strong style=\"color:green\">(success).</strong>"
      ],
      "text/plain": [
       "<IPython.core.display.HTML object>"
      ]
     },
     "metadata": {},
     "output_type": "display_data"
    },
    {
     "name": "stderr",
     "output_type": "stream",
     "text": [
      "Widget Javascript not detected.  It may not be installed or enabled properly. Reconnecting the current kernel may help.\n"
     ]
    },
    {
     "data": {
      "application/vnd.jupyter.widget-view+json": {
       "model_id": "55bbe7db6ecb40c8a11b49b27206f835"
      }
     },
     "metadata": {},
     "output_type": "display_data"
    },
    {
     "data": {
      "text/html": [
       "<style>\n",
       "    table.wandb td:nth-child(1) { padding: 0 10px; text-align: left ; width: auto;} td:nth-child(2) {text-align: left ; width: 100%}\n",
       "    .wandb-row { display: flex; flex-direction: row; flex-wrap: wrap; justify-content: flex-start; width: 100% }\n",
       "    .wandb-col { display: flex; flex-direction: column; flex-basis: 100%; flex: 1; padding: 10px; }\n",
       "    </style>\n",
       "<div class=\"wandb-row\"><div class=\"wandb-col\"><h3>Run history:</h3><br/><table class=\"wandb\"><tr><td>Accuracy/train</td><td>▁</td></tr><tr><td>Accuracy/val</td><td>▁</td></tr><tr><td>BIC/train</td><td>▁</td></tr><tr><td>BIC/val</td><td>▁</td></tr></table><br/></div><div class=\"wandb-col\"><h3>Run summary:</h3><br/><table class=\"wandb\"><tr><td>Accuracy/train</td><td>0.94729</td></tr><tr><td>Accuracy/val</td><td>0.90037</td></tr><tr><td>BIC/train</td><td>32011.92311</td></tr><tr><td>BIC/val</td><td>25068.30252</td></tr></table><br/></div></div>"
      ],
      "text/plain": [
       "<IPython.core.display.HTML object>"
      ]
     },
     "metadata": {},
     "output_type": "display_data"
    },
    {
     "data": {
      "text/html": [
       " View run <strong style=\"color:#cdcd00\">charmed-sweep-7</strong> at: <a href='https://wandb.ai/hofer1991/RF_Foresthybrid_table/runs/dnzg4dit' target=\"_blank\">https://wandb.ai/hofer1991/RF_Foresthybrid_table/runs/dnzg4dit</a><br/>Synced 4 W&B file(s), 0 media file(s), 0 artifact file(s) and 0 other file(s)"
      ],
      "text/plain": [
       "<IPython.core.display.HTML object>"
      ]
     },
     "metadata": {},
     "output_type": "display_data"
    },
    {
     "data": {
      "text/html": [
       "Find logs at: <code>./wandb/run-20230609_111549-dnzg4dit/logs</code>"
      ],
      "text/plain": [
       "<IPython.core.display.HTML object>"
      ]
     },
     "metadata": {},
     "output_type": "display_data"
    },
    {
     "name": "stderr",
     "output_type": "stream",
     "text": [
      "\u001b[34m\u001b[1mwandb\u001b[0m: Agent Starting Run: mbgqwou4 with config:\n",
      "\u001b[34m\u001b[1mwandb\u001b[0m: \trf__max_depth: 51\n",
      "\u001b[34m\u001b[1mwandb\u001b[0m: \trf__max_features: 5\n",
      "\u001b[34m\u001b[1mwandb\u001b[0m: \trf__max_samples: 0.31042740004224273\n",
      "\u001b[34m\u001b[1mwandb\u001b[0m: \trf__n_estimators: 588\n",
      "\u001b[34m\u001b[1mwandb\u001b[0m: \tsel__n_features: 7\n"
     ]
    },
    {
     "data": {
      "text/html": [
       "Tracking run with wandb version 0.15.4"
      ],
      "text/plain": [
       "<IPython.core.display.HTML object>"
      ]
     },
     "metadata": {},
     "output_type": "display_data"
    },
    {
     "data": {
      "text/html": [
       "Run data is saved locally in <code>/media/sf_geocomputation_class/forestmap/wandb/run-20230609_111714-mbgqwou4</code>"
      ],
      "text/plain": [
       "<IPython.core.display.HTML object>"
      ]
     },
     "metadata": {},
     "output_type": "display_data"
    },
    {
     "data": {
      "text/html": [
       "Syncing run <strong><a href='https://wandb.ai/hofer1991/RF_Foresthybrid_table/runs/mbgqwou4' target=\"_blank\">blooming-sweep-8</a></strong> to <a href='https://wandb.ai/hofer1991/RF_Foresthybrid_table' target=\"_blank\">Weights & Biases</a> (<a href='https://wandb.me/run' target=\"_blank\">docs</a>)<br/>Sweep page: <a href='https://wandb.ai/hofer1991/RF_Foresthybrid_table/sweeps/uq2lt86p' target=\"_blank\">https://wandb.ai/hofer1991/RF_Foresthybrid_table/sweeps/uq2lt86p</a>"
      ],
      "text/plain": [
       "<IPython.core.display.HTML object>"
      ]
     },
     "metadata": {},
     "output_type": "display_data"
    },
    {
     "data": {
      "text/html": [
       " View project at <a href='https://wandb.ai/hofer1991/RF_Foresthybrid_table' target=\"_blank\">https://wandb.ai/hofer1991/RF_Foresthybrid_table</a>"
      ],
      "text/plain": [
       "<IPython.core.display.HTML object>"
      ]
     },
     "metadata": {},
     "output_type": "display_data"
    },
    {
     "data": {
      "text/html": [
       " View sweep at <a href='https://wandb.ai/hofer1991/RF_Foresthybrid_table/sweeps/uq2lt86p' target=\"_blank\">https://wandb.ai/hofer1991/RF_Foresthybrid_table/sweeps/uq2lt86p</a>"
      ],
      "text/plain": [
       "<IPython.core.display.HTML object>"
      ]
     },
     "metadata": {},
     "output_type": "display_data"
    },
    {
     "data": {
      "text/html": [
       " View run at <a href='https://wandb.ai/hofer1991/RF_Foresthybrid_table/runs/mbgqwou4' target=\"_blank\">https://wandb.ai/hofer1991/RF_Foresthybrid_table/runs/mbgqwou4</a>"
      ],
      "text/plain": [
       "<IPython.core.display.HTML object>"
      ]
     },
     "metadata": {},
     "output_type": "display_data"
    },
    {
     "data": {
      "text/html": [
       "Waiting for W&B process to finish... <strong style=\"color:green\">(success).</strong>"
      ],
      "text/plain": [
       "<IPython.core.display.HTML object>"
      ]
     },
     "metadata": {},
     "output_type": "display_data"
    },
    {
     "name": "stderr",
     "output_type": "stream",
     "text": [
      "Widget Javascript not detected.  It may not be installed or enabled properly. Reconnecting the current kernel may help.\n"
     ]
    },
    {
     "data": {
      "application/vnd.jupyter.widget-view+json": {
       "model_id": "9afd4bb300514f569b5e66111117d298"
      }
     },
     "metadata": {},
     "output_type": "display_data"
    },
    {
     "data": {
      "text/html": [
       "<style>\n",
       "    table.wandb td:nth-child(1) { padding: 0 10px; text-align: left ; width: auto;} td:nth-child(2) {text-align: left ; width: 100%}\n",
       "    .wandb-row { display: flex; flex-direction: row; flex-wrap: wrap; justify-content: flex-start; width: 100% }\n",
       "    .wandb-col { display: flex; flex-direction: column; flex-basis: 100%; flex: 1; padding: 10px; }\n",
       "    </style>\n",
       "<div class=\"wandb-row\"><div class=\"wandb-col\"><h3>Run history:</h3><br/><table class=\"wandb\"><tr><td>Accuracy/train</td><td>▁</td></tr><tr><td>Accuracy/val</td><td>▁</td></tr><tr><td>BIC/train</td><td>▁</td></tr><tr><td>BIC/val</td><td>▁</td></tr></table><br/></div><div class=\"wandb-col\"><h3>Run summary:</h3><br/><table class=\"wandb\"><tr><td>Accuracy/train</td><td>0.94812</td></tr><tr><td>Accuracy/val</td><td>0.9</td></tr><tr><td>BIC/train</td><td>32211.91512</td></tr><tr><td>BIC/val</td><td>25056.12132</td></tr></table><br/></div></div>"
      ],
      "text/plain": [
       "<IPython.core.display.HTML object>"
      ]
     },
     "metadata": {},
     "output_type": "display_data"
    },
    {
     "data": {
      "text/html": [
       " View run <strong style=\"color:#cdcd00\">blooming-sweep-8</strong> at: <a href='https://wandb.ai/hofer1991/RF_Foresthybrid_table/runs/mbgqwou4' target=\"_blank\">https://wandb.ai/hofer1991/RF_Foresthybrid_table/runs/mbgqwou4</a><br/>Synced 4 W&B file(s), 0 media file(s), 0 artifact file(s) and 0 other file(s)"
      ],
      "text/plain": [
       "<IPython.core.display.HTML object>"
      ]
     },
     "metadata": {},
     "output_type": "display_data"
    },
    {
     "data": {
      "text/html": [
       "Find logs at: <code>./wandb/run-20230609_111714-mbgqwou4/logs</code>"
      ],
      "text/plain": [
       "<IPython.core.display.HTML object>"
      ]
     },
     "metadata": {},
     "output_type": "display_data"
    },
    {
     "name": "stderr",
     "output_type": "stream",
     "text": [
      "\u001b[34m\u001b[1mwandb\u001b[0m: Agent Starting Run: kycoydxo with config:\n",
      "\u001b[34m\u001b[1mwandb\u001b[0m: \trf__max_depth: 65\n",
      "\u001b[34m\u001b[1mwandb\u001b[0m: \trf__max_features: 4\n",
      "\u001b[34m\u001b[1mwandb\u001b[0m: \trf__max_samples: 0.3628663718983365\n",
      "\u001b[34m\u001b[1mwandb\u001b[0m: \trf__n_estimators: 510\n",
      "\u001b[34m\u001b[1mwandb\u001b[0m: \tsel__n_features: 10\n",
      "Widget Javascript not detected.  It may not be installed or enabled properly. Reconnecting the current kernel may help.\n"
     ]
    },
    {
     "data": {
      "application/vnd.jupyter.widget-view+json": {
       "model_id": "6a38fe5d4ebf49d9acc10b0008329f6a"
      }
     },
     "metadata": {},
     "output_type": "display_data"
    },
    {
     "data": {
      "text/html": [
       "Tracking run with wandb version 0.15.4"
      ],
      "text/plain": [
       "<IPython.core.display.HTML object>"
      ]
     },
     "metadata": {},
     "output_type": "display_data"
    },
    {
     "data": {
      "text/html": [
       "Run data is saved locally in <code>/media/sf_geocomputation_class/forestmap/wandb/run-20230609_111822-kycoydxo</code>"
      ],
      "text/plain": [
       "<IPython.core.display.HTML object>"
      ]
     },
     "metadata": {},
     "output_type": "display_data"
    },
    {
     "data": {
      "text/html": [
       "Syncing run <strong><a href='https://wandb.ai/hofer1991/RF_Foresthybrid_table/runs/kycoydxo' target=\"_blank\">fallen-sweep-9</a></strong> to <a href='https://wandb.ai/hofer1991/RF_Foresthybrid_table' target=\"_blank\">Weights & Biases</a> (<a href='https://wandb.me/run' target=\"_blank\">docs</a>)<br/>Sweep page: <a href='https://wandb.ai/hofer1991/RF_Foresthybrid_table/sweeps/uq2lt86p' target=\"_blank\">https://wandb.ai/hofer1991/RF_Foresthybrid_table/sweeps/uq2lt86p</a>"
      ],
      "text/plain": [
       "<IPython.core.display.HTML object>"
      ]
     },
     "metadata": {},
     "output_type": "display_data"
    },
    {
     "data": {
      "text/html": [
       " View project at <a href='https://wandb.ai/hofer1991/RF_Foresthybrid_table' target=\"_blank\">https://wandb.ai/hofer1991/RF_Foresthybrid_table</a>"
      ],
      "text/plain": [
       "<IPython.core.display.HTML object>"
      ]
     },
     "metadata": {},
     "output_type": "display_data"
    },
    {
     "data": {
      "text/html": [
       " View sweep at <a href='https://wandb.ai/hofer1991/RF_Foresthybrid_table/sweeps/uq2lt86p' target=\"_blank\">https://wandb.ai/hofer1991/RF_Foresthybrid_table/sweeps/uq2lt86p</a>"
      ],
      "text/plain": [
       "<IPython.core.display.HTML object>"
      ]
     },
     "metadata": {},
     "output_type": "display_data"
    },
    {
     "data": {
      "text/html": [
       " View run at <a href='https://wandb.ai/hofer1991/RF_Foresthybrid_table/runs/kycoydxo' target=\"_blank\">https://wandb.ai/hofer1991/RF_Foresthybrid_table/runs/kycoydxo</a>"
      ],
      "text/plain": [
       "<IPython.core.display.HTML object>"
      ]
     },
     "metadata": {},
     "output_type": "display_data"
    },
    {
     "data": {
      "text/html": [
       "Waiting for W&B process to finish... <strong style=\"color:green\">(success).</strong>"
      ],
      "text/plain": [
       "<IPython.core.display.HTML object>"
      ]
     },
     "metadata": {},
     "output_type": "display_data"
    },
    {
     "name": "stderr",
     "output_type": "stream",
     "text": [
      "Widget Javascript not detected.  It may not be installed or enabled properly. Reconnecting the current kernel may help.\n"
     ]
    },
    {
     "data": {
      "application/vnd.jupyter.widget-view+json": {
       "model_id": "0b4eaa670bb64826bcda353e26e4a6e4"
      }
     },
     "metadata": {},
     "output_type": "display_data"
    },
    {
     "data": {
      "text/html": [
       "<style>\n",
       "    table.wandb td:nth-child(1) { padding: 0 10px; text-align: left ; width: auto;} td:nth-child(2) {text-align: left ; width: 100%}\n",
       "    .wandb-row { display: flex; flex-direction: row; flex-wrap: wrap; justify-content: flex-start; width: 100% }\n",
       "    .wandb-col { display: flex; flex-direction: column; flex-basis: 100%; flex: 1; padding: 10px; }\n",
       "    </style>\n",
       "<div class=\"wandb-row\"><div class=\"wandb-col\"><h3>Run history:</h3><br/><table class=\"wandb\"><tr><td>Accuracy/train</td><td>▁</td></tr><tr><td>Accuracy/val</td><td>▁</td></tr><tr><td>BIC/train</td><td>▁</td></tr><tr><td>BIC/val</td><td>▁</td></tr></table><br/></div><div class=\"wandb-col\"><h3>Run summary:</h3><br/><table class=\"wandb\"><tr><td>Accuracy/train</td><td>0.95343</td></tr><tr><td>Accuracy/val</td><td>0.90082</td></tr><tr><td>BIC/train</td><td>33363.42377</td></tr><tr><td>BIC/val</td><td>25118.60229</td></tr></table><br/></div></div>"
      ],
      "text/plain": [
       "<IPython.core.display.HTML object>"
      ]
     },
     "metadata": {},
     "output_type": "display_data"
    },
    {
     "data": {
      "text/html": [
       " View run <strong style=\"color:#cdcd00\">fallen-sweep-9</strong> at: <a href='https://wandb.ai/hofer1991/RF_Foresthybrid_table/runs/kycoydxo' target=\"_blank\">https://wandb.ai/hofer1991/RF_Foresthybrid_table/runs/kycoydxo</a><br/>Synced 4 W&B file(s), 0 media file(s), 0 artifact file(s) and 0 other file(s)"
      ],
      "text/plain": [
       "<IPython.core.display.HTML object>"
      ]
     },
     "metadata": {},
     "output_type": "display_data"
    },
    {
     "data": {
      "text/html": [
       "Find logs at: <code>./wandb/run-20230609_111822-kycoydxo/logs</code>"
      ],
      "text/plain": [
       "<IPython.core.display.HTML object>"
      ]
     },
     "metadata": {},
     "output_type": "display_data"
    },
    {
     "name": "stderr",
     "output_type": "stream",
     "text": [
      "\u001b[34m\u001b[1mwandb\u001b[0m: Agent Starting Run: hfgfdemw with config:\n",
      "\u001b[34m\u001b[1mwandb\u001b[0m: \trf__max_depth: 59\n",
      "\u001b[34m\u001b[1mwandb\u001b[0m: \trf__max_features: 5\n",
      "\u001b[34m\u001b[1mwandb\u001b[0m: \trf__max_samples: 0.41578070022151303\n",
      "\u001b[34m\u001b[1mwandb\u001b[0m: \trf__n_estimators: 1058\n",
      "\u001b[34m\u001b[1mwandb\u001b[0m: \tsel__n_features: 10\n"
     ]
    },
    {
     "data": {
      "text/html": [
       "Tracking run with wandb version 0.15.4"
      ],
      "text/plain": [
       "<IPython.core.display.HTML object>"
      ]
     },
     "metadata": {},
     "output_type": "display_data"
    },
    {
     "data": {
      "text/html": [
       "Run data is saved locally in <code>/media/sf_geocomputation_class/forestmap/wandb/run-20230609_111910-hfgfdemw</code>"
      ],
      "text/plain": [
       "<IPython.core.display.HTML object>"
      ]
     },
     "metadata": {},
     "output_type": "display_data"
    },
    {
     "data": {
      "text/html": [
       "Syncing run <strong><a href='https://wandb.ai/hofer1991/RF_Foresthybrid_table/runs/hfgfdemw' target=\"_blank\">lucky-sweep-10</a></strong> to <a href='https://wandb.ai/hofer1991/RF_Foresthybrid_table' target=\"_blank\">Weights & Biases</a> (<a href='https://wandb.me/run' target=\"_blank\">docs</a>)<br/>Sweep page: <a href='https://wandb.ai/hofer1991/RF_Foresthybrid_table/sweeps/uq2lt86p' target=\"_blank\">https://wandb.ai/hofer1991/RF_Foresthybrid_table/sweeps/uq2lt86p</a>"
      ],
      "text/plain": [
       "<IPython.core.display.HTML object>"
      ]
     },
     "metadata": {},
     "output_type": "display_data"
    },
    {
     "data": {
      "text/html": [
       " View project at <a href='https://wandb.ai/hofer1991/RF_Foresthybrid_table' target=\"_blank\">https://wandb.ai/hofer1991/RF_Foresthybrid_table</a>"
      ],
      "text/plain": [
       "<IPython.core.display.HTML object>"
      ]
     },
     "metadata": {},
     "output_type": "display_data"
    },
    {
     "data": {
      "text/html": [
       " View sweep at <a href='https://wandb.ai/hofer1991/RF_Foresthybrid_table/sweeps/uq2lt86p' target=\"_blank\">https://wandb.ai/hofer1991/RF_Foresthybrid_table/sweeps/uq2lt86p</a>"
      ],
      "text/plain": [
       "<IPython.core.display.HTML object>"
      ]
     },
     "metadata": {},
     "output_type": "display_data"
    },
    {
     "data": {
      "text/html": [
       " View run at <a href='https://wandb.ai/hofer1991/RF_Foresthybrid_table/runs/hfgfdemw' target=\"_blank\">https://wandb.ai/hofer1991/RF_Foresthybrid_table/runs/hfgfdemw</a>"
      ],
      "text/plain": [
       "<IPython.core.display.HTML object>"
      ]
     },
     "metadata": {},
     "output_type": "display_data"
    },
    {
     "data": {
      "text/html": [
       "Waiting for W&B process to finish... <strong style=\"color:green\">(success).</strong>"
      ],
      "text/plain": [
       "<IPython.core.display.HTML object>"
      ]
     },
     "metadata": {},
     "output_type": "display_data"
    },
    {
     "name": "stderr",
     "output_type": "stream",
     "text": [
      "Widget Javascript not detected.  It may not be installed or enabled properly. Reconnecting the current kernel may help.\n"
     ]
    },
    {
     "data": {
      "application/vnd.jupyter.widget-view+json": {
       "model_id": "1b6a9e1e60db440284ea0a77c737c0b8"
      }
     },
     "metadata": {},
     "output_type": "display_data"
    },
    {
     "data": {
      "text/html": [
       "<style>\n",
       "    table.wandb td:nth-child(1) { padding: 0 10px; text-align: left ; width: auto;} td:nth-child(2) {text-align: left ; width: 100%}\n",
       "    .wandb-row { display: flex; flex-direction: row; flex-wrap: wrap; justify-content: flex-start; width: 100% }\n",
       "    .wandb-col { display: flex; flex-direction: column; flex-basis: 100%; flex: 1; padding: 10px; }\n",
       "    </style>\n",
       "<div class=\"wandb-row\"><div class=\"wandb-col\"><h3>Run history:</h3><br/><table class=\"wandb\"><tr><td>Accuracy/train</td><td>▁</td></tr><tr><td>Accuracy/val</td><td>▁</td></tr><tr><td>BIC/train</td><td>▁</td></tr><tr><td>BIC/val</td><td>▁</td></tr></table><br/></div><div class=\"wandb-col\"><h3>Run summary:</h3><br/><table class=\"wandb\"><tr><td>Accuracy/train</td><td>0.96077</td></tr><tr><td>Accuracy/val</td><td>0.90092</td></tr><tr><td>BIC/train</td><td>35232.77095</td></tr><tr><td>BIC/val</td><td>25128.69013</td></tr></table><br/></div></div>"
      ],
      "text/plain": [
       "<IPython.core.display.HTML object>"
      ]
     },
     "metadata": {},
     "output_type": "display_data"
    },
    {
     "data": {
      "text/html": [
       " View run <strong style=\"color:#cdcd00\">lucky-sweep-10</strong> at: <a href='https://wandb.ai/hofer1991/RF_Foresthybrid_table/runs/hfgfdemw' target=\"_blank\">https://wandb.ai/hofer1991/RF_Foresthybrid_table/runs/hfgfdemw</a><br/>Synced 4 W&B file(s), 0 media file(s), 0 artifact file(s) and 0 other file(s)"
      ],
      "text/plain": [
       "<IPython.core.display.HTML object>"
      ]
     },
     "metadata": {},
     "output_type": "display_data"
    },
    {
     "data": {
      "text/html": [
       "Find logs at: <code>./wandb/run-20230609_111910-hfgfdemw/logs</code>"
      ],
      "text/plain": [
       "<IPython.core.display.HTML object>"
      ]
     },
     "metadata": {},
     "output_type": "display_data"
    },
    {
     "name": "stderr",
     "output_type": "stream",
     "text": [
      "\u001b[34m\u001b[1mwandb\u001b[0m: Agent Starting Run: 4syfv1tm with config:\n",
      "\u001b[34m\u001b[1mwandb\u001b[0m: \trf__max_depth: 68\n",
      "\u001b[34m\u001b[1mwandb\u001b[0m: \trf__max_features: 7\n",
      "\u001b[34m\u001b[1mwandb\u001b[0m: \trf__max_samples: 0.6796043866548256\n",
      "\u001b[34m\u001b[1mwandb\u001b[0m: \trf__n_estimators: 663\n",
      "\u001b[34m\u001b[1mwandb\u001b[0m: \tsel__n_features: 10\n"
     ]
    },
    {
     "data": {
      "text/html": [
       "Tracking run with wandb version 0.15.4"
      ],
      "text/plain": [
       "<IPython.core.display.HTML object>"
      ]
     },
     "metadata": {},
     "output_type": "display_data"
    },
    {
     "data": {
      "text/html": [
       "Run data is saved locally in <code>/media/sf_geocomputation_class/forestmap/wandb/run-20230609_112111-4syfv1tm</code>"
      ],
      "text/plain": [
       "<IPython.core.display.HTML object>"
      ]
     },
     "metadata": {},
     "output_type": "display_data"
    },
    {
     "data": {
      "text/html": [
       "Syncing run <strong><a href='https://wandb.ai/hofer1991/RF_Foresthybrid_table/runs/4syfv1tm' target=\"_blank\">fresh-sweep-11</a></strong> to <a href='https://wandb.ai/hofer1991/RF_Foresthybrid_table' target=\"_blank\">Weights & Biases</a> (<a href='https://wandb.me/run' target=\"_blank\">docs</a>)<br/>Sweep page: <a href='https://wandb.ai/hofer1991/RF_Foresthybrid_table/sweeps/uq2lt86p' target=\"_blank\">https://wandb.ai/hofer1991/RF_Foresthybrid_table/sweeps/uq2lt86p</a>"
      ],
      "text/plain": [
       "<IPython.core.display.HTML object>"
      ]
     },
     "metadata": {},
     "output_type": "display_data"
    },
    {
     "data": {
      "text/html": [
       " View project at <a href='https://wandb.ai/hofer1991/RF_Foresthybrid_table' target=\"_blank\">https://wandb.ai/hofer1991/RF_Foresthybrid_table</a>"
      ],
      "text/plain": [
       "<IPython.core.display.HTML object>"
      ]
     },
     "metadata": {},
     "output_type": "display_data"
    },
    {
     "data": {
      "text/html": [
       " View sweep at <a href='https://wandb.ai/hofer1991/RF_Foresthybrid_table/sweeps/uq2lt86p' target=\"_blank\">https://wandb.ai/hofer1991/RF_Foresthybrid_table/sweeps/uq2lt86p</a>"
      ],
      "text/plain": [
       "<IPython.core.display.HTML object>"
      ]
     },
     "metadata": {},
     "output_type": "display_data"
    },
    {
     "data": {
      "text/html": [
       " View run at <a href='https://wandb.ai/hofer1991/RF_Foresthybrid_table/runs/4syfv1tm' target=\"_blank\">https://wandb.ai/hofer1991/RF_Foresthybrid_table/runs/4syfv1tm</a>"
      ],
      "text/plain": [
       "<IPython.core.display.HTML object>"
      ]
     },
     "metadata": {},
     "output_type": "display_data"
    },
    {
     "data": {
      "text/html": [
       "Waiting for W&B process to finish... <strong style=\"color:green\">(success).</strong>"
      ],
      "text/plain": [
       "<IPython.core.display.HTML object>"
      ]
     },
     "metadata": {},
     "output_type": "display_data"
    },
    {
     "name": "stderr",
     "output_type": "stream",
     "text": [
      "Widget Javascript not detected.  It may not be installed or enabled properly. Reconnecting the current kernel may help.\n"
     ]
    },
    {
     "data": {
      "application/vnd.jupyter.widget-view+json": {
       "model_id": "c6f46da749a141118edc95cbd472bd9b"
      }
     },
     "metadata": {},
     "output_type": "display_data"
    },
    {
     "data": {
      "text/html": [
       "<style>\n",
       "    table.wandb td:nth-child(1) { padding: 0 10px; text-align: left ; width: auto;} td:nth-child(2) {text-align: left ; width: 100%}\n",
       "    .wandb-row { display: flex; flex-direction: row; flex-wrap: wrap; justify-content: flex-start; width: 100% }\n",
       "    .wandb-col { display: flex; flex-direction: column; flex-basis: 100%; flex: 1; padding: 10px; }\n",
       "    </style>\n",
       "<div class=\"wandb-row\"><div class=\"wandb-col\"><h3>Run history:</h3><br/><table class=\"wandb\"><tr><td>Accuracy/train</td><td>▁</td></tr><tr><td>Accuracy/val</td><td>▁</td></tr><tr><td>BIC/train</td><td>▁</td></tr><tr><td>BIC/val</td><td>▁</td></tr></table><br/></div><div class=\"wandb-col\"><h3>Run summary:</h3><br/><table class=\"wandb\"><tr><td>Accuracy/train</td><td>0.99496</td></tr><tr><td>Accuracy/val</td><td>0.89918</td></tr><tr><td>BIC/train</td><td>57615.74817</td></tr><tr><td>BIC/val</td><td>24938.5982</td></tr></table><br/></div></div>"
      ],
      "text/plain": [
       "<IPython.core.display.HTML object>"
      ]
     },
     "metadata": {},
     "output_type": "display_data"
    },
    {
     "data": {
      "text/html": [
       " View run <strong style=\"color:#cdcd00\">fresh-sweep-11</strong> at: <a href='https://wandb.ai/hofer1991/RF_Foresthybrid_table/runs/4syfv1tm' target=\"_blank\">https://wandb.ai/hofer1991/RF_Foresthybrid_table/runs/4syfv1tm</a><br/>Synced 4 W&B file(s), 0 media file(s), 0 artifact file(s) and 0 other file(s)"
      ],
      "text/plain": [
       "<IPython.core.display.HTML object>"
      ]
     },
     "metadata": {},
     "output_type": "display_data"
    },
    {
     "data": {
      "text/html": [
       "Find logs at: <code>./wandb/run-20230609_112111-4syfv1tm/logs</code>"
      ],
      "text/plain": [
       "<IPython.core.display.HTML object>"
      ]
     },
     "metadata": {},
     "output_type": "display_data"
    },
    {
     "name": "stderr",
     "output_type": "stream",
     "text": [
      "\u001b[34m\u001b[1mwandb\u001b[0m: Sweep Agent: Waiting for job.\n",
      "\u001b[34m\u001b[1mwandb\u001b[0m: Job received.\n",
      "\u001b[34m\u001b[1mwandb\u001b[0m: Agent Starting Run: w9qdlwoj with config:\n",
      "\u001b[34m\u001b[1mwandb\u001b[0m: \trf__max_depth: 89\n",
      "\u001b[34m\u001b[1mwandb\u001b[0m: \trf__max_features: 6\n",
      "\u001b[34m\u001b[1mwandb\u001b[0m: \trf__max_samples: 0.3048080935622988\n",
      "\u001b[34m\u001b[1mwandb\u001b[0m: \trf__n_estimators: 989\n",
      "\u001b[34m\u001b[1mwandb\u001b[0m: \tsel__n_features: 10\n"
     ]
    },
    {
     "data": {
      "text/html": [
       "Tracking run with wandb version 0.15.4"
      ],
      "text/plain": [
       "<IPython.core.display.HTML object>"
      ]
     },
     "metadata": {},
     "output_type": "display_data"
    },
    {
     "data": {
      "text/html": [
       "Run data is saved locally in <code>/media/sf_geocomputation_class/forestmap/wandb/run-20230609_112255-w9qdlwoj</code>"
      ],
      "text/plain": [
       "<IPython.core.display.HTML object>"
      ]
     },
     "metadata": {},
     "output_type": "display_data"
    },
    {
     "data": {
      "text/html": [
       "Syncing run <strong><a href='https://wandb.ai/hofer1991/RF_Foresthybrid_table/runs/w9qdlwoj' target=\"_blank\">sandy-sweep-12</a></strong> to <a href='https://wandb.ai/hofer1991/RF_Foresthybrid_table' target=\"_blank\">Weights & Biases</a> (<a href='https://wandb.me/run' target=\"_blank\">docs</a>)<br/>Sweep page: <a href='https://wandb.ai/hofer1991/RF_Foresthybrid_table/sweeps/uq2lt86p' target=\"_blank\">https://wandb.ai/hofer1991/RF_Foresthybrid_table/sweeps/uq2lt86p</a>"
      ],
      "text/plain": [
       "<IPython.core.display.HTML object>"
      ]
     },
     "metadata": {},
     "output_type": "display_data"
    },
    {
     "data": {
      "text/html": [
       " View project at <a href='https://wandb.ai/hofer1991/RF_Foresthybrid_table' target=\"_blank\">https://wandb.ai/hofer1991/RF_Foresthybrid_table</a>"
      ],
      "text/plain": [
       "<IPython.core.display.HTML object>"
      ]
     },
     "metadata": {},
     "output_type": "display_data"
    },
    {
     "data": {
      "text/html": [
       " View sweep at <a href='https://wandb.ai/hofer1991/RF_Foresthybrid_table/sweeps/uq2lt86p' target=\"_blank\">https://wandb.ai/hofer1991/RF_Foresthybrid_table/sweeps/uq2lt86p</a>"
      ],
      "text/plain": [
       "<IPython.core.display.HTML object>"
      ]
     },
     "metadata": {},
     "output_type": "display_data"
    },
    {
     "data": {
      "text/html": [
       " View run at <a href='https://wandb.ai/hofer1991/RF_Foresthybrid_table/runs/w9qdlwoj' target=\"_blank\">https://wandb.ai/hofer1991/RF_Foresthybrid_table/runs/w9qdlwoj</a>"
      ],
      "text/plain": [
       "<IPython.core.display.HTML object>"
      ]
     },
     "metadata": {},
     "output_type": "display_data"
    },
    {
     "data": {
      "text/html": [
       "Waiting for W&B process to finish... <strong style=\"color:green\">(success).</strong>"
      ],
      "text/plain": [
       "<IPython.core.display.HTML object>"
      ]
     },
     "metadata": {},
     "output_type": "display_data"
    },
    {
     "name": "stderr",
     "output_type": "stream",
     "text": [
      "Widget Javascript not detected.  It may not be installed or enabled properly. Reconnecting the current kernel may help.\n"
     ]
    },
    {
     "data": {
      "application/vnd.jupyter.widget-view+json": {
       "model_id": "04e16a10f0cf4acdb329b048d5652327"
      }
     },
     "metadata": {},
     "output_type": "display_data"
    },
    {
     "data": {
      "text/html": [
       "<style>\n",
       "    table.wandb td:nth-child(1) { padding: 0 10px; text-align: left ; width: auto;} td:nth-child(2) {text-align: left ; width: 100%}\n",
       "    .wandb-row { display: flex; flex-direction: row; flex-wrap: wrap; justify-content: flex-start; width: 100% }\n",
       "    .wandb-col { display: flex; flex-direction: column; flex-basis: 100%; flex: 1; padding: 10px; }\n",
       "    </style>\n",
       "<div class=\"wandb-row\"><div class=\"wandb-col\"><h3>Run history:</h3><br/><table class=\"wandb\"><tr><td>Accuracy/train</td><td>▁</td></tr><tr><td>Accuracy/val</td><td>▁</td></tr><tr><td>BIC/train</td><td>▁</td></tr><tr><td>BIC/val</td><td>▁</td></tr></table><br/></div><div class=\"wandb-col\"><h3>Run summary:</h3><br/><table class=\"wandb\"><tr><td>Accuracy/train</td><td>0.94674</td></tr><tr><td>Accuracy/val</td><td>0.90064</td></tr><tr><td>BIC/train</td><td>31898.67988</td></tr><tr><td>BIC/val</td><td>25098.45454</td></tr></table><br/></div></div>"
      ],
      "text/plain": [
       "<IPython.core.display.HTML object>"
      ]
     },
     "metadata": {},
     "output_type": "display_data"
    },
    {
     "data": {
      "text/html": [
       " View run <strong style=\"color:#cdcd00\">sandy-sweep-12</strong> at: <a href='https://wandb.ai/hofer1991/RF_Foresthybrid_table/runs/w9qdlwoj' target=\"_blank\">https://wandb.ai/hofer1991/RF_Foresthybrid_table/runs/w9qdlwoj</a><br/>Synced 4 W&B file(s), 0 media file(s), 0 artifact file(s) and 0 other file(s)"
      ],
      "text/plain": [
       "<IPython.core.display.HTML object>"
      ]
     },
     "metadata": {},
     "output_type": "display_data"
    },
    {
     "data": {
      "text/html": [
       "Find logs at: <code>./wandb/run-20230609_112255-w9qdlwoj/logs</code>"
      ],
      "text/plain": [
       "<IPython.core.display.HTML object>"
      ]
     },
     "metadata": {},
     "output_type": "display_data"
    },
    {
     "name": "stderr",
     "output_type": "stream",
     "text": [
      "\u001b[34m\u001b[1mwandb\u001b[0m: Agent Starting Run: 83gl1sb7 with config:\n",
      "\u001b[34m\u001b[1mwandb\u001b[0m: \trf__max_depth: 286\n",
      "\u001b[34m\u001b[1mwandb\u001b[0m: \trf__max_features: 4\n",
      "\u001b[34m\u001b[1mwandb\u001b[0m: \trf__max_samples: 0.30819714830688066\n",
      "\u001b[34m\u001b[1mwandb\u001b[0m: \trf__n_estimators: 531\n",
      "\u001b[34m\u001b[1mwandb\u001b[0m: \tsel__n_features: 10\n"
     ]
    },
    {
     "data": {
      "text/html": [
       "Tracking run with wandb version 0.15.4"
      ],
      "text/plain": [
       "<IPython.core.display.HTML object>"
      ]
     },
     "metadata": {},
     "output_type": "display_data"
    },
    {
     "data": {
      "text/html": [
       "Run data is saved locally in <code>/media/sf_geocomputation_class/forestmap/wandb/run-20230609_112421-83gl1sb7</code>"
      ],
      "text/plain": [
       "<IPython.core.display.HTML object>"
      ]
     },
     "metadata": {},
     "output_type": "display_data"
    },
    {
     "data": {
      "text/html": [
       "Syncing run <strong><a href='https://wandb.ai/hofer1991/RF_Foresthybrid_table/runs/83gl1sb7' target=\"_blank\">floral-sweep-13</a></strong> to <a href='https://wandb.ai/hofer1991/RF_Foresthybrid_table' target=\"_blank\">Weights & Biases</a> (<a href='https://wandb.me/run' target=\"_blank\">docs</a>)<br/>Sweep page: <a href='https://wandb.ai/hofer1991/RF_Foresthybrid_table/sweeps/uq2lt86p' target=\"_blank\">https://wandb.ai/hofer1991/RF_Foresthybrid_table/sweeps/uq2lt86p</a>"
      ],
      "text/plain": [
       "<IPython.core.display.HTML object>"
      ]
     },
     "metadata": {},
     "output_type": "display_data"
    },
    {
     "data": {
      "text/html": [
       " View project at <a href='https://wandb.ai/hofer1991/RF_Foresthybrid_table' target=\"_blank\">https://wandb.ai/hofer1991/RF_Foresthybrid_table</a>"
      ],
      "text/plain": [
       "<IPython.core.display.HTML object>"
      ]
     },
     "metadata": {},
     "output_type": "display_data"
    },
    {
     "data": {
      "text/html": [
       " View sweep at <a href='https://wandb.ai/hofer1991/RF_Foresthybrid_table/sweeps/uq2lt86p' target=\"_blank\">https://wandb.ai/hofer1991/RF_Foresthybrid_table/sweeps/uq2lt86p</a>"
      ],
      "text/plain": [
       "<IPython.core.display.HTML object>"
      ]
     },
     "metadata": {},
     "output_type": "display_data"
    },
    {
     "data": {
      "text/html": [
       " View run at <a href='https://wandb.ai/hofer1991/RF_Foresthybrid_table/runs/83gl1sb7' target=\"_blank\">https://wandb.ai/hofer1991/RF_Foresthybrid_table/runs/83gl1sb7</a>"
      ],
      "text/plain": [
       "<IPython.core.display.HTML object>"
      ]
     },
     "metadata": {},
     "output_type": "display_data"
    },
    {
     "data": {
      "text/html": [
       "Waiting for W&B process to finish... <strong style=\"color:green\">(success).</strong>"
      ],
      "text/plain": [
       "<IPython.core.display.HTML object>"
      ]
     },
     "metadata": {},
     "output_type": "display_data"
    },
    {
     "name": "stderr",
     "output_type": "stream",
     "text": [
      "Widget Javascript not detected.  It may not be installed or enabled properly. Reconnecting the current kernel may help.\n"
     ]
    },
    {
     "data": {
      "application/vnd.jupyter.widget-view+json": {
       "model_id": "2cce17de44864325971fec0eb2415d01"
      }
     },
     "metadata": {},
     "output_type": "display_data"
    },
    {
     "data": {
      "text/html": [
       "<style>\n",
       "    table.wandb td:nth-child(1) { padding: 0 10px; text-align: left ; width: auto;} td:nth-child(2) {text-align: left ; width: 100%}\n",
       "    .wandb-row { display: flex; flex-direction: row; flex-wrap: wrap; justify-content: flex-start; width: 100% }\n",
       "    .wandb-col { display: flex; flex-direction: column; flex-basis: 100%; flex: 1; padding: 10px; }\n",
       "    </style>\n",
       "<div class=\"wandb-row\"><div class=\"wandb-col\"><h3>Run history:</h3><br/><table class=\"wandb\"><tr><td>Accuracy/train</td><td>▁</td></tr><tr><td>Accuracy/val</td><td>▁</td></tr><tr><td>BIC/train</td><td>▁</td></tr><tr><td>BIC/val</td><td>▁</td></tr></table><br/></div><div class=\"wandb-col\"><h3>Run summary:</h3><br/><table class=\"wandb\"><tr><td>Accuracy/train</td><td>0.94821</td></tr><tr><td>Accuracy/val</td><td>0.90092</td></tr><tr><td>BIC/train</td><td>32203.31399</td></tr><tr><td>BIC/val</td><td>25128.69013</td></tr></table><br/></div></div>"
      ],
      "text/plain": [
       "<IPython.core.display.HTML object>"
      ]
     },
     "metadata": {},
     "output_type": "display_data"
    },
    {
     "data": {
      "text/html": [
       " View run <strong style=\"color:#cdcd00\">floral-sweep-13</strong> at: <a href='https://wandb.ai/hofer1991/RF_Foresthybrid_table/runs/83gl1sb7' target=\"_blank\">https://wandb.ai/hofer1991/RF_Foresthybrid_table/runs/83gl1sb7</a><br/>Synced 4 W&B file(s), 0 media file(s), 0 artifact file(s) and 0 other file(s)"
      ],
      "text/plain": [
       "<IPython.core.display.HTML object>"
      ]
     },
     "metadata": {},
     "output_type": "display_data"
    },
    {
     "data": {
      "text/html": [
       "Find logs at: <code>./wandb/run-20230609_112421-83gl1sb7/logs</code>"
      ],
      "text/plain": [
       "<IPython.core.display.HTML object>"
      ]
     },
     "metadata": {},
     "output_type": "display_data"
    },
    {
     "name": "stderr",
     "output_type": "stream",
     "text": [
      "\u001b[34m\u001b[1mwandb\u001b[0m: Agent Starting Run: 3w55jb0r with config:\n",
      "\u001b[34m\u001b[1mwandb\u001b[0m: \trf__max_depth: 50\n",
      "\u001b[34m\u001b[1mwandb\u001b[0m: \trf__max_features: 6\n",
      "\u001b[34m\u001b[1mwandb\u001b[0m: \trf__max_samples: 0.4763885169414104\n",
      "\u001b[34m\u001b[1mwandb\u001b[0m: \trf__n_estimators: 667\n",
      "\u001b[34m\u001b[1mwandb\u001b[0m: \tsel__n_features: 10\n"
     ]
    },
    {
     "data": {
      "text/html": [
       "Tracking run with wandb version 0.15.4"
      ],
      "text/plain": [
       "<IPython.core.display.HTML object>"
      ]
     },
     "metadata": {},
     "output_type": "display_data"
    },
    {
     "data": {
      "text/html": [
       "Run data is saved locally in <code>/media/sf_geocomputation_class/forestmap/wandb/run-20230609_112508-3w55jb0r</code>"
      ],
      "text/plain": [
       "<IPython.core.display.HTML object>"
      ]
     },
     "metadata": {},
     "output_type": "display_data"
    },
    {
     "data": {
      "text/html": [
       "Syncing run <strong><a href='https://wandb.ai/hofer1991/RF_Foresthybrid_table/runs/3w55jb0r' target=\"_blank\">misunderstood-sweep-14</a></strong> to <a href='https://wandb.ai/hofer1991/RF_Foresthybrid_table' target=\"_blank\">Weights & Biases</a> (<a href='https://wandb.me/run' target=\"_blank\">docs</a>)<br/>Sweep page: <a href='https://wandb.ai/hofer1991/RF_Foresthybrid_table/sweeps/uq2lt86p' target=\"_blank\">https://wandb.ai/hofer1991/RF_Foresthybrid_table/sweeps/uq2lt86p</a>"
      ],
      "text/plain": [
       "<IPython.core.display.HTML object>"
      ]
     },
     "metadata": {},
     "output_type": "display_data"
    },
    {
     "data": {
      "text/html": [
       " View project at <a href='https://wandb.ai/hofer1991/RF_Foresthybrid_table' target=\"_blank\">https://wandb.ai/hofer1991/RF_Foresthybrid_table</a>"
      ],
      "text/plain": [
       "<IPython.core.display.HTML object>"
      ]
     },
     "metadata": {},
     "output_type": "display_data"
    },
    {
     "data": {
      "text/html": [
       " View sweep at <a href='https://wandb.ai/hofer1991/RF_Foresthybrid_table/sweeps/uq2lt86p' target=\"_blank\">https://wandb.ai/hofer1991/RF_Foresthybrid_table/sweeps/uq2lt86p</a>"
      ],
      "text/plain": [
       "<IPython.core.display.HTML object>"
      ]
     },
     "metadata": {},
     "output_type": "display_data"
    },
    {
     "data": {
      "text/html": [
       " View run at <a href='https://wandb.ai/hofer1991/RF_Foresthybrid_table/runs/3w55jb0r' target=\"_blank\">https://wandb.ai/hofer1991/RF_Foresthybrid_table/runs/3w55jb0r</a>"
      ],
      "text/plain": [
       "<IPython.core.display.HTML object>"
      ]
     },
     "metadata": {},
     "output_type": "display_data"
    },
    {
     "data": {
      "text/html": [
       "Waiting for W&B process to finish... <strong style=\"color:green\">(success).</strong>"
      ],
      "text/plain": [
       "<IPython.core.display.HTML object>"
      ]
     },
     "metadata": {},
     "output_type": "display_data"
    },
    {
     "name": "stderr",
     "output_type": "stream",
     "text": [
      "Widget Javascript not detected.  It may not be installed or enabled properly. Reconnecting the current kernel may help.\n"
     ]
    },
    {
     "data": {
      "application/vnd.jupyter.widget-view+json": {
       "model_id": "bcfb2dab97c2419c8d1b5a6d75a982da"
      }
     },
     "metadata": {},
     "output_type": "display_data"
    },
    {
     "data": {
      "text/html": [
       "<style>\n",
       "    table.wandb td:nth-child(1) { padding: 0 10px; text-align: left ; width: auto;} td:nth-child(2) {text-align: left ; width: 100%}\n",
       "    .wandb-row { display: flex; flex-direction: row; flex-wrap: wrap; justify-content: flex-start; width: 100% }\n",
       "    .wandb-col { display: flex; flex-direction: column; flex-basis: 100%; flex: 1; padding: 10px; }\n",
       "    </style>\n",
       "<div class=\"wandb-row\"><div class=\"wandb-col\"><h3>Run history:</h3><br/><table class=\"wandb\"><tr><td>Accuracy/train</td><td>▁</td></tr><tr><td>Accuracy/val</td><td>▁</td></tr><tr><td>BIC/train</td><td>▁</td></tr><tr><td>BIC/val</td><td>▁</td></tr></table><br/></div><div class=\"wandb-col\"><h3>Run summary:</h3><br/><table class=\"wandb\"><tr><td>Accuracy/train</td><td>0.96801</td></tr><tr><td>Accuracy/val</td><td>0.90055</td></tr><tr><td>BIC/train</td><td>37458.76629</td></tr><tr><td>BIC/val</td><td>25088.39461</td></tr></table><br/></div></div>"
      ],
      "text/plain": [
       "<IPython.core.display.HTML object>"
      ]
     },
     "metadata": {},
     "output_type": "display_data"
    },
    {
     "data": {
      "text/html": [
       " View run <strong style=\"color:#cdcd00\">misunderstood-sweep-14</strong> at: <a href='https://wandb.ai/hofer1991/RF_Foresthybrid_table/runs/3w55jb0r' target=\"_blank\">https://wandb.ai/hofer1991/RF_Foresthybrid_table/runs/3w55jb0r</a><br/>Synced 4 W&B file(s), 0 media file(s), 0 artifact file(s) and 0 other file(s)"
      ],
      "text/plain": [
       "<IPython.core.display.HTML object>"
      ]
     },
     "metadata": {},
     "output_type": "display_data"
    },
    {
     "data": {
      "text/html": [
       "Find logs at: <code>./wandb/run-20230609_112508-3w55jb0r/logs</code>"
      ],
      "text/plain": [
       "<IPython.core.display.HTML object>"
      ]
     },
     "metadata": {},
     "output_type": "display_data"
    },
    {
     "name": "stderr",
     "output_type": "stream",
     "text": [
      "\u001b[34m\u001b[1mwandb\u001b[0m: Agent Starting Run: v5vyeixv with config:\n",
      "\u001b[34m\u001b[1mwandb\u001b[0m: \trf__max_depth: 259\n",
      "\u001b[34m\u001b[1mwandb\u001b[0m: \trf__max_features: 9\n",
      "\u001b[34m\u001b[1mwandb\u001b[0m: \trf__max_samples: 0.3396110802276825\n",
      "\u001b[34m\u001b[1mwandb\u001b[0m: \trf__n_estimators: 668\n",
      "\u001b[34m\u001b[1mwandb\u001b[0m: \tsel__n_features: 10\n"
     ]
    },
    {
     "data": {
      "text/html": [
       "Tracking run with wandb version 0.15.4"
      ],
      "text/plain": [
       "<IPython.core.display.HTML object>"
      ]
     },
     "metadata": {},
     "output_type": "display_data"
    },
    {
     "data": {
      "text/html": [
       "Run data is saved locally in <code>/media/sf_geocomputation_class/forestmap/wandb/run-20230609_112627-v5vyeixv</code>"
      ],
      "text/plain": [
       "<IPython.core.display.HTML object>"
      ]
     },
     "metadata": {},
     "output_type": "display_data"
    },
    {
     "data": {
      "text/html": [
       "Syncing run <strong><a href='https://wandb.ai/hofer1991/RF_Foresthybrid_table/runs/v5vyeixv' target=\"_blank\">solar-sweep-15</a></strong> to <a href='https://wandb.ai/hofer1991/RF_Foresthybrid_table' target=\"_blank\">Weights & Biases</a> (<a href='https://wandb.me/run' target=\"_blank\">docs</a>)<br/>Sweep page: <a href='https://wandb.ai/hofer1991/RF_Foresthybrid_table/sweeps/uq2lt86p' target=\"_blank\">https://wandb.ai/hofer1991/RF_Foresthybrid_table/sweeps/uq2lt86p</a>"
      ],
      "text/plain": [
       "<IPython.core.display.HTML object>"
      ]
     },
     "metadata": {},
     "output_type": "display_data"
    },
    {
     "data": {
      "text/html": [
       " View project at <a href='https://wandb.ai/hofer1991/RF_Foresthybrid_table' target=\"_blank\">https://wandb.ai/hofer1991/RF_Foresthybrid_table</a>"
      ],
      "text/plain": [
       "<IPython.core.display.HTML object>"
      ]
     },
     "metadata": {},
     "output_type": "display_data"
    },
    {
     "data": {
      "text/html": [
       " View sweep at <a href='https://wandb.ai/hofer1991/RF_Foresthybrid_table/sweeps/uq2lt86p' target=\"_blank\">https://wandb.ai/hofer1991/RF_Foresthybrid_table/sweeps/uq2lt86p</a>"
      ],
      "text/plain": [
       "<IPython.core.display.HTML object>"
      ]
     },
     "metadata": {},
     "output_type": "display_data"
    },
    {
     "data": {
      "text/html": [
       " View run at <a href='https://wandb.ai/hofer1991/RF_Foresthybrid_table/runs/v5vyeixv' target=\"_blank\">https://wandb.ai/hofer1991/RF_Foresthybrid_table/runs/v5vyeixv</a>"
      ],
      "text/plain": [
       "<IPython.core.display.HTML object>"
      ]
     },
     "metadata": {},
     "output_type": "display_data"
    },
    {
     "data": {
      "text/html": [
       "Waiting for W&B process to finish... <strong style=\"color:green\">(success).</strong>"
      ],
      "text/plain": [
       "<IPython.core.display.HTML object>"
      ]
     },
     "metadata": {},
     "output_type": "display_data"
    },
    {
     "name": "stderr",
     "output_type": "stream",
     "text": [
      "Widget Javascript not detected.  It may not be installed or enabled properly. Reconnecting the current kernel may help.\n"
     ]
    },
    {
     "data": {
      "application/vnd.jupyter.widget-view+json": {
       "model_id": "5c57a1ad7f194267ac09f80ea9496386"
      }
     },
     "metadata": {},
     "output_type": "display_data"
    },
    {
     "data": {
      "text/html": [
       "<style>\n",
       "    table.wandb td:nth-child(1) { padding: 0 10px; text-align: left ; width: auto;} td:nth-child(2) {text-align: left ; width: 100%}\n",
       "    .wandb-row { display: flex; flex-direction: row; flex-wrap: wrap; justify-content: flex-start; width: 100% }\n",
       "    .wandb-col { display: flex; flex-direction: column; flex-basis: 100%; flex: 1; padding: 10px; }\n",
       "    </style>\n",
       "<div class=\"wandb-row\"><div class=\"wandb-col\"><h3>Run history:</h3><br/><table class=\"wandb\"><tr><td>Accuracy/train</td><td>▁</td></tr><tr><td>Accuracy/val</td><td>▁</td></tr><tr><td>BIC/train</td><td>▁</td></tr><tr><td>BIC/val</td><td>▁</td></tr></table><br/></div><div class=\"wandb-col\"><h3>Run summary:</h3><br/><table class=\"wandb\"><tr><td>Accuracy/train</td><td>0.95032</td></tr><tr><td>Accuracy/val</td><td>0.90082</td></tr><tr><td>BIC/train</td><td>32656.68908</td></tr><tr><td>BIC/val</td><td>25118.60229</td></tr></table><br/></div></div>"
      ],
      "text/plain": [
       "<IPython.core.display.HTML object>"
      ]
     },
     "metadata": {},
     "output_type": "display_data"
    },
    {
     "data": {
      "text/html": [
       " View run <strong style=\"color:#cdcd00\">solar-sweep-15</strong> at: <a href='https://wandb.ai/hofer1991/RF_Foresthybrid_table/runs/v5vyeixv' target=\"_blank\">https://wandb.ai/hofer1991/RF_Foresthybrid_table/runs/v5vyeixv</a><br/>Synced 4 W&B file(s), 0 media file(s), 0 artifact file(s) and 0 other file(s)"
      ],
      "text/plain": [
       "<IPython.core.display.HTML object>"
      ]
     },
     "metadata": {},
     "output_type": "display_data"
    },
    {
     "data": {
      "text/html": [
       "Find logs at: <code>./wandb/run-20230609_112627-v5vyeixv/logs</code>"
      ],
      "text/plain": [
       "<IPython.core.display.HTML object>"
      ]
     },
     "metadata": {},
     "output_type": "display_data"
    },
    {
     "name": "stderr",
     "output_type": "stream",
     "text": [
      "\u001b[34m\u001b[1mwandb\u001b[0m: Agent Starting Run: brz79io5 with config:\n",
      "\u001b[34m\u001b[1mwandb\u001b[0m: \trf__max_depth: 286\n",
      "\u001b[34m\u001b[1mwandb\u001b[0m: \trf__max_features: 4\n",
      "\u001b[34m\u001b[1mwandb\u001b[0m: \trf__max_samples: 0.5984413091280707\n",
      "\u001b[34m\u001b[1mwandb\u001b[0m: \trf__n_estimators: 531\n",
      "\u001b[34m\u001b[1mwandb\u001b[0m: \tsel__n_features: 10\n"
     ]
    },
    {
     "data": {
      "text/html": [
       "Tracking run with wandb version 0.15.4"
      ],
      "text/plain": [
       "<IPython.core.display.HTML object>"
      ]
     },
     "metadata": {},
     "output_type": "display_data"
    },
    {
     "data": {
      "text/html": [
       "Run data is saved locally in <code>/media/sf_geocomputation_class/forestmap/wandb/run-20230609_112746-brz79io5</code>"
      ],
      "text/plain": [
       "<IPython.core.display.HTML object>"
      ]
     },
     "metadata": {},
     "output_type": "display_data"
    },
    {
     "data": {
      "text/html": [
       "Syncing run <strong><a href='https://wandb.ai/hofer1991/RF_Foresthybrid_table/runs/brz79io5' target=\"_blank\">firm-sweep-16</a></strong> to <a href='https://wandb.ai/hofer1991/RF_Foresthybrid_table' target=\"_blank\">Weights & Biases</a> (<a href='https://wandb.me/run' target=\"_blank\">docs</a>)<br/>Sweep page: <a href='https://wandb.ai/hofer1991/RF_Foresthybrid_table/sweeps/uq2lt86p' target=\"_blank\">https://wandb.ai/hofer1991/RF_Foresthybrid_table/sweeps/uq2lt86p</a>"
      ],
      "text/plain": [
       "<IPython.core.display.HTML object>"
      ]
     },
     "metadata": {},
     "output_type": "display_data"
    },
    {
     "data": {
      "text/html": [
       " View project at <a href='https://wandb.ai/hofer1991/RF_Foresthybrid_table' target=\"_blank\">https://wandb.ai/hofer1991/RF_Foresthybrid_table</a>"
      ],
      "text/plain": [
       "<IPython.core.display.HTML object>"
      ]
     },
     "metadata": {},
     "output_type": "display_data"
    },
    {
     "data": {
      "text/html": [
       " View sweep at <a href='https://wandb.ai/hofer1991/RF_Foresthybrid_table/sweeps/uq2lt86p' target=\"_blank\">https://wandb.ai/hofer1991/RF_Foresthybrid_table/sweeps/uq2lt86p</a>"
      ],
      "text/plain": [
       "<IPython.core.display.HTML object>"
      ]
     },
     "metadata": {},
     "output_type": "display_data"
    },
    {
     "data": {
      "text/html": [
       " View run at <a href='https://wandb.ai/hofer1991/RF_Foresthybrid_table/runs/brz79io5' target=\"_blank\">https://wandb.ai/hofer1991/RF_Foresthybrid_table/runs/brz79io5</a>"
      ],
      "text/plain": [
       "<IPython.core.display.HTML object>"
      ]
     },
     "metadata": {},
     "output_type": "display_data"
    },
    {
     "data": {
      "text/html": [
       "Waiting for W&B process to finish... <strong style=\"color:green\">(success).</strong>"
      ],
      "text/plain": [
       "<IPython.core.display.HTML object>"
      ]
     },
     "metadata": {},
     "output_type": "display_data"
    },
    {
     "name": "stderr",
     "output_type": "stream",
     "text": [
      "Widget Javascript not detected.  It may not be installed or enabled properly. Reconnecting the current kernel may help.\n"
     ]
    },
    {
     "data": {
      "application/vnd.jupyter.widget-view+json": {
       "model_id": "a7c742ac62ff45488e7046a14ea703d7"
      }
     },
     "metadata": {},
     "output_type": "display_data"
    },
    {
     "data": {
      "text/html": [
       "<style>\n",
       "    table.wandb td:nth-child(1) { padding: 0 10px; text-align: left ; width: auto;} td:nth-child(2) {text-align: left ; width: 100%}\n",
       "    .wandb-row { display: flex; flex-direction: row; flex-wrap: wrap; justify-content: flex-start; width: 100% }\n",
       "    .wandb-col { display: flex; flex-direction: column; flex-basis: 100%; flex: 1; padding: 10px; }\n",
       "    </style>\n",
       "<div class=\"wandb-row\"><div class=\"wandb-col\"><h3>Run history:</h3><br/><table class=\"wandb\"><tr><td>Accuracy/train</td><td>▁</td></tr><tr><td>Accuracy/val</td><td>▁</td></tr><tr><td>BIC/train</td><td>▁</td></tr><tr><td>BIC/val</td><td>▁</td></tr></table><br/></div><div class=\"wandb-col\"><h3>Run summary:</h3><br/><table class=\"wandb\"><tr><td>Accuracy/train</td><td>0.98341</td></tr><tr><td>Accuracy/val</td><td>0.90082</td></tr><tr><td>BIC/train</td><td>44621.34177</td></tr><tr><td>BIC/val</td><td>25118.60229</td></tr></table><br/></div></div>"
      ],
      "text/plain": [
       "<IPython.core.display.HTML object>"
      ]
     },
     "metadata": {},
     "output_type": "display_data"
    },
    {
     "data": {
      "text/html": [
       " View run <strong style=\"color:#cdcd00\">firm-sweep-16</strong> at: <a href='https://wandb.ai/hofer1991/RF_Foresthybrid_table/runs/brz79io5' target=\"_blank\">https://wandb.ai/hofer1991/RF_Foresthybrid_table/runs/brz79io5</a><br/>Synced 4 W&B file(s), 0 media file(s), 0 artifact file(s) and 0 other file(s)"
      ],
      "text/plain": [
       "<IPython.core.display.HTML object>"
      ]
     },
     "metadata": {},
     "output_type": "display_data"
    },
    {
     "data": {
      "text/html": [
       "Find logs at: <code>./wandb/run-20230609_112746-brz79io5/logs</code>"
      ],
      "text/plain": [
       "<IPython.core.display.HTML object>"
      ]
     },
     "metadata": {},
     "output_type": "display_data"
    },
    {
     "name": "stderr",
     "output_type": "stream",
     "text": [
      "\u001b[34m\u001b[1mwandb\u001b[0m: Sweep Agent: Waiting for job.\n",
      "\u001b[34m\u001b[1mwandb\u001b[0m: Job received.\n",
      "\u001b[34m\u001b[1mwandb\u001b[0m: Agent Starting Run: a941timn with config:\n",
      "\u001b[34m\u001b[1mwandb\u001b[0m: \trf__max_depth: 122\n",
      "\u001b[34m\u001b[1mwandb\u001b[0m: \trf__max_features: 7\n",
      "\u001b[34m\u001b[1mwandb\u001b[0m: \trf__max_samples: 0.30310861622308977\n",
      "\u001b[34m\u001b[1mwandb\u001b[0m: \trf__n_estimators: 550\n",
      "\u001b[34m\u001b[1mwandb\u001b[0m: \tsel__n_features: 10\n"
     ]
    },
    {
     "data": {
      "text/html": [
       "Tracking run with wandb version 0.15.4"
      ],
      "text/plain": [
       "<IPython.core.display.HTML object>"
      ]
     },
     "metadata": {},
     "output_type": "display_data"
    },
    {
     "data": {
      "text/html": [
       "Run data is saved locally in <code>/media/sf_geocomputation_class/forestmap/wandb/run-20230609_112854-a941timn</code>"
      ],
      "text/plain": [
       "<IPython.core.display.HTML object>"
      ]
     },
     "metadata": {},
     "output_type": "display_data"
    },
    {
     "data": {
      "text/html": [
       "Syncing run <strong><a href='https://wandb.ai/hofer1991/RF_Foresthybrid_table/runs/a941timn' target=\"_blank\">mild-sweep-17</a></strong> to <a href='https://wandb.ai/hofer1991/RF_Foresthybrid_table' target=\"_blank\">Weights & Biases</a> (<a href='https://wandb.me/run' target=\"_blank\">docs</a>)<br/>Sweep page: <a href='https://wandb.ai/hofer1991/RF_Foresthybrid_table/sweeps/uq2lt86p' target=\"_blank\">https://wandb.ai/hofer1991/RF_Foresthybrid_table/sweeps/uq2lt86p</a>"
      ],
      "text/plain": [
       "<IPython.core.display.HTML object>"
      ]
     },
     "metadata": {},
     "output_type": "display_data"
    },
    {
     "data": {
      "text/html": [
       " View project at <a href='https://wandb.ai/hofer1991/RF_Foresthybrid_table' target=\"_blank\">https://wandb.ai/hofer1991/RF_Foresthybrid_table</a>"
      ],
      "text/plain": [
       "<IPython.core.display.HTML object>"
      ]
     },
     "metadata": {},
     "output_type": "display_data"
    },
    {
     "data": {
      "text/html": [
       " View sweep at <a href='https://wandb.ai/hofer1991/RF_Foresthybrid_table/sweeps/uq2lt86p' target=\"_blank\">https://wandb.ai/hofer1991/RF_Foresthybrid_table/sweeps/uq2lt86p</a>"
      ],
      "text/plain": [
       "<IPython.core.display.HTML object>"
      ]
     },
     "metadata": {},
     "output_type": "display_data"
    },
    {
     "data": {
      "text/html": [
       " View run at <a href='https://wandb.ai/hofer1991/RF_Foresthybrid_table/runs/a941timn' target=\"_blank\">https://wandb.ai/hofer1991/RF_Foresthybrid_table/runs/a941timn</a>"
      ],
      "text/plain": [
       "<IPython.core.display.HTML object>"
      ]
     },
     "metadata": {},
     "output_type": "display_data"
    },
    {
     "data": {
      "text/html": [
       "Waiting for W&B process to finish... <strong style=\"color:green\">(success).</strong>"
      ],
      "text/plain": [
       "<IPython.core.display.HTML object>"
      ]
     },
     "metadata": {},
     "output_type": "display_data"
    },
    {
     "name": "stderr",
     "output_type": "stream",
     "text": [
      "Widget Javascript not detected.  It may not be installed or enabled properly. Reconnecting the current kernel may help.\n"
     ]
    },
    {
     "data": {
      "application/vnd.jupyter.widget-view+json": {
       "model_id": "1cba1270b50342049ea95f92318548af"
      }
     },
     "metadata": {},
     "output_type": "display_data"
    },
    {
     "data": {
      "text/html": [
       "<style>\n",
       "    table.wandb td:nth-child(1) { padding: 0 10px; text-align: left ; width: auto;} td:nth-child(2) {text-align: left ; width: 100%}\n",
       "    .wandb-row { display: flex; flex-direction: row; flex-wrap: wrap; justify-content: flex-start; width: 100% }\n",
       "    .wandb-col { display: flex; flex-direction: column; flex-basis: 100%; flex: 1; padding: 10px; }\n",
       "    </style>\n",
       "<div class=\"wandb-row\"><div class=\"wandb-col\"><h3>Run history:</h3><br/><table class=\"wandb\"><tr><td>Accuracy/train</td><td>▁</td></tr><tr><td>Accuracy/val</td><td>▁</td></tr><tr><td>BIC/train</td><td>▁</td></tr><tr><td>BIC/val</td><td>▁</td></tr></table><br/></div><div class=\"wandb-col\"><h3>Run summary:</h3><br/><table class=\"wandb\"><tr><td>Accuracy/train</td><td>0.9472</td></tr><tr><td>Accuracy/val</td><td>0.89991</td></tr><tr><td>BIC/train</td><td>31992.96742</td></tr><tr><td>BIC/val</td><td>25018.23359</td></tr></table><br/></div></div>"
      ],
      "text/plain": [
       "<IPython.core.display.HTML object>"
      ]
     },
     "metadata": {},
     "output_type": "display_data"
    },
    {
     "data": {
      "text/html": [
       " View run <strong style=\"color:#cdcd00\">mild-sweep-17</strong> at: <a href='https://wandb.ai/hofer1991/RF_Foresthybrid_table/runs/a941timn' target=\"_blank\">https://wandb.ai/hofer1991/RF_Foresthybrid_table/runs/a941timn</a><br/>Synced 4 W&B file(s), 0 media file(s), 0 artifact file(s) and 0 other file(s)"
      ],
      "text/plain": [
       "<IPython.core.display.HTML object>"
      ]
     },
     "metadata": {},
     "output_type": "display_data"
    },
    {
     "data": {
      "text/html": [
       "Find logs at: <code>./wandb/run-20230609_112854-a941timn/logs</code>"
      ],
      "text/plain": [
       "<IPython.core.display.HTML object>"
      ]
     },
     "metadata": {},
     "output_type": "display_data"
    },
    {
     "name": "stderr",
     "output_type": "stream",
     "text": [
      "\u001b[34m\u001b[1mwandb\u001b[0m: Agent Starting Run: dkaznj3s with config:\n",
      "\u001b[34m\u001b[1mwandb\u001b[0m: \trf__max_depth: 296\n",
      "\u001b[34m\u001b[1mwandb\u001b[0m: \trf__max_features: 7\n",
      "\u001b[34m\u001b[1mwandb\u001b[0m: \trf__max_samples: 0.3897099045901317\n",
      "\u001b[34m\u001b[1mwandb\u001b[0m: \trf__n_estimators: 595\n",
      "\u001b[34m\u001b[1mwandb\u001b[0m: \tsel__n_features: 10\n",
      "Widget Javascript not detected.  It may not be installed or enabled properly. Reconnecting the current kernel may help.\n"
     ]
    },
    {
     "data": {
      "application/vnd.jupyter.widget-view+json": {
       "model_id": "fc852fe3e3de481b98e474d394f1c772"
      }
     },
     "metadata": {},
     "output_type": "display_data"
    },
    {
     "data": {
      "text/html": [
       "Tracking run with wandb version 0.15.4"
      ],
      "text/plain": [
       "<IPython.core.display.HTML object>"
      ]
     },
     "metadata": {},
     "output_type": "display_data"
    },
    {
     "data": {
      "text/html": [
       "Run data is saved locally in <code>/media/sf_geocomputation_class/forestmap/wandb/run-20230609_112949-dkaznj3s</code>"
      ],
      "text/plain": [
       "<IPython.core.display.HTML object>"
      ]
     },
     "metadata": {},
     "output_type": "display_data"
    },
    {
     "data": {
      "text/html": [
       "Syncing run <strong><a href='https://wandb.ai/hofer1991/RF_Foresthybrid_table/runs/dkaznj3s' target=\"_blank\">electric-sweep-18</a></strong> to <a href='https://wandb.ai/hofer1991/RF_Foresthybrid_table' target=\"_blank\">Weights & Biases</a> (<a href='https://wandb.me/run' target=\"_blank\">docs</a>)<br/>Sweep page: <a href='https://wandb.ai/hofer1991/RF_Foresthybrid_table/sweeps/uq2lt86p' target=\"_blank\">https://wandb.ai/hofer1991/RF_Foresthybrid_table/sweeps/uq2lt86p</a>"
      ],
      "text/plain": [
       "<IPython.core.display.HTML object>"
      ]
     },
     "metadata": {},
     "output_type": "display_data"
    },
    {
     "data": {
      "text/html": [
       " View project at <a href='https://wandb.ai/hofer1991/RF_Foresthybrid_table' target=\"_blank\">https://wandb.ai/hofer1991/RF_Foresthybrid_table</a>"
      ],
      "text/plain": [
       "<IPython.core.display.HTML object>"
      ]
     },
     "metadata": {},
     "output_type": "display_data"
    },
    {
     "data": {
      "text/html": [
       " View sweep at <a href='https://wandb.ai/hofer1991/RF_Foresthybrid_table/sweeps/uq2lt86p' target=\"_blank\">https://wandb.ai/hofer1991/RF_Foresthybrid_table/sweeps/uq2lt86p</a>"
      ],
      "text/plain": [
       "<IPython.core.display.HTML object>"
      ]
     },
     "metadata": {},
     "output_type": "display_data"
    },
    {
     "data": {
      "text/html": [
       " View run at <a href='https://wandb.ai/hofer1991/RF_Foresthybrid_table/runs/dkaznj3s' target=\"_blank\">https://wandb.ai/hofer1991/RF_Foresthybrid_table/runs/dkaznj3s</a>"
      ],
      "text/plain": [
       "<IPython.core.display.HTML object>"
      ]
     },
     "metadata": {},
     "output_type": "display_data"
    },
    {
     "data": {
      "text/html": [
       "Waiting for W&B process to finish... <strong style=\"color:green\">(success).</strong>"
      ],
      "text/plain": [
       "<IPython.core.display.HTML object>"
      ]
     },
     "metadata": {},
     "output_type": "display_data"
    },
    {
     "name": "stderr",
     "output_type": "stream",
     "text": [
      "Widget Javascript not detected.  It may not be installed or enabled properly. Reconnecting the current kernel may help.\n"
     ]
    },
    {
     "data": {
      "application/vnd.jupyter.widget-view+json": {
       "model_id": "e5f099e59794497fb574f7f822aedeed"
      }
     },
     "metadata": {},
     "output_type": "display_data"
    },
    {
     "data": {
      "text/html": [
       "<style>\n",
       "    table.wandb td:nth-child(1) { padding: 0 10px; text-align: left ; width: auto;} td:nth-child(2) {text-align: left ; width: 100%}\n",
       "    .wandb-row { display: flex; flex-direction: row; flex-wrap: wrap; justify-content: flex-start; width: 100% }\n",
       "    .wandb-col { display: flex; flex-direction: column; flex-basis: 100%; flex: 1; padding: 10px; }\n",
       "    </style>\n",
       "<div class=\"wandb-row\"><div class=\"wandb-col\"><h3>Run history:</h3><br/><table class=\"wandb\"><tr><td>Accuracy/train</td><td>▁</td></tr><tr><td>Accuracy/val</td><td>▁</td></tr><tr><td>BIC/train</td><td>▁</td></tr><tr><td>BIC/val</td><td>▁</td></tr></table><br/></div><div class=\"wandb-col\"><h3>Run summary:</h3><br/><table class=\"wandb\"><tr><td>Accuracy/train</td><td>0.95847</td></tr><tr><td>Accuracy/val</td><td>0.90064</td></tr><tr><td>BIC/train</td><td>34613.47869</td></tr><tr><td>BIC/val</td><td>25098.45454</td></tr></table><br/></div></div>"
      ],
      "text/plain": [
       "<IPython.core.display.HTML object>"
      ]
     },
     "metadata": {},
     "output_type": "display_data"
    },
    {
     "data": {
      "text/html": [
       " View run <strong style=\"color:#cdcd00\">electric-sweep-18</strong> at: <a href='https://wandb.ai/hofer1991/RF_Foresthybrid_table/runs/dkaznj3s' target=\"_blank\">https://wandb.ai/hofer1991/RF_Foresthybrid_table/runs/dkaznj3s</a><br/>Synced 4 W&B file(s), 0 media file(s), 0 artifact file(s) and 0 other file(s)"
      ],
      "text/plain": [
       "<IPython.core.display.HTML object>"
      ]
     },
     "metadata": {},
     "output_type": "display_data"
    },
    {
     "data": {
      "text/html": [
       "Find logs at: <code>./wandb/run-20230609_112949-dkaznj3s/logs</code>"
      ],
      "text/plain": [
       "<IPython.core.display.HTML object>"
      ]
     },
     "metadata": {},
     "output_type": "display_data"
    },
    {
     "name": "stderr",
     "output_type": "stream",
     "text": [
      "\u001b[34m\u001b[1mwandb\u001b[0m: Agent Starting Run: bhzz1wtj with config:\n",
      "\u001b[34m\u001b[1mwandb\u001b[0m: \trf__max_depth: 53\n",
      "\u001b[34m\u001b[1mwandb\u001b[0m: \trf__max_features: 8\n",
      "\u001b[34m\u001b[1mwandb\u001b[0m: \trf__max_samples: 0.3457855469781634\n",
      "\u001b[34m\u001b[1mwandb\u001b[0m: \trf__n_estimators: 1880\n",
      "\u001b[34m\u001b[1mwandb\u001b[0m: \tsel__n_features: 10\n"
     ]
    },
    {
     "data": {
      "text/html": [
       "Tracking run with wandb version 0.15.4"
      ],
      "text/plain": [
       "<IPython.core.display.HTML object>"
      ]
     },
     "metadata": {},
     "output_type": "display_data"
    },
    {
     "data": {
      "text/html": [
       "Run data is saved locally in <code>/media/sf_geocomputation_class/forestmap/wandb/run-20230609_113101-bhzz1wtj</code>"
      ],
      "text/plain": [
       "<IPython.core.display.HTML object>"
      ]
     },
     "metadata": {},
     "output_type": "display_data"
    },
    {
     "data": {
      "text/html": [
       "Syncing run <strong><a href='https://wandb.ai/hofer1991/RF_Foresthybrid_table/runs/bhzz1wtj' target=\"_blank\">drawn-sweep-19</a></strong> to <a href='https://wandb.ai/hofer1991/RF_Foresthybrid_table' target=\"_blank\">Weights & Biases</a> (<a href='https://wandb.me/run' target=\"_blank\">docs</a>)<br/>Sweep page: <a href='https://wandb.ai/hofer1991/RF_Foresthybrid_table/sweeps/uq2lt86p' target=\"_blank\">https://wandb.ai/hofer1991/RF_Foresthybrid_table/sweeps/uq2lt86p</a>"
      ],
      "text/plain": [
       "<IPython.core.display.HTML object>"
      ]
     },
     "metadata": {},
     "output_type": "display_data"
    },
    {
     "data": {
      "text/html": [
       " View project at <a href='https://wandb.ai/hofer1991/RF_Foresthybrid_table' target=\"_blank\">https://wandb.ai/hofer1991/RF_Foresthybrid_table</a>"
      ],
      "text/plain": [
       "<IPython.core.display.HTML object>"
      ]
     },
     "metadata": {},
     "output_type": "display_data"
    },
    {
     "data": {
      "text/html": [
       " View sweep at <a href='https://wandb.ai/hofer1991/RF_Foresthybrid_table/sweeps/uq2lt86p' target=\"_blank\">https://wandb.ai/hofer1991/RF_Foresthybrid_table/sweeps/uq2lt86p</a>"
      ],
      "text/plain": [
       "<IPython.core.display.HTML object>"
      ]
     },
     "metadata": {},
     "output_type": "display_data"
    },
    {
     "data": {
      "text/html": [
       " View run at <a href='https://wandb.ai/hofer1991/RF_Foresthybrid_table/runs/bhzz1wtj' target=\"_blank\">https://wandb.ai/hofer1991/RF_Foresthybrid_table/runs/bhzz1wtj</a>"
      ],
      "text/plain": [
       "<IPython.core.display.HTML object>"
      ]
     },
     "metadata": {},
     "output_type": "display_data"
    },
    {
     "data": {
      "text/html": [
       "Waiting for W&B process to finish... <strong style=\"color:green\">(success).</strong>"
      ],
      "text/plain": [
       "<IPython.core.display.HTML object>"
      ]
     },
     "metadata": {},
     "output_type": "display_data"
    },
    {
     "name": "stderr",
     "output_type": "stream",
     "text": [
      "Widget Javascript not detected.  It may not be installed or enabled properly. Reconnecting the current kernel may help.\n"
     ]
    },
    {
     "data": {
      "application/vnd.jupyter.widget-view+json": {
       "model_id": "2ee6e6cbf2dd4999a6addf05bb445b1d"
      }
     },
     "metadata": {},
     "output_type": "display_data"
    },
    {
     "data": {
      "text/html": [
       "<style>\n",
       "    table.wandb td:nth-child(1) { padding: 0 10px; text-align: left ; width: auto;} td:nth-child(2) {text-align: left ; width: 100%}\n",
       "    .wandb-row { display: flex; flex-direction: row; flex-wrap: wrap; justify-content: flex-start; width: 100% }\n",
       "    .wandb-col { display: flex; flex-direction: column; flex-basis: 100%; flex: 1; padding: 10px; }\n",
       "    </style>\n",
       "<div class=\"wandb-row\"><div class=\"wandb-col\"><h3>Run history:</h3><br/><table class=\"wandb\"><tr><td>Accuracy/train</td><td>▁</td></tr><tr><td>Accuracy/val</td><td>▁</td></tr><tr><td>BIC/train</td><td>▁</td></tr><tr><td>BIC/val</td><td>▁</td></tr></table><br/></div><div class=\"wandb-col\"><h3>Run summary:</h3><br/><table class=\"wandb\"><tr><td>Accuracy/train</td><td>0.95169</td></tr><tr><td>Accuracy/val</td><td>0.90202</td></tr><tr><td>BIC/train</td><td>32962.8551</td></tr><tr><td>BIC/val</td><td>25250.47744</td></tr></table><br/></div></div>"
      ],
      "text/plain": [
       "<IPython.core.display.HTML object>"
      ]
     },
     "metadata": {},
     "output_type": "display_data"
    },
    {
     "data": {
      "text/html": [
       " View run <strong style=\"color:#cdcd00\">drawn-sweep-19</strong> at: <a href='https://wandb.ai/hofer1991/RF_Foresthybrid_table/runs/bhzz1wtj' target=\"_blank\">https://wandb.ai/hofer1991/RF_Foresthybrid_table/runs/bhzz1wtj</a><br/>Synced 4 W&B file(s), 0 media file(s), 0 artifact file(s) and 0 other file(s)"
      ],
      "text/plain": [
       "<IPython.core.display.HTML object>"
      ]
     },
     "metadata": {},
     "output_type": "display_data"
    },
    {
     "data": {
      "text/html": [
       "Find logs at: <code>./wandb/run-20230609_113101-bhzz1wtj/logs</code>"
      ],
      "text/plain": [
       "<IPython.core.display.HTML object>"
      ]
     },
     "metadata": {},
     "output_type": "display_data"
    },
    {
     "name": "stderr",
     "output_type": "stream",
     "text": [
      "\u001b[34m\u001b[1mwandb\u001b[0m: Agent Starting Run: 7t6cfoy8 with config:\n",
      "\u001b[34m\u001b[1mwandb\u001b[0m: \trf__max_depth: 87\n",
      "\u001b[34m\u001b[1mwandb\u001b[0m: \trf__max_features: 10\n",
      "\u001b[34m\u001b[1mwandb\u001b[0m: \trf__max_samples: 0.34925811962522285\n",
      "\u001b[34m\u001b[1mwandb\u001b[0m: \trf__n_estimators: 1857\n",
      "\u001b[34m\u001b[1mwandb\u001b[0m: \tsel__n_features: 10\n"
     ]
    },
    {
     "data": {
      "text/html": [
       "Tracking run with wandb version 0.15.4"
      ],
      "text/plain": [
       "<IPython.core.display.HTML object>"
      ]
     },
     "metadata": {},
     "output_type": "display_data"
    },
    {
     "data": {
      "text/html": [
       "Run data is saved locally in <code>/media/sf_geocomputation_class/forestmap/wandb/run-20230609_113451-7t6cfoy8</code>"
      ],
      "text/plain": [
       "<IPython.core.display.HTML object>"
      ]
     },
     "metadata": {},
     "output_type": "display_data"
    },
    {
     "data": {
      "text/html": [
       "Syncing run <strong><a href='https://wandb.ai/hofer1991/RF_Foresthybrid_table/runs/7t6cfoy8' target=\"_blank\">misty-sweep-20</a></strong> to <a href='https://wandb.ai/hofer1991/RF_Foresthybrid_table' target=\"_blank\">Weights & Biases</a> (<a href='https://wandb.me/run' target=\"_blank\">docs</a>)<br/>Sweep page: <a href='https://wandb.ai/hofer1991/RF_Foresthybrid_table/sweeps/uq2lt86p' target=\"_blank\">https://wandb.ai/hofer1991/RF_Foresthybrid_table/sweeps/uq2lt86p</a>"
      ],
      "text/plain": [
       "<IPython.core.display.HTML object>"
      ]
     },
     "metadata": {},
     "output_type": "display_data"
    },
    {
     "data": {
      "text/html": [
       " View project at <a href='https://wandb.ai/hofer1991/RF_Foresthybrid_table' target=\"_blank\">https://wandb.ai/hofer1991/RF_Foresthybrid_table</a>"
      ],
      "text/plain": [
       "<IPython.core.display.HTML object>"
      ]
     },
     "metadata": {},
     "output_type": "display_data"
    },
    {
     "data": {
      "text/html": [
       " View sweep at <a href='https://wandb.ai/hofer1991/RF_Foresthybrid_table/sweeps/uq2lt86p' target=\"_blank\">https://wandb.ai/hofer1991/RF_Foresthybrid_table/sweeps/uq2lt86p</a>"
      ],
      "text/plain": [
       "<IPython.core.display.HTML object>"
      ]
     },
     "metadata": {},
     "output_type": "display_data"
    },
    {
     "data": {
      "text/html": [
       " View run at <a href='https://wandb.ai/hofer1991/RF_Foresthybrid_table/runs/7t6cfoy8' target=\"_blank\">https://wandb.ai/hofer1991/RF_Foresthybrid_table/runs/7t6cfoy8</a>"
      ],
      "text/plain": [
       "<IPython.core.display.HTML object>"
      ]
     },
     "metadata": {},
     "output_type": "display_data"
    },
    {
     "data": {
      "text/html": [
       "Waiting for W&B process to finish... <strong style=\"color:green\">(success).</strong>"
      ],
      "text/plain": [
       "<IPython.core.display.HTML object>"
      ]
     },
     "metadata": {},
     "output_type": "display_data"
    },
    {
     "name": "stderr",
     "output_type": "stream",
     "text": [
      "Widget Javascript not detected.  It may not be installed or enabled properly. Reconnecting the current kernel may help.\n"
     ]
    },
    {
     "data": {
      "application/vnd.jupyter.widget-view+json": {
       "model_id": "c0300772a55f4e1999c5c67ff3579e56"
      }
     },
     "metadata": {},
     "output_type": "display_data"
    },
    {
     "data": {
      "text/html": [
       "<style>\n",
       "    table.wandb td:nth-child(1) { padding: 0 10px; text-align: left ; width: auto;} td:nth-child(2) {text-align: left ; width: 100%}\n",
       "    .wandb-row { display: flex; flex-direction: row; flex-wrap: wrap; justify-content: flex-start; width: 100% }\n",
       "    .wandb-col { display: flex; flex-direction: column; flex-basis: 100%; flex: 1; padding: 10px; }\n",
       "    </style>\n",
       "<div class=\"wandb-row\"><div class=\"wandb-col\"><h3>Run history:</h3><br/><table class=\"wandb\"><tr><td>Accuracy/train</td><td>▁</td></tr><tr><td>Accuracy/val</td><td>▁</td></tr><tr><td>BIC/train</td><td>▁</td></tr><tr><td>BIC/val</td><td>▁</td></tr></table><br/></div><div class=\"wandb-col\"><h3>Run summary:</h3><br/><table class=\"wandb\"><tr><td>Accuracy/train</td><td>0.95233</td></tr><tr><td>Accuracy/val</td><td>0.90064</td></tr><tr><td>BIC/train</td><td>33108.72738</td></tr><tr><td>BIC/val</td><td>25098.45454</td></tr></table><br/></div></div>"
      ],
      "text/plain": [
       "<IPython.core.display.HTML object>"
      ]
     },
     "metadata": {},
     "output_type": "display_data"
    },
    {
     "data": {
      "text/html": [
       " View run <strong style=\"color:#cdcd00\">misty-sweep-20</strong> at: <a href='https://wandb.ai/hofer1991/RF_Foresthybrid_table/runs/7t6cfoy8' target=\"_blank\">https://wandb.ai/hofer1991/RF_Foresthybrid_table/runs/7t6cfoy8</a><br/>Synced 4 W&B file(s), 0 media file(s), 0 artifact file(s) and 0 other file(s)"
      ],
      "text/plain": [
       "<IPython.core.display.HTML object>"
      ]
     },
     "metadata": {},
     "output_type": "display_data"
    },
    {
     "data": {
      "text/html": [
       "Find logs at: <code>./wandb/run-20230609_113451-7t6cfoy8/logs</code>"
      ],
      "text/plain": [
       "<IPython.core.display.HTML object>"
      ]
     },
     "metadata": {},
     "output_type": "display_data"
    },
    {
     "name": "stderr",
     "output_type": "stream",
     "text": [
      "\u001b[34m\u001b[1mwandb\u001b[0m: Agent Starting Run: 7gmg4woz with config:\n",
      "\u001b[34m\u001b[1mwandb\u001b[0m: \trf__max_depth: 74\n",
      "\u001b[34m\u001b[1mwandb\u001b[0m: \trf__max_features: 7\n",
      "\u001b[34m\u001b[1mwandb\u001b[0m: \trf__max_samples: 0.421640092759524\n",
      "\u001b[34m\u001b[1mwandb\u001b[0m: \trf__n_estimators: 1856\n",
      "\u001b[34m\u001b[1mwandb\u001b[0m: \tsel__n_features: 10\n"
     ]
    },
    {
     "data": {
      "text/html": [
       "Tracking run with wandb version 0.15.4"
      ],
      "text/plain": [
       "<IPython.core.display.HTML object>"
      ]
     },
     "metadata": {},
     "output_type": "display_data"
    },
    {
     "data": {
      "text/html": [
       "Run data is saved locally in <code>/media/sf_geocomputation_class/forestmap/wandb/run-20230609_113849-7gmg4woz</code>"
      ],
      "text/plain": [
       "<IPython.core.display.HTML object>"
      ]
     },
     "metadata": {},
     "output_type": "display_data"
    },
    {
     "data": {
      "text/html": [
       "Syncing run <strong><a href='https://wandb.ai/hofer1991/RF_Foresthybrid_table/runs/7gmg4woz' target=\"_blank\">volcanic-sweep-21</a></strong> to <a href='https://wandb.ai/hofer1991/RF_Foresthybrid_table' target=\"_blank\">Weights & Biases</a> (<a href='https://wandb.me/run' target=\"_blank\">docs</a>)<br/>Sweep page: <a href='https://wandb.ai/hofer1991/RF_Foresthybrid_table/sweeps/uq2lt86p' target=\"_blank\">https://wandb.ai/hofer1991/RF_Foresthybrid_table/sweeps/uq2lt86p</a>"
      ],
      "text/plain": [
       "<IPython.core.display.HTML object>"
      ]
     },
     "metadata": {},
     "output_type": "display_data"
    },
    {
     "data": {
      "text/html": [
       " View project at <a href='https://wandb.ai/hofer1991/RF_Foresthybrid_table' target=\"_blank\">https://wandb.ai/hofer1991/RF_Foresthybrid_table</a>"
      ],
      "text/plain": [
       "<IPython.core.display.HTML object>"
      ]
     },
     "metadata": {},
     "output_type": "display_data"
    },
    {
     "data": {
      "text/html": [
       " View sweep at <a href='https://wandb.ai/hofer1991/RF_Foresthybrid_table/sweeps/uq2lt86p' target=\"_blank\">https://wandb.ai/hofer1991/RF_Foresthybrid_table/sweeps/uq2lt86p</a>"
      ],
      "text/plain": [
       "<IPython.core.display.HTML object>"
      ]
     },
     "metadata": {},
     "output_type": "display_data"
    },
    {
     "data": {
      "text/html": [
       " View run at <a href='https://wandb.ai/hofer1991/RF_Foresthybrid_table/runs/7gmg4woz' target=\"_blank\">https://wandb.ai/hofer1991/RF_Foresthybrid_table/runs/7gmg4woz</a>"
      ],
      "text/plain": [
       "<IPython.core.display.HTML object>"
      ]
     },
     "metadata": {},
     "output_type": "display_data"
    },
    {
     "data": {
      "text/html": [
       "Waiting for W&B process to finish... <strong style=\"color:green\">(success).</strong>"
      ],
      "text/plain": [
       "<IPython.core.display.HTML object>"
      ]
     },
     "metadata": {},
     "output_type": "display_data"
    },
    {
     "name": "stderr",
     "output_type": "stream",
     "text": [
      "Widget Javascript not detected.  It may not be installed or enabled properly. Reconnecting the current kernel may help.\n"
     ]
    },
    {
     "data": {
      "application/vnd.jupyter.widget-view+json": {
       "model_id": "f39ec7c2f5e04c719708957e1d5fd025"
      }
     },
     "metadata": {},
     "output_type": "display_data"
    },
    {
     "data": {
      "text/html": [
       "<style>\n",
       "    table.wandb td:nth-child(1) { padding: 0 10px; text-align: left ; width: auto;} td:nth-child(2) {text-align: left ; width: 100%}\n",
       "    .wandb-row { display: flex; flex-direction: row; flex-wrap: wrap; justify-content: flex-start; width: 100% }\n",
       "    .wandb-col { display: flex; flex-direction: column; flex-basis: 100%; flex: 1; padding: 10px; }\n",
       "    </style>\n",
       "<div class=\"wandb-row\"><div class=\"wandb-col\"><h3>Run history:</h3><br/><table class=\"wandb\"><tr><td>Accuracy/train</td><td>▁</td></tr><tr><td>Accuracy/val</td><td>▁</td></tr><tr><td>BIC/train</td><td>▁</td></tr><tr><td>BIC/val</td><td>▁</td></tr></table><br/></div><div class=\"wandb-col\"><h3>Run summary:</h3><br/><table class=\"wandb\"><tr><td>Accuracy/train</td><td>0.96141</td></tr><tr><td>Accuracy/val</td><td>0.90092</td></tr><tr><td>BIC/train</td><td>35412.6643</td></tr><tr><td>BIC/val</td><td>25128.69013</td></tr></table><br/></div></div>"
      ],
      "text/plain": [
       "<IPython.core.display.HTML object>"
      ]
     },
     "metadata": {},
     "output_type": "display_data"
    },
    {
     "data": {
      "text/html": [
       " View run <strong style=\"color:#cdcd00\">volcanic-sweep-21</strong> at: <a href='https://wandb.ai/hofer1991/RF_Foresthybrid_table/runs/7gmg4woz' target=\"_blank\">https://wandb.ai/hofer1991/RF_Foresthybrid_table/runs/7gmg4woz</a><br/>Synced 4 W&B file(s), 0 media file(s), 0 artifact file(s) and 0 other file(s)"
      ],
      "text/plain": [
       "<IPython.core.display.HTML object>"
      ]
     },
     "metadata": {},
     "output_type": "display_data"
    },
    {
     "data": {
      "text/html": [
       "Find logs at: <code>./wandb/run-20230609_113849-7gmg4woz/logs</code>"
      ],
      "text/plain": [
       "<IPython.core.display.HTML object>"
      ]
     },
     "metadata": {},
     "output_type": "display_data"
    },
    {
     "name": "stderr",
     "output_type": "stream",
     "text": [
      "\u001b[34m\u001b[1mwandb\u001b[0m: Agent Starting Run: sd9ezarc with config:\n",
      "\u001b[34m\u001b[1mwandb\u001b[0m: \trf__max_depth: 54\n",
      "\u001b[34m\u001b[1mwandb\u001b[0m: \trf__max_features: 9\n",
      "\u001b[34m\u001b[1mwandb\u001b[0m: \trf__max_samples: 0.3325377921216949\n",
      "\u001b[34m\u001b[1mwandb\u001b[0m: \trf__n_estimators: 1835\n",
      "\u001b[34m\u001b[1mwandb\u001b[0m: \tsel__n_features: 10\n"
     ]
    },
    {
     "data": {
      "text/html": [
       "Tracking run with wandb version 0.15.4"
      ],
      "text/plain": [
       "<IPython.core.display.HTML object>"
      ]
     },
     "metadata": {},
     "output_type": "display_data"
    },
    {
     "data": {
      "text/html": [
       "Run data is saved locally in <code>/media/sf_geocomputation_class/forestmap/wandb/run-20230609_114343-sd9ezarc</code>"
      ],
      "text/plain": [
       "<IPython.core.display.HTML object>"
      ]
     },
     "metadata": {},
     "output_type": "display_data"
    },
    {
     "data": {
      "text/html": [
       "Syncing run <strong><a href='https://wandb.ai/hofer1991/RF_Foresthybrid_table/runs/sd9ezarc' target=\"_blank\">lucky-sweep-22</a></strong> to <a href='https://wandb.ai/hofer1991/RF_Foresthybrid_table' target=\"_blank\">Weights & Biases</a> (<a href='https://wandb.me/run' target=\"_blank\">docs</a>)<br/>Sweep page: <a href='https://wandb.ai/hofer1991/RF_Foresthybrid_table/sweeps/uq2lt86p' target=\"_blank\">https://wandb.ai/hofer1991/RF_Foresthybrid_table/sweeps/uq2lt86p</a>"
      ],
      "text/plain": [
       "<IPython.core.display.HTML object>"
      ]
     },
     "metadata": {},
     "output_type": "display_data"
    },
    {
     "data": {
      "text/html": [
       " View project at <a href='https://wandb.ai/hofer1991/RF_Foresthybrid_table' target=\"_blank\">https://wandb.ai/hofer1991/RF_Foresthybrid_table</a>"
      ],
      "text/plain": [
       "<IPython.core.display.HTML object>"
      ]
     },
     "metadata": {},
     "output_type": "display_data"
    },
    {
     "data": {
      "text/html": [
       " View sweep at <a href='https://wandb.ai/hofer1991/RF_Foresthybrid_table/sweeps/uq2lt86p' target=\"_blank\">https://wandb.ai/hofer1991/RF_Foresthybrid_table/sweeps/uq2lt86p</a>"
      ],
      "text/plain": [
       "<IPython.core.display.HTML object>"
      ]
     },
     "metadata": {},
     "output_type": "display_data"
    },
    {
     "data": {
      "text/html": [
       " View run at <a href='https://wandb.ai/hofer1991/RF_Foresthybrid_table/runs/sd9ezarc' target=\"_blank\">https://wandb.ai/hofer1991/RF_Foresthybrid_table/runs/sd9ezarc</a>"
      ],
      "text/plain": [
       "<IPython.core.display.HTML object>"
      ]
     },
     "metadata": {},
     "output_type": "display_data"
    },
    {
     "data": {
      "text/html": [
       "Waiting for W&B process to finish... <strong style=\"color:green\">(success).</strong>"
      ],
      "text/plain": [
       "<IPython.core.display.HTML object>"
      ]
     },
     "metadata": {},
     "output_type": "display_data"
    },
    {
     "name": "stderr",
     "output_type": "stream",
     "text": [
      "Widget Javascript not detected.  It may not be installed or enabled properly. Reconnecting the current kernel may help.\n"
     ]
    },
    {
     "data": {
      "application/vnd.jupyter.widget-view+json": {
       "model_id": "d9a3c73370a2403ab90dcbfc47fe8105"
      }
     },
     "metadata": {},
     "output_type": "display_data"
    },
    {
     "data": {
      "text/html": [
       "<style>\n",
       "    table.wandb td:nth-child(1) { padding: 0 10px; text-align: left ; width: auto;} td:nth-child(2) {text-align: left ; width: 100%}\n",
       "    .wandb-row { display: flex; flex-direction: row; flex-wrap: wrap; justify-content: flex-start; width: 100% }\n",
       "    .wandb-col { display: flex; flex-direction: column; flex-basis: 100%; flex: 1; padding: 10px; }\n",
       "    </style>\n",
       "<div class=\"wandb-row\"><div class=\"wandb-col\"><h3>Run history:</h3><br/><table class=\"wandb\"><tr><td>Accuracy/train</td><td>▁</td></tr><tr><td>Accuracy/val</td><td>▁</td></tr><tr><td>BIC/train</td><td>▁</td></tr><tr><td>BIC/val</td><td>▁</td></tr></table><br/></div><div class=\"wandb-col\"><h3>Run summary:</h3><br/><table class=\"wandb\"><tr><td>Accuracy/train</td><td>0.94967</td></tr><tr><td>Accuracy/val</td><td>0.90174</td></tr><tr><td>BIC/train</td><td>32516.69999</td></tr><tr><td>BIC/val</td><td>25219.90292</td></tr></table><br/></div></div>"
      ],
      "text/plain": [
       "<IPython.core.display.HTML object>"
      ]
     },
     "metadata": {},
     "output_type": "display_data"
    },
    {
     "data": {
      "text/html": [
       " View run <strong style=\"color:#cdcd00\">lucky-sweep-22</strong> at: <a href='https://wandb.ai/hofer1991/RF_Foresthybrid_table/runs/sd9ezarc' target=\"_blank\">https://wandb.ai/hofer1991/RF_Foresthybrid_table/runs/sd9ezarc</a><br/>Synced 4 W&B file(s), 0 media file(s), 0 artifact file(s) and 0 other file(s)"
      ],
      "text/plain": [
       "<IPython.core.display.HTML object>"
      ]
     },
     "metadata": {},
     "output_type": "display_data"
    },
    {
     "data": {
      "text/html": [
       "Find logs at: <code>./wandb/run-20230609_114343-sd9ezarc/logs</code>"
      ],
      "text/plain": [
       "<IPython.core.display.HTML object>"
      ]
     },
     "metadata": {},
     "output_type": "display_data"
    },
    {
     "name": "stderr",
     "output_type": "stream",
     "text": [
      "\u001b[34m\u001b[1mwandb\u001b[0m: Agent Starting Run: d8h5drjx with config:\n",
      "\u001b[34m\u001b[1mwandb\u001b[0m: \trf__max_depth: 63\n",
      "\u001b[34m\u001b[1mwandb\u001b[0m: \trf__max_features: 5\n",
      "\u001b[34m\u001b[1mwandb\u001b[0m: \trf__max_samples: 0.4092062250131344\n",
      "\u001b[34m\u001b[1mwandb\u001b[0m: \trf__n_estimators: 1977\n",
      "\u001b[34m\u001b[1mwandb\u001b[0m: \tsel__n_features: 10\n"
     ]
    },
    {
     "data": {
      "text/html": [
       "Tracking run with wandb version 0.15.4"
      ],
      "text/plain": [
       "<IPython.core.display.HTML object>"
      ]
     },
     "metadata": {},
     "output_type": "display_data"
    },
    {
     "data": {
      "text/html": [
       "Run data is saved locally in <code>/media/sf_geocomputation_class/forestmap/wandb/run-20230609_114801-d8h5drjx</code>"
      ],
      "text/plain": [
       "<IPython.core.display.HTML object>"
      ]
     },
     "metadata": {},
     "output_type": "display_data"
    },
    {
     "data": {
      "text/html": [
       "Syncing run <strong><a href='https://wandb.ai/hofer1991/RF_Foresthybrid_table/runs/d8h5drjx' target=\"_blank\">stellar-sweep-23</a></strong> to <a href='https://wandb.ai/hofer1991/RF_Foresthybrid_table' target=\"_blank\">Weights & Biases</a> (<a href='https://wandb.me/run' target=\"_blank\">docs</a>)<br/>Sweep page: <a href='https://wandb.ai/hofer1991/RF_Foresthybrid_table/sweeps/uq2lt86p' target=\"_blank\">https://wandb.ai/hofer1991/RF_Foresthybrid_table/sweeps/uq2lt86p</a>"
      ],
      "text/plain": [
       "<IPython.core.display.HTML object>"
      ]
     },
     "metadata": {},
     "output_type": "display_data"
    },
    {
     "data": {
      "text/html": [
       " View project at <a href='https://wandb.ai/hofer1991/RF_Foresthybrid_table' target=\"_blank\">https://wandb.ai/hofer1991/RF_Foresthybrid_table</a>"
      ],
      "text/plain": [
       "<IPython.core.display.HTML object>"
      ]
     },
     "metadata": {},
     "output_type": "display_data"
    },
    {
     "data": {
      "text/html": [
       " View sweep at <a href='https://wandb.ai/hofer1991/RF_Foresthybrid_table/sweeps/uq2lt86p' target=\"_blank\">https://wandb.ai/hofer1991/RF_Foresthybrid_table/sweeps/uq2lt86p</a>"
      ],
      "text/plain": [
       "<IPython.core.display.HTML object>"
      ]
     },
     "metadata": {},
     "output_type": "display_data"
    },
    {
     "data": {
      "text/html": [
       " View run at <a href='https://wandb.ai/hofer1991/RF_Foresthybrid_table/runs/d8h5drjx' target=\"_blank\">https://wandb.ai/hofer1991/RF_Foresthybrid_table/runs/d8h5drjx</a>"
      ],
      "text/plain": [
       "<IPython.core.display.HTML object>"
      ]
     },
     "metadata": {},
     "output_type": "display_data"
    },
    {
     "data": {
      "text/html": [
       "Waiting for W&B process to finish... <strong style=\"color:green\">(success).</strong>"
      ],
      "text/plain": [
       "<IPython.core.display.HTML object>"
      ]
     },
     "metadata": {},
     "output_type": "display_data"
    },
    {
     "name": "stderr",
     "output_type": "stream",
     "text": [
      "Widget Javascript not detected.  It may not be installed or enabled properly. Reconnecting the current kernel may help.\n"
     ]
    },
    {
     "data": {
      "application/vnd.jupyter.widget-view+json": {
       "model_id": "2f32cc641b434251a13bc82072365fd6"
      }
     },
     "metadata": {},
     "output_type": "display_data"
    },
    {
     "data": {
      "text/html": [
       "<style>\n",
       "    table.wandb td:nth-child(1) { padding: 0 10px; text-align: left ; width: auto;} td:nth-child(2) {text-align: left ; width: 100%}\n",
       "    .wandb-row { display: flex; flex-direction: row; flex-wrap: wrap; justify-content: flex-start; width: 100% }\n",
       "    .wandb-col { display: flex; flex-direction: column; flex-basis: 100%; flex: 1; padding: 10px; }\n",
       "    </style>\n",
       "<div class=\"wandb-row\"><div class=\"wandb-col\"><h3>Run history:</h3><br/><table class=\"wandb\"><tr><td>Accuracy/train</td><td>▁</td></tr><tr><td>Accuracy/val</td><td>▁</td></tr><tr><td>BIC/train</td><td>▁</td></tr><tr><td>BIC/val</td><td>▁</td></tr></table><br/></div><div class=\"wandb-col\"><h3>Run summary:</h3><br/><table class=\"wandb\"><tr><td>Accuracy/train</td><td>0.95948</td></tr><tr><td>Accuracy/val</td><td>0.90174</td></tr><tr><td>BIC/train</td><td>34881.64638</td></tr><tr><td>BIC/val</td><td>25219.90292</td></tr></table><br/></div></div>"
      ],
      "text/plain": [
       "<IPython.core.display.HTML object>"
      ]
     },
     "metadata": {},
     "output_type": "display_data"
    },
    {
     "data": {
      "text/html": [
       " View run <strong style=\"color:#cdcd00\">stellar-sweep-23</strong> at: <a href='https://wandb.ai/hofer1991/RF_Foresthybrid_table/runs/d8h5drjx' target=\"_blank\">https://wandb.ai/hofer1991/RF_Foresthybrid_table/runs/d8h5drjx</a><br/>Synced 4 W&B file(s), 0 media file(s), 0 artifact file(s) and 0 other file(s)"
      ],
      "text/plain": [
       "<IPython.core.display.HTML object>"
      ]
     },
     "metadata": {},
     "output_type": "display_data"
    },
    {
     "data": {
      "text/html": [
       "Find logs at: <code>./wandb/run-20230609_114801-d8h5drjx/logs</code>"
      ],
      "text/plain": [
       "<IPython.core.display.HTML object>"
      ]
     },
     "metadata": {},
     "output_type": "display_data"
    },
    {
     "name": "stderr",
     "output_type": "stream",
     "text": [
      "\u001b[34m\u001b[1mwandb\u001b[0m: Agent Starting Run: pb032zo0 with config:\n",
      "\u001b[34m\u001b[1mwandb\u001b[0m: \trf__max_depth: 75\n",
      "\u001b[34m\u001b[1mwandb\u001b[0m: \trf__max_features: 3\n",
      "\u001b[34m\u001b[1mwandb\u001b[0m: \trf__max_samples: 0.3164519711281657\n",
      "\u001b[34m\u001b[1mwandb\u001b[0m: \trf__n_estimators: 1931\n",
      "\u001b[34m\u001b[1mwandb\u001b[0m: \tsel__n_features: 9\n"
     ]
    },
    {
     "data": {
      "text/html": [
       "Tracking run with wandb version 0.15.4"
      ],
      "text/plain": [
       "<IPython.core.display.HTML object>"
      ]
     },
     "metadata": {},
     "output_type": "display_data"
    },
    {
     "data": {
      "text/html": [
       "Run data is saved locally in <code>/media/sf_geocomputation_class/forestmap/wandb/run-20230609_115109-pb032zo0</code>"
      ],
      "text/plain": [
       "<IPython.core.display.HTML object>"
      ]
     },
     "metadata": {},
     "output_type": "display_data"
    },
    {
     "data": {
      "text/html": [
       "Syncing run <strong><a href='https://wandb.ai/hofer1991/RF_Foresthybrid_table/runs/pb032zo0' target=\"_blank\">dry-sweep-24</a></strong> to <a href='https://wandb.ai/hofer1991/RF_Foresthybrid_table' target=\"_blank\">Weights & Biases</a> (<a href='https://wandb.me/run' target=\"_blank\">docs</a>)<br/>Sweep page: <a href='https://wandb.ai/hofer1991/RF_Foresthybrid_table/sweeps/uq2lt86p' target=\"_blank\">https://wandb.ai/hofer1991/RF_Foresthybrid_table/sweeps/uq2lt86p</a>"
      ],
      "text/plain": [
       "<IPython.core.display.HTML object>"
      ]
     },
     "metadata": {},
     "output_type": "display_data"
    },
    {
     "data": {
      "text/html": [
       " View project at <a href='https://wandb.ai/hofer1991/RF_Foresthybrid_table' target=\"_blank\">https://wandb.ai/hofer1991/RF_Foresthybrid_table</a>"
      ],
      "text/plain": [
       "<IPython.core.display.HTML object>"
      ]
     },
     "metadata": {},
     "output_type": "display_data"
    },
    {
     "data": {
      "text/html": [
       " View sweep at <a href='https://wandb.ai/hofer1991/RF_Foresthybrid_table/sweeps/uq2lt86p' target=\"_blank\">https://wandb.ai/hofer1991/RF_Foresthybrid_table/sweeps/uq2lt86p</a>"
      ],
      "text/plain": [
       "<IPython.core.display.HTML object>"
      ]
     },
     "metadata": {},
     "output_type": "display_data"
    },
    {
     "data": {
      "text/html": [
       " View run at <a href='https://wandb.ai/hofer1991/RF_Foresthybrid_table/runs/pb032zo0' target=\"_blank\">https://wandb.ai/hofer1991/RF_Foresthybrid_table/runs/pb032zo0</a>"
      ],
      "text/plain": [
       "<IPython.core.display.HTML object>"
      ]
     },
     "metadata": {},
     "output_type": "display_data"
    },
    {
     "data": {
      "text/html": [
       "Waiting for W&B process to finish... <strong style=\"color:green\">(success).</strong>"
      ],
      "text/plain": [
       "<IPython.core.display.HTML object>"
      ]
     },
     "metadata": {},
     "output_type": "display_data"
    },
    {
     "name": "stderr",
     "output_type": "stream",
     "text": [
      "Widget Javascript not detected.  It may not be installed or enabled properly. Reconnecting the current kernel may help.\n"
     ]
    },
    {
     "data": {
      "application/vnd.jupyter.widget-view+json": {
       "model_id": "924fa33b1a72415ab5ab0a2d31e9e348"
      }
     },
     "metadata": {},
     "output_type": "display_data"
    },
    {
     "data": {
      "text/html": [
       "<style>\n",
       "    table.wandb td:nth-child(1) { padding: 0 10px; text-align: left ; width: auto;} td:nth-child(2) {text-align: left ; width: 100%}\n",
       "    .wandb-row { display: flex; flex-direction: row; flex-wrap: wrap; justify-content: flex-start; width: 100% }\n",
       "    .wandb-col { display: flex; flex-direction: column; flex-basis: 100%; flex: 1; padding: 10px; }\n",
       "    </style>\n",
       "<div class=\"wandb-row\"><div class=\"wandb-col\"><h3>Run history:</h3><br/><table class=\"wandb\"><tr><td>Accuracy/train</td><td>▁</td></tr><tr><td>Accuracy/val</td><td>▁</td></tr><tr><td>BIC/train</td><td>▁</td></tr><tr><td>BIC/val</td><td>▁</td></tr></table><br/></div><div class=\"wandb-col\"><h3>Run summary:</h3><br/><table class=\"wandb\"><tr><td>Accuracy/train</td><td>0.94766</td></tr><tr><td>Accuracy/val</td><td>0.90018</td></tr><tr><td>BIC/train</td><td>32097.37434</td></tr><tr><td>BIC/val</td><td>25057.5448</td></tr></table><br/></div></div>"
      ],
      "text/plain": [
       "<IPython.core.display.HTML object>"
      ]
     },
     "metadata": {},
     "output_type": "display_data"
    },
    {
     "data": {
      "text/html": [
       " View run <strong style=\"color:#cdcd00\">dry-sweep-24</strong> at: <a href='https://wandb.ai/hofer1991/RF_Foresthybrid_table/runs/pb032zo0' target=\"_blank\">https://wandb.ai/hofer1991/RF_Foresthybrid_table/runs/pb032zo0</a><br/>Synced 4 W&B file(s), 0 media file(s), 0 artifact file(s) and 0 other file(s)"
      ],
      "text/plain": [
       "<IPython.core.display.HTML object>"
      ]
     },
     "metadata": {},
     "output_type": "display_data"
    },
    {
     "data": {
      "text/html": [
       "Find logs at: <code>./wandb/run-20230609_115109-pb032zo0/logs</code>"
      ],
      "text/plain": [
       "<IPython.core.display.HTML object>"
      ]
     },
     "metadata": {},
     "output_type": "display_data"
    },
    {
     "name": "stderr",
     "output_type": "stream",
     "text": [
      "\u001b[34m\u001b[1mwandb\u001b[0m: Agent Starting Run: hmjas8o7 with config:\n",
      "\u001b[34m\u001b[1mwandb\u001b[0m: \trf__max_depth: 78\n",
      "\u001b[34m\u001b[1mwandb\u001b[0m: \trf__max_features: 3\n",
      "\u001b[34m\u001b[1mwandb\u001b[0m: \trf__max_samples: 0.5454660276938118\n",
      "\u001b[34m\u001b[1mwandb\u001b[0m: \trf__n_estimators: 1928\n",
      "\u001b[34m\u001b[1mwandb\u001b[0m: \tsel__n_features: 10\n"
     ]
    },
    {
     "data": {
      "text/html": [
       "Tracking run with wandb version 0.15.4"
      ],
      "text/plain": [
       "<IPython.core.display.HTML object>"
      ]
     },
     "metadata": {},
     "output_type": "display_data"
    },
    {
     "data": {
      "text/html": [
       "Run data is saved locally in <code>/media/sf_geocomputation_class/forestmap/wandb/run-20230609_115337-hmjas8o7</code>"
      ],
      "text/plain": [
       "<IPython.core.display.HTML object>"
      ]
     },
     "metadata": {},
     "output_type": "display_data"
    },
    {
     "data": {
      "text/html": [
       "Syncing run <strong><a href='https://wandb.ai/hofer1991/RF_Foresthybrid_table/runs/hmjas8o7' target=\"_blank\">sunny-sweep-25</a></strong> to <a href='https://wandb.ai/hofer1991/RF_Foresthybrid_table' target=\"_blank\">Weights & Biases</a> (<a href='https://wandb.me/run' target=\"_blank\">docs</a>)<br/>Sweep page: <a href='https://wandb.ai/hofer1991/RF_Foresthybrid_table/sweeps/uq2lt86p' target=\"_blank\">https://wandb.ai/hofer1991/RF_Foresthybrid_table/sweeps/uq2lt86p</a>"
      ],
      "text/plain": [
       "<IPython.core.display.HTML object>"
      ]
     },
     "metadata": {},
     "output_type": "display_data"
    },
    {
     "data": {
      "text/html": [
       " View project at <a href='https://wandb.ai/hofer1991/RF_Foresthybrid_table' target=\"_blank\">https://wandb.ai/hofer1991/RF_Foresthybrid_table</a>"
      ],
      "text/plain": [
       "<IPython.core.display.HTML object>"
      ]
     },
     "metadata": {},
     "output_type": "display_data"
    },
    {
     "data": {
      "text/html": [
       " View sweep at <a href='https://wandb.ai/hofer1991/RF_Foresthybrid_table/sweeps/uq2lt86p' target=\"_blank\">https://wandb.ai/hofer1991/RF_Foresthybrid_table/sweeps/uq2lt86p</a>"
      ],
      "text/plain": [
       "<IPython.core.display.HTML object>"
      ]
     },
     "metadata": {},
     "output_type": "display_data"
    },
    {
     "data": {
      "text/html": [
       " View run at <a href='https://wandb.ai/hofer1991/RF_Foresthybrid_table/runs/hmjas8o7' target=\"_blank\">https://wandb.ai/hofer1991/RF_Foresthybrid_table/runs/hmjas8o7</a>"
      ],
      "text/plain": [
       "<IPython.core.display.HTML object>"
      ]
     },
     "metadata": {},
     "output_type": "display_data"
    },
    {
     "data": {
      "text/html": [
       "Waiting for W&B process to finish... <strong style=\"color:green\">(success).</strong>"
      ],
      "text/plain": [
       "<IPython.core.display.HTML object>"
      ]
     },
     "metadata": {},
     "output_type": "display_data"
    },
    {
     "name": "stderr",
     "output_type": "stream",
     "text": [
      "Widget Javascript not detected.  It may not be installed or enabled properly. Reconnecting the current kernel may help.\n"
     ]
    },
    {
     "data": {
      "application/vnd.jupyter.widget-view+json": {
       "model_id": "2137e2fdb3084598a6300d23509abbb8"
      }
     },
     "metadata": {},
     "output_type": "display_data"
    },
    {
     "data": {
      "text/html": [
       "<style>\n",
       "    table.wandb td:nth-child(1) { padding: 0 10px; text-align: left ; width: auto;} td:nth-child(2) {text-align: left ; width: 100%}\n",
       "    .wandb-row { display: flex; flex-direction: row; flex-wrap: wrap; justify-content: flex-start; width: 100% }\n",
       "    .wandb-col { display: flex; flex-direction: column; flex-basis: 100%; flex: 1; padding: 10px; }\n",
       "    </style>\n",
       "<div class=\"wandb-row\"><div class=\"wandb-col\"><h3>Run history:</h3><br/><table class=\"wandb\"><tr><td>Accuracy/train</td><td>▁</td></tr><tr><td>Accuracy/val</td><td>▁</td></tr><tr><td>BIC/train</td><td>▁</td></tr><tr><td>BIC/val</td><td>▁</td></tr></table><br/></div><div class=\"wandb-col\"><h3>Run summary:</h3><br/><table class=\"wandb\"><tr><td>Accuracy/train</td><td>0.97681</td></tr><tr><td>Accuracy/val</td><td>0.90147</td></tr><tr><td>BIC/train</td><td>40967.99995</td></tr><tr><td>BIC/val</td><td>25189.41385</td></tr></table><br/></div></div>"
      ],
      "text/plain": [
       "<IPython.core.display.HTML object>"
      ]
     },
     "metadata": {},
     "output_type": "display_data"
    },
    {
     "data": {
      "text/html": [
       " View run <strong style=\"color:#cdcd00\">sunny-sweep-25</strong> at: <a href='https://wandb.ai/hofer1991/RF_Foresthybrid_table/runs/hmjas8o7' target=\"_blank\">https://wandb.ai/hofer1991/RF_Foresthybrid_table/runs/hmjas8o7</a><br/>Synced 4 W&B file(s), 0 media file(s), 0 artifact file(s) and 0 other file(s)"
      ],
      "text/plain": [
       "<IPython.core.display.HTML object>"
      ]
     },
     "metadata": {},
     "output_type": "display_data"
    },
    {
     "data": {
      "text/html": [
       "Find logs at: <code>./wandb/run-20230609_115337-hmjas8o7/logs</code>"
      ],
      "text/plain": [
       "<IPython.core.display.HTML object>"
      ]
     },
     "metadata": {},
     "output_type": "display_data"
    },
    {
     "name": "stderr",
     "output_type": "stream",
     "text": [
      "\u001b[34m\u001b[1mwandb\u001b[0m: Agent Starting Run: snwbbg9o with config:\n",
      "\u001b[34m\u001b[1mwandb\u001b[0m: \trf__max_depth: 144\n",
      "\u001b[34m\u001b[1mwandb\u001b[0m: \trf__max_features: 3\n",
      "\u001b[34m\u001b[1mwandb\u001b[0m: \trf__max_samples: 0.6771062647153478\n",
      "\u001b[34m\u001b[1mwandb\u001b[0m: \trf__n_estimators: 563\n",
      "\u001b[34m\u001b[1mwandb\u001b[0m: \tsel__n_features: 9\n"
     ]
    },
    {
     "data": {
      "text/html": [
       "Tracking run with wandb version 0.15.4"
      ],
      "text/plain": [
       "<IPython.core.display.HTML object>"
      ]
     },
     "metadata": {},
     "output_type": "display_data"
    },
    {
     "data": {
      "text/html": [
       "Run data is saved locally in <code>/media/sf_geocomputation_class/forestmap/wandb/run-20230609_115702-snwbbg9o</code>"
      ],
      "text/plain": [
       "<IPython.core.display.HTML object>"
      ]
     },
     "metadata": {},
     "output_type": "display_data"
    },
    {
     "data": {
      "text/html": [
       "Syncing run <strong><a href='https://wandb.ai/hofer1991/RF_Foresthybrid_table/runs/snwbbg9o' target=\"_blank\">silvery-sweep-26</a></strong> to <a href='https://wandb.ai/hofer1991/RF_Foresthybrid_table' target=\"_blank\">Weights & Biases</a> (<a href='https://wandb.me/run' target=\"_blank\">docs</a>)<br/>Sweep page: <a href='https://wandb.ai/hofer1991/RF_Foresthybrid_table/sweeps/uq2lt86p' target=\"_blank\">https://wandb.ai/hofer1991/RF_Foresthybrid_table/sweeps/uq2lt86p</a>"
      ],
      "text/plain": [
       "<IPython.core.display.HTML object>"
      ]
     },
     "metadata": {},
     "output_type": "display_data"
    },
    {
     "data": {
      "text/html": [
       " View project at <a href='https://wandb.ai/hofer1991/RF_Foresthybrid_table' target=\"_blank\">https://wandb.ai/hofer1991/RF_Foresthybrid_table</a>"
      ],
      "text/plain": [
       "<IPython.core.display.HTML object>"
      ]
     },
     "metadata": {},
     "output_type": "display_data"
    },
    {
     "data": {
      "text/html": [
       " View sweep at <a href='https://wandb.ai/hofer1991/RF_Foresthybrid_table/sweeps/uq2lt86p' target=\"_blank\">https://wandb.ai/hofer1991/RF_Foresthybrid_table/sweeps/uq2lt86p</a>"
      ],
      "text/plain": [
       "<IPython.core.display.HTML object>"
      ]
     },
     "metadata": {},
     "output_type": "display_data"
    },
    {
     "data": {
      "text/html": [
       " View run at <a href='https://wandb.ai/hofer1991/RF_Foresthybrid_table/runs/snwbbg9o' target=\"_blank\">https://wandb.ai/hofer1991/RF_Foresthybrid_table/runs/snwbbg9o</a>"
      ],
      "text/plain": [
       "<IPython.core.display.HTML object>"
      ]
     },
     "metadata": {},
     "output_type": "display_data"
    },
    {
     "data": {
      "text/html": [
       "Waiting for W&B process to finish... <strong style=\"color:green\">(success).</strong>"
      ],
      "text/plain": [
       "<IPython.core.display.HTML object>"
      ]
     },
     "metadata": {},
     "output_type": "display_data"
    },
    {
     "name": "stderr",
     "output_type": "stream",
     "text": [
      "Widget Javascript not detected.  It may not be installed or enabled properly. Reconnecting the current kernel may help.\n"
     ]
    },
    {
     "data": {
      "application/vnd.jupyter.widget-view+json": {
       "model_id": "eb57b1dfcd2144058e0fe027b09cc39c"
      }
     },
     "metadata": {},
     "output_type": "display_data"
    },
    {
     "data": {
      "text/html": [
       "<style>\n",
       "    table.wandb td:nth-child(1) { padding: 0 10px; text-align: left ; width: auto;} td:nth-child(2) {text-align: left ; width: 100%}\n",
       "    .wandb-row { display: flex; flex-direction: row; flex-wrap: wrap; justify-content: flex-start; width: 100% }\n",
       "    .wandb-col { display: flex; flex-direction: column; flex-basis: 100%; flex: 1; padding: 10px; }\n",
       "    </style>\n",
       "<div class=\"wandb-row\"><div class=\"wandb-col\"><h3>Run history:</h3><br/><table class=\"wandb\"><tr><td>Accuracy/train</td><td>▁</td></tr><tr><td>Accuracy/val</td><td>▁</td></tr><tr><td>BIC/train</td><td>▁</td></tr><tr><td>BIC/val</td><td>▁</td></tr></table><br/></div><div class=\"wandb-col\"><h3>Run summary:</h3><br/><table class=\"wandb\"><tr><td>Accuracy/train</td><td>0.99441</td></tr><tr><td>Accuracy/val</td><td>0.89954</td></tr><tr><td>BIC/train</td><td>56495.52025</td></tr><tr><td>BIC/val</td><td>24987.64067</td></tr></table><br/></div></div>"
      ],
      "text/plain": [
       "<IPython.core.display.HTML object>"
      ]
     },
     "metadata": {},
     "output_type": "display_data"
    },
    {
     "data": {
      "text/html": [
       " View run <strong style=\"color:#cdcd00\">silvery-sweep-26</strong> at: <a href='https://wandb.ai/hofer1991/RF_Foresthybrid_table/runs/snwbbg9o' target=\"_blank\">https://wandb.ai/hofer1991/RF_Foresthybrid_table/runs/snwbbg9o</a><br/>Synced 4 W&B file(s), 0 media file(s), 0 artifact file(s) and 0 other file(s)"
      ],
      "text/plain": [
       "<IPython.core.display.HTML object>"
      ]
     },
     "metadata": {},
     "output_type": "display_data"
    },
    {
     "data": {
      "text/html": [
       "Find logs at: <code>./wandb/run-20230609_115702-snwbbg9o/logs</code>"
      ],
      "text/plain": [
       "<IPython.core.display.HTML object>"
      ]
     },
     "metadata": {},
     "output_type": "display_data"
    },
    {
     "name": "stderr",
     "output_type": "stream",
     "text": [
      "\u001b[34m\u001b[1mwandb\u001b[0m: Sweep Agent: Waiting for job.\n",
      "\u001b[34m\u001b[1mwandb\u001b[0m: Job received.\n",
      "\u001b[34m\u001b[1mwandb\u001b[0m: Agent Starting Run: ualg9r7m with config:\n",
      "\u001b[34m\u001b[1mwandb\u001b[0m: \trf__max_depth: 63\n",
      "\u001b[34m\u001b[1mwandb\u001b[0m: \trf__max_features: 3\n",
      "\u001b[34m\u001b[1mwandb\u001b[0m: \trf__max_samples: 0.687273718532708\n",
      "\u001b[34m\u001b[1mwandb\u001b[0m: \trf__n_estimators: 1439\n",
      "\u001b[34m\u001b[1mwandb\u001b[0m: \tsel__n_features: 10\n"
     ]
    },
    {
     "data": {
      "text/html": [
       "Tracking run with wandb version 0.15.4"
      ],
      "text/plain": [
       "<IPython.core.display.HTML object>"
      ]
     },
     "metadata": {},
     "output_type": "display_data"
    },
    {
     "data": {
      "text/html": [
       "Run data is saved locally in <code>/media/sf_geocomputation_class/forestmap/wandb/run-20230609_115814-ualg9r7m</code>"
      ],
      "text/plain": [
       "<IPython.core.display.HTML object>"
      ]
     },
     "metadata": {},
     "output_type": "display_data"
    },
    {
     "data": {
      "text/html": [
       "Syncing run <strong><a href='https://wandb.ai/hofer1991/RF_Foresthybrid_table/runs/ualg9r7m' target=\"_blank\">likely-sweep-27</a></strong> to <a href='https://wandb.ai/hofer1991/RF_Foresthybrid_table' target=\"_blank\">Weights & Biases</a> (<a href='https://wandb.me/run' target=\"_blank\">docs</a>)<br/>Sweep page: <a href='https://wandb.ai/hofer1991/RF_Foresthybrid_table/sweeps/uq2lt86p' target=\"_blank\">https://wandb.ai/hofer1991/RF_Foresthybrid_table/sweeps/uq2lt86p</a>"
      ],
      "text/plain": [
       "<IPython.core.display.HTML object>"
      ]
     },
     "metadata": {},
     "output_type": "display_data"
    },
    {
     "data": {
      "text/html": [
       " View project at <a href='https://wandb.ai/hofer1991/RF_Foresthybrid_table' target=\"_blank\">https://wandb.ai/hofer1991/RF_Foresthybrid_table</a>"
      ],
      "text/plain": [
       "<IPython.core.display.HTML object>"
      ]
     },
     "metadata": {},
     "output_type": "display_data"
    },
    {
     "data": {
      "text/html": [
       " View sweep at <a href='https://wandb.ai/hofer1991/RF_Foresthybrid_table/sweeps/uq2lt86p' target=\"_blank\">https://wandb.ai/hofer1991/RF_Foresthybrid_table/sweeps/uq2lt86p</a>"
      ],
      "text/plain": [
       "<IPython.core.display.HTML object>"
      ]
     },
     "metadata": {},
     "output_type": "display_data"
    },
    {
     "data": {
      "text/html": [
       " View run at <a href='https://wandb.ai/hofer1991/RF_Foresthybrid_table/runs/ualg9r7m' target=\"_blank\">https://wandb.ai/hofer1991/RF_Foresthybrid_table/runs/ualg9r7m</a>"
      ],
      "text/plain": [
       "<IPython.core.display.HTML object>"
      ]
     },
     "metadata": {},
     "output_type": "display_data"
    },
    {
     "data": {
      "text/html": [
       "Waiting for W&B process to finish... <strong style=\"color:green\">(success).</strong>"
      ],
      "text/plain": [
       "<IPython.core.display.HTML object>"
      ]
     },
     "metadata": {},
     "output_type": "display_data"
    },
    {
     "name": "stderr",
     "output_type": "stream",
     "text": [
      "Widget Javascript not detected.  It may not be installed or enabled properly. Reconnecting the current kernel may help.\n"
     ]
    },
    {
     "data": {
      "application/vnd.jupyter.widget-view+json": {
       "model_id": "c630a01e021848b69ad4a1185cd1a6ae"
      }
     },
     "metadata": {},
     "output_type": "display_data"
    },
    {
     "data": {
      "text/html": [
       "<style>\n",
       "    table.wandb td:nth-child(1) { padding: 0 10px; text-align: left ; width: auto;} td:nth-child(2) {text-align: left ; width: 100%}\n",
       "    .wandb-row { display: flex; flex-direction: row; flex-wrap: wrap; justify-content: flex-start; width: 100% }\n",
       "    .wandb-col { display: flex; flex-direction: column; flex-basis: 100%; flex: 1; padding: 10px; }\n",
       "    </style>\n",
       "<div class=\"wandb-row\"><div class=\"wandb-col\"><h3>Run history:</h3><br/><table class=\"wandb\"><tr><td>Accuracy/train</td><td>▁</td></tr><tr><td>Accuracy/val</td><td>▁</td></tr><tr><td>BIC/train</td><td>▁</td></tr><tr><td>BIC/val</td><td>▁</td></tr></table><br/></div><div class=\"wandb-col\"><h3>Run summary:</h3><br/><table class=\"wandb\"><tr><td>Accuracy/train</td><td>0.99642</td></tr><tr><td>Accuracy/val</td><td>0.9</td></tr><tr><td>BIC/train</td><td>61365.95189</td></tr><tr><td>BIC/val</td><td>25028.22901</td></tr></table><br/></div></div>"
      ],
      "text/plain": [
       "<IPython.core.display.HTML object>"
      ]
     },
     "metadata": {},
     "output_type": "display_data"
    },
    {
     "data": {
      "text/html": [
       " View run <strong style=\"color:#cdcd00\">likely-sweep-27</strong> at: <a href='https://wandb.ai/hofer1991/RF_Foresthybrid_table/runs/ualg9r7m' target=\"_blank\">https://wandb.ai/hofer1991/RF_Foresthybrid_table/runs/ualg9r7m</a><br/>Synced 4 W&B file(s), 0 media file(s), 0 artifact file(s) and 0 other file(s)"
      ],
      "text/plain": [
       "<IPython.core.display.HTML object>"
      ]
     },
     "metadata": {},
     "output_type": "display_data"
    },
    {
     "data": {
      "text/html": [
       "Find logs at: <code>./wandb/run-20230609_115814-ualg9r7m/logs</code>"
      ],
      "text/plain": [
       "<IPython.core.display.HTML object>"
      ]
     },
     "metadata": {},
     "output_type": "display_data"
    },
    {
     "name": "stderr",
     "output_type": "stream",
     "text": [
      "\u001b[34m\u001b[1mwandb\u001b[0m: Agent Starting Run: xdutyalo with config:\n",
      "\u001b[34m\u001b[1mwandb\u001b[0m: \trf__max_depth: 51\n",
      "\u001b[34m\u001b[1mwandb\u001b[0m: \trf__max_features: 8\n",
      "\u001b[34m\u001b[1mwandb\u001b[0m: \trf__max_samples: 0.3259189015164944\n",
      "\u001b[34m\u001b[1mwandb\u001b[0m: \trf__n_estimators: 1416\n",
      "\u001b[34m\u001b[1mwandb\u001b[0m: \tsel__n_features: 9\n"
     ]
    },
    {
     "data": {
      "text/html": [
       "Tracking run with wandb version 0.15.4"
      ],
      "text/plain": [
       "<IPython.core.display.HTML object>"
      ]
     },
     "metadata": {},
     "output_type": "display_data"
    },
    {
     "data": {
      "text/html": [
       "Run data is saved locally in <code>/media/sf_geocomputation_class/forestmap/wandb/run-20230609_120103-xdutyalo</code>"
      ],
      "text/plain": [
       "<IPython.core.display.HTML object>"
      ]
     },
     "metadata": {},
     "output_type": "display_data"
    },
    {
     "data": {
      "text/html": [
       "Syncing run <strong><a href='https://wandb.ai/hofer1991/RF_Foresthybrid_table/runs/xdutyalo' target=\"_blank\">rose-sweep-28</a></strong> to <a href='https://wandb.ai/hofer1991/RF_Foresthybrid_table' target=\"_blank\">Weights & Biases</a> (<a href='https://wandb.me/run' target=\"_blank\">docs</a>)<br/>Sweep page: <a href='https://wandb.ai/hofer1991/RF_Foresthybrid_table/sweeps/uq2lt86p' target=\"_blank\">https://wandb.ai/hofer1991/RF_Foresthybrid_table/sweeps/uq2lt86p</a>"
      ],
      "text/plain": [
       "<IPython.core.display.HTML object>"
      ]
     },
     "metadata": {},
     "output_type": "display_data"
    },
    {
     "data": {
      "text/html": [
       " View project at <a href='https://wandb.ai/hofer1991/RF_Foresthybrid_table' target=\"_blank\">https://wandb.ai/hofer1991/RF_Foresthybrid_table</a>"
      ],
      "text/plain": [
       "<IPython.core.display.HTML object>"
      ]
     },
     "metadata": {},
     "output_type": "display_data"
    },
    {
     "data": {
      "text/html": [
       " View sweep at <a href='https://wandb.ai/hofer1991/RF_Foresthybrid_table/sweeps/uq2lt86p' target=\"_blank\">https://wandb.ai/hofer1991/RF_Foresthybrid_table/sweeps/uq2lt86p</a>"
      ],
      "text/plain": [
       "<IPython.core.display.HTML object>"
      ]
     },
     "metadata": {},
     "output_type": "display_data"
    },
    {
     "data": {
      "text/html": [
       " View run at <a href='https://wandb.ai/hofer1991/RF_Foresthybrid_table/runs/xdutyalo' target=\"_blank\">https://wandb.ai/hofer1991/RF_Foresthybrid_table/runs/xdutyalo</a>"
      ],
      "text/plain": [
       "<IPython.core.display.HTML object>"
      ]
     },
     "metadata": {},
     "output_type": "display_data"
    },
    {
     "data": {
      "text/html": [
       "Waiting for W&B process to finish... <strong style=\"color:green\">(success).</strong>"
      ],
      "text/plain": [
       "<IPython.core.display.HTML object>"
      ]
     },
     "metadata": {},
     "output_type": "display_data"
    },
    {
     "name": "stderr",
     "output_type": "stream",
     "text": [
      "Widget Javascript not detected.  It may not be installed or enabled properly. Reconnecting the current kernel may help.\n"
     ]
    },
    {
     "data": {
      "application/vnd.jupyter.widget-view+json": {
       "model_id": "9e9fb791368741bf9312290c2f34f932"
      }
     },
     "metadata": {},
     "output_type": "display_data"
    },
    {
     "data": {
      "text/html": [
       "<style>\n",
       "    table.wandb td:nth-child(1) { padding: 0 10px; text-align: left ; width: auto;} td:nth-child(2) {text-align: left ; width: 100%}\n",
       "    .wandb-row { display: flex; flex-direction: row; flex-wrap: wrap; justify-content: flex-start; width: 100% }\n",
       "    .wandb-col { display: flex; flex-direction: column; flex-basis: 100%; flex: 1; padding: 10px; }\n",
       "    </style>\n",
       "<div class=\"wandb-row\"><div class=\"wandb-col\"><h3>Run history:</h3><br/><table class=\"wandb\"><tr><td>Accuracy/train</td><td>▁</td></tr><tr><td>Accuracy/val</td><td>▁</td></tr><tr><td>BIC/train</td><td>▁</td></tr><tr><td>BIC/val</td><td>▁</td></tr></table><br/></div><div class=\"wandb-col\"><h3>Run summary:</h3><br/><table class=\"wandb\"><tr><td>Accuracy/train</td><td>0.94967</td></tr><tr><td>Accuracy/val</td><td>0.90082</td></tr><tr><td>BIC/train</td><td>32525.99733</td></tr><tr><td>BIC/val</td><td>25127.89972</td></tr></table><br/></div></div>"
      ],
      "text/plain": [
       "<IPython.core.display.HTML object>"
      ]
     },
     "metadata": {},
     "output_type": "display_data"
    },
    {
     "data": {
      "text/html": [
       " View run <strong style=\"color:#cdcd00\">rose-sweep-28</strong> at: <a href='https://wandb.ai/hofer1991/RF_Foresthybrid_table/runs/xdutyalo' target=\"_blank\">https://wandb.ai/hofer1991/RF_Foresthybrid_table/runs/xdutyalo</a><br/>Synced 4 W&B file(s), 0 media file(s), 0 artifact file(s) and 0 other file(s)"
      ],
      "text/plain": [
       "<IPython.core.display.HTML object>"
      ]
     },
     "metadata": {},
     "output_type": "display_data"
    },
    {
     "data": {
      "text/html": [
       "Find logs at: <code>./wandb/run-20230609_120103-xdutyalo/logs</code>"
      ],
      "text/plain": [
       "<IPython.core.display.HTML object>"
      ]
     },
     "metadata": {},
     "output_type": "display_data"
    },
    {
     "name": "stderr",
     "output_type": "stream",
     "text": [
      "\u001b[34m\u001b[1mwandb\u001b[0m: Agent Starting Run: j22dtgxj with config:\n",
      "\u001b[34m\u001b[1mwandb\u001b[0m: \trf__max_depth: 299\n",
      "\u001b[34m\u001b[1mwandb\u001b[0m: \trf__max_features: 10\n",
      "\u001b[34m\u001b[1mwandb\u001b[0m: \trf__max_samples: 0.592020936512579\n",
      "\u001b[34m\u001b[1mwandb\u001b[0m: \trf__n_estimators: 609\n",
      "\u001b[34m\u001b[1mwandb\u001b[0m: \tsel__n_features: 10\n"
     ]
    },
    {
     "data": {
      "text/html": [
       "Tracking run with wandb version 0.15.4"
      ],
      "text/plain": [
       "<IPython.core.display.HTML object>"
      ]
     },
     "metadata": {},
     "output_type": "display_data"
    },
    {
     "data": {
      "text/html": [
       "Run data is saved locally in <code>/media/sf_geocomputation_class/forestmap/wandb/run-20230609_120421-j22dtgxj</code>"
      ],
      "text/plain": [
       "<IPython.core.display.HTML object>"
      ]
     },
     "metadata": {},
     "output_type": "display_data"
    },
    {
     "data": {
      "text/html": [
       "Syncing run <strong><a href='https://wandb.ai/hofer1991/RF_Foresthybrid_table/runs/j22dtgxj' target=\"_blank\">peach-sweep-29</a></strong> to <a href='https://wandb.ai/hofer1991/RF_Foresthybrid_table' target=\"_blank\">Weights & Biases</a> (<a href='https://wandb.me/run' target=\"_blank\">docs</a>)<br/>Sweep page: <a href='https://wandb.ai/hofer1991/RF_Foresthybrid_table/sweeps/uq2lt86p' target=\"_blank\">https://wandb.ai/hofer1991/RF_Foresthybrid_table/sweeps/uq2lt86p</a>"
      ],
      "text/plain": [
       "<IPython.core.display.HTML object>"
      ]
     },
     "metadata": {},
     "output_type": "display_data"
    },
    {
     "data": {
      "text/html": [
       " View project at <a href='https://wandb.ai/hofer1991/RF_Foresthybrid_table' target=\"_blank\">https://wandb.ai/hofer1991/RF_Foresthybrid_table</a>"
      ],
      "text/plain": [
       "<IPython.core.display.HTML object>"
      ]
     },
     "metadata": {},
     "output_type": "display_data"
    },
    {
     "data": {
      "text/html": [
       " View sweep at <a href='https://wandb.ai/hofer1991/RF_Foresthybrid_table/sweeps/uq2lt86p' target=\"_blank\">https://wandb.ai/hofer1991/RF_Foresthybrid_table/sweeps/uq2lt86p</a>"
      ],
      "text/plain": [
       "<IPython.core.display.HTML object>"
      ]
     },
     "metadata": {},
     "output_type": "display_data"
    },
    {
     "data": {
      "text/html": [
       " View run at <a href='https://wandb.ai/hofer1991/RF_Foresthybrid_table/runs/j22dtgxj' target=\"_blank\">https://wandb.ai/hofer1991/RF_Foresthybrid_table/runs/j22dtgxj</a>"
      ],
      "text/plain": [
       "<IPython.core.display.HTML object>"
      ]
     },
     "metadata": {},
     "output_type": "display_data"
    },
    {
     "data": {
      "text/html": [
       "Waiting for W&B process to finish... <strong style=\"color:green\">(success).</strong>"
      ],
      "text/plain": [
       "<IPython.core.display.HTML object>"
      ]
     },
     "metadata": {},
     "output_type": "display_data"
    },
    {
     "name": "stderr",
     "output_type": "stream",
     "text": [
      "Widget Javascript not detected.  It may not be installed or enabled properly. Reconnecting the current kernel may help.\n"
     ]
    },
    {
     "data": {
      "application/vnd.jupyter.widget-view+json": {
       "model_id": "a3b53288ae1b4cd49ba2f4373f95642c"
      }
     },
     "metadata": {},
     "output_type": "display_data"
    },
    {
     "data": {
      "text/html": [
       "<style>\n",
       "    table.wandb td:nth-child(1) { padding: 0 10px; text-align: left ; width: auto;} td:nth-child(2) {text-align: left ; width: 100%}\n",
       "    .wandb-row { display: flex; flex-direction: row; flex-wrap: wrap; justify-content: flex-start; width: 100% }\n",
       "    .wandb-col { display: flex; flex-direction: column; flex-basis: 100%; flex: 1; padding: 10px; }\n",
       "    </style>\n",
       "<div class=\"wandb-row\"><div class=\"wandb-col\"><h3>Run history:</h3><br/><table class=\"wandb\"><tr><td>Accuracy/train</td><td>▁</td></tr><tr><td>Accuracy/val</td><td>▁</td></tr><tr><td>BIC/train</td><td>▁</td></tr><tr><td>BIC/val</td><td>▁</td></tr></table><br/></div><div class=\"wandb-col\"><h3>Run summary:</h3><br/><table class=\"wandb\"><tr><td>Accuracy/train</td><td>0.98451</td></tr><tr><td>Accuracy/val</td><td>0.89817</td></tr><tr><td>BIC/train</td><td>45369.68081</td></tr><tr><td>BIC/val</td><td>24830.04009</td></tr></table><br/></div></div>"
      ],
      "text/plain": [
       "<IPython.core.display.HTML object>"
      ]
     },
     "metadata": {},
     "output_type": "display_data"
    },
    {
     "data": {
      "text/html": [
       " View run <strong style=\"color:#cdcd00\">peach-sweep-29</strong> at: <a href='https://wandb.ai/hofer1991/RF_Foresthybrid_table/runs/j22dtgxj' target=\"_blank\">https://wandb.ai/hofer1991/RF_Foresthybrid_table/runs/j22dtgxj</a><br/>Synced 4 W&B file(s), 0 media file(s), 0 artifact file(s) and 0 other file(s)"
      ],
      "text/plain": [
       "<IPython.core.display.HTML object>"
      ]
     },
     "metadata": {},
     "output_type": "display_data"
    },
    {
     "data": {
      "text/html": [
       "Find logs at: <code>./wandb/run-20230609_120421-j22dtgxj/logs</code>"
      ],
      "text/plain": [
       "<IPython.core.display.HTML object>"
      ]
     },
     "metadata": {},
     "output_type": "display_data"
    },
    {
     "name": "stderr",
     "output_type": "stream",
     "text": [
      "\u001b[34m\u001b[1mwandb\u001b[0m: Agent Starting Run: 1w91tl9f with config:\n",
      "\u001b[34m\u001b[1mwandb\u001b[0m: \trf__max_depth: 53\n",
      "\u001b[34m\u001b[1mwandb\u001b[0m: \trf__max_features: 5\n",
      "\u001b[34m\u001b[1mwandb\u001b[0m: \trf__max_samples: 0.4990679328975617\n",
      "\u001b[34m\u001b[1mwandb\u001b[0m: \trf__n_estimators: 1992\n",
      "\u001b[34m\u001b[1mwandb\u001b[0m: \tsel__n_features: 10\n"
     ]
    },
    {
     "data": {
      "text/html": [
       "Tracking run with wandb version 0.15.4"
      ],
      "text/plain": [
       "<IPython.core.display.HTML object>"
      ]
     },
     "metadata": {},
     "output_type": "display_data"
    },
    {
     "data": {
      "text/html": [
       "Run data is saved locally in <code>/media/sf_geocomputation_class/forestmap/wandb/run-20230609_120642-1w91tl9f</code>"
      ],
      "text/plain": [
       "<IPython.core.display.HTML object>"
      ]
     },
     "metadata": {},
     "output_type": "display_data"
    },
    {
     "data": {
      "text/html": [
       "Syncing run <strong><a href='https://wandb.ai/hofer1991/RF_Foresthybrid_table/runs/1w91tl9f' target=\"_blank\">legendary-sweep-30</a></strong> to <a href='https://wandb.ai/hofer1991/RF_Foresthybrid_table' target=\"_blank\">Weights & Biases</a> (<a href='https://wandb.me/run' target=\"_blank\">docs</a>)<br/>Sweep page: <a href='https://wandb.ai/hofer1991/RF_Foresthybrid_table/sweeps/uq2lt86p' target=\"_blank\">https://wandb.ai/hofer1991/RF_Foresthybrid_table/sweeps/uq2lt86p</a>"
      ],
      "text/plain": [
       "<IPython.core.display.HTML object>"
      ]
     },
     "metadata": {},
     "output_type": "display_data"
    },
    {
     "data": {
      "text/html": [
       " View project at <a href='https://wandb.ai/hofer1991/RF_Foresthybrid_table' target=\"_blank\">https://wandb.ai/hofer1991/RF_Foresthybrid_table</a>"
      ],
      "text/plain": [
       "<IPython.core.display.HTML object>"
      ]
     },
     "metadata": {},
     "output_type": "display_data"
    },
    {
     "data": {
      "text/html": [
       " View sweep at <a href='https://wandb.ai/hofer1991/RF_Foresthybrid_table/sweeps/uq2lt86p' target=\"_blank\">https://wandb.ai/hofer1991/RF_Foresthybrid_table/sweeps/uq2lt86p</a>"
      ],
      "text/plain": [
       "<IPython.core.display.HTML object>"
      ]
     },
     "metadata": {},
     "output_type": "display_data"
    },
    {
     "data": {
      "text/html": [
       " View run at <a href='https://wandb.ai/hofer1991/RF_Foresthybrid_table/runs/1w91tl9f' target=\"_blank\">https://wandb.ai/hofer1991/RF_Foresthybrid_table/runs/1w91tl9f</a>"
      ],
      "text/plain": [
       "<IPython.core.display.HTML object>"
      ]
     },
     "metadata": {},
     "output_type": "display_data"
    },
    {
     "data": {
      "text/html": [
       "Waiting for W&B process to finish... <strong style=\"color:green\">(success).</strong>"
      ],
      "text/plain": [
       "<IPython.core.display.HTML object>"
      ]
     },
     "metadata": {},
     "output_type": "display_data"
    },
    {
     "name": "stderr",
     "output_type": "stream",
     "text": [
      "Widget Javascript not detected.  It may not be installed or enabled properly. Reconnecting the current kernel may help.\n"
     ]
    },
    {
     "data": {
      "application/vnd.jupyter.widget-view+json": {
       "model_id": "07e503555c1f483792195c32cdae57e8"
      }
     },
     "metadata": {},
     "output_type": "display_data"
    },
    {
     "data": {
      "text/html": [
       "<style>\n",
       "    table.wandb td:nth-child(1) { padding: 0 10px; text-align: left ; width: auto;} td:nth-child(2) {text-align: left ; width: 100%}\n",
       "    .wandb-row { display: flex; flex-direction: row; flex-wrap: wrap; justify-content: flex-start; width: 100% }\n",
       "    .wandb-col { display: flex; flex-direction: column; flex-basis: 100%; flex: 1; padding: 10px; }\n",
       "    </style>\n",
       "<div class=\"wandb-row\"><div class=\"wandb-col\"><h3>Run history:</h3><br/><table class=\"wandb\"><tr><td>Accuracy/train</td><td>▁</td></tr><tr><td>Accuracy/val</td><td>▁</td></tr><tr><td>BIC/train</td><td>▁</td></tr><tr><td>BIC/val</td><td>▁</td></tr></table><br/></div><div class=\"wandb-col\"><h3>Run summary:</h3><br/><table class=\"wandb\"><tr><td>Accuracy/train</td><td>0.97076</td></tr><tr><td>Accuracy/val</td><td>0.90073</td></tr><tr><td>BIC/train</td><td>38439.27615</td></tr><tr><td>BIC/val</td><td>25108.52376</td></tr></table><br/></div></div>"
      ],
      "text/plain": [
       "<IPython.core.display.HTML object>"
      ]
     },
     "metadata": {},
     "output_type": "display_data"
    },
    {
     "data": {
      "text/html": [
       " View run <strong style=\"color:#cdcd00\">legendary-sweep-30</strong> at: <a href='https://wandb.ai/hofer1991/RF_Foresthybrid_table/runs/1w91tl9f' target=\"_blank\">https://wandb.ai/hofer1991/RF_Foresthybrid_table/runs/1w91tl9f</a><br/>Synced 4 W&B file(s), 0 media file(s), 0 artifact file(s) and 0 other file(s)"
      ],
      "text/plain": [
       "<IPython.core.display.HTML object>"
      ]
     },
     "metadata": {},
     "output_type": "display_data"
    },
    {
     "data": {
      "text/html": [
       "Find logs at: <code>./wandb/run-20230609_120642-1w91tl9f/logs</code>"
      ],
      "text/plain": [
       "<IPython.core.display.HTML object>"
      ]
     },
     "metadata": {},
     "output_type": "display_data"
    },
    {
     "name": "stderr",
     "output_type": "stream",
     "text": [
      "\u001b[34m\u001b[1mwandb\u001b[0m: Sweep Agent: Waiting for job.\n",
      "\u001b[34m\u001b[1mwandb\u001b[0m: Job received.\n",
      "\u001b[34m\u001b[1mwandb\u001b[0m: Agent Starting Run: zgthnfcu with config:\n",
      "\u001b[34m\u001b[1mwandb\u001b[0m: \trf__max_depth: 190\n",
      "\u001b[34m\u001b[1mwandb\u001b[0m: \trf__max_features: 3\n",
      "\u001b[34m\u001b[1mwandb\u001b[0m: \trf__max_samples: 0.4080714122664677\n",
      "\u001b[34m\u001b[1mwandb\u001b[0m: \trf__n_estimators: 1103\n",
      "\u001b[34m\u001b[1mwandb\u001b[0m: \tsel__n_features: 10\n"
     ]
    },
    {
     "data": {
      "text/html": [
       "Tracking run with wandb version 0.15.4"
      ],
      "text/plain": [
       "<IPython.core.display.HTML object>"
      ]
     },
     "metadata": {},
     "output_type": "display_data"
    },
    {
     "data": {
      "text/html": [
       "Run data is saved locally in <code>/media/sf_geocomputation_class/forestmap/wandb/run-20230609_121037-zgthnfcu</code>"
      ],
      "text/plain": [
       "<IPython.core.display.HTML object>"
      ]
     },
     "metadata": {},
     "output_type": "display_data"
    },
    {
     "data": {
      "text/html": [
       "Syncing run <strong><a href='https://wandb.ai/hofer1991/RF_Foresthybrid_table/runs/zgthnfcu' target=\"_blank\">twilight-sweep-31</a></strong> to <a href='https://wandb.ai/hofer1991/RF_Foresthybrid_table' target=\"_blank\">Weights & Biases</a> (<a href='https://wandb.me/run' target=\"_blank\">docs</a>)<br/>Sweep page: <a href='https://wandb.ai/hofer1991/RF_Foresthybrid_table/sweeps/uq2lt86p' target=\"_blank\">https://wandb.ai/hofer1991/RF_Foresthybrid_table/sweeps/uq2lt86p</a>"
      ],
      "text/plain": [
       "<IPython.core.display.HTML object>"
      ]
     },
     "metadata": {},
     "output_type": "display_data"
    },
    {
     "data": {
      "text/html": [
       " View project at <a href='https://wandb.ai/hofer1991/RF_Foresthybrid_table' target=\"_blank\">https://wandb.ai/hofer1991/RF_Foresthybrid_table</a>"
      ],
      "text/plain": [
       "<IPython.core.display.HTML object>"
      ]
     },
     "metadata": {},
     "output_type": "display_data"
    },
    {
     "data": {
      "text/html": [
       " View sweep at <a href='https://wandb.ai/hofer1991/RF_Foresthybrid_table/sweeps/uq2lt86p' target=\"_blank\">https://wandb.ai/hofer1991/RF_Foresthybrid_table/sweeps/uq2lt86p</a>"
      ],
      "text/plain": [
       "<IPython.core.display.HTML object>"
      ]
     },
     "metadata": {},
     "output_type": "display_data"
    },
    {
     "data": {
      "text/html": [
       " View run at <a href='https://wandb.ai/hofer1991/RF_Foresthybrid_table/runs/zgthnfcu' target=\"_blank\">https://wandb.ai/hofer1991/RF_Foresthybrid_table/runs/zgthnfcu</a>"
      ],
      "text/plain": [
       "<IPython.core.display.HTML object>"
      ]
     },
     "metadata": {},
     "output_type": "display_data"
    },
    {
     "data": {
      "text/html": [
       "Waiting for W&B process to finish... <strong style=\"color:green\">(success).</strong>"
      ],
      "text/plain": [
       "<IPython.core.display.HTML object>"
      ]
     },
     "metadata": {},
     "output_type": "display_data"
    },
    {
     "name": "stderr",
     "output_type": "stream",
     "text": [
      "Widget Javascript not detected.  It may not be installed or enabled properly. Reconnecting the current kernel may help.\n"
     ]
    },
    {
     "data": {
      "application/vnd.jupyter.widget-view+json": {
       "model_id": "5be74989314147a79adaaa122094006e"
      }
     },
     "metadata": {},
     "output_type": "display_data"
    },
    {
     "data": {
      "text/html": [
       "<style>\n",
       "    table.wandb td:nth-child(1) { padding: 0 10px; text-align: left ; width: auto;} td:nth-child(2) {text-align: left ; width: 100%}\n",
       "    .wandb-row { display: flex; flex-direction: row; flex-wrap: wrap; justify-content: flex-start; width: 100% }\n",
       "    .wandb-col { display: flex; flex-direction: column; flex-basis: 100%; flex: 1; padding: 10px; }\n",
       "    </style>\n",
       "<div class=\"wandb-row\"><div class=\"wandb-col\"><h3>Run history:</h3><br/><table class=\"wandb\"><tr><td>Accuracy/train</td><td>▁</td></tr><tr><td>Accuracy/val</td><td>▁</td></tr><tr><td>BIC/train</td><td>▁</td></tr><tr><td>BIC/val</td><td>▁</td></tr></table><br/></div><div class=\"wandb-col\"><h3>Run summary:</h3><br/><table class=\"wandb\"><tr><td>Accuracy/train</td><td>0.95976</td></tr><tr><td>Accuracy/val</td><td>0.90027</td></tr><tr><td>BIC/train</td><td>34955.94179</td></tr><tr><td>BIC/val</td><td>25058.27034</td></tr></table><br/></div></div>"
      ],
      "text/plain": [
       "<IPython.core.display.HTML object>"
      ]
     },
     "metadata": {},
     "output_type": "display_data"
    },
    {
     "data": {
      "text/html": [
       " View run <strong style=\"color:#cdcd00\">twilight-sweep-31</strong> at: <a href='https://wandb.ai/hofer1991/RF_Foresthybrid_table/runs/zgthnfcu' target=\"_blank\">https://wandb.ai/hofer1991/RF_Foresthybrid_table/runs/zgthnfcu</a><br/>Synced 4 W&B file(s), 0 media file(s), 0 artifact file(s) and 0 other file(s)"
      ],
      "text/plain": [
       "<IPython.core.display.HTML object>"
      ]
     },
     "metadata": {},
     "output_type": "display_data"
    },
    {
     "data": {
      "text/html": [
       "Find logs at: <code>./wandb/run-20230609_121037-zgthnfcu/logs</code>"
      ],
      "text/plain": [
       "<IPython.core.display.HTML object>"
      ]
     },
     "metadata": {},
     "output_type": "display_data"
    },
    {
     "name": "stderr",
     "output_type": "stream",
     "text": [
      "\u001b[34m\u001b[1mwandb\u001b[0m: Agent Starting Run: hbeljtxm with config:\n",
      "\u001b[34m\u001b[1mwandb\u001b[0m: \trf__max_depth: 59\n",
      "\u001b[34m\u001b[1mwandb\u001b[0m: \trf__max_features: 9\n",
      "\u001b[34m\u001b[1mwandb\u001b[0m: \trf__max_samples: 0.30605387011701907\n",
      "\u001b[34m\u001b[1mwandb\u001b[0m: \trf__n_estimators: 1998\n",
      "\u001b[34m\u001b[1mwandb\u001b[0m: \tsel__n_features: 10\n"
     ]
    },
    {
     "data": {
      "text/html": [
       "Tracking run with wandb version 0.15.4"
      ],
      "text/plain": [
       "<IPython.core.display.HTML object>"
      ]
     },
     "metadata": {},
     "output_type": "display_data"
    },
    {
     "data": {
      "text/html": [
       "Run data is saved locally in <code>/media/sf_geocomputation_class/forestmap/wandb/run-20230609_121225-hbeljtxm</code>"
      ],
      "text/plain": [
       "<IPython.core.display.HTML object>"
      ]
     },
     "metadata": {},
     "output_type": "display_data"
    },
    {
     "data": {
      "text/html": [
       "Syncing run <strong><a href='https://wandb.ai/hofer1991/RF_Foresthybrid_table/runs/hbeljtxm' target=\"_blank\">atomic-sweep-32</a></strong> to <a href='https://wandb.ai/hofer1991/RF_Foresthybrid_table' target=\"_blank\">Weights & Biases</a> (<a href='https://wandb.me/run' target=\"_blank\">docs</a>)<br/>Sweep page: <a href='https://wandb.ai/hofer1991/RF_Foresthybrid_table/sweeps/uq2lt86p' target=\"_blank\">https://wandb.ai/hofer1991/RF_Foresthybrid_table/sweeps/uq2lt86p</a>"
      ],
      "text/plain": [
       "<IPython.core.display.HTML object>"
      ]
     },
     "metadata": {},
     "output_type": "display_data"
    },
    {
     "data": {
      "text/html": [
       " View project at <a href='https://wandb.ai/hofer1991/RF_Foresthybrid_table' target=\"_blank\">https://wandb.ai/hofer1991/RF_Foresthybrid_table</a>"
      ],
      "text/plain": [
       "<IPython.core.display.HTML object>"
      ]
     },
     "metadata": {},
     "output_type": "display_data"
    },
    {
     "data": {
      "text/html": [
       " View sweep at <a href='https://wandb.ai/hofer1991/RF_Foresthybrid_table/sweeps/uq2lt86p' target=\"_blank\">https://wandb.ai/hofer1991/RF_Foresthybrid_table/sweeps/uq2lt86p</a>"
      ],
      "text/plain": [
       "<IPython.core.display.HTML object>"
      ]
     },
     "metadata": {},
     "output_type": "display_data"
    },
    {
     "data": {
      "text/html": [
       " View run at <a href='https://wandb.ai/hofer1991/RF_Foresthybrid_table/runs/hbeljtxm' target=\"_blank\">https://wandb.ai/hofer1991/RF_Foresthybrid_table/runs/hbeljtxm</a>"
      ],
      "text/plain": [
       "<IPython.core.display.HTML object>"
      ]
     },
     "metadata": {},
     "output_type": "display_data"
    },
    {
     "data": {
      "text/html": [
       "Waiting for W&B process to finish... <strong style=\"color:green\">(success).</strong>"
      ],
      "text/plain": [
       "<IPython.core.display.HTML object>"
      ]
     },
     "metadata": {},
     "output_type": "display_data"
    },
    {
     "name": "stderr",
     "output_type": "stream",
     "text": [
      "Widget Javascript not detected.  It may not be installed or enabled properly. Reconnecting the current kernel may help.\n"
     ]
    },
    {
     "data": {
      "application/vnd.jupyter.widget-view+json": {
       "model_id": "d20bbcb29b5a4d078c9781365d9972c1"
      }
     },
     "metadata": {},
     "output_type": "display_data"
    },
    {
     "data": {
      "text/html": [
       "<style>\n",
       "    table.wandb td:nth-child(1) { padding: 0 10px; text-align: left ; width: auto;} td:nth-child(2) {text-align: left ; width: 100%}\n",
       "    .wandb-row { display: flex; flex-direction: row; flex-wrap: wrap; justify-content: flex-start; width: 100% }\n",
       "    .wandb-col { display: flex; flex-direction: column; flex-basis: 100%; flex: 1; padding: 10px; }\n",
       "    </style>\n",
       "<div class=\"wandb-row\"><div class=\"wandb-col\"><h3>Run history:</h3><br/><table class=\"wandb\"><tr><td>Accuracy/train</td><td>▁</td></tr><tr><td>Accuracy/val</td><td>▁</td></tr><tr><td>BIC/train</td><td>▁</td></tr><tr><td>BIC/val</td><td>▁</td></tr></table><br/></div><div class=\"wandb-col\"><h3>Run summary:</h3><br/><table class=\"wandb\"><tr><td>Accuracy/train</td><td>0.94711</td></tr><tr><td>Accuracy/val</td><td>0.90082</td></tr><tr><td>BIC/train</td><td>31974.0446</td></tr><tr><td>BIC/val</td><td>25118.60229</td></tr></table><br/></div></div>"
      ],
      "text/plain": [
       "<IPython.core.display.HTML object>"
      ]
     },
     "metadata": {},
     "output_type": "display_data"
    },
    {
     "data": {
      "text/html": [
       " View run <strong style=\"color:#cdcd00\">atomic-sweep-32</strong> at: <a href='https://wandb.ai/hofer1991/RF_Foresthybrid_table/runs/hbeljtxm' target=\"_blank\">https://wandb.ai/hofer1991/RF_Foresthybrid_table/runs/hbeljtxm</a><br/>Synced 4 W&B file(s), 0 media file(s), 0 artifact file(s) and 0 other file(s)"
      ],
      "text/plain": [
       "<IPython.core.display.HTML object>"
      ]
     },
     "metadata": {},
     "output_type": "display_data"
    },
    {
     "data": {
      "text/html": [
       "Find logs at: <code>./wandb/run-20230609_121225-hbeljtxm/logs</code>"
      ],
      "text/plain": [
       "<IPython.core.display.HTML object>"
      ]
     },
     "metadata": {},
     "output_type": "display_data"
    },
    {
     "name": "stderr",
     "output_type": "stream",
     "text": [
      "\u001b[34m\u001b[1mwandb\u001b[0m: Sweep Agent: Waiting for job.\n",
      "\u001b[34m\u001b[1mwandb\u001b[0m: Job received.\n",
      "\u001b[34m\u001b[1mwandb\u001b[0m: Agent Starting Run: jhluunkw with config:\n",
      "\u001b[34m\u001b[1mwandb\u001b[0m: \trf__max_depth: 51\n",
      "\u001b[34m\u001b[1mwandb\u001b[0m: \trf__max_features: 3\n",
      "\u001b[34m\u001b[1mwandb\u001b[0m: \trf__max_samples: 0.4932752381281219\n",
      "\u001b[34m\u001b[1mwandb\u001b[0m: \trf__n_estimators: 1725\n",
      "\u001b[34m\u001b[1mwandb\u001b[0m: \tsel__n_features: 10\n"
     ]
    },
    {
     "data": {
      "text/html": [
       "Tracking run with wandb version 0.15.4"
      ],
      "text/plain": [
       "<IPython.core.display.HTML object>"
      ]
     },
     "metadata": {},
     "output_type": "display_data"
    },
    {
     "data": {
      "text/html": [
       "Run data is saved locally in <code>/media/sf_geocomputation_class/forestmap/wandb/run-20230609_121703-jhluunkw</code>"
      ],
      "text/plain": [
       "<IPython.core.display.HTML object>"
      ]
     },
     "metadata": {},
     "output_type": "display_data"
    },
    {
     "data": {
      "text/html": [
       "Syncing run <strong><a href='https://wandb.ai/hofer1991/RF_Foresthybrid_table/runs/jhluunkw' target=\"_blank\">serene-sweep-33</a></strong> to <a href='https://wandb.ai/hofer1991/RF_Foresthybrid_table' target=\"_blank\">Weights & Biases</a> (<a href='https://wandb.me/run' target=\"_blank\">docs</a>)<br/>Sweep page: <a href='https://wandb.ai/hofer1991/RF_Foresthybrid_table/sweeps/uq2lt86p' target=\"_blank\">https://wandb.ai/hofer1991/RF_Foresthybrid_table/sweeps/uq2lt86p</a>"
      ],
      "text/plain": [
       "<IPython.core.display.HTML object>"
      ]
     },
     "metadata": {},
     "output_type": "display_data"
    },
    {
     "data": {
      "text/html": [
       " View project at <a href='https://wandb.ai/hofer1991/RF_Foresthybrid_table' target=\"_blank\">https://wandb.ai/hofer1991/RF_Foresthybrid_table</a>"
      ],
      "text/plain": [
       "<IPython.core.display.HTML object>"
      ]
     },
     "metadata": {},
     "output_type": "display_data"
    },
    {
     "data": {
      "text/html": [
       " View sweep at <a href='https://wandb.ai/hofer1991/RF_Foresthybrid_table/sweeps/uq2lt86p' target=\"_blank\">https://wandb.ai/hofer1991/RF_Foresthybrid_table/sweeps/uq2lt86p</a>"
      ],
      "text/plain": [
       "<IPython.core.display.HTML object>"
      ]
     },
     "metadata": {},
     "output_type": "display_data"
    },
    {
     "data": {
      "text/html": [
       " View run at <a href='https://wandb.ai/hofer1991/RF_Foresthybrid_table/runs/jhluunkw' target=\"_blank\">https://wandb.ai/hofer1991/RF_Foresthybrid_table/runs/jhluunkw</a>"
      ],
      "text/plain": [
       "<IPython.core.display.HTML object>"
      ]
     },
     "metadata": {},
     "output_type": "display_data"
    },
    {
     "data": {
      "text/html": [
       "Waiting for W&B process to finish... <strong style=\"color:green\">(success).</strong>"
      ],
      "text/plain": [
       "<IPython.core.display.HTML object>"
      ]
     },
     "metadata": {},
     "output_type": "display_data"
    },
    {
     "name": "stderr",
     "output_type": "stream",
     "text": [
      "Widget Javascript not detected.  It may not be installed or enabled properly. Reconnecting the current kernel may help.\n"
     ]
    },
    {
     "data": {
      "application/vnd.jupyter.widget-view+json": {
       "model_id": "e8599b75203a4c3bb1db06aa5ca33314"
      }
     },
     "metadata": {},
     "output_type": "display_data"
    },
    {
     "data": {
      "text/html": [
       "<style>\n",
       "    table.wandb td:nth-child(1) { padding: 0 10px; text-align: left ; width: auto;} td:nth-child(2) {text-align: left ; width: 100%}\n",
       "    .wandb-row { display: flex; flex-direction: row; flex-wrap: wrap; justify-content: flex-start; width: 100% }\n",
       "    .wandb-col { display: flex; flex-direction: column; flex-basis: 100%; flex: 1; padding: 10px; }\n",
       "    </style>\n",
       "<div class=\"wandb-row\"><div class=\"wandb-col\"><h3>Run history:</h3><br/><table class=\"wandb\"><tr><td>Accuracy/train</td><td>▁</td></tr><tr><td>Accuracy/val</td><td>▁</td></tr><tr><td>BIC/train</td><td>▁</td></tr><tr><td>BIC/val</td><td>▁</td></tr></table><br/></div><div class=\"wandb-col\"><h3>Run summary:</h3><br/><table class=\"wandb\"><tr><td>Accuracy/train</td><td>0.97012</td></tr><tr><td>Accuracy/val</td><td>0.9011</td></tr><tr><td>BIC/train</td><td>38202.48235</td></tr><tr><td>BIC/val</td><td>25148.89384</td></tr></table><br/></div></div>"
      ],
      "text/plain": [
       "<IPython.core.display.HTML object>"
      ]
     },
     "metadata": {},
     "output_type": "display_data"
    },
    {
     "data": {
      "text/html": [
       " View run <strong style=\"color:#cdcd00\">serene-sweep-33</strong> at: <a href='https://wandb.ai/hofer1991/RF_Foresthybrid_table/runs/jhluunkw' target=\"_blank\">https://wandb.ai/hofer1991/RF_Foresthybrid_table/runs/jhluunkw</a><br/>Synced 4 W&B file(s), 0 media file(s), 0 artifact file(s) and 0 other file(s)"
      ],
      "text/plain": [
       "<IPython.core.display.HTML object>"
      ]
     },
     "metadata": {},
     "output_type": "display_data"
    },
    {
     "data": {
      "text/html": [
       "Find logs at: <code>./wandb/run-20230609_121703-jhluunkw/logs</code>"
      ],
      "text/plain": [
       "<IPython.core.display.HTML object>"
      ]
     },
     "metadata": {},
     "output_type": "display_data"
    },
    {
     "name": "stderr",
     "output_type": "stream",
     "text": [
      "\u001b[34m\u001b[1mwandb\u001b[0m: Agent Starting Run: mdk1gmbm with config:\n",
      "\u001b[34m\u001b[1mwandb\u001b[0m: \trf__max_depth: 88\n",
      "\u001b[34m\u001b[1mwandb\u001b[0m: \trf__max_features: 3\n",
      "\u001b[34m\u001b[1mwandb\u001b[0m: \trf__max_samples: 0.48391929822971425\n",
      "\u001b[34m\u001b[1mwandb\u001b[0m: \trf__n_estimators: 1934\n",
      "\u001b[34m\u001b[1mwandb\u001b[0m: \tsel__n_features: 10\n"
     ]
    },
    {
     "data": {
      "text/html": [
       "Tracking run with wandb version 0.15.4"
      ],
      "text/plain": [
       "<IPython.core.display.HTML object>"
      ]
     },
     "metadata": {},
     "output_type": "display_data"
    },
    {
     "data": {
      "text/html": [
       "Run data is saved locally in <code>/media/sf_geocomputation_class/forestmap/wandb/run-20230609_122013-mdk1gmbm</code>"
      ],
      "text/plain": [
       "<IPython.core.display.HTML object>"
      ]
     },
     "metadata": {},
     "output_type": "display_data"
    },
    {
     "data": {
      "text/html": [
       "Syncing run <strong><a href='https://wandb.ai/hofer1991/RF_Foresthybrid_table/runs/mdk1gmbm' target=\"_blank\">expert-sweep-34</a></strong> to <a href='https://wandb.ai/hofer1991/RF_Foresthybrid_table' target=\"_blank\">Weights & Biases</a> (<a href='https://wandb.me/run' target=\"_blank\">docs</a>)<br/>Sweep page: <a href='https://wandb.ai/hofer1991/RF_Foresthybrid_table/sweeps/uq2lt86p' target=\"_blank\">https://wandb.ai/hofer1991/RF_Foresthybrid_table/sweeps/uq2lt86p</a>"
      ],
      "text/plain": [
       "<IPython.core.display.HTML object>"
      ]
     },
     "metadata": {},
     "output_type": "display_data"
    },
    {
     "data": {
      "text/html": [
       " View project at <a href='https://wandb.ai/hofer1991/RF_Foresthybrid_table' target=\"_blank\">https://wandb.ai/hofer1991/RF_Foresthybrid_table</a>"
      ],
      "text/plain": [
       "<IPython.core.display.HTML object>"
      ]
     },
     "metadata": {},
     "output_type": "display_data"
    },
    {
     "data": {
      "text/html": [
       " View sweep at <a href='https://wandb.ai/hofer1991/RF_Foresthybrid_table/sweeps/uq2lt86p' target=\"_blank\">https://wandb.ai/hofer1991/RF_Foresthybrid_table/sweeps/uq2lt86p</a>"
      ],
      "text/plain": [
       "<IPython.core.display.HTML object>"
      ]
     },
     "metadata": {},
     "output_type": "display_data"
    },
    {
     "data": {
      "text/html": [
       " View run at <a href='https://wandb.ai/hofer1991/RF_Foresthybrid_table/runs/mdk1gmbm' target=\"_blank\">https://wandb.ai/hofer1991/RF_Foresthybrid_table/runs/mdk1gmbm</a>"
      ],
      "text/plain": [
       "<IPython.core.display.HTML object>"
      ]
     },
     "metadata": {},
     "output_type": "display_data"
    },
    {
     "data": {
      "text/html": [
       "Waiting for W&B process to finish... <strong style=\"color:green\">(success).</strong>"
      ],
      "text/plain": [
       "<IPython.core.display.HTML object>"
      ]
     },
     "metadata": {},
     "output_type": "display_data"
    },
    {
     "name": "stderr",
     "output_type": "stream",
     "text": [
      "Widget Javascript not detected.  It may not be installed or enabled properly. Reconnecting the current kernel may help.\n"
     ]
    },
    {
     "data": {
      "application/vnd.jupyter.widget-view+json": {
       "model_id": "b6c64d297a324864b52aa2ef545b407d"
      }
     },
     "metadata": {},
     "output_type": "display_data"
    },
    {
     "data": {
      "text/html": [
       "<style>\n",
       "    table.wandb td:nth-child(1) { padding: 0 10px; text-align: left ; width: auto;} td:nth-child(2) {text-align: left ; width: 100%}\n",
       "    .wandb-row { display: flex; flex-direction: row; flex-wrap: wrap; justify-content: flex-start; width: 100% }\n",
       "    .wandb-col { display: flex; flex-direction: column; flex-basis: 100%; flex: 1; padding: 10px; }\n",
       "    </style>\n",
       "<div class=\"wandb-row\"><div class=\"wandb-col\"><h3>Run history:</h3><br/><table class=\"wandb\"><tr><td>Accuracy/train</td><td>▁</td></tr><tr><td>Accuracy/val</td><td>▁</td></tr><tr><td>BIC/train</td><td>▁</td></tr><tr><td>BIC/val</td><td>▁</td></tr></table><br/></div><div class=\"wandb-col\"><h3>Run summary:</h3><br/><table class=\"wandb\"><tr><td>Accuracy/train</td><td>0.96938</td></tr><tr><td>Accuracy/val</td><td>0.90082</td></tr><tr><td>BIC/train</td><td>37938.00879</td></tr><tr><td>BIC/val</td><td>25118.60229</td></tr></table><br/></div></div>"
      ],
      "text/plain": [
       "<IPython.core.display.HTML object>"
      ]
     },
     "metadata": {},
     "output_type": "display_data"
    },
    {
     "data": {
      "text/html": [
       " View run <strong style=\"color:#cdcd00\">expert-sweep-34</strong> at: <a href='https://wandb.ai/hofer1991/RF_Foresthybrid_table/runs/mdk1gmbm' target=\"_blank\">https://wandb.ai/hofer1991/RF_Foresthybrid_table/runs/mdk1gmbm</a><br/>Synced 4 W&B file(s), 0 media file(s), 0 artifact file(s) and 0 other file(s)"
      ],
      "text/plain": [
       "<IPython.core.display.HTML object>"
      ]
     },
     "metadata": {},
     "output_type": "display_data"
    },
    {
     "data": {
      "text/html": [
       "Find logs at: <code>./wandb/run-20230609_122013-mdk1gmbm/logs</code>"
      ],
      "text/plain": [
       "<IPython.core.display.HTML object>"
      ]
     },
     "metadata": {},
     "output_type": "display_data"
    },
    {
     "name": "stderr",
     "output_type": "stream",
     "text": [
      "\u001b[34m\u001b[1mwandb\u001b[0m: Agent Starting Run: e1al9s9y with config:\n",
      "\u001b[34m\u001b[1mwandb\u001b[0m: \trf__max_depth: 60\n",
      "\u001b[34m\u001b[1mwandb\u001b[0m: \trf__max_features: 6\n",
      "\u001b[34m\u001b[1mwandb\u001b[0m: \trf__max_samples: 0.33770186966564153\n",
      "\u001b[34m\u001b[1mwandb\u001b[0m: \trf__n_estimators: 1678\n",
      "\u001b[34m\u001b[1mwandb\u001b[0m: \tsel__n_features: 10\n"
     ]
    },
    {
     "data": {
      "text/html": [
       "Tracking run with wandb version 0.15.4"
      ],
      "text/plain": [
       "<IPython.core.display.HTML object>"
      ]
     },
     "metadata": {},
     "output_type": "display_data"
    },
    {
     "data": {
      "text/html": [
       "Run data is saved locally in <code>/media/sf_geocomputation_class/forestmap/wandb/run-20230609_122326-e1al9s9y</code>"
      ],
      "text/plain": [
       "<IPython.core.display.HTML object>"
      ]
     },
     "metadata": {},
     "output_type": "display_data"
    },
    {
     "data": {
      "text/html": [
       "Syncing run <strong><a href='https://wandb.ai/hofer1991/RF_Foresthybrid_table/runs/e1al9s9y' target=\"_blank\">wise-sweep-35</a></strong> to <a href='https://wandb.ai/hofer1991/RF_Foresthybrid_table' target=\"_blank\">Weights & Biases</a> (<a href='https://wandb.me/run' target=\"_blank\">docs</a>)<br/>Sweep page: <a href='https://wandb.ai/hofer1991/RF_Foresthybrid_table/sweeps/uq2lt86p' target=\"_blank\">https://wandb.ai/hofer1991/RF_Foresthybrid_table/sweeps/uq2lt86p</a>"
      ],
      "text/plain": [
       "<IPython.core.display.HTML object>"
      ]
     },
     "metadata": {},
     "output_type": "display_data"
    },
    {
     "data": {
      "text/html": [
       " View project at <a href='https://wandb.ai/hofer1991/RF_Foresthybrid_table' target=\"_blank\">https://wandb.ai/hofer1991/RF_Foresthybrid_table</a>"
      ],
      "text/plain": [
       "<IPython.core.display.HTML object>"
      ]
     },
     "metadata": {},
     "output_type": "display_data"
    },
    {
     "data": {
      "text/html": [
       " View sweep at <a href='https://wandb.ai/hofer1991/RF_Foresthybrid_table/sweeps/uq2lt86p' target=\"_blank\">https://wandb.ai/hofer1991/RF_Foresthybrid_table/sweeps/uq2lt86p</a>"
      ],
      "text/plain": [
       "<IPython.core.display.HTML object>"
      ]
     },
     "metadata": {},
     "output_type": "display_data"
    },
    {
     "data": {
      "text/html": [
       " View run at <a href='https://wandb.ai/hofer1991/RF_Foresthybrid_table/runs/e1al9s9y' target=\"_blank\">https://wandb.ai/hofer1991/RF_Foresthybrid_table/runs/e1al9s9y</a>"
      ],
      "text/plain": [
       "<IPython.core.display.HTML object>"
      ]
     },
     "metadata": {},
     "output_type": "display_data"
    },
    {
     "data": {
      "text/html": [
       "Waiting for W&B process to finish... <strong style=\"color:green\">(success).</strong>"
      ],
      "text/plain": [
       "<IPython.core.display.HTML object>"
      ]
     },
     "metadata": {},
     "output_type": "display_data"
    },
    {
     "name": "stderr",
     "output_type": "stream",
     "text": [
      "Widget Javascript not detected.  It may not be installed or enabled properly. Reconnecting the current kernel may help.\n"
     ]
    },
    {
     "data": {
      "application/vnd.jupyter.widget-view+json": {
       "model_id": "a32d46f6bc00451186a3caed7917bfe9"
      }
     },
     "metadata": {},
     "output_type": "display_data"
    },
    {
     "data": {
      "text/html": [
       "<style>\n",
       "    table.wandb td:nth-child(1) { padding: 0 10px; text-align: left ; width: auto;} td:nth-child(2) {text-align: left ; width: 100%}\n",
       "    .wandb-row { display: flex; flex-direction: row; flex-wrap: wrap; justify-content: flex-start; width: 100% }\n",
       "    .wandb-col { display: flex; flex-direction: column; flex-basis: 100%; flex: 1; padding: 10px; }\n",
       "    </style>\n",
       "<div class=\"wandb-row\"><div class=\"wandb-col\"><h3>Run history:</h3><br/><table class=\"wandb\"><tr><td>Accuracy/train</td><td>▁</td></tr><tr><td>Accuracy/val</td><td>▁</td></tr><tr><td>BIC/train</td><td>▁</td></tr><tr><td>BIC/val</td><td>▁</td></tr></table><br/></div><div class=\"wandb-col\"><h3>Run summary:</h3><br/><table class=\"wandb\"><tr><td>Accuracy/train</td><td>0.95178</td></tr><tr><td>Accuracy/val</td><td>0.90073</td></tr><tr><td>BIC/train</td><td>32983.57496</td></tr><tr><td>BIC/val</td><td>25108.52376</td></tr></table><br/></div></div>"
      ],
      "text/plain": [
       "<IPython.core.display.HTML object>"
      ]
     },
     "metadata": {},
     "output_type": "display_data"
    },
    {
     "data": {
      "text/html": [
       " View run <strong style=\"color:#cdcd00\">wise-sweep-35</strong> at: <a href='https://wandb.ai/hofer1991/RF_Foresthybrid_table/runs/e1al9s9y' target=\"_blank\">https://wandb.ai/hofer1991/RF_Foresthybrid_table/runs/e1al9s9y</a><br/>Synced 4 W&B file(s), 0 media file(s), 0 artifact file(s) and 0 other file(s)"
      ],
      "text/plain": [
       "<IPython.core.display.HTML object>"
      ]
     },
     "metadata": {},
     "output_type": "display_data"
    },
    {
     "data": {
      "text/html": [
       "Find logs at: <code>./wandb/run-20230609_122326-e1al9s9y/logs</code>"
      ],
      "text/plain": [
       "<IPython.core.display.HTML object>"
      ]
     },
     "metadata": {},
     "output_type": "display_data"
    },
    {
     "name": "stderr",
     "output_type": "stream",
     "text": [
      "\u001b[34m\u001b[1mwandb\u001b[0m: Sweep Agent: Waiting for job.\n",
      "\u001b[34m\u001b[1mwandb\u001b[0m: Job received.\n",
      "\u001b[34m\u001b[1mwandb\u001b[0m: Agent Starting Run: h1e2c25g with config:\n",
      "\u001b[34m\u001b[1mwandb\u001b[0m: \trf__max_depth: 284\n",
      "\u001b[34m\u001b[1mwandb\u001b[0m: \trf__max_features: 3\n",
      "\u001b[34m\u001b[1mwandb\u001b[0m: \trf__max_samples: 0.38393524515519895\n",
      "\u001b[34m\u001b[1mwandb\u001b[0m: \trf__n_estimators: 555\n",
      "\u001b[34m\u001b[1mwandb\u001b[0m: \tsel__n_features: 9\n"
     ]
    },
    {
     "data": {
      "text/html": [
       "Tracking run with wandb version 0.15.4"
      ],
      "text/plain": [
       "<IPython.core.display.HTML object>"
      ]
     },
     "metadata": {},
     "output_type": "display_data"
    },
    {
     "data": {
      "text/html": [
       "Run data is saved locally in <code>/media/sf_geocomputation_class/forestmap/wandb/run-20230609_122650-h1e2c25g</code>"
      ],
      "text/plain": [
       "<IPython.core.display.HTML object>"
      ]
     },
     "metadata": {},
     "output_type": "display_data"
    },
    {
     "data": {
      "text/html": [
       "Syncing run <strong><a href='https://wandb.ai/hofer1991/RF_Foresthybrid_table/runs/h1e2c25g' target=\"_blank\">northern-sweep-36</a></strong> to <a href='https://wandb.ai/hofer1991/RF_Foresthybrid_table' target=\"_blank\">Weights & Biases</a> (<a href='https://wandb.me/run' target=\"_blank\">docs</a>)<br/>Sweep page: <a href='https://wandb.ai/hofer1991/RF_Foresthybrid_table/sweeps/uq2lt86p' target=\"_blank\">https://wandb.ai/hofer1991/RF_Foresthybrid_table/sweeps/uq2lt86p</a>"
      ],
      "text/plain": [
       "<IPython.core.display.HTML object>"
      ]
     },
     "metadata": {},
     "output_type": "display_data"
    },
    {
     "data": {
      "text/html": [
       " View project at <a href='https://wandb.ai/hofer1991/RF_Foresthybrid_table' target=\"_blank\">https://wandb.ai/hofer1991/RF_Foresthybrid_table</a>"
      ],
      "text/plain": [
       "<IPython.core.display.HTML object>"
      ]
     },
     "metadata": {},
     "output_type": "display_data"
    },
    {
     "data": {
      "text/html": [
       " View sweep at <a href='https://wandb.ai/hofer1991/RF_Foresthybrid_table/sweeps/uq2lt86p' target=\"_blank\">https://wandb.ai/hofer1991/RF_Foresthybrid_table/sweeps/uq2lt86p</a>"
      ],
      "text/plain": [
       "<IPython.core.display.HTML object>"
      ]
     },
     "metadata": {},
     "output_type": "display_data"
    },
    {
     "data": {
      "text/html": [
       " View run at <a href='https://wandb.ai/hofer1991/RF_Foresthybrid_table/runs/h1e2c25g' target=\"_blank\">https://wandb.ai/hofer1991/RF_Foresthybrid_table/runs/h1e2c25g</a>"
      ],
      "text/plain": [
       "<IPython.core.display.HTML object>"
      ]
     },
     "metadata": {},
     "output_type": "display_data"
    },
    {
     "data": {
      "text/html": [
       "Waiting for W&B process to finish... <strong style=\"color:green\">(success).</strong>"
      ],
      "text/plain": [
       "<IPython.core.display.HTML object>"
      ]
     },
     "metadata": {},
     "output_type": "display_data"
    },
    {
     "name": "stderr",
     "output_type": "stream",
     "text": [
      "Widget Javascript not detected.  It may not be installed or enabled properly. Reconnecting the current kernel may help.\n"
     ]
    },
    {
     "data": {
      "application/vnd.jupyter.widget-view+json": {
       "model_id": "94fb7b3e5bb64130ac1198bb82c70bb6"
      }
     },
     "metadata": {},
     "output_type": "display_data"
    },
    {
     "data": {
      "text/html": [
       "<style>\n",
       "    table.wandb td:nth-child(1) { padding: 0 10px; text-align: left ; width: auto;} td:nth-child(2) {text-align: left ; width: 100%}\n",
       "    .wandb-row { display: flex; flex-direction: row; flex-wrap: wrap; justify-content: flex-start; width: 100% }\n",
       "    .wandb-col { display: flex; flex-direction: column; flex-basis: 100%; flex: 1; padding: 10px; }\n",
       "    </style>\n",
       "<div class=\"wandb-row\"><div class=\"wandb-col\"><h3>Run history:</h3><br/><table class=\"wandb\"><tr><td>Accuracy/train</td><td>▁</td></tr><tr><td>Accuracy/val</td><td>▁</td></tr><tr><td>BIC/train</td><td>▁</td></tr><tr><td>BIC/val</td><td>▁</td></tr></table><br/></div><div class=\"wandb-col\"><h3>Run summary:</h3><br/><table class=\"wandb\"><tr><td>Accuracy/train</td><td>0.95655</td></tr><tr><td>Accuracy/val</td><td>0.90018</td></tr><tr><td>BIC/train</td><td>34128.43256</td></tr><tr><td>BIC/val</td><td>25057.5448</td></tr></table><br/></div></div>"
      ],
      "text/plain": [
       "<IPython.core.display.HTML object>"
      ]
     },
     "metadata": {},
     "output_type": "display_data"
    },
    {
     "data": {
      "text/html": [
       " View run <strong style=\"color:#cdcd00\">northern-sweep-36</strong> at: <a href='https://wandb.ai/hofer1991/RF_Foresthybrid_table/runs/h1e2c25g' target=\"_blank\">https://wandb.ai/hofer1991/RF_Foresthybrid_table/runs/h1e2c25g</a><br/>Synced 4 W&B file(s), 0 media file(s), 0 artifact file(s) and 0 other file(s)"
      ],
      "text/plain": [
       "<IPython.core.display.HTML object>"
      ]
     },
     "metadata": {},
     "output_type": "display_data"
    },
    {
     "data": {
      "text/html": [
       "Find logs at: <code>./wandb/run-20230609_122650-h1e2c25g/logs</code>"
      ],
      "text/plain": [
       "<IPython.core.display.HTML object>"
      ]
     },
     "metadata": {},
     "output_type": "display_data"
    },
    {
     "name": "stderr",
     "output_type": "stream",
     "text": [
      "\u001b[34m\u001b[1mwandb\u001b[0m: Agent Starting Run: yoascg9c with config:\n",
      "\u001b[34m\u001b[1mwandb\u001b[0m: \trf__max_depth: 75\n",
      "\u001b[34m\u001b[1mwandb\u001b[0m: \trf__max_features: 3\n",
      "\u001b[34m\u001b[1mwandb\u001b[0m: \trf__max_samples: 0.50324687707524\n",
      "\u001b[34m\u001b[1mwandb\u001b[0m: \trf__n_estimators: 515\n",
      "\u001b[34m\u001b[1mwandb\u001b[0m: \tsel__n_features: 3\n"
     ]
    },
    {
     "data": {
      "text/html": [
       "Tracking run with wandb version 0.15.4"
      ],
      "text/plain": [
       "<IPython.core.display.HTML object>"
      ]
     },
     "metadata": {},
     "output_type": "display_data"
    },
    {
     "data": {
      "text/html": [
       "Run data is saved locally in <code>/media/sf_geocomputation_class/forestmap/wandb/run-20230609_122809-yoascg9c</code>"
      ],
      "text/plain": [
       "<IPython.core.display.HTML object>"
      ]
     },
     "metadata": {},
     "output_type": "display_data"
    },
    {
     "data": {
      "text/html": [
       "Syncing run <strong><a href='https://wandb.ai/hofer1991/RF_Foresthybrid_table/runs/yoascg9c' target=\"_blank\">worthy-sweep-37</a></strong> to <a href='https://wandb.ai/hofer1991/RF_Foresthybrid_table' target=\"_blank\">Weights & Biases</a> (<a href='https://wandb.me/run' target=\"_blank\">docs</a>)<br/>Sweep page: <a href='https://wandb.ai/hofer1991/RF_Foresthybrid_table/sweeps/uq2lt86p' target=\"_blank\">https://wandb.ai/hofer1991/RF_Foresthybrid_table/sweeps/uq2lt86p</a>"
      ],
      "text/plain": [
       "<IPython.core.display.HTML object>"
      ]
     },
     "metadata": {},
     "output_type": "display_data"
    },
    {
     "data": {
      "text/html": [
       " View project at <a href='https://wandb.ai/hofer1991/RF_Foresthybrid_table' target=\"_blank\">https://wandb.ai/hofer1991/RF_Foresthybrid_table</a>"
      ],
      "text/plain": [
       "<IPython.core.display.HTML object>"
      ]
     },
     "metadata": {},
     "output_type": "display_data"
    },
    {
     "data": {
      "text/html": [
       " View sweep at <a href='https://wandb.ai/hofer1991/RF_Foresthybrid_table/sweeps/uq2lt86p' target=\"_blank\">https://wandb.ai/hofer1991/RF_Foresthybrid_table/sweeps/uq2lt86p</a>"
      ],
      "text/plain": [
       "<IPython.core.display.HTML object>"
      ]
     },
     "metadata": {},
     "output_type": "display_data"
    },
    {
     "data": {
      "text/html": [
       " View run at <a href='https://wandb.ai/hofer1991/RF_Foresthybrid_table/runs/yoascg9c' target=\"_blank\">https://wandb.ai/hofer1991/RF_Foresthybrid_table/runs/yoascg9c</a>"
      ],
      "text/plain": [
       "<IPython.core.display.HTML object>"
      ]
     },
     "metadata": {},
     "output_type": "display_data"
    },
    {
     "data": {
      "text/html": [
       "Waiting for W&B process to finish... <strong style=\"color:green\">(success).</strong>"
      ],
      "text/plain": [
       "<IPython.core.display.HTML object>"
      ]
     },
     "metadata": {},
     "output_type": "display_data"
    },
    {
     "name": "stderr",
     "output_type": "stream",
     "text": [
      "Widget Javascript not detected.  It may not be installed or enabled properly. Reconnecting the current kernel may help.\n"
     ]
    },
    {
     "data": {
      "application/vnd.jupyter.widget-view+json": {
       "model_id": "668c49b63e344a75bc11520b404e0f49"
      }
     },
     "metadata": {},
     "output_type": "display_data"
    },
    {
     "data": {
      "text/html": [
       "<style>\n",
       "    table.wandb td:nth-child(1) { padding: 0 10px; text-align: left ; width: auto;} td:nth-child(2) {text-align: left ; width: 100%}\n",
       "    .wandb-row { display: flex; flex-direction: row; flex-wrap: wrap; justify-content: flex-start; width: 100% }\n",
       "    .wandb-col { display: flex; flex-direction: column; flex-basis: 100%; flex: 1; padding: 10px; }\n",
       "    </style>\n",
       "<div class=\"wandb-row\"><div class=\"wandb-col\"><h3>Run history:</h3><br/><table class=\"wandb\"><tr><td>Accuracy/train</td><td>▁</td></tr><tr><td>Accuracy/val</td><td>▁</td></tr><tr><td>BIC/train</td><td>▁</td></tr><tr><td>BIC/val</td><td>▁</td></tr></table><br/></div><div class=\"wandb-col\"><h3>Run summary:</h3><br/><table class=\"wandb\"><tr><td>Accuracy/train</td><td>0.96847</td></tr><tr><td>Accuracy/val</td><td>0.89148</td></tr><tr><td>BIC/train</td><td>37681.26745</td></tr><tr><td>BIC/val</td><td>24200.83128</td></tr></table><br/></div></div>"
      ],
      "text/plain": [
       "<IPython.core.display.HTML object>"
      ]
     },
     "metadata": {},
     "output_type": "display_data"
    },
    {
     "data": {
      "text/html": [
       " View run <strong style=\"color:#cdcd00\">worthy-sweep-37</strong> at: <a href='https://wandb.ai/hofer1991/RF_Foresthybrid_table/runs/yoascg9c' target=\"_blank\">https://wandb.ai/hofer1991/RF_Foresthybrid_table/runs/yoascg9c</a><br/>Synced 4 W&B file(s), 0 media file(s), 0 artifact file(s) and 0 other file(s)"
      ],
      "text/plain": [
       "<IPython.core.display.HTML object>"
      ]
     },
     "metadata": {},
     "output_type": "display_data"
    },
    {
     "data": {
      "text/html": [
       "Find logs at: <code>./wandb/run-20230609_122809-yoascg9c/logs</code>"
      ],
      "text/plain": [
       "<IPython.core.display.HTML object>"
      ]
     },
     "metadata": {},
     "output_type": "display_data"
    },
    {
     "name": "stderr",
     "output_type": "stream",
     "text": [
      "\u001b[34m\u001b[1mwandb\u001b[0m: Agent Starting Run: y9ntujg9 with config:\n",
      "\u001b[34m\u001b[1mwandb\u001b[0m: \trf__max_depth: 188\n",
      "\u001b[34m\u001b[1mwandb\u001b[0m: \trf__max_features: 4\n",
      "\u001b[34m\u001b[1mwandb\u001b[0m: \trf__max_samples: 0.4828062031739531\n",
      "\u001b[34m\u001b[1mwandb\u001b[0m: \trf__n_estimators: 532\n",
      "\u001b[34m\u001b[1mwandb\u001b[0m: \tsel__n_features: 10\n"
     ]
    },
    {
     "data": {
      "text/html": [
       "Tracking run with wandb version 0.15.4"
      ],
      "text/plain": [
       "<IPython.core.display.HTML object>"
      ]
     },
     "metadata": {},
     "output_type": "display_data"
    },
    {
     "data": {
      "text/html": [
       "Run data is saved locally in <code>/media/sf_geocomputation_class/forestmap/wandb/run-20230609_123001-y9ntujg9</code>"
      ],
      "text/plain": [
       "<IPython.core.display.HTML object>"
      ]
     },
     "metadata": {},
     "output_type": "display_data"
    },
    {
     "data": {
      "text/html": [
       "Syncing run <strong><a href='https://wandb.ai/hofer1991/RF_Foresthybrid_table/runs/y9ntujg9' target=\"_blank\">feasible-sweep-38</a></strong> to <a href='https://wandb.ai/hofer1991/RF_Foresthybrid_table' target=\"_blank\">Weights & Biases</a> (<a href='https://wandb.me/run' target=\"_blank\">docs</a>)<br/>Sweep page: <a href='https://wandb.ai/hofer1991/RF_Foresthybrid_table/sweeps/uq2lt86p' target=\"_blank\">https://wandb.ai/hofer1991/RF_Foresthybrid_table/sweeps/uq2lt86p</a>"
      ],
      "text/plain": [
       "<IPython.core.display.HTML object>"
      ]
     },
     "metadata": {},
     "output_type": "display_data"
    },
    {
     "data": {
      "text/html": [
       " View project at <a href='https://wandb.ai/hofer1991/RF_Foresthybrid_table' target=\"_blank\">https://wandb.ai/hofer1991/RF_Foresthybrid_table</a>"
      ],
      "text/plain": [
       "<IPython.core.display.HTML object>"
      ]
     },
     "metadata": {},
     "output_type": "display_data"
    },
    {
     "data": {
      "text/html": [
       " View sweep at <a href='https://wandb.ai/hofer1991/RF_Foresthybrid_table/sweeps/uq2lt86p' target=\"_blank\">https://wandb.ai/hofer1991/RF_Foresthybrid_table/sweeps/uq2lt86p</a>"
      ],
      "text/plain": [
       "<IPython.core.display.HTML object>"
      ]
     },
     "metadata": {},
     "output_type": "display_data"
    },
    {
     "data": {
      "text/html": [
       " View run at <a href='https://wandb.ai/hofer1991/RF_Foresthybrid_table/runs/y9ntujg9' target=\"_blank\">https://wandb.ai/hofer1991/RF_Foresthybrid_table/runs/y9ntujg9</a>"
      ],
      "text/plain": [
       "<IPython.core.display.HTML object>"
      ]
     },
     "metadata": {},
     "output_type": "display_data"
    },
    {
     "data": {
      "text/html": [
       "Waiting for W&B process to finish... <strong style=\"color:green\">(success).</strong>"
      ],
      "text/plain": [
       "<IPython.core.display.HTML object>"
      ]
     },
     "metadata": {},
     "output_type": "display_data"
    },
    {
     "name": "stderr",
     "output_type": "stream",
     "text": [
      "Widget Javascript not detected.  It may not be installed or enabled properly. Reconnecting the current kernel may help.\n"
     ]
    },
    {
     "data": {
      "application/vnd.jupyter.widget-view+json": {
       "model_id": "d8cc24b69dad4086ab75a510487f5c7e"
      }
     },
     "metadata": {},
     "output_type": "display_data"
    },
    {
     "data": {
      "text/html": [
       "<style>\n",
       "    table.wandb td:nth-child(1) { padding: 0 10px; text-align: left ; width: auto;} td:nth-child(2) {text-align: left ; width: 100%}\n",
       "    .wandb-row { display: flex; flex-direction: row; flex-wrap: wrap; justify-content: flex-start; width: 100% }\n",
       "    .wandb-col { display: flex; flex-direction: column; flex-basis: 100%; flex: 1; padding: 10px; }\n",
       "    </style>\n",
       "<div class=\"wandb-row\"><div class=\"wandb-col\"><h3>Run history:</h3><br/><table class=\"wandb\"><tr><td>Accuracy/train</td><td>▁</td></tr><tr><td>Accuracy/val</td><td>▁</td></tr><tr><td>BIC/train</td><td>▁</td></tr><tr><td>BIC/val</td><td>▁</td></tr></table><br/></div><div class=\"wandb-col\"><h3>Run summary:</h3><br/><table class=\"wandb\"><tr><td>Accuracy/train</td><td>0.96902</td></tr><tr><td>Accuracy/val</td><td>0.90064</td></tr><tr><td>BIC/train</td><td>37808.13821</td></tr><tr><td>BIC/val</td><td>25098.45454</td></tr></table><br/></div></div>"
      ],
      "text/plain": [
       "<IPython.core.display.HTML object>"
      ]
     },
     "metadata": {},
     "output_type": "display_data"
    },
    {
     "data": {
      "text/html": [
       " View run <strong style=\"color:#cdcd00\">feasible-sweep-38</strong> at: <a href='https://wandb.ai/hofer1991/RF_Foresthybrid_table/runs/y9ntujg9' target=\"_blank\">https://wandb.ai/hofer1991/RF_Foresthybrid_table/runs/y9ntujg9</a><br/>Synced 4 W&B file(s), 0 media file(s), 0 artifact file(s) and 0 other file(s)"
      ],
      "text/plain": [
       "<IPython.core.display.HTML object>"
      ]
     },
     "metadata": {},
     "output_type": "display_data"
    },
    {
     "data": {
      "text/html": [
       "Find logs at: <code>./wandb/run-20230609_123001-y9ntujg9/logs</code>"
      ],
      "text/plain": [
       "<IPython.core.display.HTML object>"
      ]
     },
     "metadata": {},
     "output_type": "display_data"
    },
    {
     "name": "stderr",
     "output_type": "stream",
     "text": [
      "\u001b[34m\u001b[1mwandb\u001b[0m: Agent Starting Run: 224r9o8n with config:\n",
      "\u001b[34m\u001b[1mwandb\u001b[0m: \trf__max_depth: 58\n",
      "\u001b[34m\u001b[1mwandb\u001b[0m: \trf__max_features: 10\n",
      "\u001b[34m\u001b[1mwandb\u001b[0m: \trf__max_samples: 0.4253878006681104\n",
      "\u001b[34m\u001b[1mwandb\u001b[0m: \trf__n_estimators: 1620\n",
      "\u001b[34m\u001b[1mwandb\u001b[0m: \tsel__n_features: 10\n"
     ]
    },
    {
     "data": {
      "text/html": [
       "Tracking run with wandb version 0.15.4"
      ],
      "text/plain": [
       "<IPython.core.display.HTML object>"
      ]
     },
     "metadata": {},
     "output_type": "display_data"
    },
    {
     "data": {
      "text/html": [
       "Run data is saved locally in <code>/media/sf_geocomputation_class/forestmap/wandb/run-20230609_123120-224r9o8n</code>"
      ],
      "text/plain": [
       "<IPython.core.display.HTML object>"
      ]
     },
     "metadata": {},
     "output_type": "display_data"
    },
    {
     "data": {
      "text/html": [
       "Syncing run <strong><a href='https://wandb.ai/hofer1991/RF_Foresthybrid_table/runs/224r9o8n' target=\"_blank\">grateful-sweep-39</a></strong> to <a href='https://wandb.ai/hofer1991/RF_Foresthybrid_table' target=\"_blank\">Weights & Biases</a> (<a href='https://wandb.me/run' target=\"_blank\">docs</a>)<br/>Sweep page: <a href='https://wandb.ai/hofer1991/RF_Foresthybrid_table/sweeps/uq2lt86p' target=\"_blank\">https://wandb.ai/hofer1991/RF_Foresthybrid_table/sweeps/uq2lt86p</a>"
      ],
      "text/plain": [
       "<IPython.core.display.HTML object>"
      ]
     },
     "metadata": {},
     "output_type": "display_data"
    },
    {
     "data": {
      "text/html": [
       " View project at <a href='https://wandb.ai/hofer1991/RF_Foresthybrid_table' target=\"_blank\">https://wandb.ai/hofer1991/RF_Foresthybrid_table</a>"
      ],
      "text/plain": [
       "<IPython.core.display.HTML object>"
      ]
     },
     "metadata": {},
     "output_type": "display_data"
    },
    {
     "data": {
      "text/html": [
       " View sweep at <a href='https://wandb.ai/hofer1991/RF_Foresthybrid_table/sweeps/uq2lt86p' target=\"_blank\">https://wandb.ai/hofer1991/RF_Foresthybrid_table/sweeps/uq2lt86p</a>"
      ],
      "text/plain": [
       "<IPython.core.display.HTML object>"
      ]
     },
     "metadata": {},
     "output_type": "display_data"
    },
    {
     "data": {
      "text/html": [
       " View run at <a href='https://wandb.ai/hofer1991/RF_Foresthybrid_table/runs/224r9o8n' target=\"_blank\">https://wandb.ai/hofer1991/RF_Foresthybrid_table/runs/224r9o8n</a>"
      ],
      "text/plain": [
       "<IPython.core.display.HTML object>"
      ]
     },
     "metadata": {},
     "output_type": "display_data"
    },
    {
     "data": {
      "text/html": [
       "Waiting for W&B process to finish... <strong style=\"color:green\">(success).</strong>"
      ],
      "text/plain": [
       "<IPython.core.display.HTML object>"
      ]
     },
     "metadata": {},
     "output_type": "display_data"
    },
    {
     "name": "stderr",
     "output_type": "stream",
     "text": [
      "Widget Javascript not detected.  It may not be installed or enabled properly. Reconnecting the current kernel may help.\n"
     ]
    },
    {
     "data": {
      "application/vnd.jupyter.widget-view+json": {
       "model_id": "caadc519c55645cbb677545fbfb5fcc6"
      }
     },
     "metadata": {},
     "output_type": "display_data"
    },
    {
     "data": {
      "text/html": [
       "<style>\n",
       "    table.wandb td:nth-child(1) { padding: 0 10px; text-align: left ; width: auto;} td:nth-child(2) {text-align: left ; width: 100%}\n",
       "    .wandb-row { display: flex; flex-direction: row; flex-wrap: wrap; justify-content: flex-start; width: 100% }\n",
       "    .wandb-col { display: flex; flex-direction: column; flex-basis: 100%; flex: 1; padding: 10px; }\n",
       "    </style>\n",
       "<div class=\"wandb-row\"><div class=\"wandb-col\"><h3>Run history:</h3><br/><table class=\"wandb\"><tr><td>Accuracy/train</td><td>▁</td></tr><tr><td>Accuracy/val</td><td>▁</td></tr><tr><td>BIC/train</td><td>▁</td></tr><tr><td>BIC/val</td><td>▁</td></tr></table><br/></div><div class=\"wandb-col\"><h3>Run summary:</h3><br/><table class=\"wandb\"><tr><td>Accuracy/train</td><td>0.96159</td></tr><tr><td>Accuracy/val</td><td>0.90064</td></tr><tr><td>BIC/train</td><td>35464.61202</td></tr><tr><td>BIC/val</td><td>25098.45454</td></tr></table><br/></div></div>"
      ],
      "text/plain": [
       "<IPython.core.display.HTML object>"
      ]
     },
     "metadata": {},
     "output_type": "display_data"
    },
    {
     "data": {
      "text/html": [
       " View run <strong style=\"color:#cdcd00\">grateful-sweep-39</strong> at: <a href='https://wandb.ai/hofer1991/RF_Foresthybrid_table/runs/224r9o8n' target=\"_blank\">https://wandb.ai/hofer1991/RF_Foresthybrid_table/runs/224r9o8n</a><br/>Synced 4 W&B file(s), 0 media file(s), 0 artifact file(s) and 0 other file(s)"
      ],
      "text/plain": [
       "<IPython.core.display.HTML object>"
      ]
     },
     "metadata": {},
     "output_type": "display_data"
    },
    {
     "data": {
      "text/html": [
       "Find logs at: <code>./wandb/run-20230609_123120-224r9o8n/logs</code>"
      ],
      "text/plain": [
       "<IPython.core.display.HTML object>"
      ]
     },
     "metadata": {},
     "output_type": "display_data"
    },
    {
     "name": "stderr",
     "output_type": "stream",
     "text": [
      "\u001b[34m\u001b[1mwandb\u001b[0m: Sweep Agent: Waiting for job.\n",
      "\u001b[34m\u001b[1mwandb\u001b[0m: Job received.\n",
      "\u001b[34m\u001b[1mwandb\u001b[0m: Agent Starting Run: uz56649e with config:\n",
      "\u001b[34m\u001b[1mwandb\u001b[0m: \trf__max_depth: 289\n",
      "\u001b[34m\u001b[1mwandb\u001b[0m: \trf__max_features: 10\n",
      "\u001b[34m\u001b[1mwandb\u001b[0m: \trf__max_samples: 0.30442850055478377\n",
      "\u001b[34m\u001b[1mwandb\u001b[0m: \trf__n_estimators: 1936\n",
      "\u001b[34m\u001b[1mwandb\u001b[0m: \tsel__n_features: 10\n"
     ]
    },
    {
     "data": {
      "text/html": [
       "Tracking run with wandb version 0.15.4"
      ],
      "text/plain": [
       "<IPython.core.display.HTML object>"
      ]
     },
     "metadata": {},
     "output_type": "display_data"
    },
    {
     "data": {
      "text/html": [
       "Run data is saved locally in <code>/media/sf_geocomputation_class/forestmap/wandb/run-20230609_123641-uz56649e</code>"
      ],
      "text/plain": [
       "<IPython.core.display.HTML object>"
      ]
     },
     "metadata": {},
     "output_type": "display_data"
    },
    {
     "data": {
      "text/html": [
       "Syncing run <strong><a href='https://wandb.ai/hofer1991/RF_Foresthybrid_table/runs/uz56649e' target=\"_blank\">autumn-sweep-40</a></strong> to <a href='https://wandb.ai/hofer1991/RF_Foresthybrid_table' target=\"_blank\">Weights & Biases</a> (<a href='https://wandb.me/run' target=\"_blank\">docs</a>)<br/>Sweep page: <a href='https://wandb.ai/hofer1991/RF_Foresthybrid_table/sweeps/uq2lt86p' target=\"_blank\">https://wandb.ai/hofer1991/RF_Foresthybrid_table/sweeps/uq2lt86p</a>"
      ],
      "text/plain": [
       "<IPython.core.display.HTML object>"
      ]
     },
     "metadata": {},
     "output_type": "display_data"
    },
    {
     "data": {
      "text/html": [
       " View project at <a href='https://wandb.ai/hofer1991/RF_Foresthybrid_table' target=\"_blank\">https://wandb.ai/hofer1991/RF_Foresthybrid_table</a>"
      ],
      "text/plain": [
       "<IPython.core.display.HTML object>"
      ]
     },
     "metadata": {},
     "output_type": "display_data"
    },
    {
     "data": {
      "text/html": [
       " View sweep at <a href='https://wandb.ai/hofer1991/RF_Foresthybrid_table/sweeps/uq2lt86p' target=\"_blank\">https://wandb.ai/hofer1991/RF_Foresthybrid_table/sweeps/uq2lt86p</a>"
      ],
      "text/plain": [
       "<IPython.core.display.HTML object>"
      ]
     },
     "metadata": {},
     "output_type": "display_data"
    },
    {
     "data": {
      "text/html": [
       " View run at <a href='https://wandb.ai/hofer1991/RF_Foresthybrid_table/runs/uz56649e' target=\"_blank\">https://wandb.ai/hofer1991/RF_Foresthybrid_table/runs/uz56649e</a>"
      ],
      "text/plain": [
       "<IPython.core.display.HTML object>"
      ]
     },
     "metadata": {},
     "output_type": "display_data"
    },
    {
     "data": {
      "text/html": [
       "Waiting for W&B process to finish... <strong style=\"color:green\">(success).</strong>"
      ],
      "text/plain": [
       "<IPython.core.display.HTML object>"
      ]
     },
     "metadata": {},
     "output_type": "display_data"
    },
    {
     "name": "stderr",
     "output_type": "stream",
     "text": [
      "Widget Javascript not detected.  It may not be installed or enabled properly. Reconnecting the current kernel may help.\n"
     ]
    },
    {
     "data": {
      "application/vnd.jupyter.widget-view+json": {
       "model_id": "a81f38151bc5400cbae1d91c3a42b544"
      }
     },
     "metadata": {},
     "output_type": "display_data"
    },
    {
     "data": {
      "text/html": [
       "<style>\n",
       "    table.wandb td:nth-child(1) { padding: 0 10px; text-align: left ; width: auto;} td:nth-child(2) {text-align: left ; width: 100%}\n",
       "    .wandb-row { display: flex; flex-direction: row; flex-wrap: wrap; justify-content: flex-start; width: 100% }\n",
       "    .wandb-col { display: flex; flex-direction: column; flex-basis: 100%; flex: 1; padding: 10px; }\n",
       "    </style>\n",
       "<div class=\"wandb-row\"><div class=\"wandb-col\"><h3>Run history:</h3><br/><table class=\"wandb\"><tr><td>Accuracy/train</td><td>▁</td></tr><tr><td>Accuracy/val</td><td>▁</td></tr><tr><td>BIC/train</td><td>▁</td></tr><tr><td>BIC/val</td><td>▁</td></tr></table><br/></div><div class=\"wandb-col\"><h3>Run summary:</h3><br/><table class=\"wandb\"><tr><td>Accuracy/train</td><td>0.94656</td></tr><tr><td>Accuracy/val</td><td>0.90202</td></tr><tr><td>BIC/train</td><td>31861.19187</td></tr><tr><td>BIC/val</td><td>25250.47744</td></tr></table><br/></div></div>"
      ],
      "text/plain": [
       "<IPython.core.display.HTML object>"
      ]
     },
     "metadata": {},
     "output_type": "display_data"
    },
    {
     "data": {
      "text/html": [
       " View run <strong style=\"color:#cdcd00\">autumn-sweep-40</strong> at: <a href='https://wandb.ai/hofer1991/RF_Foresthybrid_table/runs/uz56649e' target=\"_blank\">https://wandb.ai/hofer1991/RF_Foresthybrid_table/runs/uz56649e</a><br/>Synced 4 W&B file(s), 0 media file(s), 0 artifact file(s) and 0 other file(s)"
      ],
      "text/plain": [
       "<IPython.core.display.HTML object>"
      ]
     },
     "metadata": {},
     "output_type": "display_data"
    },
    {
     "data": {
      "text/html": [
       "Find logs at: <code>./wandb/run-20230609_123641-uz56649e/logs</code>"
      ],
      "text/plain": [
       "<IPython.core.display.HTML object>"
      ]
     },
     "metadata": {},
     "output_type": "display_data"
    },
    {
     "name": "stderr",
     "output_type": "stream",
     "text": [
      "\u001b[34m\u001b[1mwandb\u001b[0m: Agent Starting Run: 7kovpf78 with config:\n",
      "\u001b[34m\u001b[1mwandb\u001b[0m: \trf__max_depth: 288\n",
      "\u001b[34m\u001b[1mwandb\u001b[0m: \trf__max_features: 10\n",
      "\u001b[34m\u001b[1mwandb\u001b[0m: \trf__max_samples: 0.45403052288624834\n",
      "\u001b[34m\u001b[1mwandb\u001b[0m: \trf__n_estimators: 1577\n",
      "\u001b[34m\u001b[1mwandb\u001b[0m: \tsel__n_features: 10\n"
     ]
    },
    {
     "data": {
      "text/html": [
       "Tracking run with wandb version 0.15.4"
      ],
      "text/plain": [
       "<IPython.core.display.HTML object>"
      ]
     },
     "metadata": {},
     "output_type": "display_data"
    },
    {
     "data": {
      "text/html": [
       "Run data is saved locally in <code>/media/sf_geocomputation_class/forestmap/wandb/run-20230609_124114-7kovpf78</code>"
      ],
      "text/plain": [
       "<IPython.core.display.HTML object>"
      ]
     },
     "metadata": {},
     "output_type": "display_data"
    },
    {
     "data": {
      "text/html": [
       "Syncing run <strong><a href='https://wandb.ai/hofer1991/RF_Foresthybrid_table/runs/7kovpf78' target=\"_blank\">pious-sweep-41</a></strong> to <a href='https://wandb.ai/hofer1991/RF_Foresthybrid_table' target=\"_blank\">Weights & Biases</a> (<a href='https://wandb.me/run' target=\"_blank\">docs</a>)<br/>Sweep page: <a href='https://wandb.ai/hofer1991/RF_Foresthybrid_table/sweeps/uq2lt86p' target=\"_blank\">https://wandb.ai/hofer1991/RF_Foresthybrid_table/sweeps/uq2lt86p</a>"
      ],
      "text/plain": [
       "<IPython.core.display.HTML object>"
      ]
     },
     "metadata": {},
     "output_type": "display_data"
    },
    {
     "data": {
      "text/html": [
       " View project at <a href='https://wandb.ai/hofer1991/RF_Foresthybrid_table' target=\"_blank\">https://wandb.ai/hofer1991/RF_Foresthybrid_table</a>"
      ],
      "text/plain": [
       "<IPython.core.display.HTML object>"
      ]
     },
     "metadata": {},
     "output_type": "display_data"
    },
    {
     "data": {
      "text/html": [
       " View sweep at <a href='https://wandb.ai/hofer1991/RF_Foresthybrid_table/sweeps/uq2lt86p' target=\"_blank\">https://wandb.ai/hofer1991/RF_Foresthybrid_table/sweeps/uq2lt86p</a>"
      ],
      "text/plain": [
       "<IPython.core.display.HTML object>"
      ]
     },
     "metadata": {},
     "output_type": "display_data"
    },
    {
     "data": {
      "text/html": [
       " View run at <a href='https://wandb.ai/hofer1991/RF_Foresthybrid_table/runs/7kovpf78' target=\"_blank\">https://wandb.ai/hofer1991/RF_Foresthybrid_table/runs/7kovpf78</a>"
      ],
      "text/plain": [
       "<IPython.core.display.HTML object>"
      ]
     },
     "metadata": {},
     "output_type": "display_data"
    },
    {
     "data": {
      "text/html": [
       "Waiting for W&B process to finish... <strong style=\"color:green\">(success).</strong>"
      ],
      "text/plain": [
       "<IPython.core.display.HTML object>"
      ]
     },
     "metadata": {},
     "output_type": "display_data"
    },
    {
     "name": "stderr",
     "output_type": "stream",
     "text": [
      "Widget Javascript not detected.  It may not be installed or enabled properly. Reconnecting the current kernel may help.\n"
     ]
    },
    {
     "data": {
      "application/vnd.jupyter.widget-view+json": {
       "model_id": "80791ac6ca5848dc91fd384637787a98"
      }
     },
     "metadata": {},
     "output_type": "display_data"
    },
    {
     "data": {
      "text/html": [
       "<style>\n",
       "    table.wandb td:nth-child(1) { padding: 0 10px; text-align: left ; width: auto;} td:nth-child(2) {text-align: left ; width: 100%}\n",
       "    .wandb-row { display: flex; flex-direction: row; flex-wrap: wrap; justify-content: flex-start; width: 100% }\n",
       "    .wandb-col { display: flex; flex-direction: column; flex-basis: 100%; flex: 1; padding: 10px; }\n",
       "    </style>\n",
       "<div class=\"wandb-row\"><div class=\"wandb-col\"><h3>Run history:</h3><br/><table class=\"wandb\"><tr><td>Accuracy/train</td><td>▁</td></tr><tr><td>Accuracy/val</td><td>▁</td></tr><tr><td>BIC/train</td><td>▁</td></tr><tr><td>BIC/val</td><td>▁</td></tr></table><br/></div><div class=\"wandb-col\"><h3>Run summary:</h3><br/><table class=\"wandb\"><tr><td>Accuracy/train</td><td>0.96654</td></tr><tr><td>Accuracy/val</td><td>0.90027</td></tr><tr><td>BIC/train</td><td>36969.76566</td></tr><tr><td>BIC/val</td><td>25058.27034</td></tr></table><br/></div></div>"
      ],
      "text/plain": [
       "<IPython.core.display.HTML object>"
      ]
     },
     "metadata": {},
     "output_type": "display_data"
    },
    {
     "data": {
      "text/html": [
       " View run <strong style=\"color:#cdcd00\">pious-sweep-41</strong> at: <a href='https://wandb.ai/hofer1991/RF_Foresthybrid_table/runs/7kovpf78' target=\"_blank\">https://wandb.ai/hofer1991/RF_Foresthybrid_table/runs/7kovpf78</a><br/>Synced 4 W&B file(s), 0 media file(s), 0 artifact file(s) and 0 other file(s)"
      ],
      "text/plain": [
       "<IPython.core.display.HTML object>"
      ]
     },
     "metadata": {},
     "output_type": "display_data"
    },
    {
     "data": {
      "text/html": [
       "Find logs at: <code>./wandb/run-20230609_124114-7kovpf78/logs</code>"
      ],
      "text/plain": [
       "<IPython.core.display.HTML object>"
      ]
     },
     "metadata": {},
     "output_type": "display_data"
    },
    {
     "name": "stderr",
     "output_type": "stream",
     "text": [
      "\u001b[34m\u001b[1mwandb\u001b[0m: Agent Starting Run: gvmgxx8v with config:\n",
      "\u001b[34m\u001b[1mwandb\u001b[0m: \trf__max_depth: 280\n",
      "\u001b[34m\u001b[1mwandb\u001b[0m: \trf__max_features: 9\n",
      "\u001b[34m\u001b[1mwandb\u001b[0m: \trf__max_samples: 0.311009083489987\n",
      "\u001b[34m\u001b[1mwandb\u001b[0m: \trf__n_estimators: 1560\n",
      "\u001b[34m\u001b[1mwandb\u001b[0m: \tsel__n_features: 10\n"
     ]
    },
    {
     "data": {
      "text/html": [
       "Tracking run with wandb version 0.15.4"
      ],
      "text/plain": [
       "<IPython.core.display.HTML object>"
      ]
     },
     "metadata": {},
     "output_type": "display_data"
    },
    {
     "data": {
      "text/html": [
       "Run data is saved locally in <code>/media/sf_geocomputation_class/forestmap/wandb/run-20230609_124747-gvmgxx8v</code>"
      ],
      "text/plain": [
       "<IPython.core.display.HTML object>"
      ]
     },
     "metadata": {},
     "output_type": "display_data"
    },
    {
     "data": {
      "text/html": [
       "Syncing run <strong><a href='https://wandb.ai/hofer1991/RF_Foresthybrid_table/runs/gvmgxx8v' target=\"_blank\">fancy-sweep-42</a></strong> to <a href='https://wandb.ai/hofer1991/RF_Foresthybrid_table' target=\"_blank\">Weights & Biases</a> (<a href='https://wandb.me/run' target=\"_blank\">docs</a>)<br/>Sweep page: <a href='https://wandb.ai/hofer1991/RF_Foresthybrid_table/sweeps/uq2lt86p' target=\"_blank\">https://wandb.ai/hofer1991/RF_Foresthybrid_table/sweeps/uq2lt86p</a>"
      ],
      "text/plain": [
       "<IPython.core.display.HTML object>"
      ]
     },
     "metadata": {},
     "output_type": "display_data"
    },
    {
     "data": {
      "text/html": [
       " View project at <a href='https://wandb.ai/hofer1991/RF_Foresthybrid_table' target=\"_blank\">https://wandb.ai/hofer1991/RF_Foresthybrid_table</a>"
      ],
      "text/plain": [
       "<IPython.core.display.HTML object>"
      ]
     },
     "metadata": {},
     "output_type": "display_data"
    },
    {
     "data": {
      "text/html": [
       " View sweep at <a href='https://wandb.ai/hofer1991/RF_Foresthybrid_table/sweeps/uq2lt86p' target=\"_blank\">https://wandb.ai/hofer1991/RF_Foresthybrid_table/sweeps/uq2lt86p</a>"
      ],
      "text/plain": [
       "<IPython.core.display.HTML object>"
      ]
     },
     "metadata": {},
     "output_type": "display_data"
    },
    {
     "data": {
      "text/html": [
       " View run at <a href='https://wandb.ai/hofer1991/RF_Foresthybrid_table/runs/gvmgxx8v' target=\"_blank\">https://wandb.ai/hofer1991/RF_Foresthybrid_table/runs/gvmgxx8v</a>"
      ],
      "text/plain": [
       "<IPython.core.display.HTML object>"
      ]
     },
     "metadata": {},
     "output_type": "display_data"
    },
    {
     "data": {
      "text/html": [
       "Waiting for W&B process to finish... <strong style=\"color:green\">(success).</strong>"
      ],
      "text/plain": [
       "<IPython.core.display.HTML object>"
      ]
     },
     "metadata": {},
     "output_type": "display_data"
    },
    {
     "name": "stderr",
     "output_type": "stream",
     "text": [
      "Widget Javascript not detected.  It may not be installed or enabled properly. Reconnecting the current kernel may help.\n"
     ]
    },
    {
     "data": {
      "application/vnd.jupyter.widget-view+json": {
       "model_id": "56ce090ee1fe421fb00cfa348a850ded"
      }
     },
     "metadata": {},
     "output_type": "display_data"
    },
    {
     "data": {
      "text/html": [
       "<style>\n",
       "    table.wandb td:nth-child(1) { padding: 0 10px; text-align: left ; width: auto;} td:nth-child(2) {text-align: left ; width: 100%}\n",
       "    .wandb-row { display: flex; flex-direction: row; flex-wrap: wrap; justify-content: flex-start; width: 100% }\n",
       "    .wandb-col { display: flex; flex-direction: column; flex-basis: 100%; flex: 1; padding: 10px; }\n",
       "    </style>\n",
       "<div class=\"wandb-row\"><div class=\"wandb-col\"><h3>Run history:</h3><br/><table class=\"wandb\"><tr><td>Accuracy/train</td><td>▁</td></tr><tr><td>Accuracy/val</td><td>▁</td></tr><tr><td>BIC/train</td><td>▁</td></tr><tr><td>BIC/val</td><td>▁</td></tr></table><br/></div><div class=\"wandb-col\"><h3>Run summary:</h3><br/><table class=\"wandb\"><tr><td>Accuracy/train</td><td>0.94757</td></tr><tr><td>Accuracy/val</td><td>0.90119</td></tr><tr><td>BIC/train</td><td>32068.98863</td></tr><tr><td>BIC/val</td><td>25159.00974</td></tr></table><br/></div></div>"
      ],
      "text/plain": [
       "<IPython.core.display.HTML object>"
      ]
     },
     "metadata": {},
     "output_type": "display_data"
    },
    {
     "data": {
      "text/html": [
       " View run <strong style=\"color:#cdcd00\">fancy-sweep-42</strong> at: <a href='https://wandb.ai/hofer1991/RF_Foresthybrid_table/runs/gvmgxx8v' target=\"_blank\">https://wandb.ai/hofer1991/RF_Foresthybrid_table/runs/gvmgxx8v</a><br/>Synced 4 W&B file(s), 0 media file(s), 0 artifact file(s) and 0 other file(s)"
      ],
      "text/plain": [
       "<IPython.core.display.HTML object>"
      ]
     },
     "metadata": {},
     "output_type": "display_data"
    },
    {
     "data": {
      "text/html": [
       "Find logs at: <code>./wandb/run-20230609_124747-gvmgxx8v/logs</code>"
      ],
      "text/plain": [
       "<IPython.core.display.HTML object>"
      ]
     },
     "metadata": {},
     "output_type": "display_data"
    },
    {
     "name": "stderr",
     "output_type": "stream",
     "text": [
      "\u001b[34m\u001b[1mwandb\u001b[0m: Sweep Agent: Waiting for job.\n",
      "\u001b[34m\u001b[1mwandb\u001b[0m: Job received.\n",
      "\u001b[34m\u001b[1mwandb\u001b[0m: Agent Starting Run: 6z1q56nz with config:\n",
      "\u001b[34m\u001b[1mwandb\u001b[0m: \trf__max_depth: 285\n",
      "\u001b[34m\u001b[1mwandb\u001b[0m: \trf__max_features: 8\n",
      "\u001b[34m\u001b[1mwandb\u001b[0m: \trf__max_samples: 0.3208635556432811\n",
      "\u001b[34m\u001b[1mwandb\u001b[0m: \trf__n_estimators: 1893\n",
      "\u001b[34m\u001b[1mwandb\u001b[0m: \tsel__n_features: 10\n"
     ]
    },
    {
     "data": {
      "text/html": [
       "Tracking run with wandb version 0.15.4"
      ],
      "text/plain": [
       "<IPython.core.display.HTML object>"
      ]
     },
     "metadata": {},
     "output_type": "display_data"
    },
    {
     "data": {
      "text/html": [
       "Run data is saved locally in <code>/media/sf_geocomputation_class/forestmap/wandb/run-20230609_125111-6z1q56nz</code>"
      ],
      "text/plain": [
       "<IPython.core.display.HTML object>"
      ]
     },
     "metadata": {},
     "output_type": "display_data"
    },
    {
     "data": {
      "text/html": [
       "Syncing run <strong><a href='https://wandb.ai/hofer1991/RF_Foresthybrid_table/runs/6z1q56nz' target=\"_blank\">dry-sweep-43</a></strong> to <a href='https://wandb.ai/hofer1991/RF_Foresthybrid_table' target=\"_blank\">Weights & Biases</a> (<a href='https://wandb.me/run' target=\"_blank\">docs</a>)<br/>Sweep page: <a href='https://wandb.ai/hofer1991/RF_Foresthybrid_table/sweeps/uq2lt86p' target=\"_blank\">https://wandb.ai/hofer1991/RF_Foresthybrid_table/sweeps/uq2lt86p</a>"
      ],
      "text/plain": [
       "<IPython.core.display.HTML object>"
      ]
     },
     "metadata": {},
     "output_type": "display_data"
    },
    {
     "data": {
      "text/html": [
       " View project at <a href='https://wandb.ai/hofer1991/RF_Foresthybrid_table' target=\"_blank\">https://wandb.ai/hofer1991/RF_Foresthybrid_table</a>"
      ],
      "text/plain": [
       "<IPython.core.display.HTML object>"
      ]
     },
     "metadata": {},
     "output_type": "display_data"
    },
    {
     "data": {
      "text/html": [
       " View sweep at <a href='https://wandb.ai/hofer1991/RF_Foresthybrid_table/sweeps/uq2lt86p' target=\"_blank\">https://wandb.ai/hofer1991/RF_Foresthybrid_table/sweeps/uq2lt86p</a>"
      ],
      "text/plain": [
       "<IPython.core.display.HTML object>"
      ]
     },
     "metadata": {},
     "output_type": "display_data"
    },
    {
     "data": {
      "text/html": [
       " View run at <a href='https://wandb.ai/hofer1991/RF_Foresthybrid_table/runs/6z1q56nz' target=\"_blank\">https://wandb.ai/hofer1991/RF_Foresthybrid_table/runs/6z1q56nz</a>"
      ],
      "text/plain": [
       "<IPython.core.display.HTML object>"
      ]
     },
     "metadata": {},
     "output_type": "display_data"
    },
    {
     "name": "stderr",
     "output_type": "stream",
     "text": [
      "\u001b[34m\u001b[1mwandb\u001b[0m: Ctrl + C detected. Stopping sweep.\n"
     ]
    },
    {
     "name": "stdout",
     "output_type": "stream",
     "text": [
      "Error in callback <function _WandbInit._pause_backend at 0x7fe0aa7939a0> (for post_run_cell):\n"
     ]
    },
    {
     "ename": "BrokenPipeError",
     "evalue": "[Errno 32] Broken pipe",
     "output_type": "error",
     "traceback": [
      "\u001b[0;31m---------------------------------------------------------------------------\u001b[0m",
      "\u001b[0;31mBrokenPipeError\u001b[0m                           Traceback (most recent call last)",
      "\u001b[0;32m/usr/lib/python3/dist-packages/backcall/backcall.py\u001b[0m in \u001b[0;36madapted\u001b[0;34m(*args, **kwargs)\u001b[0m\n\u001b[1;32m    102\u001b[0m                 \u001b[0mkwargs\u001b[0m\u001b[0;34m.\u001b[0m\u001b[0mpop\u001b[0m\u001b[0;34m(\u001b[0m\u001b[0mname\u001b[0m\u001b[0;34m)\u001b[0m\u001b[0;34m\u001b[0m\u001b[0;34m\u001b[0m\u001b[0m\n\u001b[1;32m    103\u001b[0m \u001b[0;31m#            print(args, kwargs, unmatched_pos, cut_positional, unmatched_kw)\u001b[0m\u001b[0;34m\u001b[0m\u001b[0;34m\u001b[0m\u001b[0m\n\u001b[0;32m--> 104\u001b[0;31m             \u001b[0;32mreturn\u001b[0m \u001b[0mcallback\u001b[0m\u001b[0;34m(\u001b[0m\u001b[0;34m*\u001b[0m\u001b[0margs\u001b[0m\u001b[0;34m,\u001b[0m \u001b[0;34m**\u001b[0m\u001b[0mkwargs\u001b[0m\u001b[0;34m)\u001b[0m\u001b[0;34m\u001b[0m\u001b[0;34m\u001b[0m\u001b[0m\n\u001b[0m\u001b[1;32m    105\u001b[0m \u001b[0;34m\u001b[0m\u001b[0m\n\u001b[1;32m    106\u001b[0m         \u001b[0;32mreturn\u001b[0m \u001b[0madapted\u001b[0m\u001b[0;34m\u001b[0m\u001b[0;34m\u001b[0m\u001b[0m\n",
      "\u001b[0;32m~/.local/lib/python3.10/site-packages/wandb/sdk/wandb_init.py\u001b[0m in \u001b[0;36m_pause_backend\u001b[0;34m(self)\u001b[0m\n\u001b[1;32m    417\u001b[0m         \u001b[0;32mif\u001b[0m \u001b[0mself\u001b[0m\u001b[0;34m.\u001b[0m\u001b[0mbackend\u001b[0m\u001b[0;34m.\u001b[0m\u001b[0minterface\u001b[0m \u001b[0;32mis\u001b[0m \u001b[0;32mnot\u001b[0m \u001b[0;32mNone\u001b[0m\u001b[0;34m:\u001b[0m\u001b[0;34m\u001b[0m\u001b[0;34m\u001b[0m\u001b[0m\n\u001b[1;32m    418\u001b[0m             \u001b[0mlogger\u001b[0m\u001b[0;34m.\u001b[0m\u001b[0minfo\u001b[0m\u001b[0;34m(\u001b[0m\u001b[0;34m\"pausing backend\"\u001b[0m\u001b[0;34m)\u001b[0m  \u001b[0;31m# type: ignore\u001b[0m\u001b[0;34m\u001b[0m\u001b[0;34m\u001b[0m\u001b[0m\n\u001b[0;32m--> 419\u001b[0;31m             \u001b[0mself\u001b[0m\u001b[0;34m.\u001b[0m\u001b[0mbackend\u001b[0m\u001b[0;34m.\u001b[0m\u001b[0minterface\u001b[0m\u001b[0;34m.\u001b[0m\u001b[0mpublish_pause\u001b[0m\u001b[0;34m(\u001b[0m\u001b[0;34m)\u001b[0m\u001b[0;34m\u001b[0m\u001b[0;34m\u001b[0m\u001b[0m\n\u001b[0m\u001b[1;32m    420\u001b[0m \u001b[0;34m\u001b[0m\u001b[0m\n\u001b[1;32m    421\u001b[0m     \u001b[0;32mdef\u001b[0m \u001b[0m_resume_backend\u001b[0m\u001b[0;34m(\u001b[0m\u001b[0mself\u001b[0m\u001b[0;34m)\u001b[0m \u001b[0;34m->\u001b[0m \u001b[0;32mNone\u001b[0m\u001b[0;34m:\u001b[0m\u001b[0;34m\u001b[0m\u001b[0;34m\u001b[0m\u001b[0m\n",
      "\u001b[0;32m~/.local/lib/python3.10/site-packages/wandb/sdk/interface/interface.py\u001b[0m in \u001b[0;36mpublish_pause\u001b[0;34m(self)\u001b[0m\n\u001b[1;32m    664\u001b[0m     \u001b[0;32mdef\u001b[0m \u001b[0mpublish_pause\u001b[0m\u001b[0;34m(\u001b[0m\u001b[0mself\u001b[0m\u001b[0;34m)\u001b[0m \u001b[0;34m->\u001b[0m \u001b[0;32mNone\u001b[0m\u001b[0;34m:\u001b[0m\u001b[0;34m\u001b[0m\u001b[0;34m\u001b[0m\u001b[0m\n\u001b[1;32m    665\u001b[0m         \u001b[0mpause\u001b[0m \u001b[0;34m=\u001b[0m \u001b[0mpb\u001b[0m\u001b[0;34m.\u001b[0m\u001b[0mPauseRequest\u001b[0m\u001b[0;34m(\u001b[0m\u001b[0;34m)\u001b[0m\u001b[0;34m\u001b[0m\u001b[0;34m\u001b[0m\u001b[0m\n\u001b[0;32m--> 666\u001b[0;31m         \u001b[0mself\u001b[0m\u001b[0;34m.\u001b[0m\u001b[0m_publish_pause\u001b[0m\u001b[0;34m(\u001b[0m\u001b[0mpause\u001b[0m\u001b[0;34m)\u001b[0m\u001b[0;34m\u001b[0m\u001b[0;34m\u001b[0m\u001b[0m\n\u001b[0m\u001b[1;32m    667\u001b[0m \u001b[0;34m\u001b[0m\u001b[0m\n\u001b[1;32m    668\u001b[0m     \u001b[0;34m@\u001b[0m\u001b[0mabstractmethod\u001b[0m\u001b[0;34m\u001b[0m\u001b[0;34m\u001b[0m\u001b[0m\n",
      "\u001b[0;32m~/.local/lib/python3.10/site-packages/wandb/sdk/interface/interface_shared.py\u001b[0m in \u001b[0;36m_publish_pause\u001b[0;34m(self, pause)\u001b[0m\n\u001b[1;32m    338\u001b[0m     \u001b[0;32mdef\u001b[0m \u001b[0m_publish_pause\u001b[0m\u001b[0;34m(\u001b[0m\u001b[0mself\u001b[0m\u001b[0;34m,\u001b[0m \u001b[0mpause\u001b[0m\u001b[0;34m:\u001b[0m \u001b[0mpb\u001b[0m\u001b[0;34m.\u001b[0m\u001b[0mPauseRequest\u001b[0m\u001b[0;34m)\u001b[0m \u001b[0;34m->\u001b[0m \u001b[0;32mNone\u001b[0m\u001b[0;34m:\u001b[0m\u001b[0;34m\u001b[0m\u001b[0;34m\u001b[0m\u001b[0m\n\u001b[1;32m    339\u001b[0m         \u001b[0mrec\u001b[0m \u001b[0;34m=\u001b[0m \u001b[0mself\u001b[0m\u001b[0;34m.\u001b[0m\u001b[0m_make_request\u001b[0m\u001b[0;34m(\u001b[0m\u001b[0mpause\u001b[0m\u001b[0;34m=\u001b[0m\u001b[0mpause\u001b[0m\u001b[0;34m)\u001b[0m\u001b[0;34m\u001b[0m\u001b[0;34m\u001b[0m\u001b[0m\n\u001b[0;32m--> 340\u001b[0;31m         \u001b[0mself\u001b[0m\u001b[0;34m.\u001b[0m\u001b[0m_publish\u001b[0m\u001b[0;34m(\u001b[0m\u001b[0mrec\u001b[0m\u001b[0;34m)\u001b[0m\u001b[0;34m\u001b[0m\u001b[0;34m\u001b[0m\u001b[0m\n\u001b[0m\u001b[1;32m    341\u001b[0m \u001b[0;34m\u001b[0m\u001b[0m\n\u001b[1;32m    342\u001b[0m     \u001b[0;32mdef\u001b[0m \u001b[0m_publish_resume\u001b[0m\u001b[0;34m(\u001b[0m\u001b[0mself\u001b[0m\u001b[0;34m,\u001b[0m \u001b[0mresume\u001b[0m\u001b[0;34m:\u001b[0m \u001b[0mpb\u001b[0m\u001b[0;34m.\u001b[0m\u001b[0mResumeRequest\u001b[0m\u001b[0;34m)\u001b[0m \u001b[0;34m->\u001b[0m \u001b[0;32mNone\u001b[0m\u001b[0;34m:\u001b[0m\u001b[0;34m\u001b[0m\u001b[0;34m\u001b[0m\u001b[0m\n",
      "\u001b[0;32m~/.local/lib/python3.10/site-packages/wandb/sdk/interface/interface_sock.py\u001b[0m in \u001b[0;36m_publish\u001b[0;34m(self, record, local)\u001b[0m\n\u001b[1;32m     49\u001b[0m     \u001b[0;32mdef\u001b[0m \u001b[0m_publish\u001b[0m\u001b[0;34m(\u001b[0m\u001b[0mself\u001b[0m\u001b[0;34m,\u001b[0m \u001b[0mrecord\u001b[0m\u001b[0;34m:\u001b[0m \u001b[0;34m\"pb.Record\"\u001b[0m\u001b[0;34m,\u001b[0m \u001b[0mlocal\u001b[0m\u001b[0;34m:\u001b[0m \u001b[0mOptional\u001b[0m\u001b[0;34m[\u001b[0m\u001b[0mbool\u001b[0m\u001b[0;34m]\u001b[0m \u001b[0;34m=\u001b[0m \u001b[0;32mNone\u001b[0m\u001b[0;34m)\u001b[0m \u001b[0;34m->\u001b[0m \u001b[0;32mNone\u001b[0m\u001b[0;34m:\u001b[0m\u001b[0;34m\u001b[0m\u001b[0;34m\u001b[0m\u001b[0m\n\u001b[1;32m     50\u001b[0m         \u001b[0mself\u001b[0m\u001b[0;34m.\u001b[0m\u001b[0m_assign\u001b[0m\u001b[0;34m(\u001b[0m\u001b[0mrecord\u001b[0m\u001b[0;34m)\u001b[0m\u001b[0;34m\u001b[0m\u001b[0;34m\u001b[0m\u001b[0m\n\u001b[0;32m---> 51\u001b[0;31m         \u001b[0mself\u001b[0m\u001b[0;34m.\u001b[0m\u001b[0m_sock_client\u001b[0m\u001b[0;34m.\u001b[0m\u001b[0msend_record_publish\u001b[0m\u001b[0;34m(\u001b[0m\u001b[0mrecord\u001b[0m\u001b[0;34m)\u001b[0m\u001b[0;34m\u001b[0m\u001b[0;34m\u001b[0m\u001b[0m\n\u001b[0m\u001b[1;32m     52\u001b[0m \u001b[0;34m\u001b[0m\u001b[0m\n\u001b[1;32m     53\u001b[0m     def _communicate_async(\n",
      "\u001b[0;32m~/.local/lib/python3.10/site-packages/wandb/sdk/lib/sock_client.py\u001b[0m in \u001b[0;36msend_record_publish\u001b[0;34m(self, record)\u001b[0m\n\u001b[1;32m    219\u001b[0m         \u001b[0mserver_req\u001b[0m \u001b[0;34m=\u001b[0m \u001b[0mspb\u001b[0m\u001b[0;34m.\u001b[0m\u001b[0mServerRequest\u001b[0m\u001b[0;34m(\u001b[0m\u001b[0;34m)\u001b[0m\u001b[0;34m\u001b[0m\u001b[0;34m\u001b[0m\u001b[0m\n\u001b[1;32m    220\u001b[0m         \u001b[0mserver_req\u001b[0m\u001b[0;34m.\u001b[0m\u001b[0mrecord_publish\u001b[0m\u001b[0;34m.\u001b[0m\u001b[0mCopyFrom\u001b[0m\u001b[0;34m(\u001b[0m\u001b[0mrecord\u001b[0m\u001b[0;34m)\u001b[0m\u001b[0;34m\u001b[0m\u001b[0;34m\u001b[0m\u001b[0m\n\u001b[0;32m--> 221\u001b[0;31m         \u001b[0mself\u001b[0m\u001b[0;34m.\u001b[0m\u001b[0msend_server_request\u001b[0m\u001b[0;34m(\u001b[0m\u001b[0mserver_req\u001b[0m\u001b[0;34m)\u001b[0m\u001b[0;34m\u001b[0m\u001b[0;34m\u001b[0m\u001b[0m\n\u001b[0m\u001b[1;32m    222\u001b[0m \u001b[0;34m\u001b[0m\u001b[0m\n\u001b[1;32m    223\u001b[0m     \u001b[0;32mdef\u001b[0m \u001b[0m_extract_packet_bytes\u001b[0m\u001b[0;34m(\u001b[0m\u001b[0mself\u001b[0m\u001b[0;34m)\u001b[0m \u001b[0;34m->\u001b[0m \u001b[0mOptional\u001b[0m\u001b[0;34m[\u001b[0m\u001b[0mbytes\u001b[0m\u001b[0;34m]\u001b[0m\u001b[0;34m:\u001b[0m\u001b[0;34m\u001b[0m\u001b[0;34m\u001b[0m\u001b[0m\n",
      "\u001b[0;32m~/.local/lib/python3.10/site-packages/wandb/sdk/lib/sock_client.py\u001b[0m in \u001b[0;36msend_server_request\u001b[0;34m(self, msg)\u001b[0m\n\u001b[1;32m    153\u001b[0m \u001b[0;34m\u001b[0m\u001b[0m\n\u001b[1;32m    154\u001b[0m     \u001b[0;32mdef\u001b[0m \u001b[0msend_server_request\u001b[0m\u001b[0;34m(\u001b[0m\u001b[0mself\u001b[0m\u001b[0;34m,\u001b[0m \u001b[0mmsg\u001b[0m\u001b[0;34m:\u001b[0m \u001b[0mAny\u001b[0m\u001b[0;34m)\u001b[0m \u001b[0;34m->\u001b[0m \u001b[0;32mNone\u001b[0m\u001b[0;34m:\u001b[0m\u001b[0;34m\u001b[0m\u001b[0;34m\u001b[0m\u001b[0m\n\u001b[0;32m--> 155\u001b[0;31m         \u001b[0mself\u001b[0m\u001b[0;34m.\u001b[0m\u001b[0m_send_message\u001b[0m\u001b[0;34m(\u001b[0m\u001b[0mmsg\u001b[0m\u001b[0;34m)\u001b[0m\u001b[0;34m\u001b[0m\u001b[0;34m\u001b[0m\u001b[0m\n\u001b[0m\u001b[1;32m    156\u001b[0m \u001b[0;34m\u001b[0m\u001b[0m\n\u001b[1;32m    157\u001b[0m     \u001b[0;32mdef\u001b[0m \u001b[0msend_server_response\u001b[0m\u001b[0;34m(\u001b[0m\u001b[0mself\u001b[0m\u001b[0;34m,\u001b[0m \u001b[0mmsg\u001b[0m\u001b[0;34m:\u001b[0m \u001b[0mAny\u001b[0m\u001b[0;34m)\u001b[0m \u001b[0;34m->\u001b[0m \u001b[0;32mNone\u001b[0m\u001b[0;34m:\u001b[0m\u001b[0;34m\u001b[0m\u001b[0;34m\u001b[0m\u001b[0m\n",
      "\u001b[0;32m~/.local/lib/python3.10/site-packages/wandb/sdk/lib/sock_client.py\u001b[0m in \u001b[0;36m_send_message\u001b[0;34m(self, msg)\u001b[0m\n\u001b[1;32m    150\u001b[0m         \u001b[0mheader\u001b[0m \u001b[0;34m=\u001b[0m \u001b[0mstruct\u001b[0m\u001b[0;34m.\u001b[0m\u001b[0mpack\u001b[0m\u001b[0;34m(\u001b[0m\u001b[0;34m\"<BI\"\u001b[0m\u001b[0;34m,\u001b[0m \u001b[0mord\u001b[0m\u001b[0;34m(\u001b[0m\u001b[0;34m\"W\"\u001b[0m\u001b[0;34m)\u001b[0m\u001b[0;34m,\u001b[0m \u001b[0mraw_size\u001b[0m\u001b[0;34m)\u001b[0m\u001b[0;34m\u001b[0m\u001b[0;34m\u001b[0m\u001b[0m\n\u001b[1;32m    151\u001b[0m         \u001b[0;32mwith\u001b[0m \u001b[0mself\u001b[0m\u001b[0;34m.\u001b[0m\u001b[0m_lock\u001b[0m\u001b[0;34m:\u001b[0m\u001b[0;34m\u001b[0m\u001b[0;34m\u001b[0m\u001b[0m\n\u001b[0;32m--> 152\u001b[0;31m             \u001b[0mself\u001b[0m\u001b[0;34m.\u001b[0m\u001b[0m_sendall_with_error_handle\u001b[0m\u001b[0;34m(\u001b[0m\u001b[0mheader\u001b[0m \u001b[0;34m+\u001b[0m \u001b[0mdata\u001b[0m\u001b[0;34m)\u001b[0m\u001b[0;34m\u001b[0m\u001b[0;34m\u001b[0m\u001b[0m\n\u001b[0m\u001b[1;32m    153\u001b[0m \u001b[0;34m\u001b[0m\u001b[0m\n\u001b[1;32m    154\u001b[0m     \u001b[0;32mdef\u001b[0m \u001b[0msend_server_request\u001b[0m\u001b[0;34m(\u001b[0m\u001b[0mself\u001b[0m\u001b[0;34m,\u001b[0m \u001b[0mmsg\u001b[0m\u001b[0;34m:\u001b[0m \u001b[0mAny\u001b[0m\u001b[0;34m)\u001b[0m \u001b[0;34m->\u001b[0m \u001b[0;32mNone\u001b[0m\u001b[0;34m:\u001b[0m\u001b[0;34m\u001b[0m\u001b[0;34m\u001b[0m\u001b[0m\n",
      "\u001b[0;32m~/.local/lib/python3.10/site-packages/wandb/sdk/lib/sock_client.py\u001b[0m in \u001b[0;36m_sendall_with_error_handle\u001b[0;34m(self, data)\u001b[0m\n\u001b[1;32m    128\u001b[0m             \u001b[0mstart_time\u001b[0m \u001b[0;34m=\u001b[0m \u001b[0mtime\u001b[0m\u001b[0;34m.\u001b[0m\u001b[0mmonotonic\u001b[0m\u001b[0;34m(\u001b[0m\u001b[0;34m)\u001b[0m\u001b[0;34m\u001b[0m\u001b[0;34m\u001b[0m\u001b[0m\n\u001b[1;32m    129\u001b[0m             \u001b[0;32mtry\u001b[0m\u001b[0;34m:\u001b[0m\u001b[0;34m\u001b[0m\u001b[0;34m\u001b[0m\u001b[0m\n\u001b[0;32m--> 130\u001b[0;31m                 \u001b[0msent\u001b[0m \u001b[0;34m=\u001b[0m \u001b[0mself\u001b[0m\u001b[0;34m.\u001b[0m\u001b[0m_sock\u001b[0m\u001b[0;34m.\u001b[0m\u001b[0msend\u001b[0m\u001b[0;34m(\u001b[0m\u001b[0mdata\u001b[0m\u001b[0;34m)\u001b[0m\u001b[0;34m\u001b[0m\u001b[0;34m\u001b[0m\u001b[0m\n\u001b[0m\u001b[1;32m    131\u001b[0m                 \u001b[0;31m# sent equal to 0 indicates a closed socket\u001b[0m\u001b[0;34m\u001b[0m\u001b[0;34m\u001b[0m\u001b[0m\n\u001b[1;32m    132\u001b[0m                 \u001b[0;32mif\u001b[0m \u001b[0msent\u001b[0m \u001b[0;34m==\u001b[0m \u001b[0;36m0\u001b[0m\u001b[0;34m:\u001b[0m\u001b[0;34m\u001b[0m\u001b[0;34m\u001b[0m\u001b[0m\n",
      "\u001b[0;31mBrokenPipeError\u001b[0m: [Errno 32] Broken pipe"
     ]
    }
   ],
   "source": [
    "wandb.agent(sweep_id, train)"
   ]
  },
  {
   "cell_type": "code",
   "execution_count": null,
   "id": "9b482662",
   "metadata": {},
   "outputs": [],
   "source": []
  },
  {
   "cell_type": "code",
   "execution_count": null,
   "id": "f133ee1f",
   "metadata": {},
   "outputs": [],
   "source": []
  }
 ],
 "metadata": {
  "kernelspec": {
   "display_name": "Python 3 (ipykernel)",
   "language": "python",
   "name": "python3"
  },
  "language_info": {
   "codemirror_mode": {
    "name": "ipython",
    "version": 3
   },
   "file_extension": ".py",
   "mimetype": "text/x-python",
   "name": "python",
   "nbconvert_exporter": "python",
   "pygments_lexer": "ipython3",
   "version": "3.10.6"
  }
 },
 "nbformat": 4,
 "nbformat_minor": 5
}
