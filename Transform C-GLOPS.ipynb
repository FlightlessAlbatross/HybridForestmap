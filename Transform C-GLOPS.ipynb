{
 "cells": [
  {
   "cell_type": "markdown",
   "id": "79b546dd",
   "metadata": {},
   "source": [
    "Transform the C-GLOPS data to our reference raster CLC. \n",
    "Use gdal_translate -r average to calculate the average of the cells as they are % forrestcover. \n",
    "We also need to devide by 100\n",
    "\n",
    "from man gdal_translate\n",
    "average computes the average of all non-NODATA contributing pixels. Starting with GDAL 3.1, this is a weighted average  taking  into  ac‐\n",
    "              count properly the weight of source pixels not contributing fully to the target pixel.\n",
    "\n",
    "We also need to recode the NA values to 0, such that the average gets calculated correctly. \n",
    "\n"
   ]
  },
  {
   "cell_type": "code",
   "execution_count": 9,
   "id": "5bf7297d",
   "metadata": {},
   "outputs": [
    {
     "name": "stdout",
     "output_type": "stream",
     "text": [
      "  NoData Value=255\r\n"
     ]
    }
   ],
   "source": [
    "!gdalinfo in_data/C-GLOPS/2019/Tree_CoverFraction_2019_clipped.tif | grep NoD\n"
   ]
  },
  {
   "cell_type": "code",
   "execution_count": 13,
   "id": "11abbde0",
   "metadata": {},
   "outputs": [],
   "source": [
    "%%bash\n",
    "\n",
    "for i in {1..100}; do\n",
    "    # print the current number and a decimal value from 0.01 to 1 in the output file\n",
    "    printf \"%d %.2f\\n\" \"$i\" \"$(echo \"scale=2;$i/100\"|bc)\" \n",
    "done > /tmp/recode4bash.txt \n",
    "\n",
    "# add the last line to the output file\n",
    "echo \"255 0\" >> /tmp/recode4bash.txt \n"
   ]
  },
  {
   "cell_type": "code",
   "execution_count": 15,
   "id": "8eca78a8",
   "metadata": {},
   "outputs": [
    {
     "name": "stdout",
     "output_type": "stream",
     "text": [
      "92 0.92\r\n",
      "93 0.93\r\n",
      "94 0.94\r\n",
      "95 0.95\r\n",
      "96 0.96\r\n",
      "97 0.97\r\n",
      "98 0.98\r\n",
      "99 0.99\r\n",
      "100 1.00\r\n",
      "255 0\r\n"
     ]
    }
   ],
   "source": [
    "!tail /tmp/recode4bash.txt "
   ]
  },
  {
   "cell_type": "code",
   "execution_count": 18,
   "id": "eafd8326",
   "metadata": {},
   "outputs": [
    {
     "name": "stdout",
     "output_type": "stream",
     "text": [
      "0...10...20...30...40...50...60...70...80...90...100 - done.\n",
      "2118\n"
     ]
    }
   ],
   "source": [
    "%%bash\n",
    "start=`date +%s`\n",
    "\n",
    "pkreclass -co COMPRESS=DEFLATE -co ZLEVEL=9  \\\n",
    "-code /tmp/recode4bash.txt                   \\\n",
    "-nodata 0                                    \\\n",
    "-ot Float64                                  \\\n",
    "-co BIGTIFF=YES                              \\\n",
    "-i in_data/C-GLOPS/2019/Tree_CoverFraction_2019_clipped.tif                                \\\n",
    "-o in_data/C-GLOPS/2019/Tree_CoverFraction_2019_clipped_0nodata.tif                        \\\n",
    "\n",
    "end=`date +%s`\n",
    "\n",
    "expr $end - $start"
   ]
  },
  {
   "cell_type": "markdown",
   "id": "6697a6e3",
   "metadata": {},
   "source": [
    "Next step is to transform it to the reference raster"
   ]
  },
  {
   "cell_type": "code",
   "execution_count": 17,
   "id": "7ec06398",
   "metadata": {},
   "outputs": [
    {
     "name": "stdout",
     "output_type": "stream",
     "text": [
      "Driver: GTiff/GeoTIFF\n",
      "Files: in_data/CLC/u2018_clc2018_v2020_20u1_raster100m/DATA/U2018_CLC2018_V2020_20u1.tif\n",
      "       in_data/CLC/u2018_clc2018_v2020_20u1_raster100m/DATA/U2018_CLC2018_V2020_20u1.tif.aux.xml\n",
      "Size is 65000, 46000\n",
      "Warning 1: The definition of projected CRS EPSG:3035 got from GeoTIFF keys is not the same as the one from the EPSG registry, which may cause issues during reprojection operations. Set GTIFF_SRS_SOURCE configuration option to EPSG to use official parameters (overriding the ones from GeoTIFF keys), or to GEOKEYS to use custom values from GeoTIFF keys and drop the EPSG code.\n",
      "Coordinate System is:\n",
      "PROJCRS[\"ETRS_1989_LAEA\",\n",
      "    BASEGEOGCRS[\"ETRS89\",\n",
      "        DATUM[\"European Terrestrial Reference System 1989\",\n",
      "            ELLIPSOID[\"GRS 1980\",6378137,298.257222101004,\n",
      "                LENGTHUNIT[\"metre\",1]]],\n",
      "        PRIMEM[\"Greenwich\",0,\n",
      "            ANGLEUNIT[\"degree\",0.0174532925199433]],\n",
      "        ID[\"EPSG\",4258]],\n",
      "    CONVERSION[\"Lambert Azimuthal Equal Area\",\n",
      "        METHOD[\"Lambert Azimuthal Equal Area\",\n",
      "            ID[\"EPSG\",9820]],\n",
      "        PARAMETER[\"Latitude of natural origin\",52,\n",
      "            ANGLEUNIT[\"degree\",0.0174532925199433],\n",
      "            ID[\"EPSG\",8801]],\n",
      "        PARAMETER[\"Longitude of natural origin\",10,\n",
      "            ANGLEUNIT[\"degree\",0.0174532925199433],\n",
      "            ID[\"EPSG\",8802]],\n",
      "        PARAMETER[\"False easting\",4321000,\n",
      "            LENGTHUNIT[\"metre\",1],\n",
      "            ID[\"EPSG\",8806]],\n",
      "        PARAMETER[\"False northing\",3210000,\n",
      "            LENGTHUNIT[\"metre\",1],\n",
      "            ID[\"EPSG\",8807]]],\n",
      "    CS[Cartesian,2],\n",
      "        AXIS[\"(E)\",east,\n",
      "            ORDER[1],\n",
      "            LENGTHUNIT[\"metre\",1]],\n",
      "        AXIS[\"(N)\",north,\n",
      "            ORDER[2],\n",
      "            LENGTHUNIT[\"metre\",1]],\n",
      "    ID[\"EPSG\",3035]]\n",
      "Data axis to CRS axis mapping: 1,2\n",
      "Origin = (900000.000000000000000,5500000.000000000000000)\n",
      "Pixel Size = (100.000000000000000,-100.000000000000000)\n",
      "Metadata:\n",
      "  AREA_OR_POINT=Area\n",
      "  DataType=Thematic\n",
      "Image Structure Metadata:\n",
      "  COMPRESSION=PACKBITS\n",
      "  INTERLEAVE=BAND\n",
      "Corner Coordinates:\n",
      "Upper Left  (  900000.000, 5500000.000) ( 56d30'18.51\"W, 56d29' 4.75\"N)\n",
      "Lower Left  (  900000.000,  900000.000) ( 23d49'33.58\"W, 24d17' 3.04\"N)\n",
      "Upper Right ( 7400000.000, 5500000.000) ( 72d54'22.09\"E, 58d57' 9.90\"N)\n",
      "Lower Right ( 7400000.000,  900000.000) ( 40d39'45.75\"E, 25d32'40.96\"N)\n",
      "Center      ( 4150000.000, 3200000.000) (  7d30'57.52\"E, 51d53' 2.21\"N)\n",
      "Band 1 Block=128x128 Type=Byte, ColorInterp=Gray\n",
      "  Min=1.000 Max=48.000 \n",
      "  Minimum=1.000, Maximum=48.000, Mean=25.753, StdDev=11.680\n",
      "  NoData Value=48\n",
      "  Metadata:\n",
      "    RepresentationType=THEMATIC\n",
      "    STATISTICS_COVARIANCES=136.429646247598\n",
      "    STATISTICS_MAXIMUM=48\n",
      "    STATISTICS_MEAN=25.753373398066\n",
      "    STATISTICS_MINIMUM=1\n",
      "    STATISTICS_SKIPFACTORX=1\n",
      "    STATISTICS_SKIPFACTORY=1\n",
      "    STATISTICS_STDDEV=11.680310194836\n",
      "  Image Structure Metadata:\n",
      "    PIXELTYPE=SIGNEDBYTE\n"
     ]
    }
   ],
   "source": [
    "!gdalinfo in_data/CLC/u2018_clc2018_v2020_20u1_raster100m/DATA/U2018_CLC2018_V2020_20u1.tif"
   ]
  },
  {
   "cell_type": "code",
   "execution_count": 21,
   "id": "88084ac4",
   "metadata": {},
   "outputs": [
    {
     "name": "stdout",
     "output_type": "stream",
     "text": [
      "Creating output file that is 65000P x 46000L.\n",
      "Processing in_data/C-GLOPS/2019/Tree_CoverFraction_2019_clipped_0nodata.tif [1/1] : 0Using internal nodata values (e.g. 0) for image in_data/C-GLOPS/2019/Tree_CoverFraction_2019_clipped_0nodata.tif.\n",
      "Copying nodata values from source in_data/C-GLOPS/2019/Tree_CoverFraction_2019_clipped_0nodata.tif to destination out_data/C-GLOPS/2019/Tree_CoverFraction_2019_mean100m_0nodata.tif.\n",
      "...10...20...30...40...50...60...70...80...90...100 - done.\n"
     ]
    }
   ],
   "source": [
    "%%bash \n",
    "gdalwarp -co COMPRESS=DEFLATE -co ZLEVEL=9 \\\n",
    "-overwrite                                 \\\n",
    "-t_srs EPSG:3035                           \\\n",
    "-tr 100 100                                \\\n",
    "-r average                                 \\\n",
    "-te 900000 900000 7400000 5500000          \\\n",
    "-co BIGTIFF=YES                              \\\n",
    "-tap                                       \\\n",
    "in_data/C-GLOPS/2019/Tree_CoverFraction_2019_clipped_0nodata.tif   \\\n",
    "out_data/C-GLOPS/2019/Tree_CoverFraction_2019_mean100m_0nodata.tif"
   ]
  },
  {
   "cell_type": "code",
   "execution_count": 2,
   "id": "07512f51",
   "metadata": {},
   "outputs": [
    {
     "name": "stdout",
     "output_type": "stream",
     "text": [
      "Driver: GTiff/GeoTIFF\n",
      "Files: out_data/C-GLOPS/2019/Tree_CoverFraction_2019_mean100m_0nodata.tif\n",
      "Size is 65000, 46000\n",
      "Coordinate System is:\n",
      "PROJCRS[\"ETRS89-extended / LAEA Europe\",\n",
      "    BASEGEOGCRS[\"ETRS89\",\n",
      "        ENSEMBLE[\"European Terrestrial Reference System 1989 ensemble\",\n",
      "            MEMBER[\"European Terrestrial Reference Frame 1989\"],\n",
      "            MEMBER[\"European Terrestrial Reference Frame 1990\"],\n",
      "            MEMBER[\"European Terrestrial Reference Frame 1991\"],\n",
      "            MEMBER[\"European Terrestrial Reference Frame 1992\"],\n",
      "            MEMBER[\"European Terrestrial Reference Frame 1993\"],\n",
      "            MEMBER[\"European Terrestrial Reference Frame 1994\"],\n",
      "            MEMBER[\"European Terrestrial Reference Frame 1996\"],\n",
      "            MEMBER[\"European Terrestrial Reference Frame 1997\"],\n",
      "            MEMBER[\"European Terrestrial Reference Frame 2000\"],\n",
      "            MEMBER[\"European Terrestrial Reference Frame 2005\"],\n",
      "            MEMBER[\"European Terrestrial Reference Frame 2014\"],\n",
      "            ELLIPSOID[\"GRS 1980\",6378137,298.257222101,\n",
      "                LENGTHUNIT[\"metre\",1]],\n",
      "            ENSEMBLEACCURACY[0.1]],\n",
      "        PRIMEM[\"Greenwich\",0,\n",
      "            ANGLEUNIT[\"degree\",0.0174532925199433]],\n",
      "        ID[\"EPSG\",4258]],\n",
      "    CONVERSION[\"Europe Equal Area 2001\",\n",
      "        METHOD[\"Lambert Azimuthal Equal Area\",\n",
      "            ID[\"EPSG\",9820]],\n",
      "        PARAMETER[\"Latitude of natural origin\",52,\n",
      "            ANGLEUNIT[\"degree\",0.0174532925199433],\n",
      "            ID[\"EPSG\",8801]],\n",
      "        PARAMETER[\"Longitude of natural origin\",10,\n",
      "            ANGLEUNIT[\"degree\",0.0174532925199433],\n",
      "            ID[\"EPSG\",8802]],\n",
      "        PARAMETER[\"False easting\",4321000,\n",
      "            LENGTHUNIT[\"metre\",1],\n",
      "            ID[\"EPSG\",8806]],\n",
      "        PARAMETER[\"False northing\",3210000,\n",
      "            LENGTHUNIT[\"metre\",1],\n",
      "            ID[\"EPSG\",8807]]],\n",
      "    CS[Cartesian,2],\n",
      "        AXIS[\"northing (Y)\",north,\n",
      "            ORDER[1],\n",
      "            LENGTHUNIT[\"metre\",1]],\n",
      "        AXIS[\"easting (X)\",east,\n",
      "            ORDER[2],\n",
      "            LENGTHUNIT[\"metre\",1]],\n",
      "    USAGE[\n",
      "        SCOPE[\"Statistical analysis.\"],\n",
      "        AREA[\"Europe - European Union (EU) countries and candidates. Europe - onshore and offshore: Albania; Andorra; Austria; Belgium; Bosnia and Herzegovina; Bulgaria; Croatia; Cyprus; Czechia; Denmark; Estonia; Faroe Islands; Finland; France; Germany; Gibraltar; Greece; Hungary; Iceland; Ireland; Italy; Kosovo; Latvia; Liechtenstein; Lithuania; Luxembourg; Malta; Monaco; Montenegro; Netherlands; North Macedonia; Norway including Svalbard and Jan Mayen; Poland; Portugal including Madeira and Azores; Romania; San Marino; Serbia; Slovakia; Slovenia; Spain including Canary Islands; Sweden; Switzerland; Turkey; United Kingdom (UK) including Channel Islands and Isle of Man; Vatican City State.\"],\n",
      "        BBOX[24.6,-35.58,84.73,44.83]],\n",
      "    ID[\"EPSG\",3035]]\n",
      "Data axis to CRS axis mapping: 2,1\n",
      "Origin = (900000.000000000000000,5500000.000000000000000)\n",
      "Pixel Size = (100.000000000000000,-100.000000000000000)\n",
      "Metadata:\n",
      "  AREA_OR_POINT=Area\n",
      "  TIFFTAG_DATETIME=2023:05:15 13:25:43\n",
      "  TIFFTAG_DOCUMENTNAME=in_data/C-GLOPS/2019/Tree_CoverFraction_2019_clipped_0nodata.tif\n",
      "  TIFFTAG_SOFTWARE=pktools 2.6.7.6 by Pieter Kempeneers\n",
      "Image Structure Metadata:\n",
      "  COMPRESSION=DEFLATE\n",
      "  INTERLEAVE=BAND\n",
      "Corner Coordinates:\n",
      "Upper Left  (  900000.000, 5500000.000) ( 56d30'18.51\"W, 56d29' 4.75\"N)\n",
      "Lower Left  (  900000.000,  900000.000) ( 23d49'33.58\"W, 24d17' 3.04\"N)\n",
      "Upper Right ( 7400000.000, 5500000.000) ( 72d54'22.09\"E, 58d57' 9.90\"N)\n",
      "Lower Right ( 7400000.000,  900000.000) ( 40d39'45.75\"E, 25d32'40.96\"N)\n",
      "Center      ( 4150000.000, 3200000.000) (  7d30'57.52\"E, 51d53' 2.21\"N)\n",
      "Band 1 Block=65000x1 Type=Float64, ColorInterp=Gray\n",
      "  NoData Value=0\n"
     ]
    }
   ],
   "source": [
    "!gdalinfo out_data/C-GLOPS/2019/Tree_CoverFraction_2019_mean100m_0nodata.tif"
   ]
  },
  {
   "cell_type": "code",
   "execution_count": null,
   "id": "fce3e39e",
   "metadata": {},
   "outputs": [],
   "source": []
  }
 ],
 "metadata": {
  "kernelspec": {
   "display_name": "Python 3 (ipykernel)",
   "language": "python",
   "name": "python3"
  },
  "language_info": {
   "codemirror_mode": {
    "name": "ipython",
    "version": 3
   },
   "file_extension": ".py",
   "mimetype": "text/x-python",
   "name": "python",
   "nbconvert_exporter": "python",
   "pygments_lexer": "ipython3",
   "version": "3.10.6"
  }
 },
 "nbformat": 4,
 "nbformat_minor": 5
}
