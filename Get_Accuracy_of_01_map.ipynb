{
 "cells": [
  {
   "cell_type": "markdown",
   "id": "289e0023",
   "metadata": {},
   "source": [
    "Extract points data from the 01 maps\n",
    "Then show their individual accuracies"
   ]
  },
  {
   "cell_type": "code",
   "execution_count": 5,
   "id": "b6e98a4a",
   "metadata": {},
   "outputs": [
    {
     "name": "stdout",
     "output_type": "stream",
     "text": [
      "174\n"
     ]
    }
   ],
   "source": [
    "%%bash\n",
    "\n",
    "start=`date +%s`\n",
    "\n",
    "# Input files\n",
    "features_file=\"out_data/all01_tif.vrt\"\n",
    "coordinates_file=\"out_data/LUCAS/LUCAS_XY.csv\"\n",
    "\n",
    "# Output file\n",
    "output_file=\"out_data/forest_binary_data_poland_lucas.csv\"\n",
    "\n",
    "BB=$(( $(gdalinfo out_data/all01_tif.vrt | grep out_data | wc -l) - 1 ))    # band number\n",
    "\n",
    "# write header\n",
    "gdalinfo out_data/all01_tif.vrt | grep out_data | awk -F'/' 'NR>1 { printf \"%s \", $2 } END { printf \"\\n\" }' > out_data/forest_binary_data_poland_lucas.csv\n",
    "\n",
    "gdallocationinfo -geoloc -valonly $features_file < $coordinates_file  | awk -v BB=$BB 'ORS=NR%BB?FS:RS' >> $output_file\n",
    "\n",
    "\n",
    "\n",
    "end=`date +%s`\n",
    "expr $end - $start\n"
   ]
  },
  {
   "cell_type": "code",
   "execution_count": 6,
   "id": "5b988c31",
   "metadata": {},
   "outputs": [
    {
     "name": "stdout",
     "output_type": "stream",
     "text": [
      "GLADGLCextent CLC10m CLC C-GLOPS JAXA \n",
      "0 0 0 0 0\n",
      "1 1 1 1 1\n",
      "1 1 1 1 1\n",
      "0 0 0 0 0\n",
      "0 0 0 0 0\n",
      "1 1 1 0 1\n",
      "0 0 0 0 0\n",
      "0 0 0 0 0\n",
      "0 0 0 0 0\n"
     ]
    }
   ],
   "source": [
    "%%bash\n",
    "head out_data/forest_binary_data_poland_lucas.csv"
   ]
  },
  {
   "cell_type": "code",
   "execution_count": 9,
   "id": "8eb40c29",
   "metadata": {},
   "outputs": [],
   "source": [
    "# Basic data manipulation\n",
    "import pandas as pd\n",
    "import numpy as np\n",
    "\n",
    "# Basic data visualization\n",
    "import matplotlib.pyplot as plt\n",
    "from sklearn.metrics import confusion_matrix, ConfusionMatrixDisplay\n",
    "\n",
    "import seaborn as sns\n",
    "\n"
   ]
  },
  {
   "cell_type": "code",
   "execution_count": 10,
   "id": "99cf39c9",
   "metadata": {},
   "outputs": [],
   "source": [
    "\n",
    "def performance_metrics(y_true, y_pred):\n",
    "    tn, fp, fn, tp = confusion_matrix(y_true, y_pred).ravel()\n",
    "    acc = (tp + tn) / (tn + tp + fp + fn)\n",
    "#    tpr = tp / (tp + fn)\n",
    "#    tnr = tn / (tn + fn)\n",
    "#    bacc= (tpr + tnr) * 0.5\n",
    "#    f1 = (tpr * tnr) / (tpr + tnr)\n",
    "    return(acc)\n"
   ]
  },
  {
   "cell_type": "code",
   "execution_count": 11,
   "id": "486340ef",
   "metadata": {},
   "outputs": [
    {
     "data": {
      "text/html": [
       "<div>\n",
       "<style scoped>\n",
       "    .dataframe tbody tr th:only-of-type {\n",
       "        vertical-align: middle;\n",
       "    }\n",
       "\n",
       "    .dataframe tbody tr th {\n",
       "        vertical-align: top;\n",
       "    }\n",
       "\n",
       "    .dataframe thead th {\n",
       "        text-align: right;\n",
       "    }\n",
       "</style>\n",
       "<table border=\"1\" class=\"dataframe\">\n",
       "  <thead>\n",
       "    <tr style=\"text-align: right;\">\n",
       "      <th></th>\n",
       "      <th>GLADGLCextent</th>\n",
       "      <th>CLC10m</th>\n",
       "      <th>CLC</th>\n",
       "      <th>C-GLOPS</th>\n",
       "    </tr>\n",
       "  </thead>\n",
       "  <tbody>\n",
       "    <tr>\n",
       "      <th>0</th>\n",
       "      <td>0</td>\n",
       "      <td>0</td>\n",
       "      <td>0</td>\n",
       "      <td>0.0</td>\n",
       "    </tr>\n",
       "    <tr>\n",
       "      <th>1</th>\n",
       "      <td>1</td>\n",
       "      <td>1</td>\n",
       "      <td>1</td>\n",
       "      <td>1.0</td>\n",
       "    </tr>\n",
       "    <tr>\n",
       "      <th>2</th>\n",
       "      <td>1</td>\n",
       "      <td>1</td>\n",
       "      <td>1</td>\n",
       "      <td>1.0</td>\n",
       "    </tr>\n",
       "    <tr>\n",
       "      <th>3</th>\n",
       "      <td>0</td>\n",
       "      <td>0</td>\n",
       "      <td>0</td>\n",
       "      <td>0.0</td>\n",
       "    </tr>\n",
       "    <tr>\n",
       "      <th>4</th>\n",
       "      <td>0</td>\n",
       "      <td>0</td>\n",
       "      <td>0</td>\n",
       "      <td>0.0</td>\n",
       "    </tr>\n",
       "  </tbody>\n",
       "</table>\n",
       "</div>"
      ],
      "text/plain": [
       "   GLADGLCextent  CLC10m  CLC  C-GLOPS\n",
       "0              0       0    0      0.0\n",
       "1              1       1    1      1.0\n",
       "2              1       1    1      1.0\n",
       "3              0       0    0      0.0\n",
       "4              0       0    0      0.0"
      ]
     },
     "execution_count": 11,
     "metadata": {},
     "output_type": "execute_result"
    }
   ],
   "source": [
    "X = pd.read_csv(\"out_data/forest_binary_data_poland_lucas.csv\", sep = ' ', na_values= 48).iloc[:,0:4]\n",
    "\n",
    "X.head(5)"
   ]
  },
  {
   "cell_type": "code",
   "execution_count": 12,
   "id": "9577adbd",
   "metadata": {},
   "outputs": [
    {
     "data": {
      "text/html": [
       "<div>\n",
       "<style scoped>\n",
       "    .dataframe tbody tr th:only-of-type {\n",
       "        vertical-align: middle;\n",
       "    }\n",
       "\n",
       "    .dataframe tbody tr th {\n",
       "        vertical-align: top;\n",
       "    }\n",
       "\n",
       "    .dataframe thead th {\n",
       "        text-align: right;\n",
       "    }\n",
       "</style>\n",
       "<table border=\"1\" class=\"dataframe\">\n",
       "  <thead>\n",
       "    <tr style=\"text-align: right;\">\n",
       "      <th></th>\n",
       "      <th>X</th>\n",
       "      <th>Y</th>\n",
       "      <th>LC1</th>\n",
       "      <th>LC1_PERC</th>\n",
       "      <th>forest</th>\n",
       "    </tr>\n",
       "  </thead>\n",
       "  <tbody>\n",
       "    <tr>\n",
       "      <th>23079</th>\n",
       "      <td>5.278000e+06</td>\n",
       "      <td>3.114000e+06</td>\n",
       "      <td>C22</td>\n",
       "      <td>100</td>\n",
       "      <td>1</td>\n",
       "    </tr>\n",
       "    <tr>\n",
       "      <th>23080</th>\n",
       "      <td>5.278000e+06</td>\n",
       "      <td>3.136000e+06</td>\n",
       "      <td>B11</td>\n",
       "      <td>100</td>\n",
       "      <td>0</td>\n",
       "    </tr>\n",
       "    <tr>\n",
       "      <th>23081</th>\n",
       "      <td>5.294000e+06</td>\n",
       "      <td>3.150000e+06</td>\n",
       "      <td>C10</td>\n",
       "      <td>100</td>\n",
       "      <td>1</td>\n",
       "    </tr>\n",
       "    <tr>\n",
       "      <th>23082</th>\n",
       "      <td>5.294000e+06</td>\n",
       "      <td>3.172000e+06</td>\n",
       "      <td>B11</td>\n",
       "      <td>92</td>\n",
       "      <td>0</td>\n",
       "    </tr>\n",
       "    <tr>\n",
       "      <th>23083</th>\n",
       "      <td>5.286000e+06</td>\n",
       "      <td>3.116000e+06</td>\n",
       "      <td>Bx1</td>\n",
       "      <td>98</td>\n",
       "      <td>0</td>\n",
       "    </tr>\n",
       "  </tbody>\n",
       "</table>\n",
       "</div>"
      ],
      "text/plain": [
       "                  X             Y  LC1  LC1_PERC  forest\n",
       "23079  5.278000e+06  3.114000e+06  C22       100       1\n",
       "23080  5.278000e+06  3.136000e+06  B11       100       0\n",
       "23081  5.294000e+06  3.150000e+06  C10       100       1\n",
       "23082  5.294000e+06  3.172000e+06  B11        92       0\n",
       "23083  5.286000e+06  3.116000e+06  Bx1        98       0"
      ]
     },
     "execution_count": 12,
     "metadata": {},
     "output_type": "execute_result"
    }
   ],
   "source": [
    "outcome = pd.read_csv(\"out_data/LUCAS/LUCAS_locations.csv\", sep=\",\",  index_col=False)\n",
    "outcome.tail(5)"
   ]
  },
  {
   "cell_type": "code",
   "execution_count": 13,
   "id": "9c49c679",
   "metadata": {},
   "outputs": [],
   "source": [
    "Y    = outcome.iloc[:,4].to_frame()\n"
   ]
  },
  {
   "cell_type": "code",
   "execution_count": 14,
   "id": "43d7fa85",
   "metadata": {},
   "outputs": [
    {
     "name": "stdout",
     "output_type": "stream",
     "text": [
      "NA rows: [   33    54    58 ... 23032 23046 23077]\n",
      "(21819, 4)\n",
      "(21819, 1)\n"
     ]
    }
   ],
   "source": [
    "na_rows = X.apply(lambda x: np.any(pd.isna(x)), axis=1)\n",
    "result = np.where(na_rows)[0]\n",
    "print('NA rows: ' + str(result))\n",
    "\n",
    "X = X.drop(X.index[result])\n",
    "Y = Y.drop(Y.index[result])\n",
    "\n",
    "print(X.shape)\n",
    "print(Y.shape)"
   ]
  },
  {
   "cell_type": "code",
   "execution_count": 15,
   "id": "612bb56b",
   "metadata": {},
   "outputs": [
    {
     "name": "stdout",
     "output_type": "stream",
     "text": [
      "GLADGLCextent  : 88.43%\n",
      "CLC10m         : 88.62%\n",
      "CLC            : 88.51%\n",
      "C-GLOPS        : 88.85%\n"
     ]
    }
   ],
   "source": [
    "for i in range(4):\n",
    "    column_name = X.columns[i]\n",
    "    metric_value = 100*performance_metrics(Y, X.iloc[:, i])\n",
    "    output = f\"{column_name.ljust(15)}: {metric_value:.2f}%\"\n",
    "    print(output)\n"
   ]
  },
  {
   "cell_type": "markdown",
   "id": "b97fab4a",
   "metadata": {},
   "source": [
    "Now all of the binary maps"
   ]
  },
  {
   "cell_type": "code",
   "execution_count": 16,
   "id": "cf1fc43d",
   "metadata": {},
   "outputs": [],
   "source": [
    "X_train, X_test, Y_train, Y_test = train_test_split(X, Y, test_size=0.5, random_state=2023)\n",
    "y_train = np.ravel(Y_train)\n",
    "y_test = np.ravel(Y_test)"
   ]
  },
  {
   "cell_type": "code",
   "execution_count": 17,
   "id": "b2dd8085",
   "metadata": {},
   "outputs": [],
   "source": [
    "from sklearn.linear_model import LinearRegression\n",
    "from sklearn.model_selection import train_test_split\n",
    "from sklearn.metrics import mean_squared_error\n",
    "from sklearn.linear_model import LogisticRegression"
   ]
  },
  {
   "cell_type": "code",
   "execution_count": 18,
   "id": "f3680560",
   "metadata": {},
   "outputs": [
    {
     "data": {
      "text/plain": [
       "0.8931255728689276"
      ]
     },
     "execution_count": 18,
     "metadata": {},
     "output_type": "execute_result"
    }
   ],
   "source": [
    "OLSmodel = LinearRegression()\n",
    "OLSmodel.fit(X_train, y_train)\n",
    "y_pred = OLSmodel.predict(X_test)\n",
    "\n",
    "performance_metrics(y_test, y_pred >0.5)\n"
   ]
  },
  {
   "cell_type": "code",
   "execution_count": 20,
   "id": "3f9fbbb6",
   "metadata": {},
   "outputs": [
    {
     "data": {
      "text/plain": [
       "array([0.20924354, 0.19440516, 0.2325991 , 0.23067852])"
      ]
     },
     "execution_count": 20,
     "metadata": {},
     "output_type": "execute_result"
    }
   ],
   "source": [
    "OLSmodel.coef_"
   ]
  },
  {
   "cell_type": "code",
   "execution_count": 19,
   "id": "c8f68219",
   "metadata": {},
   "outputs": [
    {
     "data": {
      "text/plain": [
       "0.8932172318973419"
      ]
     },
     "execution_count": 19,
     "metadata": {},
     "output_type": "execute_result"
    }
   ],
   "source": [
    "model = LogisticRegression() \n",
    "\n",
    "model.fit(X_train, y_train)\n",
    "\n",
    "# Make predictions\n",
    "y_pred = model.predict(X_test)\n",
    "\n",
    "performance_metrics(y_test, y_pred)"
   ]
  },
  {
   "cell_type": "code",
   "execution_count": 21,
   "id": "85a61995",
   "metadata": {},
   "outputs": [
    {
     "data": {
      "text/plain": [
       "array([[1.31117514, 1.20508543, 1.38683806, 1.297646  ]])"
      ]
     },
     "execution_count": 21,
     "metadata": {},
     "output_type": "execute_result"
    }
   ],
   "source": [
    "model.coef_"
   ]
  }
 ],
 "metadata": {
  "kernelspec": {
   "display_name": "Python 3 (ipykernel)",
   "language": "python",
   "name": "python3"
  },
  "language_info": {
   "codemirror_mode": {
    "name": "ipython",
    "version": 3
   },
   "file_extension": ".py",
   "mimetype": "text/x-python",
   "name": "python",
   "nbconvert_exporter": "python",
   "pygments_lexer": "ipython3",
   "version": "3.10.12"
  }
 },
 "nbformat": 4,
 "nbformat_minor": 5
}
