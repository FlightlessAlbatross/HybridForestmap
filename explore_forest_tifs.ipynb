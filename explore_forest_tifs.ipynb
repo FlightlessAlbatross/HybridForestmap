{
 "cells": [
  {
   "cell_type": "markdown",
   "id": "4bce8b23",
   "metadata": {},
   "source": [
    "I have a warning here, not sure how/if I need to deal with it\n",
    "Looking at https://spatialreference.org/ref/epsg/3035/ they are the same?"
   ]
  },
  {
   "cell_type": "code",
   "execution_count": 1,
   "id": "f00a7fe2",
   "metadata": {
    "scrolled": true
   },
   "outputs": [
    {
     "name": "stdout",
     "output_type": "stream",
     "text": [
      "Driver: GTiff/GeoTIFF\n",
      "Files: in_data/CLC/u2018_clc2018_v2020_20u1_raster100m/DATA/U2018_CLC2018_V2020_20u1.tif\n",
      "       in_data/CLC/u2018_clc2018_v2020_20u1_raster100m/DATA/U2018_CLC2018_V2020_20u1.tif.aux.xml\n",
      "Size is 65000, 46000\n",
      "Warning 1: The definition of projected CRS EPSG:3035 got from GeoTIFF keys is not the same as the one from the EPSG registry, which may cause issues during reprojection operations. Set GTIFF_SRS_SOURCE configuration option to EPSG to use official parameters (overriding the ones from GeoTIFF keys), or to GEOKEYS to use custom values from GeoTIFF keys and drop the EPSG code.\n",
      "Coordinate System is:\n",
      "PROJCRS[\"ETRS_1989_LAEA\",\n",
      "    BASEGEOGCRS[\"ETRS89\",\n",
      "        DATUM[\"European Terrestrial Reference System 1989\",\n",
      "            ELLIPSOID[\"GRS 1980\",6378137,298.257222101004,\n",
      "                LENGTHUNIT[\"metre\",1]]],\n",
      "        PRIMEM[\"Greenwich\",0,\n",
      "            ANGLEUNIT[\"degree\",0.0174532925199433]],\n",
      "        ID[\"EPSG\",4258]],\n",
      "    CONVERSION[\"Lambert Azimuthal Equal Area\",\n",
      "        METHOD[\"Lambert Azimuthal Equal Area\",\n",
      "            ID[\"EPSG\",9820]],\n",
      "        PARAMETER[\"Latitude of natural origin\",52,\n",
      "            ANGLEUNIT[\"degree\",0.0174532925199433],\n",
      "            ID[\"EPSG\",8801]],\n",
      "        PARAMETER[\"Longitude of natural origin\",10,\n",
      "            ANGLEUNIT[\"degree\",0.0174532925199433],\n",
      "            ID[\"EPSG\",8802]],\n",
      "        PARAMETER[\"False easting\",4321000,\n",
      "            LENGTHUNIT[\"metre\",1],\n",
      "            ID[\"EPSG\",8806]],\n",
      "        PARAMETER[\"False northing\",3210000,\n",
      "            LENGTHUNIT[\"metre\",1],\n",
      "            ID[\"EPSG\",8807]]],\n",
      "    CS[Cartesian,2],\n",
      "        AXIS[\"(E)\",east,\n",
      "            ORDER[1],\n",
      "            LENGTHUNIT[\"metre\",1]],\n",
      "        AXIS[\"(N)\",north,\n",
      "            ORDER[2],\n",
      "            LENGTHUNIT[\"metre\",1]],\n",
      "    ID[\"EPSG\",3035]]\n",
      "Data axis to CRS axis mapping: 1,2\n",
      "Origin = (900000.000000000000000,5500000.000000000000000)\n",
      "Pixel Size = (100.000000000000000,-100.000000000000000)\n",
      "Metadata:\n",
      "  AREA_OR_POINT=Area\n",
      "  DataType=Thematic\n",
      "Image Structure Metadata:\n",
      "  COMPRESSION=PACKBITS\n",
      "  INTERLEAVE=BAND\n",
      "Corner Coordinates:\n",
      "Upper Left  (  900000.000, 5500000.000) ( 56d30'18.51\"W, 56d29' 4.75\"N)\n",
      "Lower Left  (  900000.000,  900000.000) ( 23d49'33.58\"W, 24d17' 3.04\"N)\n",
      "Upper Right ( 7400000.000, 5500000.000) ( 72d54'22.09\"E, 58d57' 9.90\"N)\n",
      "Lower Right ( 7400000.000,  900000.000) ( 40d39'45.75\"E, 25d32'40.96\"N)\n",
      "Center      ( 4150000.000, 3200000.000) (  7d30'57.52\"E, 51d53' 2.21\"N)\n",
      "Band 1 Block=128x128 Type=Byte, ColorInterp=Gray\n",
      "  Min=1.000 Max=48.000 \n",
      "  Minimum=1.000, Maximum=48.000, Mean=25.753, StdDev=11.680\n",
      "  NoData Value=48\n",
      "  Metadata:\n",
      "    RepresentationType=THEMATIC\n",
      "    STATISTICS_COVARIANCES=136.429646247598\n",
      "    STATISTICS_MAXIMUM=48\n",
      "    STATISTICS_MEAN=25.753373398066\n",
      "    STATISTICS_MINIMUM=1\n",
      "    STATISTICS_SKIPFACTORX=1\n",
      "    STATISTICS_SKIPFACTORY=1\n",
      "    STATISTICS_STDDEV=11.680310194836\n",
      "  Image Structure Metadata:\n",
      "    PIXELTYPE=SIGNEDBYTE\n"
     ]
    }
   ],
   "source": [
    "!gdalinfo in_data/CLC/u2018_clc2018_v2020_20u1_raster100m/DATA/U2018_CLC2018_V2020_20u1.tif"
   ]
  },
  {
   "cell_type": "code",
   "execution_count": 2,
   "id": "31728168",
   "metadata": {},
   "outputs": [
    {
     "name": "stdout",
     "output_type": "stream",
     "text": [
      "Warning 1: The definition of projected CRS EPSG:3035 got from GeoTIFF keys is not the same as the one from the EPSG registry, which may cause issues during reprojection operations. Set GTIFF_SRS_SOURCE configuration option to EPSG to use official parameters (overriding the ones from GeoTIFF keys), or to GEOKEYS to use custom values from GeoTIFF keys and drop the EPSG code.\n",
      "  Min=1.000 Max=48.000   Computed Min/Max=-128.000,44.000\n"
     ]
    }
   ],
   "source": [
    "!gdalinfo -mm in_data/CLC/u2018_clc2018_v2020_20u1_raster100m/DATA/U2018_CLC2018_V2020_20u1.tif | grep Computed"
   ]
  },
  {
   "cell_type": "code",
   "execution_count": 2,
   "id": "db122ed6",
   "metadata": {},
   "outputs": [
    {
     "name": "stdout",
     "output_type": "stream",
     "text": [
      "Driver: GTiff/GeoTIFF\n",
      "Files: in_data/CLC/u2018_clc2018_v2020_20u1_raster100m/DATA/U2018_CLC2018_V2020_20u1.tif\n",
      "       in_data/CLC/u2018_clc2018_v2020_20u1_raster100m/DATA/U2018_CLC2018_V2020_20u1.tif.aux.xml\n",
      "Size is 65000, 46000\n",
      "Warning 1: The definition of projected CRS EPSG:3035 got from GeoTIFF keys is not the same as the one from the EPSG registry, which may cause issues during reprojection operations. Set GTIFF_SRS_SOURCE configuration option to EPSG to use official parameters (overriding the ones from GeoTIFF keys), or to GEOKEYS to use custom values from GeoTIFF keys and drop the EPSG code.\n",
      "Coordinate System is:\n",
      "PROJCRS[\"ETRS_1989_LAEA\",\n",
      "    BASEGEOGCRS[\"ETRS89\",\n",
      "        DATUM[\"European Terrestrial Reference System 1989\",\n",
      "            ELLIPSOID[\"GRS 1980\",6378137,298.257222101004,\n",
      "                LENGTHUNIT[\"metre\",1]]],\n",
      "        PRIMEM[\"Greenwich\",0,\n",
      "            ANGLEUNIT[\"degree\",0.0174532925199433]],\n",
      "        ID[\"EPSG\",4258]],\n",
      "    CONVERSION[\"Lambert Azimuthal Equal Area\",\n",
      "        METHOD[\"Lambert Azimuthal Equal Area\",\n",
      "            ID[\"EPSG\",9820]],\n",
      "        PARAMETER[\"Latitude of natural origin\",52,\n",
      "            ANGLEUNIT[\"degree\",0.0174532925199433],\n",
      "            ID[\"EPSG\",8801]],\n",
      "        PARAMETER[\"Longitude of natural origin\",10,\n",
      "            ANGLEUNIT[\"degree\",0.0174532925199433],\n",
      "            ID[\"EPSG\",8802]],\n",
      "        PARAMETER[\"False easting\",4321000,\n",
      "            LENGTHUNIT[\"metre\",1],\n",
      "            ID[\"EPSG\",8806]],\n",
      "        PARAMETER[\"False northing\",3210000,\n",
      "            LENGTHUNIT[\"metre\",1],\n",
      "            ID[\"EPSG\",8807]]],\n",
      "    CS[Cartesian,2],\n",
      "        AXIS[\"(E)\",east,\n",
      "            ORDER[1],\n",
      "            LENGTHUNIT[\"metre\",1]],\n",
      "        AXIS[\"(N)\",north,\n",
      "            ORDER[2],\n",
      "            LENGTHUNIT[\"metre\",1]],\n",
      "    ID[\"EPSG\",3035]]\n",
      "Data axis to CRS axis mapping: 1,2\n",
      "Origin = (900000.000000000000000,5500000.000000000000000)\n",
      "Pixel Size = (100.000000000000000,-100.000000000000000)\n",
      "Metadata:\n",
      "  AREA_OR_POINT=Area\n",
      "  DataType=Thematic\n",
      "Image Structure Metadata:\n",
      "  COMPRESSION=PACKBITS\n",
      "  INTERLEAVE=BAND\n",
      "Corner Coordinates:\n",
      "Upper Left  (  900000.000, 5500000.000) ( 56d30'18.51\"W, 56d29' 4.75\"N)\n",
      "Lower Left  (  900000.000,  900000.000) ( 23d49'33.58\"W, 24d17' 3.04\"N)\n",
      "Upper Right ( 7400000.000, 5500000.000) ( 72d54'22.09\"E, 58d57' 9.90\"N)\n",
      "Lower Right ( 7400000.000,  900000.000) ( 40d39'45.75\"E, 25d32'40.96\"N)\n",
      "Center      ( 4150000.000, 3200000.000) (  7d30'57.52\"E, 51d53' 2.21\"N)\n",
      "Band 1 Block=128x128 Type=Byte, ColorInterp=Gray\n",
      "  Min=1.000 Max=48.000 \n",
      "  Minimum=1.000, Maximum=48.000, Mean=25.753, StdDev=11.680\n",
      "  256 buckets from 0.907843 to 48.0922:\n",
      "  2255858521 0 0 0 0 17085234 0 0 0 0 0 3210212 0 0 0 0 414626 0 0 0 0 0 122685 0 0 0 0 352020 0 0 0 0 0 820443 0 0 0 0 125373 0 0 0 0 201018 0 0 0 0 0 330596 0 0 0 0 1310736 0 0 0 0 0 121469220 0 0 0 0 10943399 0 0 0 0 0 821737 0 0 0 0 4112102 0 0 0 0 4304276 0 0 0 0 0 5247375 0 0 0 0 43061005 0 0 0 0 0 558481 0 0 0 0 24295716 0 0 0 0 0 27014639 0 0 0 0 3312024 0 0 0 0 58678001 0 0 0 0 0 81743560 0 0 0 0 31065342 0 0 0 0 0 21557169 0 0 0 0 17478178 0 0 0 0 10890506 0 0 0 0 0 29721311 0 0 0 0 763776 0 0 0 0 0 8952679 0 0 0 0 23594478 0 0 0 0 0 226982 0 0 0 0 1554720 0 0 0 0 1377227 0 0 0 0 0 11566473 0 0 0 0 586549 0 0 0 0 0 73892 0 0 0 0 1218413 0 0 0 0 0 1353727 0 0 0 0 12964044 0 0 0 0 652034 0 0 0 0 0 382221 0 0 0 0 148586809 0 0 0 0 0 0 0 0 0 0 0 0 0 0 0 0 0 0 0 0 0 0 \n",
      "  NoData Value=48\n",
      "  Metadata:\n",
      "    RepresentationType=THEMATIC\n",
      "    STATISTICS_COVARIANCES=136.429646247598\n",
      "    STATISTICS_MAXIMUM=48\n",
      "    STATISTICS_MEAN=25.753373398066\n",
      "    STATISTICS_MINIMUM=1\n",
      "    STATISTICS_SKIPFACTORX=1\n",
      "    STATISTICS_SKIPFACTORY=1\n",
      "    STATISTICS_STDDEV=11.680310194836\n",
      "  Image Structure Metadata:\n",
      "    PIXELTYPE=SIGNEDBYTE\n"
     ]
    }
   ],
   "source": [
    "!gdalinfo -hist in_data/CLC/u2018_clc2018_v2020_20u1_raster100m/DATA/U2018_CLC2018_V2020_20u1.tif"
   ]
  },
  {
   "cell_type": "code",
   "execution_count": 104,
   "id": "5648039e",
   "metadata": {},
   "outputs": [],
   "source": [
    "!gdal_edit.py -a_nodata 48 in_data/CLC/u2018_clc2018_v2020_20u1_raster100m/DATA/U2018_CLC2018_V2020_20u1.tif"
   ]
  },
  {
   "cell_type": "code",
   "execution_count": 105,
   "id": "3c679d0d",
   "metadata": {},
   "outputs": [
    {
     "name": "stdout",
     "output_type": "stream",
     "text": [
      "Warning 1: The definition of projected CRS EPSG:3035 got from GeoTIFF keys is not the same as the one from the EPSG registry, which may cause issues during reprojection operations. Set GTIFF_SRS_SOURCE configuration option to EPSG to use official parameters (overriding the ones from GeoTIFF keys), or to GEOKEYS to use custom values from GeoTIFF keys and drop the EPSG code.\r\n",
      "  NoData Value=48\r\n"
     ]
    }
   ],
   "source": [
    "!gdalinfo in_data/CLC/u2018_clc2018_v2020_20u1_raster100m/DATA/U2018_CLC2018_V2020_20u1.tif | grep NoData"
   ]
  },
  {
   "cell_type": "markdown",
   "id": "4bc45cee",
   "metadata": {},
   "source": [
    "In the legend file the row counts are the actual values in the tif. \n",
    "Except for nodata which is 48, not 44"
   ]
  },
  {
   "cell_type": "code",
   "execution_count": 3,
   "id": "9cadfb7c",
   "metadata": {},
   "outputs": [
    {
     "name": "stdout",
     "output_type": "stream",
     "text": [
      "22\t244,242,204,166,255,Agro-forestry areas\r",
      "\r\n",
      "23\t311,128,255,0,255,Broad-leaved forest\r",
      "\r\n",
      "24\t312,0,166,0,255,Coniferous forest\r",
      "\r\n",
      "25\t313,77,255,0,255,Mixed forest\r",
      "\r\n"
     ]
    }
   ],
   "source": [
    "!paste <(seq 1 44) in_data/CLC/u2018_clc2018_v2020_20u1_raster100m/Legend/CLC2018_CLC2018_V2018_20_QGIS.txt | grep forest\n"
   ]
  },
  {
   "cell_type": "markdown",
   "id": "6b52d3cd",
   "metadata": {},
   "source": [
    "reclassify to forest/non-forest\n",
    "Lets make a recoding file first"
   ]
  },
  {
   "cell_type": "code",
   "execution_count": 6,
   "id": "d2f8b624",
   "metadata": {},
   "outputs": [],
   "source": [
    "%%bash\n",
    "for((i=1;i<=44;++i));do\n",
    "  if(($i >21 && $i < 26));then\n",
    "    echo \"$i 1\"\n",
    "  else\n",
    "    echo \"$i 0\";fi\n",
    "done > /tmp/recode4bash_CLC100.txt \n",
    "\n",
    "echo \"-128 48\" >> /tmp/recode4bash_CLC100.txt \n",
    "echo \"128 48\" >> /tmp/recode4bash_CLC100.txt "
   ]
  },
  {
   "cell_type": "code",
   "execution_count": 5,
   "id": "512f76e2",
   "metadata": {},
   "outputs": [
    {
     "name": "stdout",
     "output_type": "stream",
     "text": [
      "1 0\n",
      "2 0\n",
      "3 0\n",
      "4 0\n",
      "5 0\n",
      "-----------------------------\n",
      "22 1\n",
      "23 1\n",
      "24 1\n",
      "25 1\n",
      "-----------------------------\n",
      "42 0\n",
      "43 0\n",
      "44 0\n",
      "-128 48\n",
      "128 48\n"
     ]
    }
   ],
   "source": [
    "!head -5 /tmp/recode4bash_CLC100.txt \n",
    "!echo -----------------------------\n",
    "!grep \"1$\" /tmp/recode4bash_CLC100.txt \n",
    "!echo -----------------------------\n",
    "!tail -5 /tmp/recode4bash_CLC100.txt "
   ]
  },
  {
   "cell_type": "code",
   "execution_count": 119,
   "id": "57d8db2b",
   "metadata": {},
   "outputs": [
    {
     "name": "stdout",
     "output_type": "stream",
     "text": [
      "0...10...20...30...40...50...60...70...80...90...100 - done.\n",
      "225\n"
     ]
    },
    {
     "name": "stderr",
     "output_type": "stream",
     "text": [
      "Warning 1: The definition of projected CRS EPSG:3035 got from GeoTIFF keys is not the same as the one from the EPSG registry, which may cause issues during reprojection operations. Set GTIFF_SRS_SOURCE configuration option to EPSG to use official parameters (overriding the ones from GeoTIFF keys), or to GEOKEYS to use custom values from GeoTIFF keys and drop the EPSG code.\n"
     ]
    }
   ],
   "source": [
    "%%bash\n",
    "start=`date +%s`\n",
    "pkreclass -co COMPRESS=DEFLATE -co ZLEVEL=9                                          \\\n",
    "--code /tmp/recode4bash_CLC100.txt                                                   \\\n",
    "-nodata 48                                                                           \\\n",
    "-i in_data/CLC/u2018_clc2018_v2020_20u1_raster100m/DATA/U2018_CLC2018_V2020_20u1.tif \\\n",
    "-o out_data/CLC/CLC_recode01.tif                                                     \\\n",
    "\n",
    "end=`date +%s`\n",
    "\n",
    "expr $end - $start"
   ]
  },
  {
   "cell_type": "code",
   "execution_count": 8,
   "id": "1dc8fac9",
   "metadata": {},
   "outputs": [
    {
     "name": "stdout",
     "output_type": "stream",
     "text": [
      "Driver: GTiff/GeoTIFF\n",
      "Files: out_data/CLC/CLC_recode01.tif\n",
      "Size is 65000, 46000\n",
      "Coordinate System is:\n",
      "PROJCRS[\"ETRS89-extended / LAEA Europe\",\n",
      "    BASEGEOGCRS[\"ETRS89\",\n",
      "        ENSEMBLE[\"European Terrestrial Reference System 1989 ensemble\",\n",
      "            MEMBER[\"European Terrestrial Reference Frame 1989\"],\n",
      "            MEMBER[\"European Terrestrial Reference Frame 1990\"],\n",
      "            MEMBER[\"European Terrestrial Reference Frame 1991\"],\n",
      "            MEMBER[\"European Terrestrial Reference Frame 1992\"],\n",
      "            MEMBER[\"European Terrestrial Reference Frame 1993\"],\n",
      "            MEMBER[\"European Terrestrial Reference Frame 1994\"],\n",
      "            MEMBER[\"European Terrestrial Reference Frame 1996\"],\n",
      "            MEMBER[\"European Terrestrial Reference Frame 1997\"],\n",
      "            MEMBER[\"European Terrestrial Reference Frame 2000\"],\n",
      "            MEMBER[\"European Terrestrial Reference Frame 2005\"],\n",
      "            MEMBER[\"European Terrestrial Reference Frame 2014\"],\n",
      "            ELLIPSOID[\"GRS 1980\",6378137,298.257222101,\n",
      "                LENGTHUNIT[\"metre\",1]],\n",
      "            ENSEMBLEACCURACY[0.1]],\n",
      "        PRIMEM[\"Greenwich\",0,\n",
      "            ANGLEUNIT[\"degree\",0.0174532925199433]],\n",
      "        ID[\"EPSG\",4258]],\n",
      "    CONVERSION[\"Europe Equal Area 2001\",\n",
      "        METHOD[\"Lambert Azimuthal Equal Area\",\n",
      "            ID[\"EPSG\",9820]],\n",
      "        PARAMETER[\"Latitude of natural origin\",52,\n",
      "            ANGLEUNIT[\"degree\",0.0174532925199433],\n",
      "            ID[\"EPSG\",8801]],\n",
      "        PARAMETER[\"Longitude of natural origin\",10,\n",
      "            ANGLEUNIT[\"degree\",0.0174532925199433],\n",
      "            ID[\"EPSG\",8802]],\n",
      "        PARAMETER[\"False easting\",4321000,\n",
      "            LENGTHUNIT[\"metre\",1],\n",
      "            ID[\"EPSG\",8806]],\n",
      "        PARAMETER[\"False northing\",3210000,\n",
      "            LENGTHUNIT[\"metre\",1],\n",
      "            ID[\"EPSG\",8807]]],\n",
      "    CS[Cartesian,2],\n",
      "        AXIS[\"northing (Y)\",north,\n",
      "            ORDER[1],\n",
      "            LENGTHUNIT[\"metre\",1]],\n",
      "        AXIS[\"easting (X)\",east,\n",
      "            ORDER[2],\n",
      "            LENGTHUNIT[\"metre\",1]],\n",
      "    USAGE[\n",
      "        SCOPE[\"Statistical analysis.\"],\n",
      "        AREA[\"Europe - European Union (EU) countries and candidates. Europe - onshore and offshore: Albania; Andorra; Austria; Belgium; Bosnia and Herzegovina; Bulgaria; Croatia; Cyprus; Czechia; Denmark; Estonia; Faroe Islands; Finland; France; Germany; Gibraltar; Greece; Hungary; Iceland; Ireland; Italy; Kosovo; Latvia; Liechtenstein; Lithuania; Luxembourg; Malta; Monaco; Montenegro; Netherlands; North Macedonia; Norway including Svalbard and Jan Mayen; Poland; Portugal including Madeira and Azores; Romania; San Marino; Serbia; Slovakia; Slovenia; Spain including Canary Islands; Sweden; Switzerland; Turkey; United Kingdom (UK) including Channel Islands and Isle of Man; Vatican City State.\"],\n",
      "        BBOX[24.6,-35.58,84.73,44.83]],\n",
      "    ID[\"EPSG\",3035]]\n",
      "Data axis to CRS axis mapping: 2,1\n",
      "Origin = (900000.000000000000000,5500000.000000000000000)\n",
      "Pixel Size = (100.000000000000000,-100.000000000000000)\n",
      "Metadata:\n",
      "  AREA_OR_POINT=Area\n",
      "  TIFFTAG_DATETIME=2023:04:20 16:27:07\n",
      "  TIFFTAG_DOCUMENTNAME=out_data/CLC/CLC_recode01.tif\n",
      "  TIFFTAG_SOFTWARE=pktools 2.6.7.6 by Pieter Kempeneers\n",
      "Image Structure Metadata:\n",
      "  COMPRESSION=DEFLATE\n",
      "  INTERLEAVE=BAND\n",
      "Corner Coordinates:\n",
      "Upper Left  (  900000.000, 5500000.000) ( 56d30'18.51\"W, 56d29' 4.75\"N)\n",
      "Lower Left  (  900000.000,  900000.000) ( 23d49'33.58\"W, 24d17' 3.04\"N)\n",
      "Upper Right ( 7400000.000, 5500000.000) ( 72d54'22.09\"E, 58d57' 9.90\"N)\n",
      "Lower Right ( 7400000.000,  900000.000) ( 40d39'45.75\"E, 25d32'40.96\"N)\n",
      "Center      ( 4150000.000, 3200000.000) (  7d30'57.52\"E, 51d53' 2.21\"N)\n",
      "Band 1 Block=65000x1 Type=Byte, ColorInterp=Gray\n",
      "  NoData Value=48\n"
     ]
    }
   ],
   "source": [
    "!gdalinfo out_data/CLC/CLC_recode01.tif "
   ]
  },
  {
   "cell_type": "code",
   "execution_count": 7,
   "id": "a270ff8c",
   "metadata": {},
   "outputs": [
    {
     "name": "stdout",
     "output_type": "stream",
     "text": [
      "Warning 1: The definition of projected CRS EPSG:3035 got from GeoTIFF keys is not the same as the one from the EPSG registry, which may cause issues during reprojection operations. Set GTIFF_SRS_SOURCE configuration option to EPSG to use official parameters (overriding the ones from GeoTIFF keys), or to GEOKEYS to use custom values from GeoTIFF keys and drop the EPSG code.\n",
      "  Min=1.000 Max=48.000   Computed Min/Max=-128.000,44.000\n",
      "---------------------------------\n",
      "    Computed Min/Max=0.000,1.000\n"
     ]
    }
   ],
   "source": [
    "!gdalinfo -mm in_data/CLC/u2018_clc2018_v2020_20u1_raster100m/DATA/U2018_CLC2018_V2020_20u1.tif | grep Computed\n",
    "!echo ---------------------------------\n",
    "!gdalinfo -mm out_data/CLC/CLC_recode01.tif  | grep Computed"
   ]
  },
  {
   "cell_type": "code",
   "execution_count": 9,
   "id": "daec0054",
   "metadata": {},
   "outputs": [
    {
     "name": "stdout",
     "output_type": "stream",
     "text": [
      "Driver: GTiff/GeoTIFF\n",
      "Files: in_data/CLC/u2018_clc2018_v2020_20u1_raster100m/DATA/U2018_CLC2018_V2020_20u1.tif\n",
      "       in_data/CLC/u2018_clc2018_v2020_20u1_raster100m/DATA/U2018_CLC2018_V2020_20u1.tif.aux.xml\n",
      "Size is 65000, 46000\n",
      "Warning 1: The definition of projected CRS EPSG:3035 got from GeoTIFF keys is not the same as the one from the EPSG registry, which may cause issues during reprojection operations. Set GTIFF_SRS_SOURCE configuration option to EPSG to use official parameters (overriding the ones from GeoTIFF keys), or to GEOKEYS to use custom values from GeoTIFF keys and drop the EPSG code.\n",
      "Coordinate System is:\n",
      "PROJCRS[\"ETRS_1989_LAEA\",\n",
      "    BASEGEOGCRS[\"ETRS89\",\n",
      "        DATUM[\"European Terrestrial Reference System 1989\",\n",
      "            ELLIPSOID[\"GRS 1980\",6378137,298.257222101004,\n",
      "                LENGTHUNIT[\"metre\",1]]],\n",
      "        PRIMEM[\"Greenwich\",0,\n",
      "            ANGLEUNIT[\"degree\",0.0174532925199433]],\n",
      "        ID[\"EPSG\",4258]],\n",
      "    CONVERSION[\"Lambert Azimuthal Equal Area\",\n",
      "        METHOD[\"Lambert Azimuthal Equal Area\",\n",
      "            ID[\"EPSG\",9820]],\n",
      "        PARAMETER[\"Latitude of natural origin\",52,\n",
      "            ANGLEUNIT[\"degree\",0.0174532925199433],\n",
      "            ID[\"EPSG\",8801]],\n",
      "        PARAMETER[\"Longitude of natural origin\",10,\n",
      "            ANGLEUNIT[\"degree\",0.0174532925199433],\n",
      "            ID[\"EPSG\",8802]],\n",
      "        PARAMETER[\"False easting\",4321000,\n",
      "            LENGTHUNIT[\"metre\",1],\n",
      "            ID[\"EPSG\",8806]],\n",
      "        PARAMETER[\"False northing\",3210000,\n",
      "            LENGTHUNIT[\"metre\",1],\n",
      "            ID[\"EPSG\",8807]]],\n",
      "    CS[Cartesian,2],\n",
      "        AXIS[\"(E)\",east,\n",
      "            ORDER[1],\n",
      "            LENGTHUNIT[\"metre\",1]],\n",
      "        AXIS[\"(N)\",north,\n",
      "            ORDER[2],\n",
      "            LENGTHUNIT[\"metre\",1]],\n",
      "    ID[\"EPSG\",3035]]\n",
      "Data axis to CRS axis mapping: 1,2\n",
      "Origin = (900000.000000000000000,5500000.000000000000000)\n",
      "Pixel Size = (100.000000000000000,-100.000000000000000)\n",
      "Metadata:\n",
      "  AREA_OR_POINT=Area\n",
      "  DataType=Thematic\n",
      "Image Structure Metadata:\n",
      "  COMPRESSION=PACKBITS\n",
      "  INTERLEAVE=BAND\n",
      "Corner Coordinates:\n",
      "Upper Left  (  900000.000, 5500000.000) ( 56d30'18.51\"W, 56d29' 4.75\"N)\n",
      "Lower Left  (  900000.000,  900000.000) ( 23d49'33.58\"W, 24d17' 3.04\"N)\n",
      "Upper Right ( 7400000.000, 5500000.000) ( 72d54'22.09\"E, 58d57' 9.90\"N)\n",
      "Lower Right ( 7400000.000,  900000.000) ( 40d39'45.75\"E, 25d32'40.96\"N)\n",
      "Center      ( 4150000.000, 3200000.000) (  7d30'57.52\"E, 51d53' 2.21\"N)\n",
      "Band 1 Block=128x128 Type=Byte, ColorInterp=Gray\n",
      "  Min=1.000 Max=48.000 \n",
      "  Minimum=1.000, Maximum=48.000, Mean=25.753, StdDev=11.680\n",
      "  256 buckets from 0.907843 to 48.0922:\n",
      "  2255858521 0 0 0 0 17085234 0 0 0 0 0 3210212 0 0 0 0 414626 0 0 0 0 0 122685 0 0 0 0 352020 0 0 0 0 0 820443 0 0 0 0 125373 0 0 0 0 201018 0 0 0 0 0 330596 0 0 0 0 1310736 0 0 0 0 0 121469220 0 0 0 0 10943399 0 0 0 0 0 821737 0 0 0 0 4112102 0 0 0 0 4304276 0 0 0 0 0 5247375 0 0 0 0 43061005 0 0 0 0 0 558481 0 0 0 0 24295716 0 0 0 0 0 27014639 0 0 0 0 3312024 0 0 0 0 58678001 0 0 0 0 0 81743560 0 0 0 0 31065342 0 0 0 0 0 21557169 0 0 0 0 17478178 0 0 0 0 10890506 0 0 0 0 0 29721311 0 0 0 0 763776 0 0 0 0 0 8952679 0 0 0 0 23594478 0 0 0 0 0 226982 0 0 0 0 1554720 0 0 0 0 1377227 0 0 0 0 0 11566473 0 0 0 0 586549 0 0 0 0 0 73892 0 0 0 0 1218413 0 0 0 0 0 1353727 0 0 0 0 12964044 0 0 0 0 652034 0 0 0 0 0 382221 0 0 0 0 148586809 0 0 0 0 0 0 0 0 0 0 0 0 0 0 0 0 0 0 0 0 0 0 \n",
      "  NoData Value=48\n",
      "  Metadata:\n",
      "    RepresentationType=THEMATIC\n",
      "    STATISTICS_COVARIANCES=136.429646247598\n",
      "    STATISTICS_MAXIMUM=48\n",
      "    STATISTICS_MEAN=25.753373398066\n",
      "    STATISTICS_MINIMUM=1\n",
      "    STATISTICS_SKIPFACTORX=1\n",
      "    STATISTICS_SKIPFACTORY=1\n",
      "    STATISTICS_STDDEV=11.680310194836\n",
      "  Image Structure Metadata:\n",
      "    PIXELTYPE=SIGNEDBYTE\n"
     ]
    }
   ],
   "source": [
    "!gdalinfo -hist in_data/CLC/u2018_clc2018_v2020_20u1_raster100m/DATA/U2018_CLC2018_V2020_20u1.tif"
   ]
  },
  {
   "cell_type": "code",
   "execution_count": 77,
   "id": "0b851fc1",
   "metadata": {},
   "outputs": [
    {
     "name": "stdout",
     "output_type": "stream",
     "text": [
      "  NoData Value=48\r\n"
     ]
    }
   ],
   "source": [
    "!gdalinfo     out_data/CLC/CLC_recode01.tif  | grep NoData"
   ]
  }
 ],
 "metadata": {
  "kernelspec": {
   "display_name": "Python 3 (ipykernel)",
   "language": "python",
   "name": "python3"
  },
  "language_info": {
   "codemirror_mode": {
    "name": "ipython",
    "version": 3
   },
   "file_extension": ".py",
   "mimetype": "text/x-python",
   "name": "python",
   "nbconvert_exporter": "python",
   "pygments_lexer": "ipython3",
   "version": "3.10.6"
  }
 },
 "nbformat": 4,
 "nbformat_minor": 5
}
