{
 "cells": [
  {
   "cell_type": "markdown",
   "id": "af1e9321",
   "metadata": {},
   "source": [
    "Here we produce min/max/average forest maps on 100m grid"
   ]
  },
  {
   "cell_type": "markdown",
   "id": "de533420",
   "metadata": {},
   "source": [
    "First lets check the extent/resolution/nodata values of all our input files\n",
    "a list of input files is stored in filelist_stack100m_vrt.txt\n",
    "\n",
    "We need to add the \"CLC has data\" mask"
   ]
  },
  {
   "cell_type": "code",
   "execution_count": 3,
   "id": "d2fd24e0",
   "metadata": {},
   "outputs": [
    {
     "name": "stdout",
     "output_type": "stream",
     "text": [
      "reproj3035_100m_tifs  tilelist.txt\r\n"
     ]
    }
   ],
   "source": [
    "!ls out_data/GLADGLCextent"
   ]
  },
  {
   "cell_type": "code",
   "execution_count": 40,
   "id": "997c43be",
   "metadata": {},
   "outputs": [
    {
     "name": "stdout",
     "output_type": "stream",
     "text": [
      "out_data/C-GLOPS/2019/Tree_CoverFraction_2019_mean100m_0nodata.tif\r\n",
      "out_data/CLC/CLC_recode01.tif\r\n",
      "out_data/CLC10m/mean100m_CLC10.tif\r\n",
      "out_data/EPFD/Delta_3035.tif\r\n",
      "out_data/IFL/IFL2020_3035.tif\r\n"
     ]
    }
   ],
   "source": [
    "!cat out_data/filelist_stack100m_vrt.txt"
   ]
  },
  {
   "cell_type": "code",
   "execution_count": 1,
   "id": "9604ecfe",
   "metadata": {},
   "outputs": [
    {
     "name": "stdout",
     "output_type": "stream",
     "text": [
      "Tree_CoverFraction_2019_mean100m_0nodata.tif\n",
      "  NoData Value=0\n",
      "CLC_recode01.tif\n",
      "  NoData Value=48\n",
      "mean100m_CLC10.tif\n",
      "  NoData Value=48\n",
      "Delta_3035.tif\n",
      "  NoData Value=0\n",
      "IFL2020_3035.tif\n",
      "  NoData Value=0\n"
     ]
    }
   ],
   "source": [
    "%%bash\n",
    "cat out_data/filelist_stack100m_vrt.txt | while read line \n",
    "do\n",
    "basename $line\n",
    "gdalinfo $line | grep NoData\n",
    "done"
   ]
  },
  {
   "cell_type": "markdown",
   "id": "24c43701",
   "metadata": {},
   "source": [
    "IFL is just patches, so we want to ignore 0 values (therefore they are coded as NA)\n",
    "Similar for EPFD/Delta_3035\n",
    "\n",
    "TODO: this shouldn't have nodata values only zeros out_data/C-GLOPS/2019/Tree_CoverFraction_2019_mean100m_0nodata.tif "
   ]
  },
  {
   "cell_type": "code",
   "execution_count": 100,
   "id": "48c69e3e",
   "metadata": {},
   "outputs": [
    {
     "name": "stdout",
     "output_type": "stream",
     "text": [
      "Tree_CoverFraction_2019_mean100m_0nodata.tif\n",
      "    Computed Min/Max=0.010,1.000\n",
      "CLC_recode01.tif\n",
      "    Computed Min/Max=0.000,1.000\n",
      "mean100m_CLC10.tif\n",
      "    Computed Min/Max=0.000,1.000\n",
      "Delta_3035.tif\n",
      "    Computed Min/Max=1.000,1.000\n",
      "IFL2020_3035.tif\n",
      "    Computed Min/Max=1.000,1.000\n"
     ]
    }
   ],
   "source": [
    "%%bash\n",
    "cat out_data/filelist_stack100m_vrt.txt | while read line \n",
    "do\n",
    "basename $line\n",
    "gdalinfo -mm $line | grep Computed\n",
    "done\n",
    "\n"
   ]
  },
  {
   "cell_type": "code",
   "execution_count": 66,
   "id": "619e3c4c",
   "metadata": {},
   "outputs": [
    {
     "name": "stdout",
     "output_type": "stream",
     "text": [
      "Tree_CoverFraction_2019_mean100m_0nodata.tif\n",
      "  NoData Value=0\tFloat64 Pixel Size = (100.000000000000000,-100.000000000000000) Origin = (900000.000000000000000,5500000.000000000000000)\n",
      "CLC_recode01.tif\n",
      "  NoData Value=48\tByte, Pixel Size = (100.000000000000000,-100.000000000000000) Origin = (900000.000000000000000,5500000.000000000000000)\n",
      "mean100m_CLC10.tif\n",
      "  NoData Value=48\tFloat64 Pixel Size = (100.000000000000000,-100.000000000000000) Origin = (900000.000000000000000,5500000.000000000000000)\n",
      "Delta_3035.tif\n",
      "  NoData Value=0\tByte, Pixel Size = (100.000000000000000,-100.000000000000000) Origin = (900000.000000000000000,5500000.000000000000000)\n",
      "IFL2020_3035.tif\n",
      "  NoData Value=0\tByte, Pixel Size = (100.000000000000000,-100.000000000000000) Origin = (900000.000000000000000,5500000.000000000000000)\n"
     ]
    }
   ],
   "source": [
    "%%bash\n",
    "cat out_data/filelist_stack100m_vrt.txt | while read line \n",
    "do\n",
    "basename $line\n",
    "paste  <(gdalinfo $line | grep NoData) <(gdalinfo $line | awk '/Type/  {type=substr($4, 6, 7)}\n",
    "/Pixel Size/  {pxsize=$0} /Origin/  {ori=$0} END {print type \" \" pxsize \" \" ori}')\n",
    "done\n"
   ]
  },
  {
   "cell_type": "code",
   "execution_count": 8,
   "id": "2ae96f4f",
   "metadata": {},
   "outputs": [
    {
     "name": "stdout",
     "output_type": "stream",
     "text": [
      "Process is interrupted.\n"
     ]
    }
   ],
   "source": [
    "%%bash\n",
    "start=`date +%s`\n",
    "\n",
    "outfile=out_data/hybrid/forest_hybrid_mean.tif\n",
    "\n",
    "pkcomposite $(for file in $(cat out_data/filelist_stack100m_vrt.txt  ); do echo -i $file; done) \\\n",
    "-o $outfile \\\n",
    "-m out_data/CLCreference_ocean.tif -msknodata 0 \\\n",
    "-srcnodata 48 \\\n",
    "-cr mean -dstnodata 0 \\\n",
    "-co  COMPRESS=LZW -co ZLEVEL=9 \n",
    "\n",
    "\n",
    "\n",
    "end=`date +%s`\n",
    "\n",
    "expr $end - $start"
   ]
  },
  {
   "cell_type": "markdown",
   "id": "0f336bca",
   "metadata": {},
   "source": [
    "TODO find a spot where the IFL is 1 and see if it got handled correctly. \n",
    "Look at coastlines "
   ]
  }
 ],
 "metadata": {
  "kernelspec": {
   "display_name": "Python 3 (ipykernel)",
   "language": "python",
   "name": "python3"
  },
  "language_info": {
   "codemirror_mode": {
    "name": "ipython",
    "version": 3
   },
   "file_extension": ".py",
   "mimetype": "text/x-python",
   "name": "python",
   "nbconvert_exporter": "python",
   "pygments_lexer": "ipython3",
   "version": "3.10.6"
  }
 },
 "nbformat": 4,
 "nbformat_minor": 5
}
