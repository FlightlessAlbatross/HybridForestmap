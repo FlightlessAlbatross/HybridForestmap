{
 "cells": [
  {
   "cell_type": "code",
   "execution_count": 2,
   "id": "0e367916",
   "metadata": {},
   "outputs": [
    {
     "name": "stdout",
     "output_type": "stream",
     "text": [
      "head: cannot open '30' for reading: No such file or directory\r\n"
     ]
    }
   ],
   "source": [
    "!ogrinfo -al  in_data/Intact\\ forest\\ landscape/IFL_2020/ifl_2020.shp | head -30"
   ]
  },
  {
   "cell_type": "markdown",
   "id": "b8b3c005",
   "metadata": {},
   "source": [
    "First we need to reproject it to the destination projection "
   ]
  },
  {
   "cell_type": "code",
   "execution_count": 20,
   "id": "b94ec552",
   "metadata": {},
   "outputs": [],
   "source": [
    "%%bash\n",
    "ogr2ogr -overwrite                         \\\n",
    "-t_srs EPSG:3035                           \\\n",
    "-f \"ESRI Shapefile\" in_data/Intact\\ forest\\ landscape/IFL_2020/EPFD_epsg3035.shp \\\n",
    "in_data/Intact\\ forest\\ landscape/IFL_2020/ifl_2020.shp"
   ]
  },
  {
   "cell_type": "code",
   "execution_count": 17,
   "id": "44ff676e",
   "metadata": {},
   "outputs": [
    {
     "name": "stdout",
     "output_type": "stream",
     "text": [
      " EPFD_epsg3035.dbf\r\n",
      " EPFD_epsg3035.prj\r\n",
      " EPFD_epsg3035.shp\r\n",
      " EPFD_epsg3035.shx\r\n",
      " qipc_sharedmemory_qlipper369fd8e65859e0e38e0398aab01e8d03e0419d1f\r\n",
      " qipc_systemsem_qlipper369fd8e65859e0e38e0398aab01e8d03e0419d1f\r\n",
      " recode4bash.txt\r\n",
      " sddm-auth9ddd91b4-4823-439c-9c8e-f4785a5b004a\r\n",
      " ssh-XXXXXXh3Vu7Y\r\n",
      " systemd-private-844af9da01204fab9cef9f9b4ee9fd4f-apache2.service-on8lt1\r\n",
      " systemd-private-844af9da01204fab9cef9f9b4ee9fd4f-haveged.service-RWHGWM\r\n",
      " systemd-private-844af9da01204fab9cef9f9b4ee9fd4f-ModemManager.service-SOkPbW\r\n",
      " systemd-private-844af9da01204fab9cef9f9b4ee9fd4f-systemd-logind.service-ZVnYyP\r\n",
      " systemd-private-844af9da01204fab9cef9f9b4ee9fd4f-systemd-resolved.service-6eEexS\r\n",
      " systemd-private-844af9da01204fab9cef9f9b4ee9fd4f-upower.service-zrcKKo\r\n",
      " Temp-cc735bd0-ebdf-4621-b8cf-c5c55d174c22\r\n",
      " tmpaddon\r\n",
      "'VirtualBox Dropped Files'\r\n"
     ]
    }
   ],
   "source": [
    "!ls /tmp"
   ]
  },
  {
   "cell_type": "markdown",
   "id": "87836cb8",
   "metadata": {},
   "source": [
    "Now rasterize based on the center of each pixel in the destination "
   ]
  },
  {
   "cell_type": "code",
   "execution_count": 12,
   "id": "32721775",
   "metadata": {},
   "outputs": [
    {
     "name": "stdout",
     "output_type": "stream",
     "text": [
      "Warning 1: The definition of projected CRS EPSG:3035 got from GeoTIFF keys is not the same as the one from the EPSG registry, which may cause issues during reprojection operations. Set GTIFF_SRS_SOURCE configuration option to EPSG to use official parameters (overriding the ones from GeoTIFF keys), or to GEOKEYS to use custom values from GeoTIFF keys and drop the EPSG code.\r\n",
      "Pixel Size = (100.000000000000000,-100.000000000000000)\r\n"
     ]
    }
   ],
   "source": [
    "!gdalinfo in_data/CLC/u2018_clc2018_v2020_20u1_raster100m/DATA/U2018_CLC2018_V2020_20u1.tif | grep Pixel"
   ]
  },
  {
   "cell_type": "code",
   "execution_count": 4,
   "id": "35af3b32",
   "metadata": {},
   "outputs": [
    {
     "name": "stdout",
     "output_type": "stream",
     "text": [
      "0...10...20...30...40...50...60...70...80...90...100 - done.\n"
     ]
    }
   ],
   "source": [
    "%%bash\n",
    "gdal_rasterize                     \\\n",
    "-burn 1                            \\\n",
    "-a_nodata 0                        \\\n",
    "-tr 100 100                        \\\n",
    "-te 900000 900000 7400000 5500000  \\\n",
    "-ot Byte                           \\\n",
    "in_data/Intact\\ forest\\ landscape/IFL_2020/EPFD_epsg3035.shp out_data/EPFD/EPDF.tif"
   ]
  },
  {
   "cell_type": "code",
   "execution_count": 5,
   "id": "16154773",
   "metadata": {},
   "outputs": [
    {
     "name": "stdout",
     "output_type": "stream",
     "text": [
      "Driver: GTiff/GeoTIFF\n",
      "Files: out_data/EPFD/EPDF.tif\n",
      "Size is 65000, 46000\n",
      "Coordinate System is:\n",
      "PROJCRS[\"ETRS89-extended / LAEA Europe\",\n",
      "    BASEGEOGCRS[\"ETRS89\",\n",
      "        ENSEMBLE[\"European Terrestrial Reference System 1989 ensemble\",\n",
      "            MEMBER[\"European Terrestrial Reference Frame 1989\"],\n",
      "            MEMBER[\"European Terrestrial Reference Frame 1990\"],\n",
      "            MEMBER[\"European Terrestrial Reference Frame 1991\"],\n",
      "            MEMBER[\"European Terrestrial Reference Frame 1992\"],\n",
      "            MEMBER[\"European Terrestrial Reference Frame 1993\"],\n",
      "            MEMBER[\"European Terrestrial Reference Frame 1994\"],\n",
      "            MEMBER[\"European Terrestrial Reference Frame 1996\"],\n",
      "            MEMBER[\"European Terrestrial Reference Frame 1997\"],\n",
      "            MEMBER[\"European Terrestrial Reference Frame 2000\"],\n",
      "            MEMBER[\"European Terrestrial Reference Frame 2005\"],\n",
      "            MEMBER[\"European Terrestrial Reference Frame 2014\"],\n",
      "            ELLIPSOID[\"GRS 1980\",6378137,298.257222101,\n",
      "                LENGTHUNIT[\"metre\",1]],\n",
      "            ENSEMBLEACCURACY[0.1]],\n",
      "        PRIMEM[\"Greenwich\",0,\n",
      "            ANGLEUNIT[\"degree\",0.0174532925199433]],\n",
      "        ID[\"EPSG\",4258]],\n",
      "    CONVERSION[\"Europe Equal Area 2001\",\n",
      "        METHOD[\"Lambert Azimuthal Equal Area\",\n",
      "            ID[\"EPSG\",9820]],\n",
      "        PARAMETER[\"Latitude of natural origin\",52,\n",
      "            ANGLEUNIT[\"degree\",0.0174532925199433],\n",
      "            ID[\"EPSG\",8801]],\n",
      "        PARAMETER[\"Longitude of natural origin\",10,\n",
      "            ANGLEUNIT[\"degree\",0.0174532925199433],\n",
      "            ID[\"EPSG\",8802]],\n",
      "        PARAMETER[\"False easting\",4321000,\n",
      "            LENGTHUNIT[\"metre\",1],\n",
      "            ID[\"EPSG\",8806]],\n",
      "        PARAMETER[\"False northing\",3210000,\n",
      "            LENGTHUNIT[\"metre\",1],\n",
      "            ID[\"EPSG\",8807]]],\n",
      "    CS[Cartesian,2],\n",
      "        AXIS[\"northing (Y)\",north,\n",
      "            ORDER[1],\n",
      "            LENGTHUNIT[\"metre\",1]],\n",
      "        AXIS[\"easting (X)\",east,\n",
      "            ORDER[2],\n",
      "            LENGTHUNIT[\"metre\",1]],\n",
      "    USAGE[\n",
      "        SCOPE[\"Statistical analysis.\"],\n",
      "        AREA[\"Europe - European Union (EU) countries and candidates. Europe - onshore and offshore: Albania; Andorra; Austria; Belgium; Bosnia and Herzegovina; Bulgaria; Croatia; Cyprus; Czechia; Denmark; Estonia; Faroe Islands; Finland; France; Germany; Gibraltar; Greece; Hungary; Iceland; Ireland; Italy; Kosovo; Latvia; Liechtenstein; Lithuania; Luxembourg; Malta; Monaco; Montenegro; Netherlands; North Macedonia; Norway including Svalbard and Jan Mayen; Poland; Portugal including Madeira and Azores; Romania; San Marino; Serbia; Slovakia; Slovenia; Spain including Canary Islands; Sweden; Switzerland; Turkey; United Kingdom (UK) including Channel Islands and Isle of Man; Vatican City State.\"],\n",
      "        BBOX[24.6,-35.58,84.73,44.83]],\n",
      "    ID[\"EPSG\",3035]]\n",
      "Data axis to CRS axis mapping: 2,1\n",
      "Origin = (900000.000000000000000,5500000.000000000000000)\n",
      "Pixel Size = (100.000000000000000,-100.000000000000000)\n",
      "Metadata:\n",
      "  AREA_OR_POINT=Area\n",
      "Image Structure Metadata:\n",
      "  INTERLEAVE=BAND\n",
      "Corner Coordinates:\n",
      "Upper Left  (  900000.000, 5500000.000) ( 56d30'18.51\"W, 56d29' 4.75\"N)\n",
      "Lower Left  (  900000.000,  900000.000) ( 23d49'33.58\"W, 24d17' 3.04\"N)\n",
      "Upper Right ( 7400000.000, 5500000.000) ( 72d54'22.09\"E, 58d57' 9.90\"N)\n",
      "Lower Right ( 7400000.000,  900000.000) ( 40d39'45.75\"E, 25d32'40.96\"N)\n",
      "Center      ( 4150000.000, 3200000.000) (  7d30'57.52\"E, 51d53' 2.21\"N)\n",
      "Band 1 Block=65000x1 Type=Byte, ColorInterp=Gray\n",
      "  NoData Value=0\n"
     ]
    }
   ],
   "source": [
    "!gdalinfo out_data/EPFD/EPDF.tif"
   ]
  },
  {
   "cell_type": "code",
   "execution_count": null,
   "id": "908a08de",
   "metadata": {},
   "outputs": [],
   "source": []
  }
 ],
 "metadata": {
  "kernelspec": {
   "display_name": "Python 3 (ipykernel)",
   "language": "python",
   "name": "python3"
  },
  "language_info": {
   "codemirror_mode": {
    "name": "ipython",
    "version": 3
   },
   "file_extension": ".py",
   "mimetype": "text/x-python",
   "name": "python",
   "nbconvert_exporter": "python",
   "pygments_lexer": "ipython3",
   "version": "3.10.6"
  }
 },
 "nbformat": 4,
 "nbformat_minor": 5
}
