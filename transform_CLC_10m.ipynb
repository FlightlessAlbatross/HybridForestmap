{
 "cells": [
  {
   "cell_type": "markdown",
   "id": "6fb5af41",
   "metadata": {},
   "source": [
    "    TODO Instead of using the tiles based ont his file, I should use tiles from my target grid, the CLC 100m.\n",
    "    \n",
    "    TODO Water should be 0 not, nodata\n",
    "    TODO vrt for the smaller tiles. "
   ]
  },
  {
   "cell_type": "markdown",
   "id": "0b3fd0fb",
   "metadata": {},
   "source": [
    "With pkcomposite -cr mean i can maybe do it, although this is ment to calculate the mean between 2 layers. \n",
    "so maybe not. Lateron I can use it to combine all my maps tho, and include weights. "
   ]
  },
  {
   "cell_type": "markdown",
   "id": "712c71e3",
   "metadata": {},
   "source": [
    "Here we take the 10m CLC map turn it into forest/nonforest and downsample it to the 100m map"
   ]
  },
  {
   "cell_type": "markdown",
   "id": "7b04c045",
   "metadata": {},
   "source": [
    "recode to forest/nonforest/NA\n",
    "First lets create a list of forest classes\n",
    "Note that we want to classify the nodata in water 254 also as \"noforest\", so we then correctly downlsample with mean "
   ]
  },
  {
   "cell_type": "code",
   "execution_count": 9,
   "id": "2800227d",
   "metadata": {},
   "outputs": [],
   "source": [
    "%%bash\n",
    "for((i=1;i<=11;++i));do\n",
    "  if(($i >=2 && $i <=4));then\n",
    "    echo \"$i 1\"\n",
    "  else\n",
    "    echo \"$i 0\";fi\n",
    "done > /tmp/recode4bash.txt \n",
    "\n",
    "echo \"254 0\" >> /tmp/recode4bash.txt \n",
    "echo \"255 0\" >> /tmp/recode4bash.txt "
   ]
  },
  {
   "cell_type": "code",
   "execution_count": 10,
   "id": "68c4b4a8",
   "metadata": {},
   "outputs": [
    {
     "name": "stdout",
     "output_type": "stream",
     "text": [
      "1 0\n",
      "2 1\n",
      "3 1\n",
      "4 1\n",
      "5 0\n",
      "------------------\n",
      "9 0\n",
      "10 0\n",
      "11 0\n",
      "254 0\n",
      "255 0\n"
     ]
    }
   ],
   "source": [
    "!head -5 /tmp/recode4bash.txt \n",
    "!echo ------------------\n",
    "!tail -5 /tmp/recode4bash.txt "
   ]
  },
  {
   "cell_type": "markdown",
   "id": "44e62287",
   "metadata": {},
   "source": [
    "Get the extent and resolution from the 100m map and use that to calculate the mean"
   ]
  },
  {
   "cell_type": "code",
   "execution_count": 22,
   "id": "ad84d3b7",
   "metadata": {},
   "outputs": [
    {
     "name": "stdout",
     "output_type": "stream",
     "text": [
      "325000\n",
      "230000\n"
     ]
    }
   ],
   "source": [
    "%%bash\n",
    "i=3\n",
    "j=3\n",
    "\n",
    "blockfile=out_data/CLC10m/blocks16/CLC10_$i$j.tif\n",
    "outfile=out_data/CLC10m/blocks16/recode_CLC10_$i$j.tif\n",
    "echo $((  (i-1)*162500   ))\n",
    "echo $((  (j-1)*115000   )) \n",
    "\n"
   ]
  },
  {
   "cell_type": "markdown",
   "id": "7b424552",
   "metadata": {},
   "source": [
    "Split it into chunks\n",
    "-srcwin Selects a subwindow from the source image for copying based on pixel/line location.\n"
   ]
  },
  {
   "cell_type": "code",
   "execution_count": 20,
   "id": "58b8a38c",
   "metadata": {},
   "outputs": [
    {
     "name": "stdout",
     "output_type": "stream",
     "text": [
      "1 0\n",
      "2 1\n",
      "3 1\n",
      "4 1\n",
      "5 0\n",
      "6 0\n",
      "7 0\n",
      "8 0\n",
      "9 0\n",
      "10 0\n",
      "11 0\n",
      "254 0\n",
      "255 0\n",
      "0...10...20...30...40...50...60...70...80...90...100 - done.\n",
      "0...10...20...30...40...50...60...70...80...90...100 - done.\n",
      "0...10...20...30...40...50...60...70...80...90...100 - done.\n",
      "0...10...20...30...40...50...60...70...80...90...100 - done.\n",
      "0...10...20...30...40...50...60...70...80...90...100 - done.\n",
      "0...10...20...30...40...50...60...70...80...90...100 - done.\n",
      "0...10...20...30...40...50...60...70...80...90...100 - done.\n",
      "0...10...20...30...40...50...60...70...80...90...100 - done.\n",
      "0...10...20...30...40...50...60...70...80...90...100 - done.\n",
      "0...10...20...30...40...50...60...70...80...90...100 - done.\n",
      "0...10...20...30...40...50...60...70...80...90...100 - done.\n",
      "0...10...20...30...40...50...60...70...80...90...100 - done.\n",
      "0...10...20...30...40...50...60...70...80...90...100 - done.\n",
      "0...10...20...30...40...50...60...70...80...90...100 - done.\n",
      "0...10...20...30...40...50...60...70...80...90...100 - done.\n",
      "0...10...20...30...40...50...60...70...80...90...100 - done.\n",
      "22266\n"
     ]
    }
   ],
   "source": [
    "%%bash\n",
    "start=`date +%s`\n",
    "\n",
    "cat /tmp/recode4bash.txt\n",
    "\n",
    "for i in {1..4..1} ;do\n",
    "for j in {1..4..1} ;do\n",
    "\n",
    "\n",
    "blockfile=out_data/CLC10m/blocks16/CLC10_$i$j.tif\n",
    "outfile=out_data/CLC10m/blocks16/recode_CLC10_$i$j.tif\n",
    "\n",
    "xstart=$((  (i-1)*162500   ))\n",
    "ystart=$((  (j-1)*115000   )) \n",
    "\n",
    "# gdal_translate -co COMPRESS=DEFLATE -co ZLEVEL=9 -srcwin $xstart $ystart 162500 115000 in_data/CLC/CLC_2018_10m/Data/CLMS_CLCplus_RASTER_2018_010m_eu_03035_V1_1.tif $blockfile\n",
    "\n",
    "pkreclass -co COMPRESS=DEFLATE -co ZLEVEL=9  \\\n",
    "-code /tmp/recode4bash.txt                   \\\n",
    "-nodata 48                                   \\\n",
    "-ot Float64                                  \\\n",
    "-co BIGTIFF=YES                              \\\n",
    "-i $blockfile                                \\\n",
    "-o $outfile                                  \\\n",
    "\n",
    "\n",
    "\n",
    "done\n",
    "done\n",
    "end=`date +%s`\n",
    "\n",
    "expr $end - $start"
   ]
  },
  {
   "cell_type": "code",
   "execution_count": 58,
   "id": "d1f211a0",
   "metadata": {},
   "outputs": [],
   "source": [
    "!gdalinfo -hist out_data/CLC10m/blocks16/recode_CLC10_33.tif > out_data/CLC10m/blocks16/gdalhist_recode_CLC10_33.txt"
   ]
  },
  {
   "cell_type": "code",
   "execution_count": 28,
   "id": "a6b35447",
   "metadata": {},
   "outputs": [
    {
     "name": "stdout",
     "output_type": "stream",
     "text": [
      "Driver: GTiff/GeoTIFF\r\n",
      "Files: /media/sf_geocomputation_class/out_data/CLC10m/blocks16/recode_CLC10_33.tif\r\n",
      "Size is 162500, 115000\r\n",
      "Coordinate System is:\r\n",
      "PROJCRS[\"ETRS89-extended / LAEA Europe\",\r\n",
      "    BASEGEOGCRS[\"ETRS89\",\r\n",
      "        ENSEMBLE[\"European Terrestrial Reference System 1989 ensemble\",\r\n",
      "            MEMBER[\"European Terrestrial Reference Frame 1989\"],\r\n",
      "            MEMBER[\"European Terrestrial Reference Frame 1990\"],\r\n",
      "            MEMBER[\"European Terrestrial Reference Frame 1991\"],\r\n",
      "            MEMBER[\"European Terrestrial Reference Frame 1992\"],\r\n",
      "            MEMBER[\"European Terrestrial Reference Frame 1993\"],\r\n",
      "            MEMBER[\"European Terrestrial Reference Frame 1994\"],\r\n",
      "            MEMBER[\"European Terrestrial Reference Frame 1996\"],\r\n",
      "            MEMBER[\"European Terrestrial Reference Frame 1997\"],\r\n",
      "            MEMBER[\"European Terrestrial Reference Frame 2000\"],\r\n",
      "            MEMBER[\"European Terrestrial Reference Frame 2005\"],\r\n",
      "            MEMBER[\"European Terrestrial Reference Frame 2014\"],\r\n",
      "            ELLIPSOID[\"GRS 1980\",6378137,298.257222101,\r\n",
      "                LENGTHUNIT[\"metre\",1]],\r\n",
      "            ENSEMBLEACCURACY[0.1]],\r\n",
      "        PRIMEM[\"Greenwich\",0,\r\n",
      "            ANGLEUNIT[\"degree\",0.0174532925199433]],\r\n",
      "        ID[\"EPSG\",4258]],\r\n",
      "    CONVERSION[\"Europe Equal Area 2001\",\r\n",
      "        METHOD[\"Lambert Azimuthal Equal Area\",\r\n",
      "            ID[\"EPSG\",9820]],\r\n",
      "        PARAMETER[\"Latitude of natural origin\",52,\r\n",
      "            ANGLEUNIT[\"degree\",0.0174532925199433],\r\n",
      "            ID[\"EPSG\",8801]],\r\n",
      "        PARAMETER[\"Longitude of natural origin\",10,\r\n",
      "            ANGLEUNIT[\"degree\",0.0174532925199433],\r\n",
      "            ID[\"EPSG\",8802]],\r\n",
      "        PARAMETER[\"False easting\",4321000,\r\n",
      "            LENGTHUNIT[\"metre\",1],\r\n",
      "            ID[\"EPSG\",8806]],\r\n",
      "        PARAMETER[\"False northing\",3210000,\r\n",
      "            LENGTHUNIT[\"metre\",1],\r\n",
      "            ID[\"EPSG\",8807]]],\r\n",
      "    CS[Cartesian,2],\r\n",
      "        AXIS[\"northing (Y)\",north,\r\n",
      "            ORDER[1],\r\n",
      "            LENGTHUNIT[\"metre\",1]],\r\n",
      "        AXIS[\"easting (X)\",east,\r\n",
      "            ORDER[2],\r\n",
      "            LENGTHUNIT[\"metre\",1]],\r\n",
      "    USAGE[\r\n",
      "        SCOPE[\"Statistical analysis.\"],\r\n",
      "        AREA[\"Europe - European Union (EU) countries and candidates. Europe - onshore and offshore: Albania; Andorra; Austria; Belgium; Bosnia and Herzegovina; Bulgaria; Croatia; Cyprus; Czechia; Denmark; Estonia; Faroe Islands; Finland; France; Germany; Gibraltar; Greece; Hungary; Iceland; Ireland; Italy; Kosovo; Latvia; Liechtenstein; Lithuania; Luxembourg; Malta; Monaco; Montenegro; Netherlands; North Macedonia; Norway including Svalbard and Jan Mayen; Poland; Portugal including Madeira and Azores; Romania; San Marino; Serbia; Slovakia; Slovenia; Spain including Canary Islands; Sweden; Switzerland; Turkey; United Kingdom (UK) including Channel Islands and Isle of Man; Vatican City State.\"],\r\n",
      "        BBOX[24.6,-35.58,84.73,44.83]],\r\n",
      "    ID[\"EPSG\",3035]]\r\n",
      "Data axis to CRS axis mapping: 2,1\r\n",
      "Origin = (4150000.000000000000000,3200000.000000000000000)\r\n",
      "Pixel Size = (10.000000000000000,-10.000000000000000)\r\n",
      "Metadata:\r\n",
      "  AREA_OR_POINT=Area\r\n",
      "  TIFFTAG_DATETIME=2023:04:23 13:56:02\r\n",
      "  TIFFTAG_DOCUMENTNAME=/media/sf_geocomputation_class/out_data/CLC10m/blocks16/recode_CLC10_33.tif\r\n",
      "  TIFFTAG_SOFTWARE=pktools 2.6.7.6 by Pieter Kempeneers\r\n",
      "Image Structure Metadata:\r\n",
      "  COMPRESSION=DEFLATE\r\n",
      "  INTERLEAVE=BAND\r\n",
      "Corner Coordinates:\r\n",
      "Upper Left  ( 4150000.000, 3200000.000) (  7d30'57.52\"E, 51d53' 2.21\"N)\r\n",
      "Lower Left  ( 4150000.000, 2050000.000) (  7d57'31.98\"E, 41d31'51.21\"N)\r\n",
      "Upper Right ( 5775000.000, 3200000.000) ( 30d36'47.20\"E, 50d 3'15.97\"N)\r\n",
      "Lower Right ( 5775000.000, 2050000.000) ( 27d 7' 0.29\"E, 40d 3'35.73\"N)\r\n",
      "Center      ( 4962500.000, 2625000.000) ( 18d21'17.08\"E, 46d24'47.31\"N)\r\n",
      "Band 1 Block=162500x1 Type=Float32, ColorInterp=Gray\r\n",
      "0...10...20...30...40...50...60...70...80...90...100 - done.\r\n",
      "  256 buckets from -0.00196078 to 1.00196:\r\n",
      "  8859309866 0 0 0 0 0 0 0 0 0 0 0 0 0 0 0 0 0 0 0 0 0 0 0 0 0 0 0 0 0 0 0 0 0 0 0 0 0 0 0 0 0 0 0 0 0 0 0 0 0 0 0 0 0 0 0 0 0 0 0 0 0 0 0 0 0 0 0 0 0 0 0 0 0 0 0 0 0 0 0 0 0 0 0 0 0 0 0 0 0 0 0 0 0 0 0 0 0 0 0 0 0 0 0 0 0 0 0 0 0 0 0 0 0 0 0 0 0 0 0 0 0 0 0 0 0 0 0 0 0 0 0 0 0 0 0 0 0 0 0 0 0 0 0 0 0 0 0 0 0 0 0 0 0 0 0 0 0 0 0 0 0 0 0 0 0 0 0 0 0 0 0 0 0 0 0 0 0 0 0 0 0 0 0 0 0 0 0 0 0 0 0 0 0 0 0 0 0 0 0 0 0 0 0 0 0 0 0 0 0 0 0 0 0 0 0 0 0 0 0 0 0 0 0 0 0 0 0 0 0 0 0 0 0 0 0 0 0 0 0 0 0 0 0 0 0 0 0 0 0 0 0 0 0 0 6051115810 \r\n",
      "  NoData Value=48\r\n",
      "  Metadata:\r\n",
      "    STATISTICS_APPROXIMATE=YES\r\n",
      "    STATISTICS_MAXIMUM=1\r\n",
      "    STATISTICS_MEAN=0.40542545559199\r\n",
      "    STATISTICS_MINIMUM=0\r\n",
      "    STATISTICS_STDDEV=0.49097419030937\r\n",
      "    STATISTICS_VALID_PERCENT=79.75\r\n"
     ]
    }
   ],
   "source": [
    "!cat out_data/CLC10m/blocks16/gdalhist_recode_CLC10_33.txt"
   ]
  },
  {
   "cell_type": "code",
   "execution_count": 29,
   "id": "6581d11a",
   "metadata": {},
   "outputs": [
    {
     "name": "stdout",
     "output_type": "stream",
     "text": [
      "Report:\n",
      "  Location: (50P,50L)\n",
      "  Band 1:\n",
      "    Value: 1\n",
      "------------------------\n",
      "Size is 162500, 115000\n",
      "Pixel Size = (10.000000000000000,-10.000000000000000)\n"
     ]
    }
   ],
   "source": [
    "!gdallocationinfo out_data/CLC10m/blocks16/recode_CLC10_33.tif 50 50\n",
    "!echo ------------------------\n",
    "!gdalinfo out_data/CLC10m/blocks16/recode_CLC10_33.tif |grep Size"
   ]
  },
  {
   "cell_type": "markdown",
   "id": "e4f26be5",
   "metadata": {},
   "source": [
    "Now upsampling we might want to do this using a vrt over all files at once to avoid edge effects"
   ]
  },
  {
   "cell_type": "markdown",
   "id": "b68d149f",
   "metadata": {},
   "source": [
    "Make a VRT of all the recodes"
   ]
  },
  {
   "cell_type": "code",
   "execution_count": 1,
   "id": "32f19563",
   "metadata": {},
   "outputs": [
    {
     "name": "stdout",
     "output_type": "stream",
     "text": [
      "0...10...20...30...40...50...60...70...80...90...100 - done.\n"
     ]
    }
   ],
   "source": [
    "!gdalbuildvrt -overwrite out_data/CLC10m/recode_CLC10.vrt out_data/CLC10m/blocks16/recode_CLC10_??.tif"
   ]
  },
  {
   "cell_type": "code",
   "execution_count": 2,
   "id": "2c85943c",
   "metadata": {},
   "outputs": [
    {
     "name": "stdout",
     "output_type": "stream",
     "text": [
      "Input file size is 650000, 460000\n",
      "0...10...20...30...40...50...60...70...80...90...100 - done.\n",
      "1422\n"
     ]
    }
   ],
   "source": [
    "%%bash\n",
    "infile=out_data/CLC10m/recode_CLC10.vrt\n",
    "outfile=out_data/CLC10m/mean100m_CLC10.tif\n",
    "\n",
    "\n",
    "start=`date +%s`\n",
    "gdal_translate -ot Float64  \\\n",
    "-tr 100 100                 \\\n",
    "-r average                  \\\n",
    "$infile  $outfile           \\\n",
    "\n",
    "end=`date +%s`\n",
    "\n",
    "expr $end - $start"
   ]
  },
  {
   "cell_type": "code",
   "execution_count": null,
   "id": "9ff5b6cb",
   "metadata": {},
   "outputs": [],
   "source": [
    "take the mode "
   ]
  },
  {
   "cell_type": "code",
   "execution_count": null,
   "id": "f9af26a3",
   "metadata": {},
   "outputs": [],
   "source": [
    "%%bash\n",
    "infile=out_data/CLC10m/recode_CLC10.vrt\n",
    "outfile=out_data/CLC10m/mode100m_CLC10.tif\n",
    "\n",
    "\n",
    "start=`date +%s`\n",
    "gdal_translate -ot Float64  \\\n",
    "-tr 100 100                 \\\n",
    "-r mode                     \\\n",
    "$infile  $outfile           \\\n",
    "\n",
    "end=`date +%s`\n",
    "\n",
    "expr $end - $start"
   ]
  },
  {
   "cell_type": "markdown",
   "id": "6c907658",
   "metadata": {},
   "source": [
    "calculate the sd min and max of the superpixels probably with pkfilter since the grids are aligned already"
   ]
  },
  {
   "cell_type": "code",
   "execution_count": 3,
   "id": "3babee65",
   "metadata": {},
   "outputs": [
    {
     "name": "stdout",
     "output_type": "stream",
     "text": [
      "23920552526 out_data/CLC10m/mean100m_CLC10.tif\r\n"
     ]
    }
   ],
   "source": [
    "!wc -c out_data/CLC10m/mean100m_CLC10.tif\n"
   ]
  }
 ],
 "metadata": {
  "kernelspec": {
   "display_name": "Python 3 (ipykernel)",
   "language": "python",
   "name": "python3"
  },
  "language_info": {
   "codemirror_mode": {
    "name": "ipython",
    "version": 3
   },
   "file_extension": ".py",
   "mimetype": "text/x-python",
   "name": "python",
   "nbconvert_exporter": "python",
   "pygments_lexer": "ipython3",
   "version": "3.10.6"
  }
 },
 "nbformat": 4,
 "nbformat_minor": 5
}
