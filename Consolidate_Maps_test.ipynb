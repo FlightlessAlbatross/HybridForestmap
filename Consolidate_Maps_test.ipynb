{
 "cells": [
  {
   "cell_type": "code",
   "execution_count": null,
   "id": "9846d39a",
   "metadata": {},
   "outputs": [],
   "source": []
  },
  {
   "cell_type": "markdown",
   "id": "aa3ef787",
   "metadata": {},
   "source": [
    "Build a smaller map for testing "
   ]
  },
  {
   "cell_type": "code",
   "execution_count": 1,
   "id": "42320265",
   "metadata": {},
   "outputs": [
    {
     "name": "stdout",
     "output_type": "stream",
     "text": [
      "/media/sf_geocomputation_class/forestmap/out_data/C-GLOPS/2019/Tree_CoverFraction_2019_mean100m_0nodata.tif\r\n",
      "/media/sf_geocomputation_class/forestmap/out_data/CLC/CLC_recode01.tif\r\n",
      "/media/sf_geocomputation_class/forestmap/out_data/CLC10m/mean100m_CLC10.tif\r\n",
      "/media/sf_geocomputation_class/forestmap/out_data/EPFD/Delta_3035.tif\r\n",
      "/media/sf_geocomputation_class/forestmap/out_data/IFL/IFL2020_3035.tif\r\n"
     ]
    }
   ],
   "source": [
    "!cat out_data/filelist_stack100m_vrt_absolute.txt"
   ]
  },
  {
   "cell_type": "markdown",
   "id": "31c3792c",
   "metadata": {},
   "source": [
    "   xmin    ymin    xmax    ymax \n",
    "4598000 2948000 5310000 3554000 "
   ]
  },
  {
   "cell_type": "code",
   "execution_count": 12,
   "id": "54ac8753",
   "metadata": {},
   "outputs": [
    {
     "name": "stdout",
     "output_type": "stream",
     "text": [
      "0...10...20...30...40...50...60...70...80...90...100 - done.\n",
      "0...10...20...30...40...50...60...70...80...90...100 - done.\n",
      "0...10...20...30...40...50...60...70...80...90...100 - done.\n",
      "0...10...20...30...40...50...60...70...80...90...100 - done.\n",
      "0...10...20...30...40...50...60...70...80...90...100 - done.\n"
     ]
    }
   ],
   "source": [
    "%%bash \n",
    "\n",
    "xstart=$((  4598000 ))\n",
    "ystart=$((  2948000 ))\n",
    "xend=$((    5310000 ))\n",
    "yend=$((    3554000 ))\n",
    "\n",
    "gdalbuildvrt                                            \\\n",
    "-overwrite                                              \\\n",
    "-vrtnodata 48                                           \\\n",
    "-te $xstart $ystart $xend $yend                         \\\n",
    "/media/sf_geocomputation_class/forestmap/out_data/C-GLOPS/2019/test_Tree_CoverFraction_2019_mean100m_0nodata.vrt \\\n",
    "/media/sf_geocomputation_class/forestmap/out_data/C-GLOPS/2019/Tree_CoverFraction_2019_mean100m_0nodata.tif\n",
    "\n",
    "\n",
    "gdalbuildvrt                                            \\\n",
    "-overwrite                                              \\\n",
    "-vrtnodata 48                                           \\\n",
    "-te $xstart $ystart $xend $yend                         \\\n",
    "/media/sf_geocomputation_class/forestmap/out_data/CLC/test_CLC_recode01.vrt \\\n",
    "/media/sf_geocomputation_class/forestmap/out_data/CLC/CLC_recode01.tif\n",
    "\n",
    "\n",
    "gdalbuildvrt                                            \\\n",
    "-overwrite                                              \\\n",
    "-vrtnodata 48                                           \\\n",
    "-te $xstart $ystart $xend $yend                         \\\n",
    "/media/sf_geocomputation_class/forestmap/out_data/CLC10m/test_mean100m_CLC10.vrt \\\n",
    "/media/sf_geocomputation_class/forestmap/out_data/CLC10m/mean100m_CLC10.tif\n",
    "\n",
    "gdalbuildvrt                                            \\\n",
    "-overwrite                                              \\\n",
    "-vrtnodata 48                                           \\\n",
    "-te $xstart $ystart $xend $yend                         \\\n",
    "/media/sf_geocomputation_class/forestmap/out_data/EPFD/test_EPFD.vrt \\\n",
    "/media/sf_geocomputation_class/forestmap/out_data/EPFD/Delta_3035.tif\n",
    "\n",
    "gdalbuildvrt                                            \\\n",
    "-overwrite                                              \\\n",
    "-vrtnodata 48                                           \\\n",
    "-te $xstart $ystart $xend $yend                         \\\n",
    "/media/sf_geocomputation_class/forestmap/out_data/IFL/test_IFL.vrt \\\n",
    "/media/sf_geocomputation_class/forestmap/out_data/IFL/IFL2020_3035.tif"
   ]
  },
  {
   "cell_type": "markdown",
   "id": "c872a800",
   "metadata": {},
   "source": [
    "make a >50% map by using pkgetmask"
   ]
  },
  {
   "cell_type": "code",
   "execution_count": 13,
   "id": "c0d5c05b",
   "metadata": {},
   "outputs": [
    {
     "name": "stdout",
     "output_type": "stream",
     "text": [
      "0...10...20...30...40...50...60...70...80...90...100 - done.\n",
      "0...10...20...30...40...50...60...70...80...90...100 - done.\n"
     ]
    }
   ],
   "source": [
    "%%bash \n",
    "pkgetmask  -co COMPRESS=DEFLATE -co ZLEVEL=9 -min  0.5  -max  1 -data 1 -nodata 0 -ot Byte \\\n",
    "-i  /media/sf_geocomputation_class/forestmap/out_data/CLC10m/test_mean100m_CLC10.vrt \\\n",
    "-o /media/sf_geocomputation_class/forestmap/out_data/CLC10m/test_threshold50_100m_CLC10.tif\n",
    "\n",
    "\n",
    "pkgetmask  -co COMPRESS=DEFLATE -co ZLEVEL=9 -min  0.5  -max  1 -data 1 -nodata 0 -ot Byte \\\n",
    "-i  /media/sf_geocomputation_class/forestmap/out_data/C-GLOPS/2019/test_Tree_CoverFraction_2019_mean100m_0nodata.vrt \\\n",
    "-o /media/sf_geocomputation_class/forestmap/out_data//C-GLOPS/2019/test_Tree_CoverFraction_2019_theshold50.tif\n",
    "\n",
    "\n"
   ]
  },
  {
   "cell_type": "markdown",
   "id": "84f2b7af",
   "metadata": {},
   "source": [
    "use pkcomposite to calculate the mean map - we don't need that anymore"
   ]
  },
  {
   "cell_type": "code",
   "execution_count": 5,
   "id": "e483f3ea",
   "metadata": {},
   "outputs": [
    {
     "name": "stdout",
     "output_type": "stream",
     "text": [
      "0...10...20...30...40...50...60...70...80...90...100 - done.\n",
      "419\n"
     ]
    }
   ],
   "source": [
    "%%bash\n",
    "#todo maybe use a mask for each -i\n",
    "\n",
    "start=`date +%s`\n",
    "\n",
    "\n",
    "outfile=out_data/hybrid/forest_hybrid_mean_test.tif\n",
    "\n",
    "pkcomposite \\\n",
    "-m out_data/CLCreference_ocean.tif -msknodata 0 \\\n",
    "-srcnodata 48 \\\n",
    "-cr mean -dstnodata 0 \\\n",
    "-co  COMPRESS=LZW -co ZLEVEL=9 \\\n",
    "-i /media/sf_geocomputation_class/forestmap/out_data/test_Tree_CoverFraction_2019_mean100m_0nodata.vrt \\\n",
    "-i /media/sf_geocomputation_class/forestmap/out_data/test_CLC_recode01.vrt \\\n",
    "-i /media/sf_geocomputation_class/forestmap/out_data/test_mean100m_CLC10.vrt \\\n",
    "-i /media/sf_geocomputation_class/forestmap/out_data/test_EPFD.vrt \\\n",
    "-i /media/sf_geocomputation_class/forestmap/out_data/test_IFL.vrt \\\n",
    "-o $outfile\n",
    "\n",
    "\n",
    "\n",
    "end=`date +%s`\n",
    "\n",
    "expr $end - $start"
   ]
  },
  {
   "cell_type": "code",
   "execution_count": 9,
   "id": "ce665ac7",
   "metadata": {},
   "outputs": [
    {
     "name": "stdout",
     "output_type": "stream",
     "text": [
      "Driver: GTiff/GeoTIFF\n",
      "Files: out_data/hybrid/forest_hybrid_mean_test.tif\n",
      "       out_data/hybrid/forest_hybrid_mean_test.tif.aux.xml\n",
      "Size is 4063, 2875\n",
      "Coordinate System is:\n",
      "PROJCRS[\"ETRS89-extended / LAEA Europe\",\n",
      "    BASEGEOGCRS[\"ETRS89\",\n",
      "        ENSEMBLE[\"European Terrestrial Reference System 1989 ensemble\",\n",
      "            MEMBER[\"European Terrestrial Reference Frame 1989\"],\n",
      "            MEMBER[\"European Terrestrial Reference Frame 1990\"],\n",
      "            MEMBER[\"European Terrestrial Reference Frame 1991\"],\n",
      "            MEMBER[\"European Terrestrial Reference Frame 1992\"],\n",
      "            MEMBER[\"European Terrestrial Reference Frame 1993\"],\n",
      "            MEMBER[\"European Terrestrial Reference Frame 1994\"],\n",
      "            MEMBER[\"European Terrestrial Reference Frame 1996\"],\n",
      "            MEMBER[\"European Terrestrial Reference Frame 1997\"],\n",
      "            MEMBER[\"European Terrestrial Reference Frame 2000\"],\n",
      "            MEMBER[\"European Terrestrial Reference Frame 2005\"],\n",
      "            MEMBER[\"European Terrestrial Reference Frame 2014\"],\n",
      "            ELLIPSOID[\"GRS 1980\",6378137,298.257222101,\n",
      "                LENGTHUNIT[\"metre\",1]],\n",
      "            ENSEMBLEACCURACY[0.1]],\n",
      "        PRIMEM[\"Greenwich\",0,\n",
      "            ANGLEUNIT[\"degree\",0.0174532925199433]],\n",
      "        ID[\"EPSG\",4258]],\n",
      "    CONVERSION[\"Europe Equal Area 2001\",\n",
      "        METHOD[\"Lambert Azimuthal Equal Area\",\n",
      "            ID[\"EPSG\",9820]],\n",
      "        PARAMETER[\"Latitude of natural origin\",52,\n",
      "            ANGLEUNIT[\"degree\",0.0174532925199433],\n",
      "            ID[\"EPSG\",8801]],\n",
      "        PARAMETER[\"Longitude of natural origin\",10,\n",
      "            ANGLEUNIT[\"degree\",0.0174532925199433],\n",
      "            ID[\"EPSG\",8802]],\n",
      "        PARAMETER[\"False easting\",4321000,\n",
      "            LENGTHUNIT[\"metre\",1],\n",
      "            ID[\"EPSG\",8806]],\n",
      "        PARAMETER[\"False northing\",3210000,\n",
      "            LENGTHUNIT[\"metre\",1],\n",
      "            ID[\"EPSG\",8807]]],\n",
      "    CS[Cartesian,2],\n",
      "        AXIS[\"northing (Y)\",north,\n",
      "            ORDER[1],\n",
      "            LENGTHUNIT[\"metre\",1]],\n",
      "        AXIS[\"easting (X)\",east,\n",
      "            ORDER[2],\n",
      "            LENGTHUNIT[\"metre\",1]],\n",
      "    USAGE[\n",
      "        SCOPE[\"Statistical analysis.\"],\n",
      "        AREA[\"Europe - European Union (EU) countries and candidates. Europe - onshore and offshore: Albania; Andorra; Austria; Belgium; Bosnia and Herzegovina; Bulgaria; Croatia; Cyprus; Czechia; Denmark; Estonia; Faroe Islands; Finland; France; Germany; Gibraltar; Greece; Hungary; Iceland; Ireland; Italy; Kosovo; Latvia; Liechtenstein; Lithuania; Luxembourg; Malta; Monaco; Montenegro; Netherlands; North Macedonia; Norway including Svalbard and Jan Mayen; Poland; Portugal including Madeira and Azores; Romania; San Marino; Serbia; Slovakia; Slovenia; Spain including Canary Islands; Sweden; Switzerland; Turkey; United Kingdom (UK) including Channel Islands and Isle of Man; Vatican City State.\"],\n",
      "        BBOX[24.6,-35.58,84.73,44.83]],\n",
      "    ID[\"EPSG\",3035]]\n",
      "Data axis to CRS axis mapping: 2,1\n",
      "Origin = (4150000.000000000000000,2337500.000000000000000)\n",
      "Pixel Size = (100.000000000000000,-100.000000000000000)\n",
      "Metadata:\n",
      "  AREA_OR_POINT=Area\n",
      "  TIFFTAG_DATETIME=2023:05:30 11:35:57\n",
      "  TIFFTAG_DOCUMENTNAME=out_data/hybrid/forest_hybrid_mean_test.tif\n",
      "  TIFFTAG_SOFTWARE=pktools 2.6.7.6 by Pieter Kempeneers\n",
      "Image Structure Metadata:\n",
      "  COMPRESSION=LZW\n",
      "  INTERLEAVE=BAND\n",
      "Corner Coordinates:\n",
      "Upper Left  ( 4150000.000, 2337500.000) (  7d52' 4.35\"E, 44d 7'32.44\"N)\n",
      "Lower Left  ( 4150000.000, 2050000.000) (  7d57'31.98\"E, 41d31'51.21\"N)\n",
      "Upper Right ( 4556300.000, 2337500.000) ( 12d55'59.71\"E, 44d 6'21.87\"N)\n",
      "Lower Right ( 4556300.000, 2050000.000) ( 12d48'29.24\"E, 41d30'44.12\"N)\n",
      "Center      ( 4353150.000, 2193750.000) ( 10d23'31.70\"E, 42d50'58.76\"N)\n",
      "Band 1 Block=4063x1 Type=Float64, ColorInterp=Gray\n",
      "  Min=0.000 Max=1.000   Computed Min/Max=0.000,1.000\n",
      "  Minimum=0.000, Maximum=1.000, Mean=0.180, StdDev=0.322\n",
      "  Metadata:\n",
      "    STATISTICS_APPROXIMATE=YES\n",
      "    STATISTICS_MAXIMUM=1\n",
      "    STATISTICS_MEAN=0.18042814384101\n",
      "    STATISTICS_MINIMUM=0\n",
      "    STATISTICS_STDDEV=0.32165341024476\n",
      "    STATISTICS_VALID_PERCENT=100\n"
     ]
    }
   ],
   "source": [
    "!gdalinfo -mm out_data/hybrid/forest_hybrid_mean_test.tif"
   ]
  },
  {
   "cell_type": "markdown",
   "id": "089de94a",
   "metadata": {},
   "source": [
    "The pixel in this location below has a 0 for the IFL, and it is correctly ignored for the mean. \n",
    "\n",
    "if it weren't ignored the mean wold be 0.75"
   ]
  },
  {
   "cell_type": "code",
   "execution_count": 7,
   "id": "5cafac8a",
   "metadata": {},
   "outputs": [
    {
     "name": "stdout",
     "output_type": "stream",
     "text": [
      "/media/sf_geocomputation_class/forestmap/out_data/test_CLC_recode01.vrt\n",
      "    Value: 1\n",
      "-------------------------------------------\n",
      "/media/sf_geocomputation_class/forestmap/out_data/test_EPFD.vrt\n",
      "    Value: 1\n",
      "-------------------------------------------\n",
      "/media/sf_geocomputation_class/forestmap/out_data/test_IFL.vrt\n",
      "    Value: 0\n",
      "-------------------------------------------\n",
      "/media/sf_geocomputation_class/forestmap/out_data/test_mean100m_CLC10.vrt\n",
      "    Value: 1\n",
      "-------------------------------------------\n",
      "/media/sf_geocomputation_class/forestmap/out_data/test_Tree_CoverFraction_2019_mean100m_0nodata.vrt\n",
      "    Value: 0.750386566268088\n",
      "-------------------------------------------\n",
      "hybrid\n",
      "    Value: 0.937596641567022\n"
     ]
    }
   ],
   "source": [
    "%%bash\n",
    "for file in /media/sf_geocomputation_class/forestmap/out_data/test_*.vrt; do\n",
    "echo $file\n",
    "\n",
    "# gdallocationinfo -geoloc $file 4470059 2302539 |grep Value\n",
    "gdallocationinfo  $file 3200 349 |grep Value\n",
    "echo -------------------------------------------\n",
    "done\n",
    "\n",
    "echo hybrid\n",
    "gdallocationinfo  out_data/hybrid/forest_hybrid_mean_test.tif 3200 349 |grep Value"
   ]
  },
  {
   "cell_type": "code",
   "execution_count": 8,
   "id": "ee8f01dc",
   "metadata": {},
   "outputs": [
    {
     "name": "stdout",
     "output_type": "stream",
     "text": [
      "correct mean:   0.93759675\n",
      "incorrect mean: 0.7500774\n"
     ]
    }
   ],
   "source": [
    "print (\"correct mean:   \" + str((1+1+1+0.750387)/4)  )\n",
    "print (\"incorrect mean: \" + str((1+1+0+1+0.750387)/5))\n"
   ]
  },
  {
   "cell_type": "code",
   "execution_count": null,
   "id": "aa1be159",
   "metadata": {},
   "outputs": [],
   "source": []
  }
 ],
 "metadata": {
  "kernelspec": {
   "display_name": "Python 3 (ipykernel)",
   "language": "python",
   "name": "python3"
  },
  "language_info": {
   "codemirror_mode": {
    "name": "ipython",
    "version": 3
   },
   "file_extension": ".py",
   "mimetype": "text/x-python",
   "name": "python",
   "nbconvert_exporter": "python",
   "pygments_lexer": "ipython3",
   "version": "3.10.6"
  }
 },
 "nbformat": 4,
 "nbformat_minor": 5
}
