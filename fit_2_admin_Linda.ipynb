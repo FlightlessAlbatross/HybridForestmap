{
 "cells": [
  {
   "cell_type": "code",
   "execution_count": 10,
   "id": "e083c7de",
   "metadata": {},
   "outputs": [],
   "source": [
    "import numpy as np\n",
    "import rasterio\n",
    "from rasterio.mask import mask\n",
    "import pandas as pd\n",
    "import geopandas as gpd\n",
    "import fiona\n",
    "import os\n",
    "\n",
    "import numpy.ma as ma # for masked arrays. This allows us to handle NAs for integer arrays\n",
    "\n",
    "import time "
   ]
  },
  {
   "cell_type": "code",
   "execution_count": 2,
   "id": "ce56501f",
   "metadata": {},
   "outputs": [],
   "source": [
    "current_nutsid = 'PL72'"
   ]
  },
  {
   "cell_type": "code",
   "execution_count": 3,
   "id": "b070a8c1",
   "metadata": {},
   "outputs": [],
   "source": [
    "nuts_path = \"in_data/admin/Forest_area_PL.geojson\"\n"
   ]
  },
  {
   "cell_type": "code",
   "execution_count": 4,
   "id": "4ef1d1df",
   "metadata": {},
   "outputs": [],
   "source": [
    "admin_stats = \"in_data/admin/PL_landcover.csv\""
   ]
  },
  {
   "cell_type": "code",
   "execution_count": 5,
   "id": "e8f2273f",
   "metadata": {},
   "outputs": [
    {
     "data": {
      "text/plain": [
       "0"
      ]
     },
     "execution_count": 5,
     "metadata": {},
     "output_type": "execute_result"
    }
   ],
   "source": [
    "aggregates = pd.read_csv(admin_stats)\n",
    "aggregates['misc_ha'] = 0\n",
    "aggregates['total_ha'] = 0\n",
    "aggregates.loc[aggregates.NUTSID == current_nutsid,'total_ha'].item()\n"
   ]
  },
  {
   "cell_type": "markdown",
   "id": "34056813",
   "metadata": {},
   "source": [
    "Step 1: Reclass the region so that 311, 312, 313 are 1 and all the rest is 0"
   ]
  },
  {
   "cell_type": "markdown",
   "id": "6355f4b0",
   "metadata": {},
   "source": [
    "In the tif I have the classes are 23, 24, 25 for 311, 312, 313 respectively. "
   ]
  },
  {
   "cell_type": "code",
   "execution_count": 96,
   "id": "dd0e1d95",
   "metadata": {},
   "outputs": [
    {
     "name": "stdout",
     "output_type": "stream",
     "text": [
      "0...10...20...30...40...50...60...70...80...90...100 - done.\n"
     ]
    }
   ],
   "source": [
    "%%bash \n",
    "\n",
    "pkgetmask -ot Byte -min 23 -max 25 -data 1 -nodata 0 \\\n",
    "-i in_data/CLC/u2018_clc2018_v2020_20u1_raster100m/DATA/PL_U2018_CLC2018_V2020_20u1.tif \\\n",
    "-o out_data/CLC/PL_mask_311_312_313.tif\n",
    "\n",
    "gdal_edit.py -a_nodata 255 out_data/CLC/PL_mask_311_312_313.tif"
   ]
  },
  {
   "cell_type": "markdown",
   "id": "d7351154",
   "metadata": {},
   "source": [
    "Step 2: Multiply this reclassed region with Martin’s forest probability mask"
   ]
  },
  {
   "cell_type": "code",
   "execution_count": 64,
   "id": "76c3b0a2",
   "metadata": {},
   "outputs": [
    {
     "name": "stdout",
     "output_type": "stream",
     "text": [
      "0...10...20...30...40...50...60...70...80...90...100 - done.\n"
     ]
    }
   ],
   "source": [
    "%%bash\n",
    "\n",
    "pksetmask -i out_data/PL_expert_map_integer.tif  \\\n",
    "-m out_data/CLC/PL_mask_311_312_313.tif \\\n",
    "-o out_data/PL_expert_forest_map_masked_311_312_313.tif \\\n",
    "--maskvalue 0 --setvalue 255\n",
    "\n",
    "gdal_edit.py -a_nodata 255 out_data/PL_expert_forest_map_masked_311_312_313.tif"
   ]
  },
  {
   "cell_type": "markdown",
   "id": "402d869a",
   "metadata": {},
   "source": [
    "Same for arable cropland\n",
    "\"in_data/Corine_landcover/Crops_ptobability_final_layer_Poland.tif\""
   ]
  },
  {
   "cell_type": "code",
   "execution_count": 97,
   "id": "12795004",
   "metadata": {},
   "outputs": [
    {
     "name": "stdout",
     "output_type": "stream",
     "text": [
      "0...10...20...30...40...50...60...70...80...90...100 - done.\n"
     ]
    }
   ],
   "source": [
    "%%bash \n",
    "\n",
    "pkgetmask -ot Byte -min 12 -max 14 -data 1 -nodata 0 \\\n",
    "-i in_data/CLC/u2018_clc2018_v2020_20u1_raster100m/DATA/PL_U2018_CLC2018_V2020_20u1.tif \\\n",
    "-o out_data/CLC/PL_mask_211_212_213.tif\n",
    "\n",
    "gdal_edit.py -a_nodata 255 out_data/CLC/PL_mask_211_212_213.tif"
   ]
  },
  {
   "cell_type": "code",
   "execution_count": 98,
   "id": "683c94be",
   "metadata": {},
   "outputs": [
    {
     "name": "stdout",
     "output_type": "stream",
     "text": [
      "0...10...20...30...40...50...60...70...80...90...100 - done.\n"
     ]
    }
   ],
   "source": [
    "%%bash \n",
    "pksetmask -i in_data/Corine_landcover/Crops_ptobability_final_layer_Poland.tif  \\\n",
    "-m out_data/CLC/PL_mask_211_212_213.tif \\\n",
    "-o out_data/PL_expert_crop_map_masked_211_212_213.tif \\\n",
    "--maskvalue 0 --setvalue 255\n",
    "\n",
    "gdal_edit.py -a_nodata 255 out_data/PL_expert_crop_map_masked_211_212_213.tif"
   ]
  },
  {
   "cell_type": "markdown",
   "id": "9ff74c7c",
   "metadata": {},
   "source": [
    "Permanent cropland"
   ]
  },
  {
   "cell_type": "code",
   "execution_count": 34,
   "id": "23441ce3",
   "metadata": {},
   "outputs": [
    {
     "name": "stdout",
     "output_type": "stream",
     "text": [
      "0...10...20...30...40...50...60...70...80...90...100 - done.\n"
     ]
    }
   ],
   "source": [
    "%%bash \n",
    "\n",
    "masktif=\"out_data/CLC/PL_mask_242.tif\"\n",
    "\n",
    "pkgetmask -ot Byte -min 20 -max 20 -data 1 -nodata 0 \\\n",
    "-i in_data/CLC/u2018_clc2018_v2020_20u1_raster100m/DATA/PL_U2018_CLC2018_V2020_20u1.tif \\\n",
    "-o $masktif\n",
    "\n",
    "# gdal_edit.py -a_nodata 255 out_data/CLC/PL_mask_242.tif\n"
   ]
  },
  {
   "cell_type": "code",
   "execution_count": 35,
   "id": "2425f647",
   "metadata": {},
   "outputs": [
    {
     "name": "stdout",
     "output_type": "stream",
     "text": [
      "0...10...20...30...40...50...60...70...80...90...100 - done.\n"
     ]
    }
   ],
   "source": [
    "%%bash \n",
    "\n",
    "masktif=\"out_data/CLC/PL_mask_242.tif\"\n",
    "\n",
    "pksetmask -i in_data/Corine_landcover/Crops_ptobability_final_layer_Poland.tif  \\\n",
    "-m $masktif \\\n",
    "-o out_data/PL_expert_permcrop_map_masked_242.tif \\\n",
    "--maskvalue 0 --setvalue 255\n",
    "\n",
    "gdal_edit.py -a_nodata 255 out_data/PL_expert_permcrop_map_masked_242.tif"
   ]
  },
  {
   "cell_type": "code",
   "execution_count": 30,
   "id": "a476601f",
   "metadata": {},
   "outputs": [
    {
     "name": "stdout",
     "output_type": "stream",
     "text": [
      "Band 1 Block=7163x1 Type=Byte, ColorInterp=Gray\n",
      "Band 1 Block=7163x1 Type=Byte, ColorInterp=Gray\n",
      "Band 1 Block=7163x1 Type=Byte, ColorInterp=Gray\n"
     ]
    }
   ],
   "source": [
    "!gdalinfo in_data/Corine_landcover/Crops_ptobability_final_layer_Poland.tif | grep \"and 1\"\n",
    "!gdalinfo out_data/PL_expert_permcrop_map_masked_242.tif | grep \"and 1\" \n",
    "!gdalinfo out_data/PL_expert_permcrop_map_masked_242.tif | grep \"and 1\""
   ]
  },
  {
   "cell_type": "markdown",
   "id": "69fb5e3a",
   "metadata": {},
   "source": [
    "Grassland\n",
    "\n",
    "\"in_data/Corine_landcover/Grass_ptobability_final_layer_Poland.tif\""
   ]
  },
  {
   "cell_type": "code",
   "execution_count": 15,
   "id": "23d9cb01",
   "metadata": {},
   "outputs": [
    {
     "name": "stdout",
     "output_type": "stream",
     "text": [
      "0...10...20...30...40...50...60...70...80...90...100 - done.\n",
      "0...10...20...30...40...50...60...70...80...90...100 - done.\n"
     ]
    }
   ],
   "source": [
    "%%bash \n",
    "\n",
    "pkgetmask -ot Byte -min 26 -max 26 -data 1 -nodata 0 \\\n",
    "-i in_data/CLC/u2018_clc2018_v2020_20u1_raster100m/DATA/PL_U2018_CLC2018_V2020_20u1.tif \\\n",
    "-o out_data/CLC/PL_mask_321.tif\n",
    "\n",
    "gdal_edit.py -a_nodata 255 out_data/CLC/PL_mask_321.tif\n",
    "\n",
    "pksetmask -i in_data/Corine_landcover/Grass_ptobability_final_layer_Poland.tif  \\\n",
    "-m out_data/CLC/PL_mask_321.tif \\\n",
    "-o out_data/PL_expert_crop_map_masked_321.tif \\\n",
    "-srcnodata 255 -dstnodata 255 \\\n",
    "--maskvalue 0 --setvalue 255\n",
    "\n",
    "gdal_edit.py -a_nodata 255 out_data/PL_expert_crop_map_masked_321.tif"
   ]
  },
  {
   "cell_type": "code",
   "execution_count": null,
   "id": "39bc4a7e",
   "metadata": {},
   "outputs": [],
   "source": []
  },
  {
   "cell_type": "markdown",
   "id": "20e5fa57",
   "metadata": {},
   "source": [
    "Step 3: Rank the probabilities from low to high"
   ]
  },
  {
   "cell_type": "code",
   "execution_count": 69,
   "id": "841c728a",
   "metadata": {},
   "outputs": [
    {
     "name": "stdout",
     "output_type": "stream",
     "text": [
      "out_data/PL_expert_crop_map_masked_211_212_213.tif\r\n",
      "out_data/PL_expert_crop_map_masked_321.tif\r\n",
      "out_data/PL_expert_forest_map_masked_311_312_313.tif\r\n",
      "out_data/PL_expert_permcrop_map_masked_242.tif\r\n"
     ]
    }
   ],
   "source": [
    "!ls out_data/PL_expert_*masked_*.tif | cat"
   ]
  },
  {
   "cell_type": "code",
   "execution_count": 16,
   "id": "7ca59719",
   "metadata": {},
   "outputs": [
    {
     "data": {
      "text/plain": [
       "[True, True, True, True]"
      ]
     },
     "execution_count": 16,
     "metadata": {},
     "output_type": "execute_result"
    }
   ],
   "source": [
    "foresttif_path        ='out_data/PL_expert_forest_map_masked_311_312_313.tif'\n",
    "aracroplandtif_path   ='out_data/PL_expert_crop_map_masked_211_212_213.tif'\n",
    "permcroplandtif_path  ='out_data/PL_expert_permcrop_map_masked_242.tif'\n",
    "grasslandtif_path     ='out_data/PL_expert_crop_map_masked_321.tif'\n",
    "\n",
    "\n",
    "[os.path.exists(file) for file in [foresttif_path, aracroplandtif_path, permcroplandtif_path, grasslandtif_path]]"
   ]
  },
  {
   "cell_type": "code",
   "execution_count": 7,
   "id": "92cda636",
   "metadata": {},
   "outputs": [],
   "source": [
    "# Extract features (polygons) from the GeoJSON file using fiona\n",
    "with fiona.open(nuts_path, \"r\") as geojson:\n",
    "    features = [feature for feature in geojson]"
   ]
  },
  {
   "cell_type": "code",
   "execution_count": 8,
   "id": "2b569d00",
   "metadata": {},
   "outputs": [
    {
     "data": {
      "text/plain": [
       "'PL81'"
      ]
     },
     "execution_count": 8,
     "metadata": {},
     "output_type": "execute_result"
    }
   ],
   "source": [
    "features[0]['properties']['id']"
   ]
  },
  {
   "cell_type": "code",
   "execution_count": 17,
   "id": "445de184",
   "metadata": {},
   "outputs": [
    {
     "name": "stdout",
     "output_type": "stream",
     "text": [
      "out_data/PL_expert_forest_map_masked_311_312_313.tif\n",
      "255.0\n",
      "PL72: (1272, 1497). 1148039 unmasked pixels\n",
      "out_data/PL_expert_crop_map_masked_211_212_213.tif\n",
      "255.0\n",
      "PL72: (1272, 1497). 1170883 unmasked pixels\n",
      "out_data/PL_expert_permcrop_map_masked_242.tif\n",
      "255.0\n",
      "PL72: (1272, 1497). 1170883 unmasked pixels\n",
      "out_data/PL_expert_crop_map_masked_321.tif\n",
      "255.0\n",
      "PL72: (1272, 1497). 1170883 unmasked pixels\n"
     ]
    }
   ],
   "source": [
    "# here we just print the amout of data in a NUTS region\n",
    "\n",
    "arrays = []\n",
    "\n",
    "for input_path in [foresttif_path, aracroplandtif_path, permcroplandtif_path, grasslandtif_path]:\n",
    "    \n",
    "    \n",
    "    print(input_path)\n",
    "    with rasterio.open(input_path) as src:\n",
    "        for feature in features:\n",
    "            \n",
    "            geometry = feature[\"geometry\"]\n",
    "            nutsid = feature['properties']['id']\n",
    "            if nutsid != current_nutsid:\n",
    "                continue\n",
    "                \n",
    "                \n",
    "            print(src.nodata)\n",
    "\n",
    "            # Mask and crop the raster using the current polygon\n",
    "            out_image, out_transform = mask(src, [geometry], invert=False, crop=True)\n",
    "            affine = out_transform\n",
    "            array = out_image\n",
    "            array = np.squeeze(array, axis = 0)\n",
    "                        \n",
    "            \n",
    "            unmasked_pixels = np.count_nonzero(array != 255)\n",
    "            # fill in the pandas admin data\n",
    "            if input_path == 'in_data/Corine_landcover/Crops_ptobability_final_layer_Poland.tif':\n",
    "                aggregates.loc[aggregates.NUTSID == nutsid,'total_ha'] = unmasked_pixels\n",
    "            \n",
    "\n",
    "            arrays.append(array)\n",
    "            \n",
    "\n",
    "            print(f\"{nutsid}: {array.shape}. {unmasked_pixels} unmasked pixels\")\n",
    "            \n"
   ]
  },
  {
   "cell_type": "code",
   "execution_count": 37,
   "id": "833aad87",
   "metadata": {},
   "outputs": [
    {
     "data": {
      "image/png": "[encoded data removed]",
      "text/plain": [
       "<Figure size 432x288 with 2 Axes>"
      ]
     },
     "metadata": {
      "needs_background": "light"
     },
     "output_type": "display_data"
    }
   ],
   "source": [
    "import matplotlib.pyplot as plt\n",
    "from matplotlib.colors import ListedColormap\n",
    "\n",
    "cmap = ListedColormap(['blue', 'red'])\n",
    "# Example: Creating a 2D array\n",
    "# Replace this with your array\n",
    "array = arrays[3] == 255\n",
    "\n",
    "array = array[800:1000,200:400]\n",
    "\n",
    "# Plot the array\n",
    "plt.imshow(array, cmap=cmap)  \n",
    "plt.colorbar()  # To show a color bar representing the scale\n",
    "plt.title('')\n",
    "plt.show()\n"
   ]
  },
  {
   "cell_type": "code",
   "execution_count": null,
   "id": "ff9251d8",
   "metadata": {},
   "outputs": [],
   "source": [
    "mask = arrays[0] == 255\n",
    "masked_array = ma.array(arrays[0], mask=mask)\n"
   ]
  },
  {
   "cell_type": "code",
   "execution_count": null,
   "id": "625dce97",
   "metadata": {},
   "outputs": [],
   "source": []
  },
  {
   "cell_type": "code",
   "execution_count": null,
   "id": "392c1243",
   "metadata": {},
   "outputs": [],
   "source": [
    "# Flatten the array into a list of (row_index, column_index, value) tuples\n",
    "flattened_with_indices = [(i, j,  masked_array[i, j]) \n",
    "                          for i in range(masked_array.shape[0]) \n",
    "                          for j in range(masked_array.shape[1]) \n",
    "                          \n",
    "                          if not ma.is_masked(masked_array[i, j])]"
   ]
  },
  {
   "cell_type": "code",
   "execution_count": null,
   "id": "c08926dc",
   "metadata": {},
   "outputs": [],
   "source": [
    "flattened_sorted = sorted(flattened_with_indices, key=lambda x: x[2], reverse=True)"
   ]
  },
  {
   "cell_type": "code",
   "execution_count": null,
   "id": "2ab9f0d5",
   "metadata": {},
   "outputs": [],
   "source": [
    "len(flattened_sorted)"
   ]
  }
 ],
 "metadata": {
  "kernelspec": {
   "display_name": "Python 3 (ipykernel)",
   "language": "python",
   "name": "python3"
  },
  "language_info": {
   "codemirror_mode": {
    "name": "ipython",
    "version": 3
   },
   "file_extension": ".py",
   "mimetype": "text/x-python",
   "name": "python",
   "nbconvert_exporter": "python",
   "pygments_lexer": "ipython3",
   "version": "3.10.12"
  }
 },
 "nbformat": 4,
 "nbformat_minor": 5
}
