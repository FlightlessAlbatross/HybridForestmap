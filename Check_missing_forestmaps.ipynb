{
 "cells": [
  {
   "cell_type": "code",
   "execution_count": 17,
   "id": "686fe898",
   "metadata": {},
   "outputs": [],
   "source": [
    "%%bash \n",
    "\n",
    "echo out_data/GLADGLCextent/reproj3035_100m_tifs/poland_mean100m.tif   > out_data/available_features.txt\n",
    "echo out_data/GLADGLCextent/reproj3035_100m_tifs/poland_median100m.tif   >> out_data/available_features.txt\n",
    "echo out_data/GLADGLCextent/reproj3035_100m_tifs/poland_mode100m.tif   >> out_data/available_features.txt\n",
    "echo out_data/GLADGLCextent/reproj3035_100m_tifs/poland_q1.tif   >> out_data/available_features.txt\n",
    "echo out_data/GLADGLCextent/reproj3035_100m_tifs/poland_q3.tif   >> out_data/available_features.txt\n",
    "echo out_data/CLC10m/poland_mean.tif   >> out_data/available_features.txt\n",
    "echo out_data/CLC10m/poland_median.tif   >> out_data/available_features.txt\n",
    "echo out_data/CLC10m/poland_mode.tif   >> out_data/available_features.txt\n",
    "echo out_data/CLC10m/poland_q1.tif   >> out_data/available_features.txt\n",
    "echo out_data/CLC10m/poland_q3.tif   >> out_data/available_features.txt\n",
    "echo out_data/CLC/poland_01.vrt   >> out_data/available_features.txt\n",
    "echo out_data/C-GLOPS/2019/poland_mean.tif   >> out_data/available_features.txt\n",
    "echo out_data/C-GLOPS/2019/poland_median.tif   >> out_data/available_features.txt\n",
    "echo out_data/C-GLOPS/2019/poland_mode.tif   >> out_data/available_features.txt\n",
    "echo out_data/C-GLOPS/2019/poland_q1.tif   >> out_data/available_features.txt\n",
    "echo out_data/C-GLOPS/2019/poland_q3.tif   >> out_data/available_features.txt\n",
    "echo out_data/JAXA/poland_q3.tif   >> out_data/available_features.txt\n",
    "echo out_data/JAXA/poland_q1.tif   >> out_data/available_features.txt\n",
    "echo out_data/JAXA/poland_mode.tif   >> out_data/available_features.txt\n",
    "echo out_data/JAXA/poland_median.tif   >> out_data/available_features.txt\n",
    "echo out_data/JAXA/poland_mean.tif   >> out_data/available_features.txt"
   ]
  },
  {
   "cell_type": "code",
   "execution_count": 15,
   "id": "b1ad91e2",
   "metadata": {},
   "outputs": [
    {
     "name": "stdout",
     "output_type": "stream",
     "text": [
      "0\n",
      "0\n",
      "0\n",
      "0\n",
      "0\n",
      "0\n",
      "0\n",
      "0\n",
      "0\n",
      "0\n",
      "0\n",
      "0\n",
      "48\n",
      "48\n",
      "48\n",
      "48\n",
      "48\n",
      "0\n",
      "0\n",
      "0\n",
      "0\n",
      "0\n"
     ]
    }
   ],
   "source": [
    "%%bash\n",
    "\n",
    "files=($(< \"out_data/available_features.txt\"))\n",
    "for file in \"${files[@]}\"; do\n",
    "gdallocationinfo -valonly $file 1 1 \n",
    "done"
   ]
  },
  {
   "cell_type": "markdown",
   "id": "28408dc4",
   "metadata": {},
   "source": [
    "Same for the expert map"
   ]
  },
  {
   "cell_type": "code",
   "execution_count": 12,
   "id": "fe1de8d8",
   "metadata": {},
   "outputs": [],
   "source": [
    "%%bash \n",
    "echo out_data/GLADGLCextent/reproj3035_100m_tifs/poland_01.tif > out_data/available_features_01.txt\n",
    "echo out_data/CLC10m/poland_01.tif >> out_data/available_features_01.txt\n",
    "echo out_data/CLC/poland_01.vrt >> out_data/available_features_01.txt\n",
    "echo out_data/C-GLOPS/2019/poland_01.tif >> out_data/available_features_01.txt\n",
    "echo out_data/JAXA/poland_01.tif >> out_data/available_features_01.txt\n"
   ]
  },
  {
   "cell_type": "code",
   "execution_count": 14,
   "id": "2b43f6d5",
   "metadata": {},
   "outputs": [
    {
     "name": "stdout",
     "output_type": "stream",
     "text": [
      "0\n",
      "0\n",
      "0\n",
      "48\n",
      "0\n"
     ]
    }
   ],
   "source": [
    "%%bash\n",
    "\n",
    "files=($(< \"out_data/available_features_01.txt\"))\n",
    "for file in \"${files[@]}\"; do\n",
    "gdallocationinfo -valonly $file 1 1 \n",
    "done"
   ]
  },
  {
   "cell_type": "code",
   "execution_count": null,
   "id": "be8ce247",
   "metadata": {},
   "outputs": [],
   "source": []
  }
 ],
 "metadata": {
  "kernelspec": {
   "display_name": "Python 3 (ipykernel)",
   "language": "python",
   "name": "python3"
  },
  "language_info": {
   "codemirror_mode": {
    "name": "ipython",
    "version": 3
   },
   "file_extension": ".py",
   "mimetype": "text/x-python",
   "name": "python",
   "nbconvert_exporter": "python",
   "pygments_lexer": "ipython3",
   "version": "3.10.6"
  }
 },
 "nbformat": 4,
 "nbformat_minor": 5
}
