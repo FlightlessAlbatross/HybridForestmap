{
 "cells": [
  {
   "cell_type": "code",
   "execution_count": 1,
   "id": "05fcba74",
   "metadata": {},
   "outputs": [
    {
     "name": "stdout",
     "output_type": "stream",
     "text": [
      "Process is interrupted.\n"
     ]
    }
   ],
   "source": [
    "%%bash\n",
    "ogrinfo -al in_data/European\\ primary\\ forest\\ database\\ v2/EPFDv2.0_DatabaseOA/geojson/Delta.geojson | head -50\n"
   ]
  },
  {
   "cell_type": "code",
   "execution_count": 10,
   "id": "12de90b9",
   "metadata": {},
   "outputs": [
    {
     "name": "stderr",
     "output_type": "stream",
     "text": [
      "Warning 6: Normalized/laundered field name: 'FOREST_NAME' to 'FOREST_NAM'\n",
      "Warning 6: Normalized/laundered field name: 'NATURALNESS_LEVEL' to 'NATURALNES'\n",
      "Warning 6: Normalized/laundered field name: 'DOMINANT_TREE_SPECIES1' to 'DOMINANT_T'\n",
      "Warning 6: Normalized/laundered field name: 'DOMINANT_TREE_SPECIES2' to 'DOMINANT_1'\n",
      "Warning 6: Normalized/laundered field name: 'DOMINANT_TREE_SPECIES3' to 'DOMINANT_2'\n",
      "Warning 6: Normalized/laundered field name: 'LAST_DISTURBANCE1_TYPE' to 'LAST_DISTU'\n",
      "Warning 6: Normalized/laundered field name: 'LAST_DISTURBANCE1_YEAR' to 'LAST_DIS_1'\n",
      "Warning 6: Normalized/laundered field name: 'LAST_DISTURBANCE1_INTENSITY' to 'LAST_DIS_2'\n",
      "Warning 6: Normalized/laundered field name: 'LAST_DISTURBANCE2_TYPE' to 'LAST_DIS_3'\n",
      "Warning 6: Normalized/laundered field name: 'LAST_DISTURBANCE2_YEAR' to 'LAST_DIS_4'\n",
      "Warning 6: Normalized/laundered field name: 'LAST_DISTURBANCE2_INTENSITY' to 'LAST_DIS_5'\n",
      "Warning 6: Normalized/laundered field name: 'PROTECTION_STATUS' to 'PROTECTION'\n",
      "Warning 6: Normalized/laundered field name: 'PROTECTED_SINCE' to 'PROTECTED_'\n",
      "Warning 6: Normalized/laundered field name: 'RELEVANT_LITERATURE' to 'RELEVANT_L'\n",
      "Warning 6: Normalized/laundered field name: 'CONTACT_PERSON' to 'CONTACT_PE'\n",
      "Warning 6: Normalized/laundered field name: 'SHAPE_Length' to 'SHAPE_Leng'\n",
      "Warning 6: Normalized/laundered field name: 'FOREST_TYPE1' to 'FOREST_TYP'\n",
      "Warning 6: Normalized/laundered field name: 'FOREST_TYPE2' to 'FOREST_T_1'\n",
      "Warning 6: Normalized/laundered field name: 'BIOGEOGRAPHIC_REGION' to 'BIOGEOGRAP'\n",
      "Warning 6: Normalized/laundered field name: 'FOREST_SHARE' to 'FOREST_SHA'\n",
      "Warning 1: One or several characters couldn't be converted correctly from UTF-8 to ISO-8859-1.  This warning will not be emitted anymore.\n",
      "Warning 1: Value 'Britz, H., Dieckmann, O., Engels, B., Frede, A., Geisel, T., Grossmann, M., Kaiser, K., Knapp, H., Luthardt, M., Seuring, J., 2009. Nomination of the “Ancient Beech Forests of Germany” as Extension to the World Natural heritage “Primeval Beech Forests of the Carpathians”. Nationale Naturlandschaften, Federal Republic of Germany. Nieden-stein: Specialised editing Cognitio Kommunikation & Planung.' of field RELEVANT_L has been truncated to 254 characters.  This warning will not be emitted any more for that layer.\n"
     ]
    }
   ],
   "source": [
    "%%bash\n",
    "ogr2ogr -overwrite                         \\\n",
    "-t_srs EPSG:3035                           \\\n",
    "-f \"ESRI Shapefile\" in_data/European\\ primary\\ forest\\ database\\ v2/EPFDv2.0_DatabaseOA/geojson/Delta_3035.shp \\\n",
    "in_data/European\\ primary\\ forest\\ database\\ v2/EPFDv2.0_DatabaseOA/geojson/Delta.geojson\n"
   ]
  },
  {
   "cell_type": "code",
   "execution_count": 19,
   "id": "c14011d7",
   "metadata": {},
   "outputs": [
    {
     "name": "stdout",
     "output_type": "stream",
     "text": [
      "Driver: GTiff/GeoTIFF\n",
      "Files: in_data/CLC/u2018_clc2018_v2020_20u1_raster100m/DATA/U2018_CLC2018_V2020_20u1.tif\n",
      "       in_data/CLC/u2018_clc2018_v2020_20u1_raster100m/DATA/U2018_CLC2018_V2020_20u1.tif.aux.xml\n",
      "Size is 65000, 46000\n",
      "Warning 1: The definition of projected CRS EPSG:3035 got from GeoTIFF keys is not the same as the one from the EPSG registry, which may cause issues during reprojection operations. Set GTIFF_SRS_SOURCE configuration option to EPSG to use official parameters (overriding the ones from GeoTIFF keys), or to GEOKEYS to use custom values from GeoTIFF keys and drop the EPSG code.\n",
      "Coordinate System is:\n",
      "PROJCRS[\"ETRS_1989_LAEA\",\n",
      "    BASEGEOGCRS[\"ETRS89\",\n",
      "        DATUM[\"European Terrestrial Reference System 1989\",\n",
      "            ELLIPSOID[\"GRS 1980\",6378137,298.257222101004,\n",
      "                LENGTHUNIT[\"metre\",1]]],\n",
      "        PRIMEM[\"Greenwich\",0,\n",
      "            ANGLEUNIT[\"degree\",0.0174532925199433]],\n",
      "        ID[\"EPSG\",4258]],\n",
      "    CONVERSION[\"Lambert Azimuthal Equal Area\",\n",
      "        METHOD[\"Lambert Azimuthal Equal Area\",\n",
      "            ID[\"EPSG\",9820]],\n",
      "        PARAMETER[\"Latitude of natural origin\",52,\n",
      "            ANGLEUNIT[\"degree\",0.0174532925199433],\n",
      "            ID[\"EPSG\",8801]],\n",
      "        PARAMETER[\"Longitude of natural origin\",10,\n",
      "            ANGLEUNIT[\"degree\",0.0174532925199433],\n",
      "            ID[\"EPSG\",8802]],\n",
      "        PARAMETER[\"False easting\",4321000,\n",
      "            LENGTHUNIT[\"metre\",1],\n",
      "            ID[\"EPSG\",8806]],\n",
      "        PARAMETER[\"False northing\",3210000,\n",
      "            LENGTHUNIT[\"metre\",1],\n",
      "            ID[\"EPSG\",8807]]],\n",
      "    CS[Cartesian,2],\n",
      "        AXIS[\"(E)\",east,\n",
      "            ORDER[1],\n",
      "            LENGTHUNIT[\"metre\",1]],\n",
      "        AXIS[\"(N)\",north,\n",
      "            ORDER[2],\n",
      "            LENGTHUNIT[\"metre\",1]],\n",
      "    ID[\"EPSG\",3035]]\n",
      "Data axis to CRS axis mapping: 1,2\n",
      "Origin = (900000.000000000000000,5500000.000000000000000)\n",
      "Pixel Size = (100.000000000000000,-100.000000000000000)\n",
      "Metadata:\n",
      "  AREA_OR_POINT=Area\n",
      "  DataType=Thematic\n",
      "Image Structure Metadata:\n",
      "  COMPRESSION=PACKBITS\n",
      "  INTERLEAVE=BAND\n",
      "Corner Coordinates:\n",
      "Upper Left  (  900000.000, 5500000.000) ( 56d30'18.51\"W, 56d29' 4.75\"N)\n",
      "Lower Left  (  900000.000,  900000.000) ( 23d49'33.58\"W, 24d17' 3.04\"N)\n",
      "Upper Right ( 7400000.000, 5500000.000) ( 72d54'22.09\"E, 58d57' 9.90\"N)\n",
      "Lower Right ( 7400000.000,  900000.000) ( 40d39'45.75\"E, 25d32'40.96\"N)\n",
      "Center      ( 4150000.000, 3200000.000) (  7d30'57.52\"E, 51d53' 2.21\"N)\n",
      "Band 1 Block=128x128 Type=Byte, ColorInterp=Gray\n",
      "  Min=1.000 Max=48.000 \n",
      "  Minimum=1.000, Maximum=48.000, Mean=25.753, StdDev=11.680\n",
      "  NoData Value=48\n",
      "  Metadata:\n",
      "    RepresentationType=THEMATIC\n",
      "    STATISTICS_COVARIANCES=136.429646247598\n",
      "    STATISTICS_MAXIMUM=48\n",
      "    STATISTICS_MEAN=25.753373398066\n",
      "    STATISTICS_MINIMUM=1\n",
      "    STATISTICS_SKIPFACTORX=1\n",
      "    STATISTICS_SKIPFACTORY=1\n",
      "    STATISTICS_STDDEV=11.680310194836\n",
      "  Image Structure Metadata:\n",
      "    PIXELTYPE=SIGNEDBYTE\n"
     ]
    }
   ],
   "source": [
    "!gdalinfo in_data/CLC/u2018_clc2018_v2020_20u1_raster100m/DATA/U2018_CLC2018_V2020_20u1.tif "
   ]
  },
  {
   "cell_type": "code",
   "execution_count": 22,
   "id": "68b56ee6",
   "metadata": {},
   "outputs": [
    {
     "name": "stdout",
     "output_type": "stream",
     "text": [
      "0...10...20...30...40...50...60...70...80...90...100 - done.\n"
     ]
    }
   ],
   "source": [
    "%%bash\n",
    "gdal_rasterize                      \\\n",
    "-burn 1                             \\\n",
    "-a_nodata 0                         \\\n",
    "-tr 100 100                         \\\n",
    "-te 900000 900000 7400000 5500000   \\\n",
    "-ot Byte                            \\\n",
    "in_data/European\\ primary\\ forest\\ database\\ v2/EPFDv2.0_DatabaseOA/geojson/Delta_3035.shp \\\n",
    "out_data/EPFD/Delta_3035.tif\n",
    "\n",
    "\n"
   ]
  },
  {
   "cell_type": "code",
   "execution_count": 24,
   "id": "9ddb3eee",
   "metadata": {},
   "outputs": [
    {
     "name": "stdout",
     "output_type": "stream",
     "text": [
      "Driver: GTiff/GeoTIFF\n",
      "Files: /media/sf_geocomputation_class/out_data/EPFD/Delta_3035.tif\n",
      "Size is 65000, 46000\n",
      "Coordinate System is:\n",
      "PROJCRS[\"ETRS89-extended / LAEA Europe\",\n",
      "    BASEGEOGCRS[\"ETRS89\",\n",
      "        ENSEMBLE[\"European Terrestrial Reference System 1989 ensemble\",\n",
      "            MEMBER[\"European Terrestrial Reference Frame 1989\"],\n",
      "            MEMBER[\"European Terrestrial Reference Frame 1990\"],\n",
      "            MEMBER[\"European Terrestrial Reference Frame 1991\"],\n",
      "            MEMBER[\"European Terrestrial Reference Frame 1992\"],\n",
      "            MEMBER[\"European Terrestrial Reference Frame 1993\"],\n",
      "            MEMBER[\"European Terrestrial Reference Frame 1994\"],\n",
      "            MEMBER[\"European Terrestrial Reference Frame 1996\"],\n",
      "            MEMBER[\"European Terrestrial Reference Frame 1997\"],\n",
      "            MEMBER[\"European Terrestrial Reference Frame 2000\"],\n",
      "            MEMBER[\"European Terrestrial Reference Frame 2005\"],\n",
      "            MEMBER[\"European Terrestrial Reference Frame 2014\"],\n",
      "            ELLIPSOID[\"GRS 1980\",6378137,298.257222101,\n",
      "                LENGTHUNIT[\"metre\",1]],\n",
      "            ENSEMBLEACCURACY[0.1]],\n",
      "        PRIMEM[\"Greenwich\",0,\n",
      "            ANGLEUNIT[\"degree\",0.0174532925199433]],\n",
      "        ID[\"EPSG\",4258]],\n",
      "    CONVERSION[\"Europe Equal Area 2001\",\n",
      "        METHOD[\"Lambert Azimuthal Equal Area\",\n",
      "            ID[\"EPSG\",9820]],\n",
      "        PARAMETER[\"Latitude of natural origin\",52,\n",
      "            ANGLEUNIT[\"degree\",0.0174532925199433],\n",
      "            ID[\"EPSG\",8801]],\n",
      "        PARAMETER[\"Longitude of natural origin\",10,\n",
      "            ANGLEUNIT[\"degree\",0.0174532925199433],\n",
      "            ID[\"EPSG\",8802]],\n",
      "        PARAMETER[\"False easting\",4321000,\n",
      "            LENGTHUNIT[\"metre\",1],\n",
      "            ID[\"EPSG\",8806]],\n",
      "        PARAMETER[\"False northing\",3210000,\n",
      "            LENGTHUNIT[\"metre\",1],\n",
      "            ID[\"EPSG\",8807]]],\n",
      "    CS[Cartesian,2],\n",
      "        AXIS[\"northing (Y)\",north,\n",
      "            ORDER[1],\n",
      "            LENGTHUNIT[\"metre\",1]],\n",
      "        AXIS[\"easting (X)\",east,\n",
      "            ORDER[2],\n",
      "            LENGTHUNIT[\"metre\",1]],\n",
      "    USAGE[\n",
      "        SCOPE[\"Statistical analysis.\"],\n",
      "        AREA[\"Europe - European Union (EU) countries and candidates. Europe - onshore and offshore: Albania; Andorra; Austria; Belgium; Bosnia and Herzegovina; Bulgaria; Croatia; Cyprus; Czechia; Denmark; Estonia; Faroe Islands; Finland; France; Germany; Gibraltar; Greece; Hungary; Iceland; Ireland; Italy; Kosovo; Latvia; Liechtenstein; Lithuania; Luxembourg; Malta; Monaco; Montenegro; Netherlands; North Macedonia; Norway including Svalbard and Jan Mayen; Poland; Portugal including Madeira and Azores; Romania; San Marino; Serbia; Slovakia; Slovenia; Spain including Canary Islands; Sweden; Switzerland; Turkey; United Kingdom (UK) including Channel Islands and Isle of Man; Vatican City State.\"],\n",
      "        BBOX[24.6,-35.58,84.73,44.83]],\n",
      "    ID[\"EPSG\",3035]]\n",
      "Data axis to CRS axis mapping: 2,1\n",
      "Origin = (900000.000000000000000,5500000.000000000000000)\n",
      "Pixel Size = (100.000000000000000,-100.000000000000000)\n",
      "Metadata:\n",
      "  AREA_OR_POINT=Area\n",
      "Image Structure Metadata:\n",
      "  INTERLEAVE=BAND\n",
      "Corner Coordinates:\n",
      "Upper Left  (  900000.000, 5500000.000) ( 56d30'18.51\"W, 56d29' 4.75\"N)\n",
      "Lower Left  (  900000.000,  900000.000) ( 23d49'33.58\"W, 24d17' 3.04\"N)\n",
      "Upper Right ( 7400000.000, 5500000.000) ( 72d54'22.09\"E, 58d57' 9.90\"N)\n",
      "Lower Right ( 7400000.000,  900000.000) ( 40d39'45.75\"E, 25d32'40.96\"N)\n",
      "Center      ( 4150000.000, 3200000.000) (  7d30'57.52\"E, 51d53' 2.21\"N)\n",
      "Band 1 Block=65000x1 Type=Byte, ColorInterp=Gray\n",
      "  NoData Value=0\n"
     ]
    }
   ],
   "source": [
    "!gdalinfo out_data/EPFD/Delta_3035.tif"
   ]
  },
  {
   "cell_type": "code",
   "execution_count": 4,
   "id": "c6f68963",
   "metadata": {},
   "outputs": [
    {
     "name": "stdout",
     "output_type": "stream",
     "text": [
      "Report:\r\n",
      "  Location: (1P,1L)\r\n",
      "  Band 1:\r\n",
      "    Value: 0\r\n"
     ]
    }
   ],
   "source": [
    "!gdallocationinfo out_data/EPFD/Delta_3035.tif 1 1"
   ]
  },
  {
   "cell_type": "code",
   "execution_count": 10,
   "id": "6dbb05d6",
   "metadata": {},
   "outputs": [
    {
     "name": "stdout",
     "output_type": "stream",
     "text": [
      "Report:\r\n",
      "  Location: (500P,0L)\r\n",
      "  Band 1:\r\n",
      "    Value: 0\r\n"
     ]
    }
   ],
   "source": [
    "!gdallocationinfo out_data/EPFD/Delta_3035.tif -geoloc 950000 5500000"
   ]
  },
  {
   "cell_type": "code",
   "execution_count": null,
   "id": "5ed8d876",
   "metadata": {},
   "outputs": [],
   "source": []
  }
 ],
 "metadata": {
  "kernelspec": {
   "display_name": "Python 3 (ipykernel)",
   "language": "python",
   "name": "python3"
  },
  "language_info": {
   "codemirror_mode": {
    "name": "ipython",
    "version": 3
   },
   "file_extension": ".py",
   "mimetype": "text/x-python",
   "name": "python",
   "nbconvert_exporter": "python",
   "pygments_lexer": "ipython3",
   "version": "3.10.12"
  }
 },
 "nbformat": 4,
 "nbformat_minor": 5
}
