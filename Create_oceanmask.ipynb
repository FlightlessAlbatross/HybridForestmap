{
 "cells": [
  {
   "cell_type": "markdown",
   "id": "250b8d62",
   "metadata": {},
   "source": [
    "Here we create an ocean mask based on the reference grid CLC 100m. "
   ]
  },
  {
   "cell_type": "code",
   "execution_count": 1,
   "id": "412d5c8d",
   "metadata": {},
   "outputs": [
    {
     "name": "stdout",
     "output_type": "stream",
     "text": [
      "0...10...20...30...40...50...60...70...80...90...100 - done.\n"
     ]
    },
    {
     "name": "stderr",
     "output_type": "stream",
     "text": [
      "Warning 1: The definition of projected CRS EPSG:3035 got from GeoTIFF keys is not the same as the one from the EPSG registry, which may cause issues during reprojection operations. Set GTIFF_SRS_SOURCE configuration option to EPSG to use official parameters (overriding the ones from GeoTIFF keys), or to GEOKEYS to use custom values from GeoTIFF keys and drop the EPSG code.\n"
     ]
    }
   ],
   "source": [
    "%%bash\n",
    "pkgetmask -co COMPRESS=DEFLATE -co ZLEVEL=9 -overwrite -min 1 -max 43 -data 1 -nodata 0 -ot Byte  -o out_data/CLCreference_ocean.tif -i in_data/CLC/u2018_clc2018_v2020_20u1_raster100m/DATA/U2018_CLC2018_V2020_20u1.tif\n"
   ]
  },
  {
   "cell_type": "code",
   "execution_count": null,
   "id": "9377c50e",
   "metadata": {},
   "outputs": [],
   "source": []
  }
 ],
 "metadata": {
  "kernelspec": {
   "display_name": "Python 3 (ipykernel)",
   "language": "python",
   "name": "python3"
  },
  "language_info": {
   "codemirror_mode": {
    "name": "ipython",
    "version": 3
   },
   "file_extension": ".py",
   "mimetype": "text/x-python",
   "name": "python",
   "nbconvert_exporter": "python",
   "pygments_lexer": "ipython3",
   "version": "3.10.6"
  }
 },
 "nbformat": 4,
 "nbformat_minor": 5
}
