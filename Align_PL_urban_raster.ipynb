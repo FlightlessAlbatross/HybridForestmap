{
 "cells": [
  {
   "cell_type": "code",
   "execution_count": 1,
   "id": "54cc5263",
   "metadata": {},
   "outputs": [
    {
     "name": "stdout",
     "output_type": "stream",
     "text": [
      "Origin = (4598000.000000000000000,3554000.000000000000000)\n",
      "Size is 7120, 6060\n",
      "Pixel Size = (100.000000000000000,-100.000000000000000)\n"
     ]
    }
   ],
   "source": [
    "# check alignment manually\n",
    "!gdalinfo in_data/CLC/u2018_clc2018_v2020_20u1_raster100m/DATA/PL_urbanmask_1xx.tif | grep Origin\n",
    "!gdalinfo in_data/CLC/u2018_clc2018_v2020_20u1_raster100m/DATA/PL_urbanmask_1xx.tif | grep Size"
   ]
  },
  {
   "cell_type": "code",
   "execution_count": 2,
   "id": "ede13674",
   "metadata": {},
   "outputs": [
    {
     "name": "stdout",
     "output_type": "stream",
     "text": [
      "Origin = (4596000.000000000000000,3556200.000000000000000)\n",
      "Size is 7163, 6103\n",
      "Pixel Size = (100.000000000000000,-100.000000000000000)\n"
     ]
    }
   ],
   "source": [
    "!gdalinfo in_data/Corine_landcover/Grass_ptobability_final_layer_Poland.tif | grep Origin\n",
    "!gdalinfo in_data/Corine_landcover/Grass_ptobability_final_layer_Poland.tif | grep Size"
   ]
  },
  {
   "cell_type": "code",
   "execution_count": null,
   "id": "5698baa3",
   "metadata": {},
   "outputs": [],
   "source": [
    "%% bash\n",
    "\n",
    "gdalbuildvrt "
   ]
  },
  {
   "cell_type": "code",
   "execution_count": null,
   "id": "5006823c",
   "metadata": {},
   "outputs": [],
   "source": [
    "# Use gdalwarp to create the padded raster\n",
    "gdalwarp -overwrite -dstnodata 0 -te -${pad_x} -${pad_y} $((xsize + pad_x)) $((ysize + pad_y)) -ts $new_xsize $new_ysize $input_vrt $output_raster\n"
   ]
  }
 ],
 "metadata": {
  "kernelspec": {
   "display_name": "Python 3 (ipykernel)",
   "language": "python",
   "name": "python3"
  },
  "language_info": {
   "codemirror_mode": {
    "name": "ipython",
    "version": 3
   },
   "file_extension": ".py",
   "mimetype": "text/x-python",
   "name": "python",
   "nbconvert_exporter": "python",
   "pygments_lexer": "ipython3",
   "version": "3.10.12"
  }
 },
 "nbformat": 4,
 "nbformat_minor": 5
}
