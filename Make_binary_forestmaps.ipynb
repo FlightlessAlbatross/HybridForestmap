{
 "cells": [
  {
   "cell_type": "code",
   "execution_count": null,
   "id": "d9a39264",
   "metadata": {},
   "outputs": [],
   "source": []
  },
  {
   "cell_type": "markdown",
   "id": "ad483400",
   "metadata": {},
   "source": [
    "GLAD"
   ]
  },
  {
   "cell_type": "code",
   "execution_count": null,
   "id": "2af954fa",
   "metadata": {},
   "outputs": [],
   "source": [
    "%%bash \n",
    "\n",
    "input_tiff=out_data/GLADGLCextent/reproj3035_100m_tifs/poland_mean100m.tif\n",
    "output_tiff=out_data/GLADGLCextent/reproj3035_100m_tifs/poland_01.tif\n",
    "\n",
    "gdal_calc.py -A \"$input_tiff\" --outfile=\"$output_tiff\" --calc=\"A>=0.5\" --NoDataValue=48 --type=Byte\n"
   ]
  },
  {
   "cell_type": "markdown",
   "id": "1f832376",
   "metadata": {},
   "source": [
    "CLC 10m"
   ]
  },
  {
   "cell_type": "code",
   "execution_count": null,
   "id": "5f540fb1",
   "metadata": {},
   "outputs": [],
   "source": [
    "%%bash \n",
    "\n",
    "input_tiff=out_data/CLC10m/poland_mean.tif\n",
    "output_tiff=out_data/CLC10m/poland_01.tif\n",
    "\n",
    "gdal_calc.py -A \"$input_tiff\" --outfile=\"$output_tiff\" --calc=\"A>=0.5\" --NoDataValue=48 --type=Byte"
   ]
  },
  {
   "cell_type": "code",
   "execution_count": null,
   "id": "96913cee",
   "metadata": {},
   "outputs": [],
   "source": [
    "C-GLOPS"
   ]
  },
  {
   "cell_type": "code",
   "execution_count": null,
   "id": "abd88c37",
   "metadata": {},
   "outputs": [],
   "source": [
    "%%bash \n",
    "\n",
    "input_tiff=out_data/C-GLOPS/2019/poland_mean.tif\n",
    "output_tiff=out_data/C-GLOPS/2019/poland_01.tif\n",
    "\n",
    "gdal_calc.py -A \"$input_tiff\" --outfile=\"$output_tiff\" --calc=\"A>=0.5\" --NoDataValue=48 --type=Byte"
   ]
  },
  {
   "cell_type": "code",
   "execution_count": null,
   "id": "b0d614ab",
   "metadata": {},
   "outputs": [],
   "source": [
    "JAXA"
   ]
  },
  {
   "cell_type": "code",
   "execution_count": null,
   "id": "2744644e",
   "metadata": {},
   "outputs": [],
   "source": [
    "%%bash \n",
    "\n",
    "input_tiff=out_data/JAXA/poland_mean.tif\n",
    "output_tiff=out_data/JAXA/poland_01.tif\n",
    "\n",
    "gdal_calc.py -A \"$input_tiff\" --outfile=\"$output_tiff\" --calc=\"A>=0.5\" --NoDataValue=48 --type=Byte"
   ]
  },
  {
   "cell_type": "code",
   "execution_count": 1,
   "id": "ee0345e2",
   "metadata": {},
   "outputs": [
    {
     "name": "stdout",
     "output_type": "stream",
     "text": [
      "Driver: GTiff/GeoTIFF\n",
      "Files: out_data/JAXA/poland_01.tif\n",
      "       out_data/JAXA/poland_01.tif.aux.xml\n",
      "Size is 7120, 6060\n",
      "Coordinate System is:\n",
      "PROJCRS[\"ETRS89-extended / LAEA Europe\",\n",
      "    BASEGEOGCRS[\"ETRS89\",\n",
      "        ENSEMBLE[\"European Terrestrial Reference System 1989 ensemble\",\n",
      "            MEMBER[\"European Terrestrial Reference Frame 1989\"],\n",
      "            MEMBER[\"European Terrestrial Reference Frame 1990\"],\n",
      "            MEMBER[\"European Terrestrial Reference Frame 1991\"],\n",
      "            MEMBER[\"European Terrestrial Reference Frame 1992\"],\n",
      "            MEMBER[\"European Terrestrial Reference Frame 1993\"],\n",
      "            MEMBER[\"European Terrestrial Reference Frame 1994\"],\n",
      "            MEMBER[\"European Terrestrial Reference Frame 1996\"],\n",
      "            MEMBER[\"European Terrestrial Reference Frame 1997\"],\n",
      "            MEMBER[\"European Terrestrial Reference Frame 2000\"],\n",
      "            MEMBER[\"European Terrestrial Reference Frame 2005\"],\n",
      "            MEMBER[\"European Terrestrial Reference Frame 2014\"],\n",
      "            ELLIPSOID[\"GRS 1980\",6378137,298.257222101,\n",
      "                LENGTHUNIT[\"metre\",1]],\n",
      "            ENSEMBLEACCURACY[0.1]],\n",
      "        PRIMEM[\"Greenwich\",0,\n",
      "            ANGLEUNIT[\"degree\",0.0174532925199433]],\n",
      "        ID[\"EPSG\",4258]],\n",
      "    CONVERSION[\"Europe Equal Area 2001\",\n",
      "        METHOD[\"Lambert Azimuthal Equal Area\",\n",
      "            ID[\"EPSG\",9820]],\n",
      "        PARAMETER[\"Latitude of natural origin\",52,\n",
      "            ANGLEUNIT[\"degree\",0.0174532925199433],\n",
      "            ID[\"EPSG\",8801]],\n",
      "        PARAMETER[\"Longitude of natural origin\",10,\n",
      "            ANGLEUNIT[\"degree\",0.0174532925199433],\n",
      "            ID[\"EPSG\",8802]],\n",
      "        PARAMETER[\"False easting\",4321000,\n",
      "            LENGTHUNIT[\"metre\",1],\n",
      "            ID[\"EPSG\",8806]],\n",
      "        PARAMETER[\"False northing\",3210000,\n",
      "            LENGTHUNIT[\"metre\",1],\n",
      "            ID[\"EPSG\",8807]]],\n",
      "    CS[Cartesian,2],\n",
      "        AXIS[\"northing (Y)\",north,\n",
      "            ORDER[1],\n",
      "            LENGTHUNIT[\"metre\",1]],\n",
      "        AXIS[\"easting (X)\",east,\n",
      "            ORDER[2],\n",
      "            LENGTHUNIT[\"metre\",1]],\n",
      "    USAGE[\n",
      "        SCOPE[\"Statistical analysis.\"],\n",
      "        AREA[\"Europe - European Union (EU) countries and candidates. Europe - onshore and offshore: Albania; Andorra; Austria; Belgium; Bosnia and Herzegovina; Bulgaria; Croatia; Cyprus; Czechia; Denmark; Estonia; Faroe Islands; Finland; France; Germany; Gibraltar; Greece; Hungary; Iceland; Ireland; Italy; Kosovo; Latvia; Liechtenstein; Lithuania; Luxembourg; Malta; Monaco; Montenegro; Netherlands; North Macedonia; Norway including Svalbard and Jan Mayen; Poland; Portugal including Madeira and Azores; Romania; San Marino; Serbia; Slovakia; Slovenia; Spain including Canary Islands; Sweden; Switzerland; Turkey; United Kingdom (UK) including Channel Islands and Isle of Man; Vatican City State.\"],\n",
      "        BBOX[24.6,-35.58,84.73,44.83]],\n",
      "    ID[\"EPSG\",3035]]\n",
      "Data axis to CRS axis mapping: 2,1\n",
      "Origin = (4598000.000000000000000,3554000.000000000000000)\n",
      "Pixel Size = (100.000000000000000,-100.000000000000000)\n",
      "Metadata:\n",
      "  AREA_OR_POINT=Area\n",
      "Image Structure Metadata:\n",
      "  INTERLEAVE=BAND\n",
      "Corner Coordinates:\n",
      "Upper Left  ( 4598000.000, 3554000.000) ( 14d19'53.70\"E, 55d 0'59.58\"N)\n",
      "Lower Left  ( 4598000.000, 2948000.000) ( 13d49'53.70\"E, 49d34'47.19\"N)\n",
      "Upper Right ( 5310000.000, 3554000.000) ( 25d15'49.70\"E, 54d 8'54.18\"N)\n",
      "Lower Right ( 5310000.000, 2948000.000) ( 23d33' 6.72\"E, 48d49'23.11\"N)\n",
      "Center      ( 4954000.000, 3251000.000) ( 19d14'49.20\"E, 52d 0'24.67\"N)\n",
      "Band 1 Block=7120x1 Type=Byte, ColorInterp=Gray\n",
      "  Min=1.000 Max=1.000 \n",
      "  Minimum=1.000, Maximum=1.000, Mean=1.000, StdDev=0.000\n",
      "  NoData Value=48\n",
      "  Metadata:\n",
      "    STATISTICS_APPROXIMATE=YES\n",
      "    STATISTICS_MAXIMUM=1\n",
      "    STATISTICS_MEAN=1\n",
      "    STATISTICS_MINIMUM=1\n",
      "    STATISTICS_STDDEV=0\n",
      "    STATISTICS_VALID_PERCENT=30.77\n"
     ]
    }
   ],
   "source": []
  }
 ],
 "metadata": {
  "kernelspec": {
   "display_name": "Python 3 (ipykernel)",
   "language": "python",
   "name": "python3"
  },
  "language_info": {
   "codemirror_mode": {
    "name": "ipython",
    "version": 3
   },
   "file_extension": ".py",
   "mimetype": "text/x-python",
   "name": "python",
   "nbconvert_exporter": "python",
   "pygments_lexer": "ipython3",
   "version": "3.10.6"
  }
 },
 "nbformat": 4,
 "nbformat_minor": 5
}
