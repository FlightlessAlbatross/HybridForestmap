{
 "cells": [
  {
   "cell_type": "code",
   "execution_count": 2,
   "id": "482c2e2f",
   "metadata": {},
   "outputs": [],
   "source": [
    "import numpy as np\n",
    "import pandas as pd\n",
    "from scipy.optimize import linear_sum_assignment\n",
    "from scipy.special import softmax"
   ]
  },
  {
   "cell_type": "code",
   "execution_count": 187,
   "id": "7630188f",
   "metadata": {},
   "outputs": [],
   "source": [
    "# Example data setup\n",
    "np.random.seed(0)\n",
    "\n",
    "# Number of cells in the raster for the region\n",
    "num_cells = 100\n"
   ]
  },
  {
   "cell_type": "code",
   "execution_count": 204,
   "id": "add53031",
   "metadata": {},
   "outputs": [],
   "source": [
    "\n",
    "# Simulated probability estimates for each cell across three classes\n",
    "# For simplicity, these are randomly generated\n",
    "cell_probabilities = np.random.dirichlet(alpha=[1, 1, 1], size=num_cells)\n",
    "\n",
    "# Known totals for each class in the region\n",
    "# For example, 40 Pasture, 30 Agricultural, 30 Builtup\n",
    "known_totals = np.array([80, 15, 5])\n"
   ]
  },
  {
   "cell_type": "code",
   "execution_count": 205,
   "id": "a7876bd8",
   "metadata": {},
   "outputs": [],
   "source": [
    "\n",
    "# Initial assignment based on highest probability\n",
    "initial_assignment = np.argmax(cell_probabilities, axis=1)\n",
    "initial_counts = np.array([np.sum(initial_assignment == i) for i in range(3)])"
   ]
  },
  {
   "cell_type": "code",
   "execution_count": 311,
   "id": "a835e6a8",
   "metadata": {},
   "outputs": [
    {
     "data": {
      "text/plain": [
       "numpy.ndarray"
      ]
     },
     "execution_count": 311,
     "metadata": {},
     "output_type": "execute_result"
    }
   ],
   "source": [
    "type(initial_assignment)"
   ]
  },
  {
   "cell_type": "code",
   "execution_count": 207,
   "id": "1a8dc4fb",
   "metadata": {},
   "outputs": [
    {
     "data": {
      "text/html": [
       "<div>\n",
       "<style scoped>\n",
       "    .dataframe tbody tr th:only-of-type {\n",
       "        vertical-align: middle;\n",
       "    }\n",
       "\n",
       "    .dataframe tbody tr th {\n",
       "        vertical-align: top;\n",
       "    }\n",
       "\n",
       "    .dataframe thead th {\n",
       "        text-align: right;\n",
       "    }\n",
       "</style>\n",
       "<table border=\"1\" class=\"dataframe\">\n",
       "  <thead>\n",
       "    <tr style=\"text-align: right;\">\n",
       "      <th></th>\n",
       "      <th>Class</th>\n",
       "      <th>Current Totals</th>\n",
       "      <th>Known Totals</th>\n",
       "      <th>Difference</th>\n",
       "      <th>Cost Factor</th>\n",
       "    </tr>\n",
       "  </thead>\n",
       "  <tbody>\n",
       "    <tr>\n",
       "      <th>0</th>\n",
       "      <td>Pasture</td>\n",
       "      <td>20</td>\n",
       "      <td>80</td>\n",
       "      <td>-60</td>\n",
       "      <td>-6.0</td>\n",
       "    </tr>\n",
       "    <tr>\n",
       "      <th>1</th>\n",
       "      <td>Agricultural</td>\n",
       "      <td>46</td>\n",
       "      <td>15</td>\n",
       "      <td>31</td>\n",
       "      <td>3.1</td>\n",
       "    </tr>\n",
       "    <tr>\n",
       "      <th>2</th>\n",
       "      <td>Builtup</td>\n",
       "      <td>34</td>\n",
       "      <td>5</td>\n",
       "      <td>29</td>\n",
       "      <td>2.9</td>\n",
       "    </tr>\n",
       "  </tbody>\n",
       "</table>\n",
       "</div>"
      ],
      "text/plain": [
       "          Class  Current Totals  Known Totals  Difference  Cost Factor\n",
       "0       Pasture              20            80         -60         -6.0\n",
       "1  Agricultural              46            15          31          3.1\n",
       "2       Builtup              34             5          29          2.9"
      ]
     },
     "execution_count": 207,
     "metadata": {},
     "output_type": "execute_result"
    }
   ],
   "source": [
    "current_totals = np.array([np.sum(initial_assignment == i) for i in range(3)])\n",
    "\n",
    "cost_scaling = 1/10\n",
    "\n",
    "pd.DataFrame({\n",
    "    \"Class\": [\"Pasture\", \"Agricultural\", \"Builtup\"],\n",
    "    \"Current Totals\": current_totals,\n",
    "    \"Known Totals\": known_totals, \n",
    "    \"Difference\": (current_totals - known_totals) ,\n",
    "    \"Cost Factor\": (current_totals - known_totals) * cost_scaling ,\n",
    "})"
   ]
  },
  {
   "cell_type": "code",
   "execution_count": 240,
   "id": "3a5a0434",
   "metadata": {},
   "outputs": [],
   "source": [
    "# Function to calculate the cost of reassigning each cell to each class\n",
    "def calculate_my_reassignment_benefit(cell_probabilities, known_totals, cost_scaling):\n",
    "    \n",
    "    current_assignment = softmax(cell_probabilities, axis=1)\n",
    "    current_totals = np.array([np.sum(current_assignment == i) for i in range(3)])\n",
    "    adjustment_value = (current_totals - known_totals) * cost_scaling\n",
    "    \n",
    "    adjustment_value = (known_totals - current_totals) * cost_scaling\n",
    "\n",
    "    return cell_probabilities + adjustment_value\n",
    "\n"
   ]
  },
  {
   "cell_type": "code",
   "execution_count": 241,
   "id": "4dcb328b",
   "metadata": {},
   "outputs": [],
   "source": [
    "from scipy.optimize import minimize_scalar"
   ]
  },
  {
   "cell_type": "code",
   "execution_count": 242,
   "id": "e93e3fb5",
   "metadata": {},
   "outputs": [],
   "source": [
    "def get_classes(cost_scaling):\n",
    "    \n",
    "    new_probabilties = calculate_my_reassignment_benefit(cell_probabilities, known_totals, cost_scaling)\n",
    "    return softmax(new_probabilties, axis=1)"
   ]
  },
  {
   "cell_type": "code",
   "execution_count": 243,
   "id": "6db59ff7",
   "metadata": {},
   "outputs": [],
   "source": [
    "def get_totals(classes):\n",
    "    return np.array([np.sum(classes == i) for i in range(3)])"
   ]
  },
  {
   "cell_type": "code",
   "execution_count": 244,
   "id": "fd165b73",
   "metadata": {},
   "outputs": [],
   "source": [
    "# Function to compute the difference between vector forested area and raster forested area\n",
    "def area_difference(cost_scaling):\n",
    "    \n",
    "    new_class = get_classes(cost_scaling)\n",
    "\n",
    "    new_totals = get_totals(new_class)\n",
    "\n",
    "    return sum((new_totals - known_totals) ** 2)\n",
    "    \n",
    "    "
   ]
  },
  {
   "cell_type": "code",
   "execution_count": 245,
   "id": "fd2a92f9",
   "metadata": {},
   "outputs": [
    {
     "data": {
      "text/plain": [
       "0.09999338930386481"
      ]
     },
     "execution_count": 245,
     "metadata": {},
     "output_type": "execute_result"
    }
   ],
   "source": [
    "optim = minimize_scalar(area_difference, bounds=(0, 0.1), method='bounded')\n",
    "optim.x"
   ]
  },
  {
   "cell_type": "code",
   "execution_count": 246,
   "id": "dac8d188",
   "metadata": {},
   "outputs": [
    {
     "data": {
      "text/plain": [
       "array([80, 15,  5])"
      ]
     },
     "execution_count": 246,
     "metadata": {},
     "output_type": "execute_result"
    }
   ],
   "source": [
    "known_totals"
   ]
  },
  {
   "cell_type": "code",
   "execution_count": 247,
   "id": "4b0585d5",
   "metadata": {},
   "outputs": [
    {
     "data": {
      "text/plain": [
       "array([20, 46, 34])"
      ]
     },
     "execution_count": 247,
     "metadata": {},
     "output_type": "execute_result"
    }
   ],
   "source": [
    "get_totals(get_new_classes(0))"
   ]
  },
  {
   "cell_type": "code",
   "execution_count": 248,
   "id": "e85c937b",
   "metadata": {},
   "outputs": [
    {
     "data": {
      "text/plain": [
       "array([100,   0,   0])"
      ]
     },
     "execution_count": 248,
     "metadata": {},
     "output_type": "execute_result"
    }
   ],
   "source": [
    "get_totals(get_new_classes(optim.x))"
   ]
  },
  {
   "cell_type": "code",
   "execution_count": 250,
   "id": "aeec9a62",
   "metadata": {},
   "outputs": [],
   "source": [
    "# for i,j in zip(initial_assignment, get_new_classes(optim.x)):\n",
    "#             if i != j:\n",
    "#                 print((i,j))"
   ]
  },
  {
   "cell_type": "code",
   "execution_count": 290,
   "id": "5e282e72",
   "metadata": {},
   "outputs": [
    {
     "data": {
      "text/plain": [
       "29"
      ]
     },
     "execution_count": 290,
     "metadata": {},
     "output_type": "execute_result"
    }
   ],
   "source": []
  },
  {
   "cell_type": "code",
   "execution_count": 251,
   "id": "9c1009da",
   "metadata": {},
   "outputs": [
    {
     "data": {
      "text/plain": [
       "array([ 60, -31, -29])"
      ]
     },
     "execution_count": 251,
     "metadata": {},
     "output_type": "execute_result"
    }
   ],
   "source": [
    "known_totals - initial_counts"
   ]
  },
  {
   "cell_type": "code",
   "execution_count": 273,
   "id": "2a001e1a",
   "metadata": {},
   "outputs": [],
   "source": [
    "cost_matrix = np.zeros((num_cells, 3))\n",
    "    \n",
    "for i in range(num_cells):\n",
    "    for j in range(3):\n",
    "        # Cost is higher if moving away from the original highest probability\n",
    "        if j != np.argmax(cell_probabilities[i]):\n",
    "            cost_matrix[i, j] = np.max(cell_probabilities[i]) - cell_probabilities[i, j]\n"
   ]
  },
  {
   "cell_type": "code",
   "execution_count": 385,
   "id": "2265da14",
   "metadata": {},
   "outputs": [],
   "source": []
  },
  {
   "cell_type": "code",
   "execution_count": 388,
   "id": "36e0801d",
   "metadata": {},
   "outputs": [
    {
     "data": {
      "text/plain": [
       "array([80, 15,  5])"
      ]
     },
     "execution_count": 388,
     "metadata": {},
     "output_type": "execute_result"
    }
   ],
   "source": [
    "known_totals"
   ]
  },
  {
   "cell_type": "code",
   "execution_count": 386,
   "id": "e001a532",
   "metadata": {},
   "outputs": [
    {
     "data": {
      "text/plain": [
       "array([80, 15,  5])"
      ]
     },
     "execution_count": 386,
     "metadata": {},
     "output_type": "execute_result"
    }
   ],
   "source": [
    "# here we start with each cell having their highest prob. \n",
    "# then we check of which values we have too many/few\n",
    "# we calculate the loss of probability if we switched to the class that has too little cells. \n",
    "# based on the lowest loss we reassign, but only if this doesn't bring the class we are transitioning away from, below the count. \n",
    "\n",
    "current_to_0_transition = np.argsort(cost_matrix[:,0])\n",
    "new_assignment = initial_assignment.copy()\n",
    "class_counter = known_totals - initial_counts\n",
    "\n",
    "\n",
    "for cell in current_to_0_transition:\n",
    "    \n",
    "    if class_counter[initial_assignment[cell]] != 0: \n",
    "        new_assignment[cell] = 0\n",
    "        class_counter[initial_assignment[cell]] += 1\n",
    "        class_counter[0]                        -= 1\n",
    "        \n",
    "get_totals(new_assignment)"
   ]
  },
  {
   "cell_type": "code",
   "execution_count": 387,
   "id": "3442ab07",
   "metadata": {},
   "outputs": [
    {
     "data": {
      "text/plain": [
       "array([0, 0, 0])"
      ]
     },
     "execution_count": 387,
     "metadata": {},
     "output_type": "execute_result"
    }
   ],
   "source": [
    "class_counter"
   ]
  },
  {
   "cell_type": "code",
   "execution_count": 395,
   "id": "74570b4e",
   "metadata": {},
   "outputs": [
    {
     "data": {
      "text/plain": [
       "array([ 60, -31, -29])"
      ]
     },
     "execution_count": 395,
     "metadata": {},
     "output_type": "execute_result"
    }
   ],
   "source": [
    "# here we start with the probabilities and assign based on the target. \n",
    "# we start with the highest probs until we reach the quota"
   ]
  },
  {
   "cell_type": "code",
   "execution_count": 402,
   "id": "41786d33",
   "metadata": {},
   "outputs": [
    {
     "name": "stdout",
     "output_type": "stream",
     "text": [
      "First 5 sorted indices (row, column): [(74, 1), (36, 0), (90, 0), (3, 1), (51, 1)]\n"
     ]
    }
   ],
   "source": [
    "# Flatten the array and apply argsort\n",
    "sorted_indices_1d = np.argsort(-1*cell_probabilities.ravel())\n",
    "\n",
    "# Convert the 1D indices back to row and column indices\n",
    "sorted_row_indices, sorted_col_indices = np.unravel_index(sorted_indices_1d, cell_probabilities.shape)\n",
    "\n",
    "# Pair the row and column indices\n",
    "sorted_indices_2d = list(zip(sorted_row_indices, sorted_col_indices))\n",
    "\n",
    "print(\"First 5 sorted indices (row, column):\", sorted_indices_2d[:5])\n"
   ]
  },
  {
   "cell_type": "code",
   "execution_count": 419,
   "id": "a045996e",
   "metadata": {},
   "outputs": [
    {
     "data": {
      "text/plain": [
       "True"
      ]
     },
     "execution_count": 419,
     "metadata": {},
     "output_type": "execute_result"
    }
   ],
   "source": []
  },
  {
   "cell_type": "code",
   "execution_count": 421,
   "id": "152bc8f0",
   "metadata": {},
   "outputs": [
    {
     "data": {
      "text/plain": [
       "array([80, 15,  5])"
      ]
     },
     "execution_count": 421,
     "metadata": {},
     "output_type": "execute_result"
    }
   ],
   "source": [
    "class_counter = known_totals.copy()\n",
    "final_classes = np.full(sum(known_totals), np.nan)\n",
    "\n",
    "for cell, cl in sorted_indices_2d:\n",
    "    \n",
    "    if np.isnan(final_classes[cell]):\n",
    "        if class_counter[cl]>0:\n",
    "            final_classes[cell] = cl\n",
    "            class_counter[cl] -= 1\n",
    "#             print(class_counter)\n",
    "get_totals(final_classes)"
   ]
  },
  {
   "cell_type": "code",
   "execution_count": 422,
   "id": "244b2b51",
   "metadata": {},
   "outputs": [
    {
     "data": {
      "text/plain": [
       "array([0, 0, 0])"
      ]
     },
     "execution_count": 422,
     "metadata": {},
     "output_type": "execute_result"
    }
   ],
   "source": [
    "class_counter"
   ]
  },
  {
   "cell_type": "code",
   "execution_count": null,
   "id": "0e625f5c",
   "metadata": {},
   "outputs": [],
   "source": []
  },
  {
   "cell_type": "code",
   "execution_count": null,
   "id": "0ec4cd6e",
   "metadata": {},
   "outputs": [],
   "source": []
  },
  {
   "cell_type": "code",
   "execution_count": 3,
   "id": "de6595e1",
   "metadata": {},
   "outputs": [],
   "source": [
    "# lets try interger optimization\n",
    "import pulp\n",
    "import numpy as np"
   ]
  },
  {
   "cell_type": "code",
   "execution_count": 4,
   "id": "3c632598",
   "metadata": {},
   "outputs": [
    {
     "data": {
      "text/plain": [
       "[30000.0, 10000.0, 15000.0, 25000.0, 20000.0]"
      ]
     },
     "execution_count": 4,
     "metadata": {},
     "output_type": "execute_result"
    }
   ],
   "source": [
    "# Example: Number of cells and classes\n",
    "num_cells = 100000  # example number of cells. Ultimatly we need this to go to millions!\n",
    "num_classes = 5  # 5 classes\n",
    "\n",
    "# Random probabilities for illustration (replace with your actual data)\n",
    "probabilities = np.random.rand(num_cells, num_classes)\n",
    "\n",
    "# Example class limits (replace with your actual data)\n",
    "class_limits = [x*num_cells for x in [0.3, 0.1, 0.15, 0.25, 0.20]]  # example limits for each class\n",
    "\n",
    "class_limits"
   ]
  },
  {
   "cell_type": "code",
   "execution_count": 5,
   "id": "e8656f26",
   "metadata": {},
   "outputs": [],
   "source": [
    "# Create a linear programming problem\n",
    "problem = pulp.LpProblem(\"ClassAssignment\", pulp.LpMaximize)\n",
    "\n",
    "# Creating a list of tuples containing all the possible cell class assignments\n",
    "indices = [(i, j) for i in range(num_cells) for j in range(num_classes)]\n",
    "\n",
    "# Decision variables: Binary variables representing if cell i is assigned to class j\n",
    "assignment_vars = pulp.LpVariable.dicts(\"Assignment\", (range(num_cells), range(num_classes)), 0, 1, pulp.LpBinary)\n",
    "\n",
    "# Objective Function: Maximize the sum of probabilities for assigned classes\n",
    "problem += pulp.lpSum([probabilities[i][j] * assignment_vars[i][j] for i in range(num_cells) for j in range(num_classes)])\n",
    "\n",
    "# Constraint: Each cell is assigned to exactly one class\n",
    "for i in range(num_cells):\n",
    "    problem += pulp.lpSum([assignment_vars[i][j] for j in range(num_classes)]) == 1\n",
    "\n",
    "# Constraint: The total for each class does not exceed its limit\n",
    "for j in range(num_classes):\n",
    "    problem += pulp.lpSum([assignment_vars[i][j] for i in range(num_cells)]) <= class_limits[j]\n"
   ]
  },
  {
   "cell_type": "code",
   "execution_count": 6,
   "id": "b1dc2f19",
   "metadata": {},
   "outputs": [
    {
     "name": "stdout",
     "output_type": "stream",
     "text": [
      "Welcome to the CBC MILP Solver \n",
      "Version: 2.10.3 \n",
      "Build Date: Dec 15 2019 \n",
      "\n",
      "command line - /home/user/.local/lib/python3.10/site-packages/pulp/solverdir/cbc/linux/64/cbc /tmp/eede4702ab504d55b1603ef92a026d12-pulp.mps max timeMode elapsed branch printingOptions all solution /tmp/eede4702ab504d55b1603ef92a026d12-pulp.sol (default strategy 1)\n",
      "At line 2 NAME          MODEL\n",
      "At line 3 ROWS\n",
      "At line 100010 COLUMNS\n",
      "At line 2600011 RHS\n",
      "At line 2700017 BOUNDS\n",
      "At line 3200018 ENDATA\n",
      "Problem MODEL has 100005 rows, 500000 columns and 1000000 elements\n",
      "Coin0008I MODEL read with 0 errors\n",
      "Option for timeMode changed from cpu to elapsed\n",
      "Continuous objective value is 82257.4 - 8.94 seconds\n",
      "Cgl0005I 100000 SOS with 500000 members\n",
      "Cgl0004I processed model has 100005 rows, 500000 columns (500000 integer (500000 of which binary)) and 1000000 elements\n",
      "Cbc0038I Initial state - 0 integers unsatisfied sum - 0\n",
      "Cbc0038I Solution found of -82257.4\n",
      "Cbc0038I Before mini branch and bound, 500000 integers at bound fixed and 0 continuous\n",
      "Cbc0038I Mini branch and bound did not improve solution (646.82 seconds)\n",
      "Cbc0038I After 646.84 seconds - Feasibility pump exiting with objective of -82257.4 - took 1.16 seconds\n",
      "Cbc0012I Integer solution of -82257.43 found by feasibility pump after 0 iterations and 0 nodes (646.97 seconds)\n",
      "Cbc0001I Search completed - best objective -82257.42953874264, took 0 iterations and 0 nodes (647.52 seconds)\n",
      "Cbc0035I Maximum depth 0, 0 variables fixed on reduced cost\n",
      "Cuts at root node changed objective from -82257.4 to -82257.4\n",
      "Probing was tried 0 times and created 0 cuts of which 0 were active after adding rounds of cuts (0.000 seconds)\n",
      "Gomory was tried 0 times and created 0 cuts of which 0 were active after adding rounds of cuts (0.000 seconds)\n",
      "Knapsack was tried 0 times and created 0 cuts of which 0 were active after adding rounds of cuts (0.000 seconds)\n",
      "Clique was tried 0 times and created 0 cuts of which 0 were active after adding rounds of cuts (0.000 seconds)\n",
      "MixedIntegerRounding2 was tried 0 times and created 0 cuts of which 0 were active after adding rounds of cuts (0.000 seconds)\n",
      "FlowCover was tried 0 times and created 0 cuts of which 0 were active after adding rounds of cuts (0.000 seconds)\n",
      "TwoMirCuts was tried 0 times and created 0 cuts of which 0 were active after adding rounds of cuts (0.000 seconds)\n",
      "ZeroHalf was tried 0 times and created 0 cuts of which 0 were active after adding rounds of cuts (0.000 seconds)\n",
      "\n",
      "Result - Optimal solution found\n",
      "\n",
      "Objective value:                82257.42953874\n",
      "Enumerated nodes:               0\n",
      "Total iterations:               0\n",
      "Time (CPU seconds):             635.48\n",
      "Time (Wallclock seconds):       648.51\n",
      "\n",
      "Option for printingOptions changed from normal to all\n",
      "Total time (CPU seconds):       636.70   (Wallclock seconds):       649.86\n",
      "\n",
      "Status: Optimal\n"
     ]
    }
   ],
   "source": [
    "# Solve the problem\n",
    "problem.solve()\n",
    "\n",
    "# Print the status of the solution\n",
    "print(\"Status:\", pulp.LpStatus[problem.status])\n"
   ]
  },
  {
   "cell_type": "code",
   "execution_count": 7,
   "id": "86aff7f9",
   "metadata": {},
   "outputs": [
    {
     "data": {
      "text/plain": [
       "100000"
      ]
     },
     "execution_count": 7,
     "metadata": {},
     "output_type": "execute_result"
    }
   ],
   "source": [
    "num_cells"
   ]
  },
  {
   "cell_type": "code",
   "execution_count": 8,
   "id": "7d976cfd",
   "metadata": {},
   "outputs": [
    {
     "ename": "TypeError",
     "evalue": "'int' object is not subscriptable",
     "output_type": "error",
     "traceback": [
      "\u001b[0;31m---------------------------------------------------------------------------\u001b[0m",
      "\u001b[0;31mTypeError\u001b[0m                                 Traceback (most recent call last)",
      "\u001b[0;32m/tmp/ipykernel_5207/3858940315.py\u001b[0m in \u001b[0;36m<module>\u001b[0;34m\u001b[0m\n\u001b[1;32m      1\u001b[0m \u001b[0;31m# Print the assignments\u001b[0m\u001b[0;34m\u001b[0m\u001b[0;34m\u001b[0m\u001b[0m\n\u001b[0;32m----> 2\u001b[0;31m \u001b[0;32mfor\u001b[0m \u001b[0mi\u001b[0m \u001b[0;32min\u001b[0m \u001b[0mrange\u001b[0m\u001b[0;34m(\u001b[0m\u001b[0mnum_cells\u001b[0m\u001b[0;34m[\u001b[0m\u001b[0;34m:\u001b[0m\u001b[0;36m10\u001b[0m\u001b[0;34m]\u001b[0m\u001b[0;34m)\u001b[0m\u001b[0;34m:\u001b[0m\u001b[0;34m\u001b[0m\u001b[0;34m\u001b[0m\u001b[0m\n\u001b[0m\u001b[1;32m      3\u001b[0m     \u001b[0;32mfor\u001b[0m \u001b[0mj\u001b[0m \u001b[0;32min\u001b[0m \u001b[0mrange\u001b[0m\u001b[0;34m(\u001b[0m\u001b[0mnum_classes\u001b[0m\u001b[0;34m)\u001b[0m\u001b[0;34m:\u001b[0m\u001b[0;34m\u001b[0m\u001b[0;34m\u001b[0m\u001b[0m\n\u001b[1;32m      4\u001b[0m         \u001b[0;32mif\u001b[0m \u001b[0mpulp\u001b[0m\u001b[0;34m.\u001b[0m\u001b[0mvalue\u001b[0m\u001b[0;34m(\u001b[0m\u001b[0massignment_vars\u001b[0m\u001b[0;34m[\u001b[0m\u001b[0mi\u001b[0m\u001b[0;34m]\u001b[0m\u001b[0;34m[\u001b[0m\u001b[0mj\u001b[0m\u001b[0;34m]\u001b[0m\u001b[0;34m)\u001b[0m \u001b[0;34m==\u001b[0m \u001b[0;36m1\u001b[0m\u001b[0;34m:\u001b[0m\u001b[0;34m\u001b[0m\u001b[0;34m\u001b[0m\u001b[0m\n\u001b[1;32m      5\u001b[0m             \u001b[0mprint\u001b[0m\u001b[0;34m(\u001b[0m\u001b[0;34mf\"Cell {i} is assigned to Class {j}\"\u001b[0m\u001b[0;34m)\u001b[0m\u001b[0;34m\u001b[0m\u001b[0;34m\u001b[0m\u001b[0m\n",
      "\u001b[0;31mTypeError\u001b[0m: 'int' object is not subscriptable"
     ]
    }
   ],
   "source": [
    "# Print the assignments\n",
    "for i in range(10):\n",
    "    for j in range(num_classes):\n",
    "        if pulp.value(assignment_vars[i][j]) == 1:\n",
    "            print(f\"Cell {i} is assigned to Class {j}\")"
   ]
  },
  {
   "cell_type": "code",
   "execution_count": null,
   "id": "910694c2",
   "metadata": {},
   "outputs": [],
   "source": []
  }
 ],
 "metadata": {
  "kernelspec": {
   "display_name": "Python 3 (ipykernel)",
   "language": "python",
   "name": "python3"
  },
  "language_info": {
   "codemirror_mode": {
    "name": "ipython",
    "version": 3
   },
   "file_extension": ".py",
   "mimetype": "text/x-python",
   "name": "python",
   "nbconvert_exporter": "python",
   "pygments_lexer": "ipython3",
   "version": "3.10.12"
  }
 },
 "nbformat": 4,
 "nbformat_minor": 5
}
