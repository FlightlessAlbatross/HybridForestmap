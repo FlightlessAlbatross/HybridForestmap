{
 "cells": [
  {
   "cell_type": "code",
   "execution_count": 1,
   "id": "96e16064",
   "metadata": {},
   "outputs": [],
   "source": [
    "import pandas as pd\n",
    "import os\n",
    "import numpy as np\n",
    "import rasterio as rio\n",
    "from rasterio.plot import show\n",
    "from pyspatialml import Raster\n",
    "from sklearn.ensemble import RandomForestClassifier\n",
    "import matplotlib.pyplot as plt\n",
    "from sklearn.metrics import confusion_matrix, ConfusionMatrixDisplay\n",
    "from sklearn.model_selection import train_test_split,GridSearchCV\n"
   ]
  },
  {
   "cell_type": "code",
   "execution_count": 2,
   "id": "eceb02bf",
   "metadata": {},
   "outputs": [],
   "source": [
    "# Training and Evaluation routines for Sweeping\n",
    "def performance_metrics(y_true, y_pred):\n",
    "    tn, fp, fn, tp = confusion_matrix(y_true, y_pred).ravel()\n",
    "    acc = (tp + tn) / (tn + tp + fp + fn)\n",
    "    tpr = tp / (tp + fn)\n",
    "    tnr = tn / (tn + fn)\n",
    "    bacc= (tpr + tnr) * 0.5\n",
    "#    f1 = (tpr * tnr) / (tpr + tnr)\n",
    "    return(acc)\n",
    "\n",
    "def evaluate(model, X, y):\n",
    "    y_pred = model.predict(X) \n",
    "    metric  = performance_metrics(y, y_pred)\n",
    "    return(metric)"
   ]
  },
  {
   "cell_type": "code",
   "execution_count": 3,
   "id": "afedff70",
   "metadata": {},
   "outputs": [],
   "source": [
    "country = \"poland\"\n",
    "country_abbr = \"pl\""
   ]
  },
  {
   "cell_type": "code",
   "execution_count": 4,
   "id": "bb9c7c85",
   "metadata": {},
   "outputs": [
    {
     "data": {
      "text/html": [
       "<div>\n",
       "<style scoped>\n",
       "    .dataframe tbody tr th:only-of-type {\n",
       "        vertical-align: middle;\n",
       "    }\n",
       "\n",
       "    .dataframe tbody tr th {\n",
       "        vertical-align: top;\n",
       "    }\n",
       "\n",
       "    .dataframe thead th {\n",
       "        text-align: right;\n",
       "    }\n",
       "</style>\n",
       "<table border=\"1\" class=\"dataframe\">\n",
       "  <thead>\n",
       "    <tr style=\"text-align: right;\">\n",
       "      <th></th>\n",
       "      <th>GLAD_mean100m</th>\n",
       "      <th>GLAD_median100m</th>\n",
       "      <th>GLAD_mode100m</th>\n",
       "      <th>GLAD_q1</th>\n",
       "      <th>GLAD_q3</th>\n",
       "      <th>CLC10m_mean</th>\n",
       "      <th>CLC10m_median</th>\n",
       "      <th>CLC10m_mode</th>\n",
       "      <th>CLC10m_q1</th>\n",
       "      <th>CLC10m_q3</th>\n",
       "      <th>CLC_01</th>\n",
       "      <th>C-GLOPS_mean</th>\n",
       "      <th>C-GLOPS_median</th>\n",
       "      <th>C-GLOPS_mode</th>\n",
       "      <th>C-GLOPS_q1</th>\n",
       "      <th>C-GLOPS_q3</th>\n",
       "      <th>JAXA_q3</th>\n",
       "      <th>JAXA_q1</th>\n",
       "      <th>JAXA_mode</th>\n",
       "      <th>JAXA_median</th>\n",
       "      <th>JAXA_mean</th>\n",
       "      <th>FML_01</th>\n",
       "    </tr>\n",
       "  </thead>\n",
       "  <tbody>\n",
       "    <tr>\n",
       "      <th>0</th>\n",
       "      <td>0.000000</td>\n",
       "      <td>0</td>\n",
       "      <td>0</td>\n",
       "      <td>0</td>\n",
       "      <td>0</td>\n",
       "      <td>0.00</td>\n",
       "      <td>0</td>\n",
       "      <td>0</td>\n",
       "      <td>0</td>\n",
       "      <td>0</td>\n",
       "      <td>0</td>\n",
       "      <td>0.022032</td>\n",
       "      <td>0.04</td>\n",
       "      <td>0.01</td>\n",
       "      <td>0.01</td>\n",
       "      <td>0.05</td>\n",
       "      <td>0.0</td>\n",
       "      <td>0.0</td>\n",
       "      <td>0.0</td>\n",
       "      <td>0.0</td>\n",
       "      <td>0.000000</td>\n",
       "      <td>0</td>\n",
       "    </tr>\n",
       "    <tr>\n",
       "      <th>1</th>\n",
       "      <td>0.620165</td>\n",
       "      <td>1</td>\n",
       "      <td>1</td>\n",
       "      <td>0</td>\n",
       "      <td>1</td>\n",
       "      <td>0.62</td>\n",
       "      <td>1</td>\n",
       "      <td>1</td>\n",
       "      <td>0</td>\n",
       "      <td>1</td>\n",
       "      <td>1</td>\n",
       "      <td>0.699817</td>\n",
       "      <td>0.53</td>\n",
       "      <td>0.53</td>\n",
       "      <td>0.53</td>\n",
       "      <td>0.75</td>\n",
       "      <td>1.0</td>\n",
       "      <td>0.5</td>\n",
       "      <td>0.5</td>\n",
       "      <td>0.5</td>\n",
       "      <td>0.654317</td>\n",
       "      <td>1</td>\n",
       "    </tr>\n",
       "    <tr>\n",
       "      <th>2</th>\n",
       "      <td>0.925006</td>\n",
       "      <td>1</td>\n",
       "      <td>1</td>\n",
       "      <td>1</td>\n",
       "      <td>1</td>\n",
       "      <td>0.90</td>\n",
       "      <td>1</td>\n",
       "      <td>1</td>\n",
       "      <td>1</td>\n",
       "      <td>1</td>\n",
       "      <td>1</td>\n",
       "      <td>0.528377</td>\n",
       "      <td>0.57</td>\n",
       "      <td>0.57</td>\n",
       "      <td>0.42</td>\n",
       "      <td>0.62</td>\n",
       "      <td>1.0</td>\n",
       "      <td>0.5</td>\n",
       "      <td>0.5</td>\n",
       "      <td>0.5</td>\n",
       "      <td>0.636479</td>\n",
       "      <td>1</td>\n",
       "    </tr>\n",
       "    <tr>\n",
       "      <th>3</th>\n",
       "      <td>0.000000</td>\n",
       "      <td>0</td>\n",
       "      <td>0</td>\n",
       "      <td>0</td>\n",
       "      <td>0</td>\n",
       "      <td>0.00</td>\n",
       "      <td>0</td>\n",
       "      <td>0</td>\n",
       "      <td>0</td>\n",
       "      <td>0</td>\n",
       "      <td>0</td>\n",
       "      <td>0.076326</td>\n",
       "      <td>0.07</td>\n",
       "      <td>0.07</td>\n",
       "      <td>0.05</td>\n",
       "      <td>0.14</td>\n",
       "      <td>0.0</td>\n",
       "      <td>0.0</td>\n",
       "      <td>0.0</td>\n",
       "      <td>0.0</td>\n",
       "      <td>0.000000</td>\n",
       "      <td>0</td>\n",
       "    </tr>\n",
       "    <tr>\n",
       "      <th>4</th>\n",
       "      <td>0.000000</td>\n",
       "      <td>0</td>\n",
       "      <td>0</td>\n",
       "      <td>0</td>\n",
       "      <td>0</td>\n",
       "      <td>0.00</td>\n",
       "      <td>0</td>\n",
       "      <td>0</td>\n",
       "      <td>0</td>\n",
       "      <td>0</td>\n",
       "      <td>0</td>\n",
       "      <td>0.056560</td>\n",
       "      <td>0.04</td>\n",
       "      <td>0.04</td>\n",
       "      <td>0.04</td>\n",
       "      <td>0.09</td>\n",
       "      <td>0.0</td>\n",
       "      <td>0.0</td>\n",
       "      <td>0.0</td>\n",
       "      <td>0.0</td>\n",
       "      <td>0.000000</td>\n",
       "      <td>0</td>\n",
       "    </tr>\n",
       "  </tbody>\n",
       "</table>\n",
       "</div>"
      ],
      "text/plain": [
       "   GLAD_mean100m  GLAD_median100m  GLAD_mode100m  GLAD_q1  GLAD_q3  \\\n",
       "0       0.000000                0              0        0        0   \n",
       "1       0.620165                1              1        0        1   \n",
       "2       0.925006                1              1        1        1   \n",
       "3       0.000000                0              0        0        0   \n",
       "4       0.000000                0              0        0        0   \n",
       "\n",
       "   CLC10m_mean  CLC10m_median  CLC10m_mode  CLC10m_q1  CLC10m_q3  CLC_01  \\\n",
       "0         0.00              0            0          0          0       0   \n",
       "1         0.62              1            1          0          1       1   \n",
       "2         0.90              1            1          1          1       1   \n",
       "3         0.00              0            0          0          0       0   \n",
       "4         0.00              0            0          0          0       0   \n",
       "\n",
       "   C-GLOPS_mean  C-GLOPS_median  C-GLOPS_mode  C-GLOPS_q1  C-GLOPS_q3  \\\n",
       "0      0.022032            0.04          0.01        0.01        0.05   \n",
       "1      0.699817            0.53          0.53        0.53        0.75   \n",
       "2      0.528377            0.57          0.57        0.42        0.62   \n",
       "3      0.076326            0.07          0.07        0.05        0.14   \n",
       "4      0.056560            0.04          0.04        0.04        0.09   \n",
       "\n",
       "   JAXA_q3  JAXA_q1  JAXA_mode  JAXA_median  JAXA_mean  FML_01  \n",
       "0      0.0      0.0        0.0          0.0   0.000000       0  \n",
       "1      1.0      0.5        0.5          0.5   0.654317       1  \n",
       "2      1.0      0.5        0.5          0.5   0.636479       1  \n",
       "3      0.0      0.0        0.0          0.0   0.000000       0  \n",
       "4      0.0      0.0        0.0          0.0   0.000000       0  "
      ]
     },
     "execution_count": 4,
     "metadata": {},
     "output_type": "execute_result"
    }
   ],
   "source": [
    "predictors = pd.read_csv(f\"out_data/forest_data_{country}_lucas.csv\", sep=\" \",  index_col=False, na_values = 48,\n",
    "                         header = None, low_memory = False)\n",
    "pd.set_option('display.max_columns',None)\n",
    "\n",
    "\n",
    "#Better variable names\n",
    "\n",
    "predictors_names_pd = pd.read_csv(f\"out_data/names_{country_abbr}.csv\", sep=\",\",  index_col=False)\n",
    "predictors_names = predictors_names_pd.name.tolist()\n",
    "predictors_names_clean = [s.strip().replace('\"', '') for s in predictors_names]\n",
    "predictors_names_pd.name = predictors_names_clean\n",
    "\n",
    "predictors.columns = predictors_names_clean\n",
    "predictors.head()"
   ]
  },
  {
   "cell_type": "markdown",
   "id": "3b515778",
   "metadata": {},
   "source": [
    "Now the left hand side"
   ]
  },
  {
   "cell_type": "code",
   "execution_count": 5,
   "id": "94faa470",
   "metadata": {},
   "outputs": [
    {
     "data": {
      "text/html": [
       "<div>\n",
       "<style scoped>\n",
       "    .dataframe tbody tr th:only-of-type {\n",
       "        vertical-align: middle;\n",
       "    }\n",
       "\n",
       "    .dataframe tbody tr th {\n",
       "        vertical-align: top;\n",
       "    }\n",
       "\n",
       "    .dataframe thead th {\n",
       "        text-align: right;\n",
       "    }\n",
       "</style>\n",
       "<table border=\"1\" class=\"dataframe\">\n",
       "  <thead>\n",
       "    <tr style=\"text-align: right;\">\n",
       "      <th></th>\n",
       "      <th>X</th>\n",
       "      <th>Y</th>\n",
       "      <th>LC1</th>\n",
       "      <th>LC1_PERC</th>\n",
       "      <th>forest</th>\n",
       "    </tr>\n",
       "  </thead>\n",
       "  <tbody>\n",
       "    <tr>\n",
       "      <th>23079</th>\n",
       "      <td>5.278000e+06</td>\n",
       "      <td>3.114000e+06</td>\n",
       "      <td>C22</td>\n",
       "      <td>100</td>\n",
       "      <td>1</td>\n",
       "    </tr>\n",
       "    <tr>\n",
       "      <th>23080</th>\n",
       "      <td>5.278000e+06</td>\n",
       "      <td>3.136000e+06</td>\n",
       "      <td>B11</td>\n",
       "      <td>100</td>\n",
       "      <td>0</td>\n",
       "    </tr>\n",
       "    <tr>\n",
       "      <th>23081</th>\n",
       "      <td>5.294000e+06</td>\n",
       "      <td>3.150000e+06</td>\n",
       "      <td>C10</td>\n",
       "      <td>100</td>\n",
       "      <td>1</td>\n",
       "    </tr>\n",
       "    <tr>\n",
       "      <th>23082</th>\n",
       "      <td>5.294000e+06</td>\n",
       "      <td>3.172000e+06</td>\n",
       "      <td>B11</td>\n",
       "      <td>92</td>\n",
       "      <td>0</td>\n",
       "    </tr>\n",
       "    <tr>\n",
       "      <th>23083</th>\n",
       "      <td>5.286000e+06</td>\n",
       "      <td>3.116000e+06</td>\n",
       "      <td>Bx1</td>\n",
       "      <td>98</td>\n",
       "      <td>0</td>\n",
       "    </tr>\n",
       "  </tbody>\n",
       "</table>\n",
       "</div>"
      ],
      "text/plain": [
       "                  X             Y  LC1  LC1_PERC  forest\n",
       "23079  5.278000e+06  3.114000e+06  C22       100       1\n",
       "23080  5.278000e+06  3.136000e+06  B11       100       0\n",
       "23081  5.294000e+06  3.150000e+06  C10       100       1\n",
       "23082  5.294000e+06  3.172000e+06  B11        92       0\n",
       "23083  5.286000e+06  3.116000e+06  Bx1        98       0"
      ]
     },
     "execution_count": 5,
     "metadata": {},
     "output_type": "execute_result"
    }
   ],
   "source": [
    "outcome = pd.read_csv(f\"out_data/LUCAS/LUCAS_{country_abbr}_locations.csv\", sep=\",\",  index_col=False)\n",
    "outcome.tail(5)"
   ]
  },
  {
   "cell_type": "code",
   "execution_count": 6,
   "id": "c7863217",
   "metadata": {},
   "outputs": [
    {
     "name": "stdout",
     "output_type": "stream",
     "text": [
      "23084\n",
      "23084\n"
     ]
    }
   ],
   "source": [
    "print (len(outcome))\n",
    "print (len(predictors))"
   ]
  },
  {
   "cell_type": "code",
   "execution_count": 7,
   "id": "0ef61655",
   "metadata": {},
   "outputs": [],
   "source": [
    "predictor_selection = [\n",
    "    \"JAXA_mean\", \n",
    "\"C-GLOPS_mode\",\n",
    "\"CLC10m_mean\",\n",
    "\"C-GLOPS_mean\",\n",
    "\"GLAD_mean100m\"]\n"
   ]
  },
  {
   "cell_type": "markdown",
   "id": "d59574f8",
   "metadata": {},
   "source": [
    "Split the Dataset"
   ]
  },
  {
   "cell_type": "code",
   "execution_count": 8,
   "id": "8de0f47d",
   "metadata": {},
   "outputs": [
    {
     "name": "stdout",
     "output_type": "stream",
     "text": [
      "(23084, 5)\n",
      "(23084, 1)\n",
      "<class 'pandas.core.frame.DataFrame'>\n",
      "<class 'pandas.core.frame.DataFrame'>\n"
     ]
    }
   ],
   "source": [
    "X    = predictors[predictor_selection]\n",
    "Y    = outcome.loc[:, 'forest'].to_frame()\n",
    "feat = predictors.columns.values\n",
    "print(X.shape)\n",
    "print(Y.shape)\n",
    "print(type(X))\n",
    "print(type(Y))"
   ]
  },
  {
   "cell_type": "markdown",
   "id": "65725909",
   "metadata": {},
   "source": [
    "There are a handful of NAs"
   ]
  },
  {
   "cell_type": "code",
   "execution_count": 9,
   "id": "781c5744",
   "metadata": {},
   "outputs": [
    {
     "name": "stdout",
     "output_type": "stream",
     "text": [
      "NA rows: [   33    54    58 ... 23032 23046 23077]\n"
     ]
    }
   ],
   "source": [
    "na_rows = X.apply(lambda x: np.any(pd.isna(x)), axis=1)\n",
    "result = np.where(na_rows)[0]\n",
    "print('NA rows: ' + str(result))"
   ]
  },
  {
   "cell_type": "code",
   "execution_count": 10,
   "id": "ec4d2354",
   "metadata": {},
   "outputs": [],
   "source": [
    "X = X.drop(X.index[result])\n",
    "Y = Y.drop(Y.index[result])\n"
   ]
  },
  {
   "cell_type": "code",
   "execution_count": 11,
   "id": "e552acf2",
   "metadata": {},
   "outputs": [
    {
     "name": "stdout",
     "output_type": "stream",
     "text": [
      "(21819, 5)\n",
      "(21819, 1)\n"
     ]
    }
   ],
   "source": [
    "print(X.shape)\n",
    "print(Y.shape)"
   ]
  },
  {
   "cell_type": "markdown",
   "id": "82ebc05e",
   "metadata": {},
   "source": [
    "Create 4 dataset for training and testing the algorithm "
   ]
  },
  {
   "cell_type": "code",
   "execution_count": 12,
   "id": "0f0778f7",
   "metadata": {},
   "outputs": [],
   "source": [
    "X_train, X_test, Y_train, Y_test = train_test_split(X, Y, test_size=0.5, random_state=2023)\n",
    "y_train = np.ravel(Y_train)\n",
    "y_test = np.ravel(Y_test)"
   ]
  },
  {
   "cell_type": "code",
   "execution_count": 13,
   "id": "978bfef5",
   "metadata": {},
   "outputs": [
    {
     "data": {
      "text/plain": [
       "RandomForestClassifier(max_depth=250, max_features=3, max_samples=0.3335,\n",
       "                       n_estimators=2799, n_jobs=-1, oob_score=True)"
      ]
     },
     "execution_count": 13,
     "metadata": {},
     "output_type": "execute_result"
    }
   ],
   "source": [
    "rfReg = RandomForestClassifier(n_estimators=2799,\n",
    "                        max_features=3,\n",
    "                        max_depth=250,\n",
    "                        max_samples=0.3335,\n",
    "                        n_jobs=-1,\n",
    "                        oob_score = True) \n",
    "rfReg.fit(X_train, y_train)\n"
   ]
  },
  {
   "cell_type": "code",
   "execution_count": 14,
   "id": "f8bf9ba6",
   "metadata": {},
   "outputs": [],
   "source": [
    "dic_pred = {}\n",
    "dic_pred['train'] = rfReg.predict(X_train)\n",
    "dic_pred['test'] = rfReg.predict(X_test)"
   ]
  },
  {
   "cell_type": "code",
   "execution_count": 15,
   "id": "1d3aab77",
   "metadata": {},
   "outputs": [
    {
     "data": {
      "text/plain": [
       "0.9008249312557287"
      ]
     },
     "execution_count": 15,
     "metadata": {},
     "output_type": "execute_result"
    }
   ],
   "source": [
    "performance_metrics(y_test, dic_pred['test'])"
   ]
  },
  {
   "cell_type": "markdown",
   "id": "614362ec",
   "metadata": {},
   "source": [
    "Get the predictor names and paths"
   ]
  },
  {
   "cell_type": "code",
   "execution_count": 16,
   "id": "5541fd12",
   "metadata": {},
   "outputs": [
    {
     "name": "stdout",
     "output_type": "stream",
     "text": [
      "JAXA_mean:   out_data/JAXA/poland_mean.tif\n",
      "C-GLOPS_mode:   out_data/C-GLOPS/2019/EU_mode.vrt\n",
      "CLC10m_mean:   out_data/CLC10m/EU_mean.tif\n",
      "C-GLOPS_mean:   out_data/C-GLOPS/2019/EU_mean.vrt\n",
      "GLAD_mean100m:   out_data/GLADGLCextent/reproj3035_100m_tifs/EU_mean100m.tif\n"
     ]
    }
   ],
   "source": [
    "# Filter and maintain the order\n",
    "selected_predictor_paths = [predictors_names_pd[predictors_names_pd['name'] == predictor]['V1'].values[0] for predictor in predictor_selection if predictor in predictors_names_pd['name'].values]\n",
    "\n",
    "\n",
    "\n",
    "for i, element in enumerate(predictor_selection):\n",
    "\n",
    "    print(predictor_selection[i] + \":   \" + selected_predictor_paths[i])\n",
    "\n",
    "\n",
    "\n"
   ]
  },
  {
   "cell_type": "code",
   "execution_count": 17,
   "id": "3ed47246",
   "metadata": {},
   "outputs": [
    {
     "name": "stdout",
     "output_type": "stream",
     "text": [
      "out_data/JAXA/poland_mean.tif\r\n",
      "out_data/C-GLOPS/2019/EU_mode.vrt\r\n",
      "out_data/CLC10m/EU_mean.tif\r\n",
      "out_data/C-GLOPS/2019/EU_mean.vrt\r\n",
      "out_data/GLADGLCextent/reproj3035_100m_tifs/EU_mean100m.tif\r\n"
     ]
    }
   ],
   "source": [
    "file_path = \"/tmp/selected_features.txt\"\n",
    "\n",
    "data = selected_predictor_paths\n",
    "with open(file_path, \"w\") as file:\n",
    "    for layer in data:\n",
    "        file.write(str(layer) + '\\n')\n",
    "        \n",
    "!cat /tmp/selected_features.txt\n",
    "\n"
   ]
  },
  {
   "cell_type": "code",
   "execution_count": 18,
   "id": "d4948183",
   "metadata": {},
   "outputs": [
    {
     "name": "stdout",
     "output_type": "stream",
     "text": [
      "Pixel Size = (100.000000000000000,-100.000000000000000)\n",
      "Upper Left  ( 4598000.000, 3554000.000) ( 14d19'53.70\"E, 55d 0'59.58\"N)\n",
      "Lower Right ( 5310000.000, 2948000.000) ( 23d33' 6.72\"E, 48d49'23.11\"N)\n",
      "Band 1 Block=7120x1 Type=Float64, ColorInterp=Gray\n",
      "--------------------------------\n",
      "Pixel Size = (100.000000000000000,-100.000000000000000)\n",
      "Upper Left  (  900000.000, 5500000.000) ( 56d30'18.51\"W, 56d29' 4.75\"N)\n",
      "Lower Right ( 7400000.000,  900000.000) ( 40d39'45.75\"E, 25d32'40.96\"N)\n",
      "Band 1 Block=128x128 Type=Float64, ColorInterp=Gray\n",
      "--------------------------------\n",
      "Pixel Size = (100.000000000000000,-100.000000000000000)\n",
      "Upper Left  (  900000.000, 5500000.000) ( 56d30'18.51\"W, 56d29' 4.75\"N)\n",
      "Lower Right ( 7400000.000,  900000.000) ( 40d39'45.75\"E, 25d32'40.96\"N)\n",
      "Band 1 Block=65000x1 Type=Float64, ColorInterp=Gray\n",
      "--------------------------------\n",
      "Pixel Size = (100.000000000000000,-100.000000000000000)\n",
      "Upper Left  (  900000.000, 5500000.000) ( 56d30'18.51\"W, 56d29' 4.75\"N)\n",
      "Lower Right ( 7400000.000,  900000.000) ( 40d39'45.75\"E, 25d32'40.96\"N)\n",
      "Band 1 Block=128x128 Type=Float64, ColorInterp=Gray\n",
      "--------------------------------\n",
      "Pixel Size = (100.000000000000000,-100.000000000000000)\n",
      "Upper Left  (  900000.000, 5500000.000) ( 56d30'18.51\"W, 56d29' 4.75\"N)\n",
      "Lower Right ( 7400000.000,  900000.000) ( 40d39'45.75\"E, 25d32'40.96\"N)\n",
      "Band 1 Block=65000x1 Type=Float64, ColorInterp=Gray\n",
      "--------------------------------\n"
     ]
    }
   ],
   "source": [
    "%%bash\n",
    "\n",
    "# Path to the text file\n",
    "filelist=\"/tmp/selected_features.txt\"\n",
    "\n",
    "# Loop through each line in the file\n",
    "while IFS= read -r line; do\n",
    "    gdalinfo \"$line\" |grep -e \"Upper Left\" -e \"Lower Right\" -e \"Pixel Size\" -e \"Band 1\"\n",
    "    echo --------------------------------\n",
    "done < \"$filelist\"\n"
   ]
  },
  {
   "cell_type": "code",
   "execution_count": null,
   "id": "46c815e8",
   "metadata": {},
   "outputs": [],
   "source": [
    "selected_predictor_paths"
   ]
  },
  {
   "cell_type": "markdown",
   "id": "4fe6f562",
   "metadata": {},
   "source": [
    "Cut the file into smaller chunks so we can load them to RAM\n",
    "\n",
    "the edges need to be fixed, they seem to go out of bounds a little. when i is 0 "
   ]
  },
  {
   "cell_type": "code",
   "execution_count": 19,
   "id": "1fe8d8f7",
   "metadata": {},
   "outputs": [
    {
     "name": "stdout",
     "output_type": "stream",
     "text": [
      "poland\n",
      "0 0------------------------------------------------------\n",
      "gdalbuildvrt -te 4598000 3402500 4776000 3554000 -separate -input_file_list /tmp/selected_features.txt out_data/window4prediction_0_0.vrt\n",
      "0 1------------------------------------------------------\n",
      "gdalbuildvrt -te 4598000 3251000 4776000 3402500 -separate -input_file_list /tmp/selected_features.txt out_data/window4prediction_0_1.vrt\n",
      "0 2------------------------------------------------------\n",
      "gdalbuildvrt -te 4598000 3099500 4776000 3251000 -separate -input_file_list /tmp/selected_features.txt out_data/window4prediction_0_2.vrt\n",
      "0 3------------------------------------------------------\n",
      "gdalbuildvrt -te 4598000 2948000 4776000 3099500 -separate -input_file_list /tmp/selected_features.txt out_data/window4prediction_0_3.vrt\n",
      "1 0------------------------------------------------------\n",
      "gdalbuildvrt -te 4776000 3402500 4954000 3554000 -separate -input_file_list /tmp/selected_features.txt out_data/window4prediction_1_0.vrt\n",
      "1 1------------------------------------------------------\n",
      "gdalbuildvrt -te 4776000 3251000 4954000 3402500 -separate -input_file_list /tmp/selected_features.txt out_data/window4prediction_1_1.vrt\n",
      "1 2------------------------------------------------------\n",
      "gdalbuildvrt -te 4776000 3099500 4954000 3251000 -separate -input_file_list /tmp/selected_features.txt out_data/window4prediction_1_2.vrt\n",
      "1 3------------------------------------------------------\n",
      "gdalbuildvrt -te 4776000 2948000 4954000 3099500 -separate -input_file_list /tmp/selected_features.txt out_data/window4prediction_1_3.vrt\n",
      "2 0------------------------------------------------------\n",
      "gdalbuildvrt -te 4954000 3402500 5132000 3554000 -separate -input_file_list /tmp/selected_features.txt out_data/window4prediction_2_0.vrt\n",
      "2 1------------------------------------------------------\n",
      "gdalbuildvrt -te 4954000 3251000 5132000 3402500 -separate -input_file_list /tmp/selected_features.txt out_data/window4prediction_2_1.vrt\n",
      "2 2------------------------------------------------------\n",
      "gdalbuildvrt -te 4954000 3099500 5132000 3251000 -separate -input_file_list /tmp/selected_features.txt out_data/window4prediction_2_2.vrt\n",
      "2 3------------------------------------------------------\n",
      "gdalbuildvrt -te 4954000 2948000 5132000 3099500 -separate -input_file_list /tmp/selected_features.txt out_data/window4prediction_2_3.vrt\n",
      "3 0------------------------------------------------------\n",
      "gdalbuildvrt -te 5132000 3402500 5310000 3554000 -separate -input_file_list /tmp/selected_features.txt out_data/window4prediction_3_0.vrt\n",
      "3 1------------------------------------------------------\n",
      "gdalbuildvrt -te 5132000 3251000 5310000 3402500 -separate -input_file_list /tmp/selected_features.txt out_data/window4prediction_3_1.vrt\n",
      "3 2------------------------------------------------------\n",
      "gdalbuildvrt -te 5132000 3099500 5310000 3251000 -separate -input_file_list /tmp/selected_features.txt out_data/window4prediction_3_2.vrt\n",
      "3 3------------------------------------------------------\n",
      "gdalbuildvrt -te 5132000 2948000 5310000 3099500 -separate -input_file_list /tmp/selected_features.txt out_data/window4prediction_3_3.vrt\n"
     ]
    }
   ],
   "source": [
    "import subprocess\n",
    "print(country)\n",
    "if country == \"Spain\":\n",
    "    xstart= 2760600\n",
    "    xend  = 3833000\n",
    "\n",
    "    ystart= 1530900\n",
    "    yend  = 2467200\n",
    "\n",
    "if country == \"poland\":\n",
    "    xstart = 4598000\n",
    "    xend   = 5310000\n",
    "    \n",
    "    ystart = 2948000\n",
    "    yend   = 3554000\n",
    "\n",
    "    \n",
    "splits = 4\n",
    "\n",
    "delta_x = int((xend - xstart) / splits)\n",
    "delta_y = int((yend - ystart) / splits)\n",
    "\n",
    "\n",
    "for i in range(splits):\n",
    "    for j in range(splits):\n",
    "        print(f\"{i} {j}------------------------------------------------------\")\n",
    "        \n",
    "        temp_xstart = xstart + delta_x*i\n",
    "        temp_xend   = xstart + delta_x*(i+1)\n",
    "        temp_yend   = yend - delta_y*j\n",
    "        temp_ystart = yend - delta_y*(j+1)\n",
    "        \n",
    "#         print(f\"xstart={temp_xstart}\\nxend={temp_xend}\")\n",
    "#         print(f\"ystart={temp_ystart}\\nyend={temp_yend}\")\n",
    "        \n",
    "        outfile = f\"out_data/window4prediction_{i}_{j}.vrt\"\n",
    "        command = f\"gdalbuildvrt -te {temp_xstart} {temp_ystart} {temp_xend} {temp_yend} -separate -input_file_list /tmp/selected_features.txt {outfile}\"\n",
    "        \n",
    "        subprocess.run(command, shell=True, stdout=subprocess.PIPE, stderr=subprocess.PIPE, text=True)\n",
    "        print(command)\n",
    "        \n",
    "#         for i, input_file in enumerate(selected_predictor_paths):\n",
    "#             input_shortname = predictor_selection[i]\n",
    "#             outfile_separate = f\"out_data/{input_shortname}_window4prediction_{i}_{j}.vrt\"\n",
    "#             command_separate= f\"gdalbuildvrt -te {temp_xstart} {temp_ystart} {temp_xend} {temp_yend} -separate {outfile_separate} {input_file}\"\n",
    "#             print(command_separate)\n",
    "            \n",
    "#             subprocess.run(command_separate, shell=True, stdout=subprocess.PIPE, stderr=subprocess.PIPE, text=True)\n",
    "        \n",
    "        \n",
    "#         \n"
   ]
  },
  {
   "cell_type": "code",
   "execution_count": 20,
   "id": "16a22882",
   "metadata": {},
   "outputs": [
    {
     "name": "stdout",
     "output_type": "stream",
     "text": [
      "Start at 17:54: out_data/predictions/poland_gridsplits44_0_0.tif ------------------------------------------------------\n",
      "Done estimating and writing after --- 351.3073034286499 seconds ---\n",
      "Start at 18:00: out_data/predictions/poland_gridsplits44_0_1.tif ------------------------------------------------------\n",
      "Done estimating and writing after --- 476.529625415802 seconds ---\n",
      "Start at 18:08: out_data/predictions/poland_gridsplits44_0_2.tif ------------------------------------------------------\n",
      "Done estimating and writing after --- 478.1296486854553 seconds ---\n",
      "Start at 18:16: out_data/predictions/poland_gridsplits44_0_3.tif ------------------------------------------------------\n",
      "Done estimating and writing after --- 453.1867995262146 seconds ---\n",
      "Start at 18:23: out_data/predictions/poland_gridsplits44_1_0.tif ------------------------------------------------------\n",
      "Done estimating and writing after --- 518.2296357154846 seconds ---\n",
      "Start at 18:32: out_data/predictions/poland_gridsplits44_1_1.tif ------------------------------------------------------\n",
      "Done estimating and writing after --- 534.5381944179535 seconds ---\n",
      "Start at 18:41: out_data/predictions/poland_gridsplits44_1_2.tif ------------------------------------------------------\n",
      "Done estimating and writing after --- 552.4159922599792 seconds ---\n",
      "Start at 18:50: out_data/predictions/poland_gridsplits44_1_3.tif ------------------------------------------------------\n",
      "Done estimating and writing after --- 543.8370900154114 seconds ---\n",
      "Start at 18:59: out_data/predictions/poland_gridsplits44_2_0.tif ------------------------------------------------------\n",
      "Done estimating and writing after --- 539.8747134208679 seconds ---\n",
      "Start at 19:08: out_data/predictions/poland_gridsplits44_2_1.tif ------------------------------------------------------\n",
      "Done estimating and writing after --- 540.9354581832886 seconds ---\n",
      "Start at 19:17: out_data/predictions/poland_gridsplits44_2_2.tif ------------------------------------------------------\n",
      "Done estimating and writing after --- 554.8672065734863 seconds ---\n",
      "Start at 19:27: out_data/predictions/poland_gridsplits44_2_3.tif ------------------------------------------------------\n",
      "Done estimating and writing after --- 552.9666299819946 seconds ---\n",
      "Start at 19:36: out_data/predictions/poland_gridsplits44_3_0.tif ------------------------------------------------------\n",
      "Done estimating and writing after --- 528.5465369224548 seconds ---\n",
      "Start at 19:45: out_data/predictions/poland_gridsplits44_3_1.tif ------------------------------------------------------\n",
      "Done estimating and writing after --- 521.1333847045898 seconds ---\n",
      "Start at 19:53: out_data/predictions/poland_gridsplits44_3_2.tif ------------------------------------------------------\n",
      "Done estimating and writing after --- 540.7985281944275 seconds ---\n",
      "Start at 20:02: out_data/predictions/poland_gridsplits44_3_3.tif ------------------------------------------------------\n",
      "Done estimating and writing after --- 535.6121845245361 seconds ---\n"
     ]
    }
   ],
   "source": [
    "import time\n",
    "\n",
    "for pred_i in range(splits):\n",
    "    for pred_j in range(splits):\n",
    "        \n",
    "        \n",
    "        start_time = time.time()\n",
    "        start_time_formatted = time.strftime('%H:%M', time.localtime(start_time))\n",
    "        in_file = f\"out_data/window4prediction_{pred_i}_{pred_j}.vrt\"\n",
    "        out_tif_filename = f'out_data/predictions/{country}_gridsplits{splits}{splits}_{pred_i}_{pred_j}.tif'\n",
    "        \n",
    "        if os.path.exists(out_tif_filename):\n",
    "            print(f\"The file {out_tif_filename} exists already. Continue\")\n",
    "            continue\n",
    "        \n",
    "        print(f\"Start at {start_time_formatted}: {out_tif_filename} ------------------------------------------------------\")\n",
    "        \n",
    "        stack = Raster(in_file)\n",
    "        stack.names = predictor_selection\n",
    "                \n",
    "        result = stack.predict(estimator=rfReg, dtype='int16', nodata=48)\n",
    "\n",
    "        result.write(file_path=out_tif_filename, driver = \"GTiff\")\n",
    "\n",
    "        end_time = time.time()\n",
    "        print(\"Done estimating and writing after --- %s seconds ---\" % (end_time - start_time))\n"
   ]
  },
  {
   "cell_type": "code",
   "execution_count": null,
   "id": "759fdcde",
   "metadata": {},
   "outputs": [],
   "source": []
  }
 ],
 "metadata": {
  "kernelspec": {
   "display_name": "Python 3 (ipykernel)",
   "language": "python",
   "name": "python3"
  },
  "language_info": {
   "codemirror_mode": {
    "name": "ipython",
    "version": 3
   },
   "file_extension": ".py",
   "mimetype": "text/x-python",
   "name": "python",
   "nbconvert_exporter": "python",
   "pygments_lexer": "ipython3",
   "version": "3.10.12"
  }
 },
 "nbformat": 4,
 "nbformat_minor": 5
}
