{
 "cells": [
  {
   "cell_type": "code",
   "execution_count": 1,
   "id": "96e16064",
   "metadata": {},
   "outputs": [],
   "source": [
    "import pandas as pd\n",
    "import numpy as np\n",
    "import rasterio\n",
    "from rasterio import *\n",
    "from rasterio.plot import show\n",
    "from pyspatialml import Raster\n",
    "from sklearn.ensemble import RandomForestClassifier\n",
    "import matplotlib.pyplot as plt\n",
    "from sklearn.metrics import confusion_matrix, ConfusionMatrixDisplay\n",
    "from sklearn.model_selection import train_test_split"
   ]
  },
  {
   "cell_type": "code",
   "execution_count": 2,
   "id": "bb9c7c85",
   "metadata": {},
   "outputs": [],
   "source": [
    "predictors = pd.read_csv(\"out_data/forest_data_poland_lucas.csv\", sep=\" \",  index_col=False, na_values = 48,\n",
    "                         header = None)\n",
    "pd.set_option('display.max_columns',None)\n"
   ]
  },
  {
   "cell_type": "markdown",
   "id": "3a001981",
   "metadata": {},
   "source": [
    "Better variable names"
   ]
  },
  {
   "cell_type": "code",
   "execution_count": 3,
   "id": "32f64b3f",
   "metadata": {},
   "outputs": [
    {
     "ename": "ValueError",
     "evalue": "Length mismatch: Expected axis has 22 elements, new values have 21 elements",
     "output_type": "error",
     "traceback": [
      "\u001b[0;31m---------------------------------------------------------------------------\u001b[0m",
      "\u001b[0;31mValueError\u001b[0m                                Traceback (most recent call last)",
      "\u001b[0;32m/tmp/ipykernel_2775/2991353045.py\u001b[0m in \u001b[0;36m<module>\u001b[0;34m\u001b[0m\n\u001b[1;32m      1\u001b[0m \u001b[0mpredictors_names\u001b[0m \u001b[0;34m=\u001b[0m \u001b[0mpd\u001b[0m\u001b[0;34m.\u001b[0m\u001b[0mread_csv\u001b[0m\u001b[0;34m(\u001b[0m\u001b[0;34m\"out_data/available_features_names.csv\"\u001b[0m\u001b[0;34m,\u001b[0m \u001b[0msep\u001b[0m\u001b[0;34m=\u001b[0m\u001b[0;34m\",\"\u001b[0m\u001b[0;34m,\u001b[0m  \u001b[0mindex_col\u001b[0m\u001b[0;34m=\u001b[0m\u001b[0;32mFalse\u001b[0m\u001b[0;34m)\u001b[0m\u001b[0;34m\u001b[0m\u001b[0;34m\u001b[0m\u001b[0m\n\u001b[0;32m----> 2\u001b[0;31m \u001b[0mpredictors\u001b[0m\u001b[0;34m.\u001b[0m\u001b[0mcolumns\u001b[0m \u001b[0;34m=\u001b[0m \u001b[0mpredictors_names\u001b[0m\u001b[0;34m.\u001b[0m\u001b[0mname\u001b[0m\u001b[0;34m.\u001b[0m\u001b[0mtolist\u001b[0m\u001b[0;34m(\u001b[0m\u001b[0;34m)\u001b[0m\u001b[0;34m\u001b[0m\u001b[0;34m\u001b[0m\u001b[0m\n\u001b[0m\u001b[1;32m      3\u001b[0m \u001b[0mpredictors\u001b[0m\u001b[0;34m.\u001b[0m\u001b[0mtail\u001b[0m\u001b[0;34m(\u001b[0m\u001b[0;36m5\u001b[0m\u001b[0;34m)\u001b[0m\u001b[0;34m\u001b[0m\u001b[0;34m\u001b[0m\u001b[0m\n",
      "\u001b[0;32m/usr/lib/python3/dist-packages/pandas/core/generic.py\u001b[0m in \u001b[0;36m__setattr__\u001b[0;34m(self, name, value)\u001b[0m\n\u001b[1;32m   5498\u001b[0m         \u001b[0;32mtry\u001b[0m\u001b[0;34m:\u001b[0m\u001b[0;34m\u001b[0m\u001b[0;34m\u001b[0m\u001b[0m\n\u001b[1;32m   5499\u001b[0m             \u001b[0mobject\u001b[0m\u001b[0;34m.\u001b[0m\u001b[0m__getattribute__\u001b[0m\u001b[0;34m(\u001b[0m\u001b[0mself\u001b[0m\u001b[0;34m,\u001b[0m \u001b[0mname\u001b[0m\u001b[0;34m)\u001b[0m\u001b[0;34m\u001b[0m\u001b[0;34m\u001b[0m\u001b[0m\n\u001b[0;32m-> 5500\u001b[0;31m             \u001b[0;32mreturn\u001b[0m \u001b[0mobject\u001b[0m\u001b[0;34m.\u001b[0m\u001b[0m__setattr__\u001b[0m\u001b[0;34m(\u001b[0m\u001b[0mself\u001b[0m\u001b[0;34m,\u001b[0m \u001b[0mname\u001b[0m\u001b[0;34m,\u001b[0m \u001b[0mvalue\u001b[0m\u001b[0;34m)\u001b[0m\u001b[0;34m\u001b[0m\u001b[0;34m\u001b[0m\u001b[0m\n\u001b[0m\u001b[1;32m   5501\u001b[0m         \u001b[0;32mexcept\u001b[0m \u001b[0mAttributeError\u001b[0m\u001b[0;34m:\u001b[0m\u001b[0;34m\u001b[0m\u001b[0;34m\u001b[0m\u001b[0m\n\u001b[1;32m   5502\u001b[0m             \u001b[0;32mpass\u001b[0m\u001b[0;34m\u001b[0m\u001b[0;34m\u001b[0m\u001b[0m\n",
      "\u001b[0;32m/usr/lib/python3/dist-packages/pandas/_libs/properties.pyx\u001b[0m in \u001b[0;36mpandas._libs.properties.AxisProperty.__set__\u001b[0;34m()\u001b[0m\n",
      "\u001b[0;32m/usr/lib/python3/dist-packages/pandas/core/generic.py\u001b[0m in \u001b[0;36m_set_axis\u001b[0;34m(self, axis, labels)\u001b[0m\n\u001b[1;32m    764\u001b[0m     \u001b[0;32mdef\u001b[0m \u001b[0m_set_axis\u001b[0m\u001b[0;34m(\u001b[0m\u001b[0mself\u001b[0m\u001b[0;34m,\u001b[0m \u001b[0maxis\u001b[0m\u001b[0;34m:\u001b[0m \u001b[0mint\u001b[0m\u001b[0;34m,\u001b[0m \u001b[0mlabels\u001b[0m\u001b[0;34m:\u001b[0m \u001b[0mIndex\u001b[0m\u001b[0;34m)\u001b[0m \u001b[0;34m->\u001b[0m \u001b[0;32mNone\u001b[0m\u001b[0;34m:\u001b[0m\u001b[0;34m\u001b[0m\u001b[0;34m\u001b[0m\u001b[0m\n\u001b[1;32m    765\u001b[0m         \u001b[0mlabels\u001b[0m \u001b[0;34m=\u001b[0m \u001b[0mensure_index\u001b[0m\u001b[0;34m(\u001b[0m\u001b[0mlabels\u001b[0m\u001b[0;34m)\u001b[0m\u001b[0;34m\u001b[0m\u001b[0;34m\u001b[0m\u001b[0m\n\u001b[0;32m--> 766\u001b[0;31m         \u001b[0mself\u001b[0m\u001b[0;34m.\u001b[0m\u001b[0m_mgr\u001b[0m\u001b[0;34m.\u001b[0m\u001b[0mset_axis\u001b[0m\u001b[0;34m(\u001b[0m\u001b[0maxis\u001b[0m\u001b[0;34m,\u001b[0m \u001b[0mlabels\u001b[0m\u001b[0;34m)\u001b[0m\u001b[0;34m\u001b[0m\u001b[0;34m\u001b[0m\u001b[0m\n\u001b[0m\u001b[1;32m    767\u001b[0m         \u001b[0mself\u001b[0m\u001b[0;34m.\u001b[0m\u001b[0m_clear_item_cache\u001b[0m\u001b[0;34m(\u001b[0m\u001b[0;34m)\u001b[0m\u001b[0;34m\u001b[0m\u001b[0;34m\u001b[0m\u001b[0m\n\u001b[1;32m    768\u001b[0m \u001b[0;34m\u001b[0m\u001b[0m\n",
      "\u001b[0;32m/usr/lib/python3/dist-packages/pandas/core/internals/managers.py\u001b[0m in \u001b[0;36mset_axis\u001b[0;34m(self, axis, new_labels)\u001b[0m\n\u001b[1;32m    214\u001b[0m     \u001b[0;32mdef\u001b[0m \u001b[0mset_axis\u001b[0m\u001b[0;34m(\u001b[0m\u001b[0mself\u001b[0m\u001b[0;34m,\u001b[0m \u001b[0maxis\u001b[0m\u001b[0;34m:\u001b[0m \u001b[0mint\u001b[0m\u001b[0;34m,\u001b[0m \u001b[0mnew_labels\u001b[0m\u001b[0;34m:\u001b[0m \u001b[0mIndex\u001b[0m\u001b[0;34m)\u001b[0m \u001b[0;34m->\u001b[0m \u001b[0;32mNone\u001b[0m\u001b[0;34m:\u001b[0m\u001b[0;34m\u001b[0m\u001b[0;34m\u001b[0m\u001b[0m\n\u001b[1;32m    215\u001b[0m         \u001b[0;31m# Caller is responsible for ensuring we have an Index object.\u001b[0m\u001b[0;34m\u001b[0m\u001b[0;34m\u001b[0m\u001b[0m\n\u001b[0;32m--> 216\u001b[0;31m         \u001b[0mself\u001b[0m\u001b[0;34m.\u001b[0m\u001b[0m_validate_set_axis\u001b[0m\u001b[0;34m(\u001b[0m\u001b[0maxis\u001b[0m\u001b[0;34m,\u001b[0m \u001b[0mnew_labels\u001b[0m\u001b[0;34m)\u001b[0m\u001b[0;34m\u001b[0m\u001b[0;34m\u001b[0m\u001b[0m\n\u001b[0m\u001b[1;32m    217\u001b[0m         \u001b[0mself\u001b[0m\u001b[0;34m.\u001b[0m\u001b[0maxes\u001b[0m\u001b[0;34m[\u001b[0m\u001b[0maxis\u001b[0m\u001b[0;34m]\u001b[0m \u001b[0;34m=\u001b[0m \u001b[0mnew_labels\u001b[0m\u001b[0;34m\u001b[0m\u001b[0;34m\u001b[0m\u001b[0m\n\u001b[1;32m    218\u001b[0m \u001b[0;34m\u001b[0m\u001b[0m\n",
      "\u001b[0;32m/usr/lib/python3/dist-packages/pandas/core/internals/base.py\u001b[0m in \u001b[0;36m_validate_set_axis\u001b[0;34m(self, axis, new_labels)\u001b[0m\n\u001b[1;32m     55\u001b[0m \u001b[0;34m\u001b[0m\u001b[0m\n\u001b[1;32m     56\u001b[0m         \u001b[0;32melif\u001b[0m \u001b[0mnew_len\u001b[0m \u001b[0;34m!=\u001b[0m \u001b[0mold_len\u001b[0m\u001b[0;34m:\u001b[0m\u001b[0;34m\u001b[0m\u001b[0;34m\u001b[0m\u001b[0m\n\u001b[0;32m---> 57\u001b[0;31m             raise ValueError(\n\u001b[0m\u001b[1;32m     58\u001b[0m                 \u001b[0;34mf\"Length mismatch: Expected axis has {old_len} elements, new \"\u001b[0m\u001b[0;34m\u001b[0m\u001b[0;34m\u001b[0m\u001b[0m\n\u001b[1;32m     59\u001b[0m                 \u001b[0;34mf\"values have {new_len} elements\"\u001b[0m\u001b[0;34m\u001b[0m\u001b[0;34m\u001b[0m\u001b[0m\n",
      "\u001b[0;31mValueError\u001b[0m: Length mismatch: Expected axis has 22 elements, new values have 21 elements"
     ]
    }
   ],
   "source": [
    "predictors_names = pd.read_csv(\"out_data/available_features_names.csv\", sep=\",\",  index_col=False)\n",
    "predictors.columns = predictors_names.name.tolist()\n",
    "predictors.tail(5)"
   ]
  },
  {
   "cell_type": "code",
   "execution_count": 9,
   "id": "43d6d506",
   "metadata": {},
   "outputs": [],
   "source": [
    "pred_sel = ['GLAD_mean100m', 'JAXA_mean', 'C-GLOPS_mode', 'CLC10m_mean', 'C-GLOPS_mean', 'JAXA_q1', 'C-GLOPS_median'  ]\n",
    "predictors = predictors[pred_sel]\n"
   ]
  },
  {
   "cell_type": "markdown",
   "id": "3b515778",
   "metadata": {},
   "source": [
    "Now the left hand side"
   ]
  },
  {
   "cell_type": "code",
   "execution_count": 10,
   "id": "94faa470",
   "metadata": {},
   "outputs": [
    {
     "data": {
      "text/html": [
       "<div>\n",
       "<style scoped>\n",
       "    .dataframe tbody tr th:only-of-type {\n",
       "        vertical-align: middle;\n",
       "    }\n",
       "\n",
       "    .dataframe tbody tr th {\n",
       "        vertical-align: top;\n",
       "    }\n",
       "\n",
       "    .dataframe thead th {\n",
       "        text-align: right;\n",
       "    }\n",
       "</style>\n",
       "<table border=\"1\" class=\"dataframe\">\n",
       "  <thead>\n",
       "    <tr style=\"text-align: right;\">\n",
       "      <th></th>\n",
       "      <th>X</th>\n",
       "      <th>Y</th>\n",
       "      <th>LC1</th>\n",
       "      <th>LC1_PERC</th>\n",
       "      <th>forest</th>\n",
       "    </tr>\n",
       "  </thead>\n",
       "  <tbody>\n",
       "    <tr>\n",
       "      <th>23079</th>\n",
       "      <td>5.278000e+06</td>\n",
       "      <td>3.114000e+06</td>\n",
       "      <td>C22</td>\n",
       "      <td>100</td>\n",
       "      <td>1</td>\n",
       "    </tr>\n",
       "    <tr>\n",
       "      <th>23080</th>\n",
       "      <td>5.278000e+06</td>\n",
       "      <td>3.136000e+06</td>\n",
       "      <td>B11</td>\n",
       "      <td>100</td>\n",
       "      <td>0</td>\n",
       "    </tr>\n",
       "    <tr>\n",
       "      <th>23081</th>\n",
       "      <td>5.294000e+06</td>\n",
       "      <td>3.150000e+06</td>\n",
       "      <td>C10</td>\n",
       "      <td>100</td>\n",
       "      <td>1</td>\n",
       "    </tr>\n",
       "    <tr>\n",
       "      <th>23082</th>\n",
       "      <td>5.294000e+06</td>\n",
       "      <td>3.172000e+06</td>\n",
       "      <td>B11</td>\n",
       "      <td>92</td>\n",
       "      <td>0</td>\n",
       "    </tr>\n",
       "    <tr>\n",
       "      <th>23083</th>\n",
       "      <td>5.286000e+06</td>\n",
       "      <td>3.116000e+06</td>\n",
       "      <td>Bx1</td>\n",
       "      <td>98</td>\n",
       "      <td>0</td>\n",
       "    </tr>\n",
       "  </tbody>\n",
       "</table>\n",
       "</div>"
      ],
      "text/plain": [
       "                  X             Y  LC1  LC1_PERC  forest\n",
       "23079  5.278000e+06  3.114000e+06  C22       100       1\n",
       "23080  5.278000e+06  3.136000e+06  B11       100       0\n",
       "23081  5.294000e+06  3.150000e+06  C10       100       1\n",
       "23082  5.294000e+06  3.172000e+06  B11        92       0\n",
       "23083  5.286000e+06  3.116000e+06  Bx1        98       0"
      ]
     },
     "execution_count": 10,
     "metadata": {},
     "output_type": "execute_result"
    }
   ],
   "source": [
    "outcome = pd.read_csv(\"out_data/LUCAS/LUCAS_locations.csv\", sep=\",\",  index_col=False)\n",
    "outcome.tail(5)"
   ]
  },
  {
   "cell_type": "code",
   "execution_count": null,
   "id": "c7863217",
   "metadata": {},
   "outputs": [],
   "source": [
    "print (len(outcome))\n",
    "print (len(predictors))"
   ]
  },
  {
   "cell_type": "markdown",
   "id": "d59574f8",
   "metadata": {},
   "source": [
    "Split the Dataset"
   ]
  },
  {
   "cell_type": "code",
   "execution_count": 12,
   "id": "8de0f47d",
   "metadata": {},
   "outputs": [
    {
     "name": "stdout",
     "output_type": "stream",
     "text": [
      "(23084, 7)\n",
      "(23084, 1)\n",
      "<class 'pandas.core.frame.DataFrame'>\n",
      "<class 'pandas.core.frame.DataFrame'>\n"
     ]
    }
   ],
   "source": [
    "X    = predictors\n",
    "Y    = outcome.iloc[:,4].to_frame()\n",
    "feat = predictors.columns.values\n",
    "print(X.shape)\n",
    "print(Y.shape)\n",
    "print(type(X))\n",
    "print(type(Y))"
   ]
  },
  {
   "cell_type": "markdown",
   "id": "65725909",
   "metadata": {},
   "source": [
    "There are a handful of NAs"
   ]
  },
  {
   "cell_type": "code",
   "execution_count": 13,
   "id": "781c5744",
   "metadata": {},
   "outputs": [
    {
     "name": "stdout",
     "output_type": "stream",
     "text": [
      "NA rows: [   33    54    58 ... 23032 23046 23077]\n"
     ]
    }
   ],
   "source": [
    "na_rows = X.apply(lambda x: np.any(pd.isna(x)), axis=1)\n",
    "result = np.where(na_rows)[0]\n",
    "print('NA rows: ' + str(result))"
   ]
  },
  {
   "cell_type": "code",
   "execution_count": 14,
   "id": "ec4d2354",
   "metadata": {},
   "outputs": [],
   "source": [
    "X = X.drop(X.index[result])\n",
    "Y = Y.drop(Y.index[result])\n"
   ]
  },
  {
   "cell_type": "code",
   "execution_count": 15,
   "id": "e552acf2",
   "metadata": {},
   "outputs": [
    {
     "name": "stdout",
     "output_type": "stream",
     "text": [
      "(21819, 7)\n",
      "(21819, 1)\n"
     ]
    }
   ],
   "source": [
    "print(X.shape)\n",
    "print(Y.shape)"
   ]
  },
  {
   "cell_type": "markdown",
   "id": "82ebc05e",
   "metadata": {},
   "source": [
    "Create 4 dataset for training and testing the algorithm "
   ]
  },
  {
   "cell_type": "code",
   "execution_count": 16,
   "id": "0f0778f7",
   "metadata": {},
   "outputs": [],
   "source": [
    "X_train, X_test, Y_train, Y_test = train_test_split(X, Y, test_size=0.5, random_state=2023)\n",
    "y_train = np.ravel(Y_train)\n",
    "y_test = np.ravel(Y_test)"
   ]
  },
  {
   "cell_type": "markdown",
   "id": "2f25e9d1",
   "metadata": {},
   "source": [
    "From wandb"
   ]
  },
  {
   "cell_type": "code",
   "execution_count": 17,
   "id": "978bfef5",
   "metadata": {},
   "outputs": [
    {
     "data": {
      "text/plain": [
       "RandomForestClassifier(max_depth=250, max_features=3, max_samples=0.3335,\n",
       "                       n_estimators=2799, n_jobs=-1, oob_score=True)"
      ]
     },
     "execution_count": 17,
     "metadata": {},
     "output_type": "execute_result"
    }
   ],
   "source": [
    "rf_classifier = RandomForestClassifier(n_estimators=2799,\n",
    "                        max_features=3,\n",
    "                        max_depth=250,\n",
    "                        max_samples=0.3335,\n",
    "                        n_jobs=-1,\n",
    "                        oob_score = True) \n",
    "rf_classifier.fit(X_train, y_train)\n"
   ]
  },
  {
   "cell_type": "code",
   "execution_count": 18,
   "id": "0f1e36b0",
   "metadata": {},
   "outputs": [],
   "source": [
    "dic_pred = {}\n",
    "dic_pred['train'] = rf_classifier.predict(X_train)\n",
    "dic_pred['test'] = rf_classifier.predict(X_test)"
   ]
  },
  {
   "cell_type": "code",
   "execution_count": 19,
   "id": "fc95abb7",
   "metadata": {},
   "outputs": [
    {
     "data": {
      "text/plain": [
       "array([1, 0, 0, ..., 0, 1, 0])"
      ]
     },
     "execution_count": 19,
     "metadata": {},
     "output_type": "execute_result"
    }
   ],
   "source": [
    "dic_pred['test']"
   ]
  },
  {
   "cell_type": "code",
   "execution_count": 20,
   "id": "b61ab53e",
   "metadata": {},
   "outputs": [],
   "source": [
    "def performance_metrics(y_true, y_pred):\n",
    "    tn, fp, fn, tp = confusion_matrix(y_true, y_pred).ravel()\n",
    "    acc = (tp + tn) / (tn + tp + fp + fn)\n",
    "    tpr = tp / (tp + fn)\n",
    "    tnr = tn / (tn + fn)\n",
    "    bacc= (tpr + tnr) * 0.5\n",
    "#    f1 = (tpr * tnr) / (tpr + tnr)\n",
    "    return(acc)"
   ]
  },
  {
   "cell_type": "code",
   "execution_count": 21,
   "id": "6070360e",
   "metadata": {},
   "outputs": [
    {
     "data": {
      "text/plain": [
       "0.9003666361136572"
      ]
     },
     "execution_count": 21,
     "metadata": {},
     "output_type": "execute_result"
    }
   ],
   "source": [
    "performance_metrics(y_test, dic_pred['test'])"
   ]
  },
  {
   "cell_type": "code",
   "execution_count": 22,
   "id": "edb44f9b",
   "metadata": {},
   "outputs": [
    {
     "data": {
      "image/png": "[encoded data removed]",
      "text/plain": [
       "<Figure size 432x288 with 2 Axes>"
      ]
     },
     "metadata": {
      "needs_background": "light"
     },
     "output_type": "display_data"
    },
    {
     "data": {
      "image/png": "[encoded data removed]",
      "text/plain": [
       "<Figure size 432x288 with 2 Axes>"
      ]
     },
     "metadata": {
      "needs_background": "light"
     },
     "output_type": "display_data"
    }
   ],
   "source": [
    "cm = confusion_matrix(y_train, dic_pred['train'])\n",
    "disp = ConfusionMatrixDisplay(confusion_matrix=cm)\n",
    "\n",
    "disp.plot()\n",
    "plt.show()\n",
    "\n",
    "cm = confusion_matrix(y_test, dic_pred['test'])\n",
    "disp = ConfusionMatrixDisplay(confusion_matrix=cm)\n",
    "\n",
    "disp.plot()\n",
    "plt.show()\n"
   ]
  },
  {
   "cell_type": "code",
   "execution_count": 23,
   "id": "fd206145",
   "metadata": {},
   "outputs": [],
   "source": [
    "impt = [rf_classifier.feature_importances_, np.std([tree.feature_importances_ for tree in rf_classifier.estimators_],axis=1)] \n",
    "\n",
    "ind = np.argsort(impt[0])\n"
   ]
  },
  {
   "cell_type": "code",
   "execution_count": 25,
   "id": "c468abfb",
   "metadata": {},
   "outputs": [
    {
     "data": {
      "image/png": "[encoded data removed]",
      "text/plain": [
       "<Figure size 432x864 with 1 Axes>"
      ]
     },
     "metadata": {
      "needs_background": "light"
     },
     "output_type": "display_data"
    }
   ],
   "source": [
    "plt.rcParams[\"figure.figsize\"] = (6,12)\n",
    "plt.barh(range(len(pred_sel)),impt[0][ind],color=\"b\", xerr=impt[1][ind], align=\"center\")\n",
    "plt.yticks(range(len(pred_sel)),feat[ind]);"
   ]
  },
  {
   "cell_type": "markdown",
   "id": "0e2909ea",
   "metadata": {},
   "source": [
    "predicting the tiff takes too long for this class so I am making a smaller map"
   ]
  },
  {
   "cell_type": "code",
   "execution_count": 23,
   "id": "e51ead07",
   "metadata": {},
   "outputs": [],
   "source": [
    "GLAD_mean100m = \"out_data/GLADGLCextent/reproj3035_100m_tifs/poland_mean100m.tif\"\n",
    "GLAD_median100m = \"out_data/GLADGLCextent/reproj3035_100m_tifs/poland_median100m.tif\"\n",
    "GLAD_mode100m = \"out_data/GLADGLCextent/reproj3035_100m_tifs/poland_mode100m.tif\"\n",
    "GLAD_q1 = \"out_data/GLADGLCextent/reproj3035_100m_tifs/poland_q1.tif\"\n",
    "GLAD_q3 = \"out_data/GLADGLCextent/reproj3035_100m_tifs/poland_q3.tif\"\n",
    "CLC10m_mean = \"out_data/CLC10m/poland_mean.tif\"\n",
    "CLC10m_median = \"out_data/CLC10m/poland_median.tif\"\n",
    "CLC10m_mode = \"out_data/CLC10m/poland_mode.tif\"\n",
    "CLC10m_q1 = \"out_data/CLC10m/poland_q1.tif\"\n",
    "CLC10m_q3 = \"out_data/CLC10m/poland_q3.tif\"\n",
    "CLC_01 = \"out_data/CLC/poland_01.vrt\"\n",
    "C_GLOPS_mean = \"out_data/C-GLOPS/2019/poland_mean.tif\"\n",
    "C_GLOPS_median = \"out_data/C-GLOPS/2019/poland_median.tif\"\n",
    "C_GLOPS_mode = \"out_data/C-GLOPS/2019/poland_mode.tif\"\n",
    "C_GLOPS_q1 = \"out_data/C-GLOPS/2019/poland_q1.tif\"\n",
    "C_GLOPS_q3 = \"out_data/C-GLOPS/2019/poland_q3.tif\"\n",
    "JAXA_q3 = \"out_data/JAXA/poland_q3.tif\"\n",
    "JAXA_q1 = \"out_data/JAXA/poland_q1.tif\"\n",
    "JAXA_mode = \"out_data/JAXA/poland_mode.tif\"\n",
    "JAXA_median = \"out_data/JAXA/poland_median.tif\"\n",
    "JAXA_mean = \"out_data/JAXA/poland_mean.tif\""
   ]
  },
  {
   "cell_type": "code",
   "execution_count": 24,
   "id": "a1022edf",
   "metadata": {},
   "outputs": [
    {
     "data": {
      "text/plain": [
       "['GLAD_mean100m',\n",
       " 'JAXA_mean',\n",
       " 'C-GLOPS_mode',\n",
       " 'CLC10m_mean',\n",
       " 'C-GLOPS_mean',\n",
       " 'JAXA_q1',\n",
       " 'C-GLOPS_median']"
      ]
     },
     "execution_count": 24,
     "metadata": {},
     "output_type": "execute_result"
    }
   ],
   "source": [
    "pred_sel"
   ]
  },
  {
   "cell_type": "code",
   "execution_count": 25,
   "id": "a6be1d69",
   "metadata": {},
   "outputs": [],
   "source": [
    "# predictors_rasters = [\n",
    "#     GLAD_mean100m,\n",
    "#     GLAD_median100m,\n",
    "#     GLAD_mode100m,\n",
    "#     GLAD_q1,\n",
    "#     GLAD_q3,\n",
    "#     CLC10m_mean,\n",
    "#     CLC10m_median,\n",
    "#     CLC10m_mode,\n",
    "#     CLC10m_q1,\n",
    "#     CLC10m_q3,\n",
    "#    CLC_01,\n",
    "#     C_GLOPS_mean,\n",
    "#     C_GLOPS_median,\n",
    "#     C_GLOPS_mode,\n",
    "#     C_GLOPS_q1,\n",
    "#     C_GLOPS_q3,\n",
    "#     JAXA_q3,\n",
    "#     JAXA_q1,\n",
    "#     JAXA_mode,\n",
    "#     JAXA_median,\n",
    "#     JAXA_mean\n",
    "# ]\n",
    "\n",
    "\n",
    "predictors_rasters = [\n",
    "    GLAD_mean100m, JAXA_mean, C_GLOPS_mode, CLC10m_mean, C_GLOPS_mean, JAXA_q1, C_GLOPS_median\n",
    "]\n"
   ]
  },
  {
   "cell_type": "code",
   "execution_count": 26,
   "id": "b799a078",
   "metadata": {},
   "outputs": [
    {
     "name": "stdout",
     "output_type": "stream",
     "text": [
      "['out_data/GLADGLCextent/reproj3035_100m_tifs/poland_mean100m.tif', 'out_data/JAXA/poland_mean.tif', 'out_data/C-GLOPS/2019/poland_mode.tif', 'out_data/CLC10m/poland_mean.tif', 'out_data/C-GLOPS/2019/poland_mean.tif', 'out_data/JAXA/poland_q1.tif', 'out_data/C-GLOPS/2019/poland_median.tif']\n"
     ]
    }
   ],
   "source": [
    "print(predictors_rasters)\n",
    "stack = Raster(predictors_rasters)"
   ]
  },
  {
   "cell_type": "code",
   "execution_count": 27,
   "id": "cf39b493",
   "metadata": {},
   "outputs": [
    {
     "name": "stdout",
     "output_type": "stream",
     "text": [
      "Raster Object Containing 7 Layers\n",
      "    attribute                                             values\n",
      "0       names  [poland_mean100m, poland_mean_1, poland_mode, ...\n",
      "1       files  [out_data/GLADGLCextent/reproj3035_100m_tifs/p...\n",
      "2        rows                                               6060\n",
      "3        cols                                               7120\n",
      "4         res                                     (100.0, 100.0)\n",
      "5  nodatavals         [48.0, 48.0, 48.0, 48.0, 48.0, 48.0, 48.0]\n"
     ]
    },
    {
     "data": {
      "text/plain": []
     },
     "execution_count": 27,
     "metadata": {},
     "output_type": "execute_result"
    }
   ],
   "source": [
    "stack"
   ]
  },
  {
   "cell_type": "code",
   "execution_count": 130,
   "id": "c8e2b7a8",
   "metadata": {},
   "outputs": [],
   "source": [
    "result = stack.predict(estimator=rf_classifier, dtype='int16', nodata=-1)"
   ]
  },
  {
   "cell_type": "code",
   "execution_count": 138,
   "id": "a809069a",
   "metadata": {},
   "outputs": [
    {
     "name": "stdout",
     "output_type": "stream",
     "text": [
      "Raster Object Containing 1 Layers\n",
      "    attribute                                             values\n",
      "0       names                                       [pred_raw_0]\n",
      "1       files  [out_data/predictions/poland_small_RFpredictio...\n",
      "2        rows                                               6060\n",
      "3        cols                                               7120\n",
      "4         res                                     (100.0, 100.0)\n",
      "5  nodatavals                                         [-32768.0]\n"
     ]
    },
    {
     "data": {
      "text/plain": []
     },
     "execution_count": 138,
     "metadata": {},
     "output_type": "execute_result"
    }
   ],
   "source": [
    "output_path = \"out_data/predictions/poland_small_RFprediction_test.tif\"\n",
    "result.write(output_path)"
   ]
  },
  {
   "cell_type": "code",
   "execution_count": 139,
   "id": "6c6ce47a",
   "metadata": {},
   "outputs": [
    {
     "name": "stdout",
     "output_type": "stream",
     "text": [
      "Driver: GTiff/GeoTIFF\n",
      "Files: out_data/predictions/poland_small_RFprediction_test.tif\n",
      "Size is 7120, 6060\n",
      "Coordinate System is:\n",
      "PROJCRS[\"ETRS89-extended / LAEA Europe\",\n",
      "    BASEGEOGCRS[\"ETRS89\",\n",
      "        ENSEMBLE[\"European Terrestrial Reference System 1989 ensemble\",\n",
      "            MEMBER[\"European Terrestrial Reference Frame 1989\"],\n",
      "            MEMBER[\"European Terrestrial Reference Frame 1990\"],\n",
      "            MEMBER[\"European Terrestrial Reference Frame 1991\"],\n",
      "            MEMBER[\"European Terrestrial Reference Frame 1992\"],\n",
      "            MEMBER[\"European Terrestrial Reference Frame 1993\"],\n",
      "            MEMBER[\"European Terrestrial Reference Frame 1994\"],\n",
      "            MEMBER[\"European Terrestrial Reference Frame 1996\"],\n",
      "            MEMBER[\"European Terrestrial Reference Frame 1997\"],\n",
      "            MEMBER[\"European Terrestrial Reference Frame 2000\"],\n",
      "            MEMBER[\"European Terrestrial Reference Frame 2005\"],\n",
      "            MEMBER[\"European Terrestrial Reference Frame 2014\"],\n",
      "            ELLIPSOID[\"GRS 1980\",6378137,298.257222101,\n",
      "                LENGTHUNIT[\"metre\",1]],\n",
      "            ENSEMBLEACCURACY[0.1]],\n",
      "        PRIMEM[\"Greenwich\",0,\n",
      "            ANGLEUNIT[\"degree\",0.0174532925199433]],\n",
      "        ID[\"EPSG\",4258]],\n",
      "    CONVERSION[\"Europe Equal Area 2001\",\n",
      "        METHOD[\"Lambert Azimuthal Equal Area\",\n",
      "            ID[\"EPSG\",9820]],\n",
      "        PARAMETER[\"Latitude of natural origin\",52,\n",
      "            ANGLEUNIT[\"degree\",0.0174532925199433],\n",
      "            ID[\"EPSG\",8801]],\n",
      "        PARAMETER[\"Longitude of natural origin\",10,\n",
      "            ANGLEUNIT[\"degree\",0.0174532925199433],\n",
      "            ID[\"EPSG\",8802]],\n",
      "        PARAMETER[\"False easting\",4321000,\n",
      "            LENGTHUNIT[\"metre\",1],\n",
      "            ID[\"EPSG\",8806]],\n",
      "        PARAMETER[\"False northing\",3210000,\n",
      "            LENGTHUNIT[\"metre\",1],\n",
      "            ID[\"EPSG\",8807]]],\n",
      "    CS[Cartesian,2],\n",
      "        AXIS[\"northing (Y)\",north,\n",
      "            ORDER[1],\n",
      "            LENGTHUNIT[\"metre\",1]],\n",
      "        AXIS[\"easting (X)\",east,\n",
      "            ORDER[2],\n",
      "            LENGTHUNIT[\"metre\",1]],\n",
      "    USAGE[\n",
      "        SCOPE[\"Statistical analysis.\"],\n",
      "        AREA[\"Europe - European Union (EU) countries and candidates. Europe - onshore and offshore: Albania; Andorra; Austria; Belgium; Bosnia and Herzegovina; Bulgaria; Croatia; Cyprus; Czechia; Denmark; Estonia; Faroe Islands; Finland; France; Germany; Gibraltar; Greece; Hungary; Iceland; Ireland; Italy; Kosovo; Latvia; Liechtenstein; Lithuania; Luxembourg; Malta; Monaco; Montenegro; Netherlands; North Macedonia; Norway including Svalbard and Jan Mayen; Poland; Portugal including Madeira and Azores; Romania; San Marino; Serbia; Slovakia; Slovenia; Spain including Canary Islands; Sweden; Switzerland; Turkey; United Kingdom (UK) including Channel Islands and Isle of Man; Vatican City State.\"],\n",
      "        BBOX[24.6,-35.58,84.73,44.83]],\n",
      "    ID[\"EPSG\",3035]]\n",
      "Data axis to CRS axis mapping: 2,1\n",
      "Origin = (4598000.000000000000000,3554000.000000000000000)\n",
      "Pixel Size = (100.000000000000000,-100.000000000000000)\n",
      "Metadata:\n",
      "  AREA_OR_POINT=Area\n",
      "Image Structure Metadata:\n",
      "  INTERLEAVE=BAND\n",
      "Corner Coordinates:\n",
      "Upper Left  ( 4598000.000, 3554000.000) ( 14d19'53.70\"E, 55d 0'59.58\"N)\n",
      "Lower Left  ( 4598000.000, 2948000.000) ( 13d49'53.70\"E, 49d34'47.19\"N)\n",
      "Upper Right ( 5310000.000, 3554000.000) ( 25d15'49.70\"E, 54d 8'54.18\"N)\n",
      "Lower Right ( 5310000.000, 2948000.000) ( 23d33' 6.72\"E, 48d49'23.11\"N)\n",
      "Center      ( 4954000.000, 3251000.000) ( 19d14'49.20\"E, 52d 0'24.67\"N)\n",
      "Band 1 Block=7120x1 Type=Int16, ColorInterp=Gray\n",
      "  NoData Value=-32768\n"
     ]
    }
   ],
   "source": [
    "!gdalinfo out_data/predictions/poland_small_RFprediction_test.tif"
   ]
  },
  {
   "cell_type": "code",
   "execution_count": 26,
   "id": "3cb18d68",
   "metadata": {},
   "outputs": [
    {
     "ename": "AttributeError",
     "evalue": "'numpy.ndarray' object has no attribute 'iloc'",
     "output_type": "error",
     "traceback": [
      "\u001b[0;31m---------------------------------------------------------------------------\u001b[0m",
      "\u001b[0;31mAttributeError\u001b[0m                            Traceback (most recent call last)",
      "\u001b[0;32m/tmp/ipykernel_2932/114742981.py\u001b[0m in \u001b[0;36m<module>\u001b[0;34m\u001b[0m\n\u001b[1;32m      1\u001b[0m \u001b[0;31m# plot regression result\u001b[0m\u001b[0;34m\u001b[0m\u001b[0;34m\u001b[0m\u001b[0m\n\u001b[1;32m      2\u001b[0m \u001b[0mplt\u001b[0m\u001b[0;34m.\u001b[0m\u001b[0mrcParams\u001b[0m\u001b[0;34m[\u001b[0m\u001b[0;34m\"figure.figsize\"\u001b[0m\u001b[0;34m]\u001b[0m \u001b[0;34m=\u001b[0m \u001b[0;34m(\u001b[0m\u001b[0;36m12\u001b[0m\u001b[0;34m,\u001b[0m\u001b[0;36m12\u001b[0m\u001b[0;34m)\u001b[0m\u001b[0;34m\u001b[0m\u001b[0;34m\u001b[0m\u001b[0m\n\u001b[0;32m----> 3\u001b[0;31m \u001b[0mresult\u001b[0m\u001b[0;34m.\u001b[0m\u001b[0miloc\u001b[0m\u001b[0;34m[\u001b[0m\u001b[0;36m0\u001b[0m\u001b[0;34m]\u001b[0m\u001b[0;34m.\u001b[0m\u001b[0mcmap\u001b[0m \u001b[0;34m=\u001b[0m \u001b[0;34m\"plasma\"\u001b[0m\u001b[0;34m\u001b[0m\u001b[0;34m\u001b[0m\u001b[0m\n\u001b[0m\u001b[1;32m      4\u001b[0m \u001b[0mstack\u001b[0m\u001b[0;34m.\u001b[0m\u001b[0mpoland_mean100m\u001b[0m\u001b[0;34m.\u001b[0m\u001b[0mplot\u001b[0m\u001b[0;34m(\u001b[0m\u001b[0;34m)\u001b[0m\u001b[0;34m\u001b[0m\u001b[0;34m\u001b[0m\u001b[0m\n\u001b[1;32m      5\u001b[0m \u001b[0mplt\u001b[0m\u001b[0;34m.\u001b[0m\u001b[0mshow\u001b[0m\u001b[0;34m(\u001b[0m\u001b[0;34m)\u001b[0m\u001b[0;34m\u001b[0m\u001b[0;34m\u001b[0m\u001b[0m\n",
      "\u001b[0;31mAttributeError\u001b[0m: 'numpy.ndarray' object has no attribute 'iloc'"
     ]
    }
   ],
   "source": [
    "# plot regression result\n",
    "plt.rcParams[\"figure.figsize\"] = (12,12)\n",
    "result.iloc[0].cmap = \"plasma\"\n",
    "stack.poland_mean100m.plot()\n",
    "plt.show()"
   ]
  },
  {
   "cell_type": "code",
   "execution_count": 145,
   "id": "4539a0c4",
   "metadata": {},
   "outputs": [],
   "source": [
    "# todo, also get a predict_proba() map\n",
    "result_probs = stack.predict_proba(estimator=rf_classifier)\n"
   ]
  },
  {
   "cell_type": "code",
   "execution_count": 146,
   "id": "14ce6934",
   "metadata": {},
   "outputs": [
    {
     "name": "stdout",
     "output_type": "stream",
     "text": [
      "Raster Object Containing 2 Layers\n",
      "    attribute                                             values\n",
      "0       names                                   [prob_0, prob_1]\n",
      "1       files  [out_data/predictions/poland_small_RFprobs_tes...\n",
      "2        rows                                               6060\n",
      "3        cols                                               7120\n",
      "4         res                                     (100.0, 100.0)\n",
      "5  nodatavals  [-3.4028234663852886e+38, -3.4028234663852886e...\n"
     ]
    },
    {
     "data": {
      "text/plain": []
     },
     "execution_count": 146,
     "metadata": {},
     "output_type": "execute_result"
    }
   ],
   "source": [
    "output_path2 = \"out_data/predictions/poland_small_RFprobs_test.tif\"\n",
    "result_probs.write(output_path2)"
   ]
  },
  {
   "cell_type": "code",
   "execution_count": null,
   "id": "cb3bd070",
   "metadata": {},
   "outputs": [],
   "source": []
  }
 ],
 "metadata": {
  "kernelspec": {
   "display_name": "Python 3 (ipykernel)",
   "language": "python",
   "name": "python3"
  },
  "language_info": {
   "codemirror_mode": {
    "name": "ipython",
    "version": 3
   },
   "file_extension": ".py",
   "mimetype": "text/x-python",
   "name": "python",
   "nbconvert_exporter": "python",
   "pygments_lexer": "ipython3",
   "version": "3.10.12"
  }
 },
 "nbformat": 4,
 "nbformat_minor": 5
}
