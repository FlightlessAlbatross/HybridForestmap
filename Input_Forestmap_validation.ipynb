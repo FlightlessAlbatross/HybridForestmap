{
 "cells": [
  {
   "cell_type": "markdown",
   "id": "dda3e49a",
   "metadata": {},
   "source": [
    "In this script we check the validity of our input forestmaps against LUCAS"
   ]
  },
  {
   "cell_type": "code",
   "execution_count": null,
   "id": "9e7550b6",
   "metadata": {},
   "outputs": [],
   "source": []
  },
  {
   "cell_type": "code",
   "execution_count": 1,
   "id": "028e4f6b",
   "metadata": {},
   "outputs": [
    {
     "name": "stdout",
     "output_type": "stream",
     "text": [
      "out_data/GLADGLCextent/reproj3035_100m_tifs/poland_01.tif\r\n",
      "out_data/CLC10m/poland_01.tif\r\n",
      "out_data/CLC/poland_01.vrt\r\n",
      "out_data/C-GLOPS/2019/poland_01.tif\r\n",
      "out_data/JAXA/poland_01.tif\r\n"
     ]
    }
   ],
   "source": [
    "!cat out_data/available_features_01.txt"
   ]
  },
  {
   "cell_type": "code",
   "execution_count": 2,
   "id": "1b33fc3e",
   "metadata": {},
   "outputs": [
    {
     "name": "stdout",
     "output_type": "stream",
     "text": [
      "0...10...20...30...40...50...60...70...80...90...100 - done.\n"
     ]
    }
   ],
   "source": [
    "!gdalbuildvrt -overwrite -separate -input_file_list out_data/available_features_01.txt out_data/all01_tif.vrt"
   ]
  },
  {
   "cell_type": "markdown",
   "id": "0cc31420",
   "metadata": {},
   "source": [
    "Now extract data based on the points from all input layers in the vrt. "
   ]
  },
  {
   "cell_type": "code",
   "execution_count": 5,
   "id": "a538be1a",
   "metadata": {},
   "outputs": [
    {
     "name": "stdout",
     "output_type": "stream",
     "text": [
      "380\n"
     ]
    }
   ],
   "source": [
    "%%bash\n",
    "\n",
    "start=`date +%s`\n",
    "\n",
    "# Input files\n",
    "features_file=\"out_data/all01_tif.vrt\"\n",
    "coordinates_file=\"out_data/LUCAS/LUCAS_XY.csv\"\n",
    "\n",
    "# Output file\n",
    "output_file=\"out_data/forest01_data_poland_lucas.csv\"\n",
    "\n",
    "#colum names\n",
    "colnames=\"\"\n",
    "\n",
    "BB=$(cat out_data/available_features_01.txt | wc -l  )    # band number\n",
    "\n",
    "\n",
    "gdallocationinfo -geoloc -valonly $features_file < $coordinates_file  | awk -v BB=$BB 'ORS=NR%BB?FS:RS' > $output_file\n",
    "\n",
    "\n",
    "\n",
    "end=`date +%s`\n",
    "expr $end - $start\n"
   ]
  },
  {
   "cell_type": "code",
   "execution_count": 4,
   "id": "637f8323",
   "metadata": {},
   "outputs": [
    {
     "name": "stdout",
     "output_type": "stream",
     "text": [
      "0 out_data/forest01_data_poland_lucas.csv\r\n"
     ]
    }
   ],
   "source": [
    "!wc -l \"out_data/forest01_data_poland_lucas.csv\""
   ]
  },
  {
   "cell_type": "code",
   "execution_count": null,
   "id": "dfdce5c1",
   "metadata": {},
   "outputs": [],
   "source": []
  }
 ],
 "metadata": {
  "kernelspec": {
   "display_name": "Python 3 (ipykernel)",
   "language": "python",
   "name": "python3"
  },
  "language_info": {
   "codemirror_mode": {
    "name": "ipython",
    "version": 3
   },
   "file_extension": ".py",
   "mimetype": "text/x-python",
   "name": "python",
   "nbconvert_exporter": "python",
   "pygments_lexer": "ipython3",
   "version": "3.10.12"
  }
 },
 "nbformat": 4,
 "nbformat_minor": 5
}
