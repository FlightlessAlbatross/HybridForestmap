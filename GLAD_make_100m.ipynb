{
 "cells": [
  {
   "cell_type": "markdown",
   "id": "d097046f",
   "metadata": {},
   "source": [
    "In this script, we take the GLAD maps projected to 3035 and summarize them to our CLC100m reference grid by averaging them. "
   ]
  },
  {
   "cell_type": "code",
   "execution_count": 13,
   "id": "399838c0",
   "metadata": {},
   "outputs": [
    {
     "name": "stdout",
     "output_type": "stream",
     "text": [
      "/media/sf_geocomputation_class/forestmap\r\n"
     ]
    }
   ],
   "source": [
    "!pwd"
   ]
  },
  {
   "cell_type": "code",
   "execution_count": 17,
   "id": "99859181",
   "metadata": {},
   "outputs": [
    {
     "name": "stdout",
     "output_type": "stream",
     "text": [
      "out_data/GLADGLCextent/reproj3035_100m_tifs/reproj3035_mean100m_11.tif\n",
      "Creating output file that is 16250P x 11500L.\n",
      "Processing in_data/GLADGLCextent/reproj3035_tifs/reproj3035_EU_ij.vrt [1/1] : 0Using internal nodata values (e.g. 48) for image in_data/GLADGLCextent/reproj3035_tifs/reproj3035_EU_ij.vrt.\n",
      "...10...20...30...40...50...60...70...80...90...100 - done.\n",
      "out_data/GLADGLCextent/reproj3035_100m_tifs/reproj3035_mean100m_12.tif\n",
      "Creating output file that is 16250P x 11500L.\n",
      "Processing in_data/GLADGLCextent/reproj3035_tifs/reproj3035_EU_ij.vrt [1/1] : 0Using internal nodata values (e.g. 48) for image in_data/GLADGLCextent/reproj3035_tifs/reproj3035_EU_ij.vrt.\n",
      "...10...20...30...40...50...60...70...80...90...100 - done.\n",
      "out_data/GLADGLCextent/reproj3035_100m_tifs/reproj3035_mean100m_13.tif\n",
      "Creating output file that is 16250P x 11500L.\n",
      "Processing in_data/GLADGLCextent/reproj3035_tifs/reproj3035_EU_ij.vrt [1/1] : 0Using internal nodata values (e.g. 48) for image in_data/GLADGLCextent/reproj3035_tifs/reproj3035_EU_ij.vrt.\n",
      "...10...20...30...40...50...60...70...80...90...100 - done.\n",
      "out_data/GLADGLCextent/reproj3035_100m_tifs/reproj3035_mean100m_14.tif\n",
      "Creating output file that is 16250P x 11500L.\n",
      "Processing in_data/GLADGLCextent/reproj3035_tifs/reproj3035_EU_ij.vrt [1/1] : 0Using internal nodata values (e.g. 48) for image in_data/GLADGLCextent/reproj3035_tifs/reproj3035_EU_ij.vrt.\n",
      "...10...20...30...40...50...60...70...80...90...100 - done.\n",
      "out_data/GLADGLCextent/reproj3035_100m_tifs/reproj3035_mean100m_21.tif\n",
      "Creating output file that is 16250P x 11500L.\n",
      "Processing in_data/GLADGLCextent/reproj3035_tifs/reproj3035_EU_ij.vrt [1/1] : 0Using internal nodata values (e.g. 48) for image in_data/GLADGLCextent/reproj3035_tifs/reproj3035_EU_ij.vrt.\n",
      "...10...20...30...40...50...60...70...80...90...100 - done.\n",
      "out_data/GLADGLCextent/reproj3035_100m_tifs/reproj3035_mean100m_22.tif\n",
      "Creating output file that is 16250P x 11500L.\n",
      "Processing in_data/GLADGLCextent/reproj3035_tifs/reproj3035_EU_ij.vrt [1/1] : 0Using internal nodata values (e.g. 48) for image in_data/GLADGLCextent/reproj3035_tifs/reproj3035_EU_ij.vrt.\n",
      "...10...20...30...40...50...60...70...80...90...100 - done.\n",
      "out_data/GLADGLCextent/reproj3035_100m_tifs/reproj3035_mean100m_23.tif\n",
      "Creating output file that is 16250P x 11500L.\n",
      "Processing in_data/GLADGLCextent/reproj3035_tifs/reproj3035_EU_ij.vrt [1/1] : 0Using internal nodata values (e.g. 48) for image in_data/GLADGLCextent/reproj3035_tifs/reproj3035_EU_ij.vrt.\n",
      "...10...20...30...40...50...60...70...80...90...100 - done.\n",
      "out_data/GLADGLCextent/reproj3035_100m_tifs/reproj3035_mean100m_24.tif\n",
      "Creating output file that is 16250P x 11500L.\n",
      "Processing in_data/GLADGLCextent/reproj3035_tifs/reproj3035_EU_ij.vrt [1/1] : 0Using internal nodata values (e.g. 48) for image in_data/GLADGLCextent/reproj3035_tifs/reproj3035_EU_ij.vrt.\n",
      "...10...20...30...40...50...60...70...80...90...100 - done.\n",
      "out_data/GLADGLCextent/reproj3035_100m_tifs/reproj3035_mean100m_31.tif\n",
      "Creating output file that is 16250P x 11500L.\n",
      "Processing in_data/GLADGLCextent/reproj3035_tifs/reproj3035_EU_ij.vrt [1/1] : 0Using internal nodata values (e.g. 48) for image in_data/GLADGLCextent/reproj3035_tifs/reproj3035_EU_ij.vrt.\n",
      "...10...20...30...40...50...60...70...80...90...100 - done.\n",
      "out_data/GLADGLCextent/reproj3035_100m_tifs/reproj3035_mean100m_32.tif\n",
      "Creating output file that is 16250P x 11500L.\n",
      "Processing in_data/GLADGLCextent/reproj3035_tifs/reproj3035_EU_ij.vrt [1/1] : 0Using internal nodata values (e.g. 48) for image in_data/GLADGLCextent/reproj3035_tifs/reproj3035_EU_ij.vrt.\n",
      "...10...20...30...40...50...60...70...80...90...100 - done.\n",
      "out_data/GLADGLCextent/reproj3035_100m_tifs/reproj3035_mean100m_33.tif\n",
      "Creating output file that is 16250P x 11500L.\n",
      "Processing in_data/GLADGLCextent/reproj3035_tifs/reproj3035_EU_ij.vrt [1/1] : 0Using internal nodata values (e.g. 48) for image in_data/GLADGLCextent/reproj3035_tifs/reproj3035_EU_ij.vrt.\n",
      "...10...20...30...40...50...60...70...80...90...100 - done.\n",
      "out_data/GLADGLCextent/reproj3035_100m_tifs/reproj3035_mean100m_34.tif\n",
      "Creating output file that is 16250P x 11500L.\n",
      "Processing in_data/GLADGLCextent/reproj3035_tifs/reproj3035_EU_ij.vrt [1/1] : 0Using internal nodata values (e.g. 48) for image in_data/GLADGLCextent/reproj3035_tifs/reproj3035_EU_ij.vrt.\n",
      "...10...20...30...40...50...60...70...80...90...100 - done.\n",
      "out_data/GLADGLCextent/reproj3035_100m_tifs/reproj3035_mean100m_41.tif\n",
      "Creating output file that is 16250P x 11500L.\n",
      "Processing in_data/GLADGLCextent/reproj3035_tifs/reproj3035_EU_ij.vrt [1/1] : 0Using internal nodata values (e.g. 48) for image in_data/GLADGLCextent/reproj3035_tifs/reproj3035_EU_ij.vrt.\n",
      "...10...20...30...40...50...60...70...80...90...100 - done.\n",
      "out_data/GLADGLCextent/reproj3035_100m_tifs/reproj3035_mean100m_42.tif\n",
      "Creating output file that is 16250P x 11500L.\n",
      "Processing in_data/GLADGLCextent/reproj3035_tifs/reproj3035_EU_ij.vrt [1/1] : 0Using internal nodata values (e.g. 48) for image in_data/GLADGLCextent/reproj3035_tifs/reproj3035_EU_ij.vrt.\n",
      "...10...20...30...40...50...60...70...80...90...100 - done.\n",
      "out_data/GLADGLCextent/reproj3035_100m_tifs/reproj3035_mean100m_43.tif\n",
      "Creating output file that is 16250P x 11500L.\n",
      "Processing in_data/GLADGLCextent/reproj3035_tifs/reproj3035_EU_ij.vrt [1/1] : 0Using internal nodata values (e.g. 48) for image in_data/GLADGLCextent/reproj3035_tifs/reproj3035_EU_ij.vrt.\n",
      "...10...20...30...40...50...60...70...80...90...100 - done.\n",
      "out_data/GLADGLCextent/reproj3035_100m_tifs/reproj3035_mean100m_44.tif\n",
      "Creating output file that is 16250P x 11500L.\n",
      "Processing in_data/GLADGLCextent/reproj3035_tifs/reproj3035_EU_ij.vrt [1/1] : 0Using internal nodata values (e.g. 48) for image in_data/GLADGLCextent/reproj3035_tifs/reproj3035_EU_ij.vrt.\n",
      "...10...20...30...40...50...60...70...80...90...100 - done.\n",
      "4946\n"
     ]
    }
   ],
   "source": [
    "%%bash\n",
    "start=`date +%s`\n",
    "\n",
    "\n",
    "for i in {1..4..1} ;do\n",
    "for j in {1..4..1} ;do\n",
    "\n",
    "xstart=$((  900000  + (i-1) * 1625000 ))\n",
    "ystart=$((  5500000 - j     * 1150000 ))\n",
    "xend=$((    900000  + i     * 1625000 ))\n",
    "yend=$((    5500000 - (j-1) * 1150000 ))\n",
    "\n",
    "outfile=out_data/GLADGLCextent/reproj3035_100m_tifs/reproj3035_mean100m_$i$j.tif\n",
    "\n",
    "echo $outfile\n",
    "\n",
    "gdalwarp -co COMPRESS=DEFLATE -co ZLEVEL=9 \\\n",
    "-overwrite                                 \\\n",
    "-t_srs EPSG:3035                           \\\n",
    "-te $xstart $ystart $xend $yend            \\\n",
    "-te_srs EPSG:3035                          \\\n",
    "-dstnodata 48                              \\\n",
    "-tr 100 100                                \\\n",
    "-r average                                 \\\n",
    "in_data/GLADGLCextent/reproj3035_tifs/reproj3035_EU_ij.vrt \\\n",
    "$outfile\n",
    "\n",
    "done\n",
    "done\n",
    "\n",
    "end=`date +%s`\n",
    "expr $end - $start\n",
    "\n"
   ]
  },
  {
   "cell_type": "code",
   "execution_count": null,
   "id": "be2427da",
   "metadata": {},
   "outputs": [],
   "source": []
  }
 ],
 "metadata": {
  "kernelspec": {
   "display_name": "Python 3 (ipykernel)",
   "language": "python",
   "name": "python3"
  },
  "language_info": {
   "codemirror_mode": {
    "name": "ipython",
    "version": 3
   },
   "file_extension": ".py",
   "mimetype": "text/x-python",
   "name": "python",
   "nbconvert_exporter": "python",
   "pygments_lexer": "ipython3",
   "version": "3.10.6"
  }
 },
 "nbformat": 4,
 "nbformat_minor": 5
}
