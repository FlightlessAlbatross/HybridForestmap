{
 "cells": [
  {
   "cell_type": "code",
   "execution_count": 11,
   "id": "72e2e5d8",
   "metadata": {},
   "outputs": [
    {
     "name": "stdout",
     "output_type": "stream",
     "text": [
      "Driver: GTiff/GeoTIFF\n",
      "Files: in_data/JAXA/Merged_QGIS_2020.tif\n",
      "Size is 360000, 247500\n",
      "Coordinate System is:\n",
      "GEOGCRS[\"WGS 84\",\n",
      "    DATUM[\"World Geodetic System 1984\",\n",
      "        ELLIPSOID[\"WGS 84\",6378137,298.257223563,\n",
      "            LENGTHUNIT[\"metre\",1]]],\n",
      "    PRIMEM[\"Greenwich\",0,\n",
      "        ANGLEUNIT[\"degree\",0.0174532925199433]],\n",
      "    CS[ellipsoidal,2],\n",
      "        AXIS[\"geodetic latitude (Lat)\",north,\n",
      "            ORDER[1],\n",
      "            ANGLEUNIT[\"degree\",0.0174532925199433]],\n",
      "        AXIS[\"geodetic longitude (Lon)\",east,\n",
      "            ORDER[2],\n",
      "            ANGLEUNIT[\"degree\",0.0174532925199433]],\n",
      "    ID[\"EPSG\",4326]]\n",
      "Data axis to CRS axis mapping: 2,1\n",
      "Origin = (-30.000000000000000,80.000000000000000)\n",
      "Pixel Size = (0.000222222222222,-0.000222222222222)\n",
      "Metadata:\n",
      "  AREA_OR_POINT=Area\n",
      "Image Structure Metadata:\n",
      "  COMPRESSION=DEFLATE\n",
      "  INTERLEAVE=BAND\n",
      "  PREDICTOR=2\n",
      "Corner Coordinates:\n",
      "Upper Left  ( -30.0000000,  80.0000000) ( 30d 0' 0.00\"W, 80d 0' 0.00\"N)\n",
      "Lower Left  ( -30.0000000,  25.0000000) ( 30d 0' 0.00\"W, 25d 0' 0.00\"N)\n",
      "Upper Right (  50.0000000,  80.0000000) ( 50d 0' 0.00\"E, 80d 0' 0.00\"N)\n",
      "Lower Right (  50.0000000,  25.0000000) ( 50d 0' 0.00\"E, 25d 0' 0.00\"N)\n",
      "Center      (  10.0000000,  52.5000000) ( 10d 0' 0.00\"E, 52d30' 0.00\"N)\n",
      "Band 1 Block=360000x1 Type=Float32, ColorInterp=Gray\n",
      "^C\n"
     ]
    }
   ],
   "source": [
    "!gdalinfo -mm in_data/JAXA/Merged_QGIS_2020.tif"
   ]
  },
  {
   "cell_type": "code",
   "execution_count": 13,
   "id": "6116b350",
   "metadata": {},
   "outputs": [
    {
     "name": "stdout",
     "output_type": "stream",
     "text": [
      "2 3\n",
      "2 4\n"
     ]
    }
   ],
   "source": [
    "%%bash\n",
    "echo 2 3 >  /tmp/loopvals\n",
    "echo 2 4 >> /tmp/loopvals\n",
    "\n",
    "cat /tmp/loopvals"
   ]
  },
  {
   "cell_type": "code",
   "execution_count": null,
   "id": "f0bdae9b",
   "metadata": {},
   "outputs": [],
   "source": [
    "# reprojection and cutting to pieces."
   ]
  },
  {
   "cell_type": "code",
   "execution_count": 5,
   "id": "ad38f44d",
   "metadata": {},
   "outputs": [
    {
     "name": "stdout",
     "output_type": "stream",
     "text": [
      "Process is interrupted.\n"
     ]
    }
   ],
   "source": [
    "%%bash\n",
    "\n",
    "i=2\n",
    "j=3\n",
    "echo ij = $i $j\n",
    "\n",
    "outfile=in_data/JAXA/Merged_QGIS_2020_EPSG3035_${i}${j}.tif\n",
    "\n",
    "xstart=$((  900000  + (i-1) * 1625000 ))\n",
    "ystart=$((  5500000 - j     * 1150000 ))\n",
    "xend=$((    900000  + i     * 1625000 ))\n",
    "yend=$((    5500000 - (j-1) * 1150000 ))\n",
    "\n",
    "echo $outfile\n",
    "\n",
    "gdalwarp -co COMPRESS=DEFLATE -co ZLEVEL=9 -co BIGTIFF=YES \\\n",
    "-overwrite                                 \\\n",
    "-t_srs EPSG:3035                           \\\n",
    "-te $xstart $ystart $xend $yend            \\\n",
    "-te_srs EPSG:3035                          \\\n",
    "-dstnodata 48                              \\\n",
    "in_data/JAXA/Merged_QGIS_2020.tif $outfile\n"
   ]
  },
  {
   "cell_type": "code",
   "execution_count": null,
   "id": "77362dcc",
   "metadata": {},
   "outputs": [],
   "source": [
    "%%bash\n",
    "\n",
    "cat /tmp/loopvals | xargs -n 2 -P 3  bash -c $'\n",
    "i=$1\n",
    "j=$2\n",
    "\n",
    "echo ij = $i $j\n",
    "\n",
    "outfile=in_data/JAXA/Merged_QGIS_2020_EPSG3035_${i}${j}.tif\n",
    "\n",
    "xstart=$((  900000  + (i-1) * 1625000 ))\n",
    "ystart=$((  5500000 - j     * 1150000 ))\n",
    "xend=$((    900000  + i     * 1625000 ))\n",
    "yend=$((    5500000 - (j-1) * 1150000 ))\n",
    "\n",
    "echo $outfile\n",
    "\n",
    "gdalwarp -co COMPRESS=DEFLATE -co ZLEVEL=9 -co BIGTIFF=YES \\\n",
    "-overwrite                                 \\\n",
    "-t_srs EPSG:3035                           \\\n",
    "-te $xstart $ystart $xend $yend            \\\n",
    "-te_srs EPSG:3035                          \\\n",
    "-dstnodata 48                              \\\n",
    "in_data/JAXA/Merged_QGIS_2020.tif $outfile\n",
    "\n",
    "'  _ "
   ]
  },
  {
   "cell_type": "code",
   "execution_count": 37,
   "id": "0846fd50",
   "metadata": {},
   "outputs": [
    {
     "name": "stdout",
     "output_type": "stream",
     "text": [
      "Driver: GTiff/GeoTIFF\n",
      "Files: in_data/JAXA/Merged_QGIS_2020_EPSG3035_33.tif\n",
      "Size is 81647, 57781\n",
      "Coordinate System is:\n",
      "PROJCRS[\"ETRS89-extended / LAEA Europe\",\n",
      "    BASEGEOGCRS[\"ETRS89\",\n",
      "        ENSEMBLE[\"European Terrestrial Reference System 1989 ensemble\",\n",
      "            MEMBER[\"European Terrestrial Reference Frame 1989\"],\n",
      "            MEMBER[\"European Terrestrial Reference Frame 1990\"],\n",
      "            MEMBER[\"European Terrestrial Reference Frame 1991\"],\n",
      "            MEMBER[\"European Terrestrial Reference Frame 1992\"],\n",
      "            MEMBER[\"European Terrestrial Reference Frame 1993\"],\n",
      "            MEMBER[\"European Terrestrial Reference Frame 1994\"],\n",
      "            MEMBER[\"European Terrestrial Reference Frame 1996\"],\n",
      "            MEMBER[\"European Terrestrial Reference Frame 1997\"],\n",
      "            MEMBER[\"European Terrestrial Reference Frame 2000\"],\n",
      "            MEMBER[\"European Terrestrial Reference Frame 2005\"],\n",
      "            MEMBER[\"European Terrestrial Reference Frame 2014\"],\n",
      "            ELLIPSOID[\"GRS 1980\",6378137,298.257222101,\n",
      "                LENGTHUNIT[\"metre\",1]],\n",
      "            ENSEMBLEACCURACY[0.1]],\n",
      "        PRIMEM[\"Greenwich\",0,\n",
      "            ANGLEUNIT[\"degree\",0.0174532925199433]],\n",
      "        ID[\"EPSG\",4258]],\n",
      "    CONVERSION[\"Europe Equal Area 2001\",\n",
      "        METHOD[\"Lambert Azimuthal Equal Area\",\n",
      "            ID[\"EPSG\",9820]],\n",
      "        PARAMETER[\"Latitude of natural origin\",52,\n",
      "            ANGLEUNIT[\"degree\",0.0174532925199433],\n",
      "            ID[\"EPSG\",8801]],\n",
      "        PARAMETER[\"Longitude of natural origin\",10,\n",
      "            ANGLEUNIT[\"degree\",0.0174532925199433],\n",
      "            ID[\"EPSG\",8802]],\n",
      "        PARAMETER[\"False easting\",4321000,\n",
      "            LENGTHUNIT[\"metre\",1],\n",
      "            ID[\"EPSG\",8806]],\n",
      "        PARAMETER[\"False northing\",3210000,\n",
      "            LENGTHUNIT[\"metre\",1],\n",
      "            ID[\"EPSG\",8807]]],\n",
      "    CS[Cartesian,2],\n",
      "        AXIS[\"northing (Y)\",north,\n",
      "            ORDER[1],\n",
      "            LENGTHUNIT[\"metre\",1]],\n",
      "        AXIS[\"easting (X)\",east,\n",
      "            ORDER[2],\n",
      "            LENGTHUNIT[\"metre\",1]],\n",
      "    USAGE[\n",
      "        SCOPE[\"Statistical analysis.\"],\n",
      "        AREA[\"Europe - European Union (EU) countries and candidates. Europe - onshore and offshore: Albania; Andorra; Austria; Belgium; Bosnia and Herzegovina; Bulgaria; Croatia; Cyprus; Czechia; Denmark; Estonia; Faroe Islands; Finland; France; Germany; Gibraltar; Greece; Hungary; Iceland; Ireland; Italy; Kosovo; Latvia; Liechtenstein; Lithuania; Luxembourg; Malta; Monaco; Montenegro; Netherlands; North Macedonia; Norway including Svalbard and Jan Mayen; Poland; Portugal including Madeira and Azores; Romania; San Marino; Serbia; Slovakia; Slovenia; Spain including Canary Islands; Sweden; Switzerland; Turkey; United Kingdom (UK) including Channel Islands and Isle of Man; Vatican City State.\"],\n",
      "        BBOX[24.6,-35.58,84.73,44.83]],\n",
      "    ID[\"EPSG\",3035]]\n",
      "Data axis to CRS axis mapping: 2,1\n",
      "Origin = (4150000.000000000000000,3200000.000000000000000)\n",
      "Pixel Size = (19.902752091319950,-19.902736193558436)\n",
      "Metadata:\n",
      "  AREA_OR_POINT=Area\n",
      "Image Structure Metadata:\n",
      "  COMPRESSION=DEFLATE\n",
      "  INTERLEAVE=BAND\n",
      "Corner Coordinates:\n",
      "Upper Left  ( 4150000.000, 3200000.000) (  7d30'57.52\"E, 51d53' 2.21\"N)\n",
      "Lower Left  ( 4150000.000, 2050000.000) (  7d57'31.98\"E, 41d31'51.21\"N)\n",
      "Upper Right ( 5775000.000, 3200000.000) ( 30d36'47.20\"E, 50d 3'15.97\"N)\n",
      "Lower Right ( 5775000.000, 2050000.000) ( 27d 7' 0.29\"E, 40d 3'35.73\"N)\n",
      "Center      ( 4962500.000, 2625000.000) ( 18d21'17.08\"E, 46d24'47.31\"N)\n",
      "Band 1 Block=81647x1 Type=Float32, ColorInterp=Gray\n",
      "  NoData Value=48\n"
     ]
    }
   ],
   "source": [
    "!gdalinfo in_data/JAXA/Merged_QGIS_2020_EPSG3035_33.tif"
   ]
  },
  {
   "cell_type": "markdown",
   "id": "67132a79",
   "metadata": {},
   "source": [
    "The 33 file is so large, that we should have split it up first. \n",
    "It ran through and looks good, but we still make VRTs and lateron potentially subgrids. "
   ]
  },
  {
   "cell_type": "code",
   "execution_count": 52,
   "id": "616b7db2",
   "metadata": {},
   "outputs": [
    {
     "name": "stdout",
     "output_type": "stream",
     "text": [
      "4150000 2625000 4962500 3200000\n",
      "in_data/JAXA/Merged_QGIS_2020_EPSG3035_33_11.vrt\n",
      "Creating output file that is 40705P x 28806L.\n",
      "Processing in_data/JAXA/Merged_QGIS_2020.tif [1/1] : 0Using internal nodata values (e.g. 0) for image in_data/JAXA/Merged_QGIS_2020.tif.\n",
      "...10...20...30...40...50...60...70...80...90...100 - done.\n",
      "4150000 2050000 4962500 2625000\n",
      "in_data/JAXA/Merged_QGIS_2020_EPSG3035_33_12.vrt\n",
      "Creating output file that is 38988P x 27591L.\n",
      "Processing in_data/JAXA/Merged_QGIS_2020.tif [1/1] : 0Using internal nodata values (e.g. 0) for image in_data/JAXA/Merged_QGIS_2020.tif.\n",
      "...10...20...30...40...50...60...70...80...90...100 - done.\n",
      "4962500 2625000 5775000 3200000\n",
      "in_data/JAXA/Merged_QGIS_2020_EPSG3035_33_21.vrt\n",
      "Creating output file that is 40824P x 28891L.\n",
      "Processing in_data/JAXA/Merged_QGIS_2020.tif [1/1] : 0Using internal nodata values (e.g. 0) for image in_data/JAXA/Merged_QGIS_2020.tif.\n",
      "...10...20...30...40...50...60...70...80...90...100 - done.\n",
      "4962500 2050000 5775000 2625000\n",
      "in_data/JAXA/Merged_QGIS_2020_EPSG3035_33_22.vrt\n",
      "Creating output file that is 38977P x 27584L.\n",
      "Processing in_data/JAXA/Merged_QGIS_2020.tif [1/1] : 0Using internal nodata values (e.g. 0) for image in_data/JAXA/Merged_QGIS_2020.tif.\n",
      "...10...20...30...40...50...60...70...80...90...100 - done.\n"
     ]
    }
   ],
   "source": [
    "%%bash\n",
    "\n",
    "# xstart=4150000\n",
    "# ystart=2050000\n",
    "# xend=5775000\n",
    "# yend=3200000\n",
    "\n",
    "for i in {1..2}; do\n",
    "for j in {1..2}; do\n",
    "\n",
    "xstart=$((  4150000  + (i-1) * 812500 ))\n",
    "ystart=$((  3200000 - j     * 575000 ))\n",
    "xend=$((    4150000  + i     * 812500 ))\n",
    "yend=$((    3200000 - (j-1) * 575000  ))\n",
    "\n",
    "echo $xstart $ystart $xend $yend   \n",
    "\n",
    "outfile=in_data/JAXA/Merged_QGIS_2020_EPSG3035_33_${i}${j}.vrt\n",
    "\n",
    "echo $outfile\n",
    "\n",
    "gdalbuildvrt                               \\\n",
    "-te $xstart $ystart $xend $yend            \\\n",
    " $outfile in_data/JAXA/Merged_QGIS_2020_EPSG3035_33.tif\n",
    " \n",
    " \n",
    " done\n",
    " done"
   ]
  },
  {
   "cell_type": "markdown",
   "id": "7a94cc71",
   "metadata": {},
   "source": [
    "32 failed probably because it is so big, lets split it up into 4 subcomponents"
   ]
  },
  {
   "cell_type": "code",
   "execution_count": null,
   "id": "c9e08888",
   "metadata": {},
   "outputs": [],
   "source": [
    "\n",
    "\n",
    "> xstart\n",
    "[1] \"4150000\"\n",
    "> ystart\n",
    "[1] \"3200000\"\n",
    "> xend\n",
    "[1] \"5775000\"\n",
    "> yend\n",
    "[1] \"4350000\""
   ]
  },
  {
   "cell_type": "code",
   "execution_count": null,
   "id": "2fb461fd",
   "metadata": {},
   "outputs": [],
   "source": [
    "%%bash\n",
    "\n",
    "echo 1 1 >  /tmp/loopvals\n",
    "echo 1 2 >> /tmp/loopvals\n",
    "echo 2 1 >> /tmp/loopvals\n",
    "echo 2 2 >> /tmp/loopvals\n",
    "\n",
    "\n",
    "cat /tmp/loopvals | xargs -n 2 -P 4  bash -c $'\n",
    "i=$1\n",
    "j=$2\n",
    "\n",
    "echo ij = $i $j\n",
    "\n",
    "\n",
    "outfile=in_data/JAXA/Merged_QGIS_2020_EPSG3035_32_${i}${j}.tif\n",
    "\n",
    "\n",
    "\n",
    "xstart=$((  4150000  + (i-1) * 812500 ))\n",
    "ystart=$((  5775000 - j     * 575000 ))\n",
    "xend=$((    4150000  + i     * 812500 ))\n",
    "yend=$((    5775000 - (j-1) * 575000 ))\n",
    "\n",
    "echo $outfile\n",
    "echo $xstart $ystart $xend $yend   \n",
    "\n",
    "\n",
    "gdalwarp -co COMPRESS=DEFLATE -co ZLEVEL=9 -co BIGTIFF=YES \\\n",
    "-overwrite                                 \\\n",
    "-t_srs EPSG:3035                           \\\n",
    "-te $xstart $ystart $xend $yend            \\\n",
    "-te_srs EPSG:3035                          \\\n",
    "-srcnodata 0                               \\\n",
    "-dstnodata 48                              \\\n",
    "in_data/JAXA/Merged_QGIS_2020.tif $outfile\n",
    "\n",
    "\n",
    "'  _ "
   ]
  },
  {
   "cell_type": "markdown",
   "id": "e41abe2a",
   "metadata": {},
   "source": [
    "%%bash\n",
    "start=`date +%s`\n",
    "\n",
    "\n",
    "for i in {3..3..1} ;do\n",
    "for j in {3..3..1} ;do\n",
    "\n",
    "#         if [ \"$i\" -eq 3 ] && [ \"$j\" -eq 3 ]; then\n",
    "#             continue\n",
    "#         fi\n",
    "        \n",
    "#         if [ \"$i\" -eq 3 ] && [ \"$j\" -eq 4 ]; then\n",
    "#             continue\n",
    "#         fi\n",
    "\n",
    "xstart=$((  900000  + (i-1) * 1625000 ))\n",
    "ystart=$((  5500000 - j     * 1150000 ))\n",
    "xend=$((    900000  + i     * 1625000 ))\n",
    "yend=$((    5500000 - (j-1) * 1150000 ))\n",
    "\n",
    "outfile=in_data/JAXA/Merged_QGIS_2020_EPSG3035_$i$j.tif\n",
    "\n",
    "echo $outfile\n",
    "\n",
    "gdalwarp -co COMPRESS=DEFLATE -co BIGTIFF=YES\\\n",
    "-overwrite                                 \\\n",
    "-t_srs EPSG:3035                           \\\n",
    "-te $xstart $ystart $xend $yend            \\\n",
    "-te_srs EPSG:3035                          \\\n",
    "-dstnodata 48                              \\\n",
    "in_data/JAXA/Merged_QGIS_2020.tif $outfile\n",
    "\n",
    "done\n",
    "done\n",
    "\n",
    "end=`date +%s`\n",
    "expr $end - $start"
   ]
  },
  {
   "cell_type": "code",
   "execution_count": 49,
   "id": "76a55a66",
   "metadata": {},
   "outputs": [
    {
     "name": "stdout",
     "output_type": "stream",
     "text": [
      "in_data/JAXA/Merged_QGIS_2020_EPSG3035_12.tif\r\n",
      "in_data/JAXA/Merged_QGIS_2020_EPSG3035_22.tif\r\n",
      "in_data/JAXA/Merged_QGIS_2020_EPSG3035_23.tif\r\n",
      "in_data/JAXA/Merged_QGIS_2020_EPSG3035_24.tif\r\n",
      "in_data/JAXA/Merged_QGIS_2020_EPSG3035_33.tif\r\n",
      "in_data/JAXA/Merged_QGIS_2020_EPSG3035_34.tif\r\n",
      "in_data/JAXA/Merged_QGIS_2020_EPSG3035_43.tif\r\n",
      "in_data/JAXA/Merged_QGIS_2020_EPSG3035_44.tif\r\n"
     ]
    }
   ],
   "source": [
    "!ls in_data/JAXA/Merged_QGIS_2020_EPSG3035_??.tif"
   ]
  },
  {
   "cell_type": "markdown",
   "id": "31f0e8bb",
   "metadata": {},
   "source": [
    "Generate a temporary textfile for the recode"
   ]
  },
  {
   "cell_type": "code",
   "execution_count": null,
   "id": "3076f5f1",
   "metadata": {},
   "outputs": [],
   "source": [
    "1 1 \n",
    "2 0.5\n",
    "3 0\n",
    "4 0"
   ]
  },
  {
   "cell_type": "markdown",
   "id": "e37a5c94",
   "metadata": {},
   "source": [
    "TODO calculate xmin xmax ymin ymax of the CLC blocks16 in the CRS of JAXA input\n",
    "then in a loop build the vrt windows, recode and reproject "
   ]
  },
  {
   "cell_type": "code",
   "execution_count": null,
   "id": "a6e4eccb",
   "metadata": {},
   "outputs": [],
   "source": [
    "%%bash\n",
    "start=`date +%s`\n",
    "\n",
    "cat /tmp/recode4bash.txt\n",
    "\n",
    "for i in {1..4..1} ;do\n",
    "for j in {1..4..1} ;do\n",
    "\n",
    "\n",
    "blockfile=out_data/JAXA/blocks16/CLC10_$i$j.tif\n",
    "outfile=out_data/JAXA/blocks16/recode_CLC10_$i$j.tif\n",
    "\n",
    "\n",
    "gdalbuildvrt \n",
    "\n",
    "xstart=$((  (i-1)*162500   ))\n",
    "ystart=$((  (j-1)*115000   )) \n",
    "\n",
    "pkreclass -co COMPRESS=DEFLATE -co ZLEVEL=9  \\\n",
    "-code /tmp/recode4bash.txt                   \\\n",
    "-nodata 48                                   \\\n",
    "-ot Float64                                  \\\n",
    "-co BIGTIFF=YES                              \\\n",
    "-i $blockfile                                \\\n",
    "-o $outfile                                  \\"
   ]
  }
 ],
 "metadata": {
  "kernelspec": {
   "display_name": "Python 3 (ipykernel)",
   "language": "python",
   "name": "python3"
  },
  "language_info": {
   "codemirror_mode": {
    "name": "ipython",
    "version": 3
   },
   "file_extension": ".py",
   "mimetype": "text/x-python",
   "name": "python",
   "nbconvert_exporter": "python",
   "pygments_lexer": "ipython3",
   "version": "3.10.12"
  }
 },
 "nbformat": 4,
 "nbformat_minor": 5
}
