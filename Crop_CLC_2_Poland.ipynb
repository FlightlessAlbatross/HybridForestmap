{
 "cells": [
  {
   "cell_type": "code",
   "execution_count": null,
   "id": "cf6b5d9e",
   "metadata": {},
   "outputs": [],
   "source": [
    "!gdalwarp -te 4598000 2948000 5310000 3554000 in_data/CLC/u2018_clc2018_v2020_20u1_raster100m/DATA/U2018_CLC2018_V2020_20u1.tif in_data/CLC/u2018_clc2018_v2020_20u1_raster100m/DATA/PL_U2018_CLC2018_V2020_20u1.tif\n"
   ]
  },
  {
   "cell_type": "code",
   "execution_count": null,
   "id": "db9bb1b3",
   "metadata": {},
   "outputs": [],
   "source": [
    "%%bash \n",
    "\n",
    "\n",
    "\n",
    "infile='in_data/CLC/u2018_clc2018_v2020_20u1_raster100m/DATA/PL_U2018_CLC2018_V2020_20u1.tif'\n",
    "outfile='in_data/CLC/u2018_clc2018_v2020_20u1_raster100m/DATA/PL_CLC2018_croped.tif'\n",
    "\n",
    "pksetmask -i $infile -o $outfile  \\\n",
    "-m in_data/admin/PL_mask.tif \\\n",
    "--maskvalue 1 --setvalue 255"
   ]
  }
 ],
 "metadata": {
  "kernelspec": {
   "display_name": "Python 3 (ipykernel)",
   "language": "python",
   "name": "python3"
  },
  "language_info": {
   "codemirror_mode": {
    "name": "ipython",
    "version": 3
   },
   "file_extension": ".py",
   "mimetype": "text/x-python",
   "name": "python",
   "nbconvert_exporter": "python",
   "pygments_lexer": "ipython3",
   "version": "3.10.12"
  }
 },
 "nbformat": 4,
 "nbformat_minor": 5
}
