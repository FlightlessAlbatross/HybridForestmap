{
 "cells": [
  {
   "cell_type": "code",
   "execution_count": 2,
   "id": "576f3c20",
   "metadata": {},
   "outputs": [
    {
     "name": "stdout",
     "output_type": "stream",
     "text": [
      "0...10...20...30...40...50...60...70...80...90...100 - done.\n"
     ]
    }
   ],
   "source": [
    "%%bash\n",
    "CLC_PL='in_data/CLC/u2018_clc2018_v2020_20u1_raster100m/DATA/PL_CLC2018_croped.tif'\n",
    "\n",
    "\n",
    "pkgetmask -ot Byte -min 1 -max 11 -data 1 -nodata 0 \\\n",
    "-i $CLC_PL   \\\n",
    "-o 'in_data/CLC/u2018_clc2018_v2020_20u1_raster100m/DATA/PL_urbanmask_1xx.tif'"
   ]
  },
  {
   "cell_type": "code",
   "execution_count": null,
   "id": "f45ae13c",
   "metadata": {},
   "outputs": [],
   "source": []
  }
 ],
 "metadata": {
  "kernelspec": {
   "display_name": "Python 3 (ipykernel)",
   "language": "python",
   "name": "python3"
  },
  "language_info": {
   "codemirror_mode": {
    "name": "ipython",
    "version": 3
   },
   "file_extension": ".py",
   "mimetype": "text/x-python",
   "name": "python",
   "nbconvert_exporter": "python",
   "pygments_lexer": "ipython3",
   "version": "3.10.12"
  }
 },
 "nbformat": 4,
 "nbformat_minor": 5
}
