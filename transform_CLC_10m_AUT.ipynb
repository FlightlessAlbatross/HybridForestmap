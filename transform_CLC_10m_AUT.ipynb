{
 "cells": [
  {
   "cell_type": "markdown",
   "id": "0b3fd0fb",
   "metadata": {},
   "source": [
    "With pkcomposite -cr mean i can maybe do it, although this is ment to calculate the mean between 2 layers. \n",
    "so maybe not. Lateron I can use it to combine all my maps tho, and include weights. "
   ]
  },
  {
   "cell_type": "markdown",
   "id": "712c71e3",
   "metadata": {},
   "source": [
    "Here we take the 10m CLC map for Austria turn it into forest/nonforest and downsample it to the 100m map"
   ]
  },
  {
   "cell_type": "code",
   "execution_count": 2,
   "id": "d00bffd9",
   "metadata": {},
   "outputs": [
    {
     "name": "stdout",
     "output_type": "stream",
     "text": [
      "AUT.tif\r\n",
      "AUT.tif.aux.xml\r\n",
      "CLMS_CLCplus_RASTER_2018_010m_eu_03035_V1_1.tif\r\n",
      "CLMS_CLCplus_RASTER_2018_010m_eu_03035_V1_1.tif.aux.xml\r\n",
      "CLMS_CLCplus_RASTER_2018_010m_eu_03035_V1_1.tif.clr\r\n",
      "CLMS_CLCplus_RASTER_2018_010m_eu_03035_V1_1.tif.clr.txt\r\n",
      "CLMS_CLCplus_RASTER_2018_010m_eu_03035_V1_1.tif.ovr\r\n",
      "CLMS_CLCplus_RASTER_2018_010m_eu_03035_V1_1.tif.vat.cpg\r\n",
      "CLMS_CLCplus_RASTER_2018_010m_eu_03035_V1_1.tif.vat.dbf\r\n",
      "CLMS_CLCplus_RASTER_2018_010m_eu_03035_V1_1.tif.vat.dbf.xml\r\n",
      "French_DOMs\r\n",
      "makeAUT.sh\r\n",
      "makeAUT.sh~\r\n"
     ]
    }
   ],
   "source": [
    "!ls in_data/CLC/CLC_2018_10m/Data/"
   ]
  },
  {
   "cell_type": "code",
   "execution_count": 1,
   "id": "895afa54",
   "metadata": {},
   "outputs": [
    {
     "name": "stdout",
     "output_type": "stream",
     "text": [
      "Driver: GTiff/GeoTIFF\n",
      "Files: in_data/CLC/CLC_2018_10m/Data/AUT.tif\n",
      "       in_data/CLC/CLC_2018_10m/Data/AUT.tif.aux.xml\n",
      "Size is 26917, 29388\n",
      "Coordinate System is:\n",
      "PROJCRS[\"ETRS89-extended / LAEA Europe\",\n",
      "    BASEGEOGCRS[\"ETRS89\",\n",
      "        ENSEMBLE[\"European Terrestrial Reference System 1989 ensemble\",\n",
      "            MEMBER[\"European Terrestrial Reference Frame 1989\"],\n",
      "            MEMBER[\"European Terrestrial Reference Frame 1990\"],\n",
      "            MEMBER[\"European Terrestrial Reference Frame 1991\"],\n",
      "            MEMBER[\"European Terrestrial Reference Frame 1992\"],\n",
      "            MEMBER[\"European Terrestrial Reference Frame 1993\"],\n",
      "            MEMBER[\"European Terrestrial Reference Frame 1994\"],\n",
      "            MEMBER[\"European Terrestrial Reference Frame 1996\"],\n",
      "            MEMBER[\"European Terrestrial Reference Frame 1997\"],\n",
      "            MEMBER[\"European Terrestrial Reference Frame 2000\"],\n",
      "            MEMBER[\"European Terrestrial Reference Frame 2005\"],\n",
      "            MEMBER[\"European Terrestrial Reference Frame 2014\"],\n",
      "            ELLIPSOID[\"GRS 1980\",6378137,298.257222101,\n",
      "                LENGTHUNIT[\"metre\",1]],\n",
      "            ENSEMBLEACCURACY[0.1]],\n",
      "        PRIMEM[\"Greenwich\",0,\n",
      "            ANGLEUNIT[\"degree\",0.0174532925199433]],\n",
      "        ID[\"EPSG\",4258]],\n",
      "    CONVERSION[\"Europe Equal Area 2001\",\n",
      "        METHOD[\"Lambert Azimuthal Equal Area\",\n",
      "            ID[\"EPSG\",9820]],\n",
      "        PARAMETER[\"Latitude of natural origin\",52,\n",
      "            ANGLEUNIT[\"degree\",0.0174532925199433],\n",
      "            ID[\"EPSG\",8801]],\n",
      "        PARAMETER[\"Longitude of natural origin\",10,\n",
      "            ANGLEUNIT[\"degree\",0.0174532925199433],\n",
      "            ID[\"EPSG\",8802]],\n",
      "        PARAMETER[\"False easting\",4321000,\n",
      "            LENGTHUNIT[\"metre\",1],\n",
      "            ID[\"EPSG\",8806]],\n",
      "        PARAMETER[\"False northing\",3210000,\n",
      "            LENGTHUNIT[\"metre\",1],\n",
      "            ID[\"EPSG\",8807]]],\n",
      "    CS[Cartesian,2],\n",
      "        AXIS[\"northing (Y)\",north,\n",
      "            ORDER[1],\n",
      "            LENGTHUNIT[\"metre\",1]],\n",
      "        AXIS[\"easting (X)\",east,\n",
      "            ORDER[2],\n",
      "            LENGTHUNIT[\"metre\",1]],\n",
      "    USAGE[\n",
      "        SCOPE[\"Statistical analysis.\"],\n",
      "        AREA[\"Europe - European Union (EU) countries and candidates. Europe - onshore and offshore: Albania; Andorra; Austria; Belgium; Bosnia and Herzegovina; Bulgaria; Croatia; Cyprus; Czechia; Denmark; Estonia; Faroe Islands; Finland; France; Germany; Gibraltar; Greece; Hungary; Iceland; Ireland; Italy; Kosovo; Latvia; Liechtenstein; Lithuania; Luxembourg; Malta; Monaco; Montenegro; Netherlands; North Macedonia; Norway including Svalbard and Jan Mayen; Poland; Portugal including Madeira and Azores; Romania; San Marino; Serbia; Slovakia; Slovenia; Spain including Canary Islands; Sweden; Switzerland; Turkey; United Kingdom (UK) including Channel Islands and Isle of Man; Vatican City State.\"],\n",
      "        BBOX[24.6,-35.58,84.73,44.83]],\n",
      "    ID[\"EPSG\",3035]]\n",
      "Data axis to CRS axis mapping: 2,1\n",
      "Origin = (4585465.000000000000000,2889034.000000000000000)\n",
      "Pixel Size = (9.999925697514582,-9.999897917517353)\n",
      "Metadata:\n",
      "  AREA_OR_POINT=Area\n",
      "Image Structure Metadata:\n",
      "  INTERLEAVE=BAND\n",
      "Corner Coordinates:\n",
      "Upper Left  ( 4585465.000, 2889034.000) ( 13d37' 8.54\"E, 49d 3'21.42\"N)\n",
      "Lower Left  ( 4585465.000, 2595157.000) ( 13d26'15.11\"E, 46d24'52.51\"N)\n",
      "Upper Right ( 4854633.000, 2889034.000) ( 17d17'10.75\"E, 48d52'36.42\"N)\n",
      "Lower Right ( 4854633.000, 2595157.000) ( 16d55'22.81\"E, 46d14'44.52\"N)\n",
      "Center      ( 4720049.000, 2742095.500) ( 15d18'53.16\"E, 47d39'48.26\"N)\n",
      "Band 1 Block=26917x1 Type=Byte, ColorInterp=Gray\n",
      "<GDALRasterAttributeTable tableType=\"thematic\">\n",
      "  <FieldDefn index=\"0\">\n",
      "    <Name>Value</Name>\n",
      "    <Type>0</Type>\n",
      "    <Usage>2</Usage>\n",
      "  </FieldDefn>\n",
      "  <FieldDefn index=\"1\">\n",
      "    <Name>Count</Name>\n",
      "    <Type>1</Type>\n",
      "    <Usage>1</Usage>\n",
      "  </FieldDefn>\n",
      "  <FieldDefn index=\"2\">\n",
      "    <Name>Class_name</Name>\n",
      "    <Type>2</Type>\n",
      "    <Usage>0</Usage>\n",
      "  </FieldDefn>\n",
      "  <Row index=\"0\">\n",
      "    <F>1</F>\n",
      "    <F>1756639605</F>\n",
      "    <F>Sealed</F>\n",
      "  </Row>\n",
      "  <Row index=\"1\">\n",
      "    <F>2</F>\n",
      "    <F>10072547428</F>\n",
      "    <F>Woody needle leaved trees</F>\n",
      "  </Row>\n",
      "  <Row index=\"2\">\n",
      "    <F>3</F>\n",
      "    <F>9386976826</F>\n",
      "    <F>Woody Broadleaved deciduous trees</F>\n",
      "  </Row>\n",
      "  <Row index=\"3\">\n",
      "    <F>4</F>\n",
      "    <F>1174936154</F>\n",
      "    <F>Woody Broadleaved evergreen trees</F>\n",
      "  </Row>\n",
      "  <Row index=\"4\">\n",
      "    <F>5</F>\n",
      "    <F>2632356908</F>\n",
      "    <F>Low-growing woody plants</F>\n",
      "  </Row>\n",
      "  <Row index=\"5\">\n",
      "    <F>6</F>\n",
      "    <F>17629441381</F>\n",
      "    <F>Permanent herbaceous</F>\n",
      "  </Row>\n",
      "  <Row index=\"6\">\n",
      "    <F>7</F>\n",
      "    <F>11327825813</F>\n",
      "    <F>Periodically herbaceous</F>\n",
      "  </Row>\n",
      "  <Row index=\"7\">\n",
      "    <F>8</F>\n",
      "    <F>255895472</F>\n",
      "    <F>Lichens and mosses</F>\n",
      "  </Row>\n",
      "  <Row index=\"8\">\n",
      "    <F>9</F>\n",
      "    <F>2453740905</F>\n",
      "    <F>Non and sparsely vegetated</F>\n",
      "  </Row>\n",
      "  <Row index=\"9\">\n",
      "    <F>10</F>\n",
      "    <F>2254699207</F>\n",
      "    <F>Water</F>\n",
      "  </Row>\n",
      "  <Row index=\"10\">\n",
      "    <F>11</F>\n",
      "    <F>165559313</F>\n",
      "    <F>Snow and ice</F>\n",
      "  </Row>\n",
      "  <Row index=\"11\">\n",
      "    <F>254</F>\n",
      "    <F>239889380988</F>\n",
      "    <F>Outside area</F>\n",
      "  </Row>\n",
      "  <Row index=\"12\">\n",
      "    <F>255</F>\n",
      "    <F>0</F>\n",
      "    <F>No data</F>\n",
      "  </Row>\n",
      "</GDALRasterAttributeTable>\n",
      "\n"
     ]
    }
   ],
   "source": [
    "!gdalinfo in_data/CLC/CLC_2018_10m/Data/AUT.tif"
   ]
  },
  {
   "cell_type": "markdown",
   "id": "911bc0b7",
   "metadata": {},
   "source": [
    "I can maybe even do it with gdaltranslate after I recode all to forest/nonforest\n",
    "with the option -r average\n",
    "and the output resolution set to how I want it. "
   ]
  },
  {
   "cell_type": "markdown",
   "id": "7b04c045",
   "metadata": {},
   "source": [
    "    recode to forest/nonforest/NA\n",
    "        First lets create a list of forest classes"
   ]
  },
  {
   "cell_type": "code",
   "execution_count": 40,
   "id": "2800227d",
   "metadata": {},
   "outputs": [],
   "source": [
    "%%bash\n",
    "for((i=1;i<=11;++i));do\n",
    "  if(($i >=2 && $i <=4));then\n",
    "    echo \"$i 1\"\n",
    "  else\n",
    "    echo \"$i 0\";fi\n",
    "done > /tmp/recode4bash.txt \n",
    "\n",
    "echo \"254 48\" >> /tmp/recode4bash.txt \n",
    "echo \"255 48\" >> /tmp/recode4bash.txt "
   ]
  },
  {
   "cell_type": "code",
   "execution_count": 41,
   "id": "68c4b4a8",
   "metadata": {},
   "outputs": [
    {
     "name": "stdout",
     "output_type": "stream",
     "text": [
      "1 0\r\n",
      "2 1\r\n",
      "3 1\r\n",
      "4 1\r\n",
      "5 0\r\n",
      "6 0\r\n",
      "7 0\r\n",
      "8 0\r\n",
      "9 0\r\n",
      "10 0\r\n"
     ]
    }
   ],
   "source": [
    "!head /tmp/recode4bash.txt "
   ]
  },
  {
   "cell_type": "code",
   "execution_count": 93,
   "id": "f6a97179",
   "metadata": {},
   "outputs": [
    {
     "name": "stdout",
     "output_type": "stream",
     "text": [
      "0...10...20...30...40...50...60...70...80...90...100 - done.\n",
      "361\n"
     ]
    }
   ],
   "source": [
    "%%bash\n",
    "start=`date +%s`\n",
    "pkreclass -co COMPRESS=DEFLATE -co ZLEVEL=9  \\\n",
    "-code /tmp/recode4bash.txt                   \\\n",
    "-nodata 48                                   \\\n",
    "-ot Float64                                  \\\n",
    "-i in_data/CLC/CLC_2018_10m/Data/AUT.tif     \\\n",
    "-o out_data/CLC10m/AUT_recode.tif            \\\n",
    "\n",
    "end=`date +%s`\n",
    "\n",
    "expr $end - $start"
   ]
  },
  {
   "cell_type": "markdown",
   "id": "44e62287",
   "metadata": {},
   "source": [
    "Get the extent and resolution from the 100m map and use that to calculate the mean"
   ]
  },
  {
   "cell_type": "code",
   "execution_count": 95,
   "id": "7fc1325e",
   "metadata": {},
   "outputs": [
    {
     "name": "stdout",
     "output_type": "stream",
     "text": [
      "Pixel Size = (100.000000000000000,-100.000000000000000)\r\n"
     ]
    }
   ],
   "source": [
    "!gdalinfo out_data/CLC/CLC_recode01.tif | grep Pixel"
   ]
  },
  {
   "cell_type": "code",
   "execution_count": 96,
   "id": "f95ff8e6",
   "metadata": {},
   "outputs": [
    {
     "name": "stdout",
     "output_type": "stream",
     "text": [
      "Origin = (900000.000000000000000,5500000.000000000000000)\n",
      "Origin = (4585465.000000000000000,2889034.000000000000000)\n",
      "Warning 1: The definition of projected CRS EPSG:3035 got from GeoTIFF keys is not the same as the one from the EPSG registry, which may cause issues during reprojection operations. Set GTIFF_SRS_SOURCE configuration option to EPSG to use official parameters (overriding the ones from GeoTIFF keys), or to GEOKEYS to use custom values from GeoTIFF keys and drop the EPSG code.\n",
      "Origin = (900000.000000000000000,5500000.000000000000000)\n"
     ]
    }
   ],
   "source": [
    "!gdalinfo out_data/CLC/CLC_recode01.tif | grep Origin\n",
    "!gdalinfo out_data/CLC10m/AUT_recode.tif| grep Origin\n",
    "!gdalinfo in_data/CLC/CLC_2018_10m/Data/CLMS_CLCplus_RASTER_2018_010m_eu_03035_V1_1.tif| grep Origin\n"
   ]
  },
  {
   "cell_type": "code",
   "execution_count": 97,
   "id": "93916127",
   "metadata": {},
   "outputs": [
    {
     "name": "stdout",
     "output_type": "stream",
     "text": [
      "Input file size is 26917, 29388\n",
      "0...10...20...30...40...50...60...70...80...90...100 - done.\n",
      "13\n"
     ]
    }
   ],
   "source": [
    "%%bash\n",
    "start=`date +%s`\n",
    "gdal_translate -ot Float64                                       \\\n",
    "-tr 100 100                                                      \\\n",
    "-r average                                                       \\\n",
    "out_data/CLC10m/AUT_recode.tif out_data/CLC10m/AUT_100m_mean.tif \\\n",
    "\n",
    "end=`date +%s`\n",
    "\n",
    "expr $end - $start"
   ]
  }
 ],
 "metadata": {
  "kernelspec": {
   "display_name": "Python 3 (ipykernel)",
   "language": "python",
   "name": "python3"
  },
  "language_info": {
   "codemirror_mode": {
    "name": "ipython",
    "version": 3
   },
   "file_extension": ".py",
   "mimetype": "text/x-python",
   "name": "python",
   "nbconvert_exporter": "python",
   "pygments_lexer": "ipython3",
   "version": "3.10.6"
  }
 },
 "nbformat": 4,
 "nbformat_minor": 5
}
