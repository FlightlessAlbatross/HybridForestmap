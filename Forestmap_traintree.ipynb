{
 "cells": [
  {
   "cell_type": "markdown",
   "id": "1ac38297",
   "metadata": {},
   "source": [
    "Train simple forests and try to interpret"
   ]
  },
  {
   "cell_type": "code",
   "execution_count": 1,
   "id": "96e16064",
   "metadata": {},
   "outputs": [],
   "source": [
    "import pandas as pd\n",
    "import numpy as np\n",
    "import rasterio\n",
    "from rasterio import *\n",
    "from rasterio.plot import show\n",
    "from pyspatialml import Raster\n",
    "# from sklearn.ensemble import RandomForestClassifier\n",
    "from sklearn.model_selection import train_test_split,GridSearchCV\n",
    "from sklearn.pipeline import Pipeline\n",
    "from scipy.stats import pearsonr\n",
    "import matplotlib.pyplot as plt\n",
    "from sklearn.metrics import confusion_matrix, ConfusionMatrixDisplay\n",
    "import joblib\n",
    "\n",
    "from sklearn.tree import DecisionTreeClassifier\n",
    "from sklearn import tree"
   ]
  },
  {
   "cell_type": "code",
   "execution_count": 2,
   "id": "bb9c7c85",
   "metadata": {},
   "outputs": [],
   "source": [
    "predictors = pd.read_csv(\"out_data/forest_data_poland_lucas.csv\", sep=\" \",  index_col=False, na_values = 48,\n",
    "                         header = None)\n",
    "pd.set_option('display.max_columns',None)\n"
   ]
  },
  {
   "cell_type": "markdown",
   "id": "3a001981",
   "metadata": {},
   "source": [
    "Better variable names"
   ]
  },
  {
   "cell_type": "code",
   "execution_count": 3,
   "id": "32f64b3f",
   "metadata": {},
   "outputs": [
    {
     "data": {
      "text/html": [
       "<div>\n",
       "<style scoped>\n",
       "    .dataframe tbody tr th:only-of-type {\n",
       "        vertical-align: middle;\n",
       "    }\n",
       "\n",
       "    .dataframe tbody tr th {\n",
       "        vertical-align: top;\n",
       "    }\n",
       "\n",
       "    .dataframe thead th {\n",
       "        text-align: right;\n",
       "    }\n",
       "</style>\n",
       "<table border=\"1\" class=\"dataframe\">\n",
       "  <thead>\n",
       "    <tr style=\"text-align: right;\">\n",
       "      <th></th>\n",
       "      <th>GLAD_mean100m</th>\n",
       "      <th>GLAD_median100m</th>\n",
       "      <th>GLAD_mode100m</th>\n",
       "      <th>GLAD_q1</th>\n",
       "      <th>GLAD_q3</th>\n",
       "      <th>CLC10m_mean</th>\n",
       "      <th>CLC10m_median</th>\n",
       "      <th>CLC10m_mode.</th>\n",
       "      <th>CLC10m_q1</th>\n",
       "      <th>CLC10m_q3</th>\n",
       "      <th>CLC_01.vrt</th>\n",
       "      <th>C-GLOPS_mean</th>\n",
       "      <th>C-GLOPS_median</th>\n",
       "      <th>C-GLOPS_mode</th>\n",
       "      <th>C-GLOPS_q1</th>\n",
       "      <th>C-GLOPS_q3</th>\n",
       "      <th>JAXA_q3</th>\n",
       "      <th>JAXA_q1</th>\n",
       "      <th>JAXA_mode</th>\n",
       "      <th>JAXA_median</th>\n",
       "      <th>JAXA_mean</th>\n",
       "    </tr>\n",
       "  </thead>\n",
       "  <tbody>\n",
       "    <tr>\n",
       "      <th>23079</th>\n",
       "      <td>0.246136</td>\n",
       "      <td>0</td>\n",
       "      <td>0</td>\n",
       "      <td>0</td>\n",
       "      <td>1</td>\n",
       "      <td>0.60</td>\n",
       "      <td>1</td>\n",
       "      <td>1</td>\n",
       "      <td>0</td>\n",
       "      <td>1</td>\n",
       "      <td>0</td>\n",
       "      <td>0.191063</td>\n",
       "      <td>0.07</td>\n",
       "      <td>0.07</td>\n",
       "      <td>0.04</td>\n",
       "      <td>0.08</td>\n",
       "      <td>0.5</td>\n",
       "      <td>0.0</td>\n",
       "      <td>0.0</td>\n",
       "      <td>0.0</td>\n",
       "      <td>0.277736</td>\n",
       "    </tr>\n",
       "    <tr>\n",
       "      <th>23080</th>\n",
       "      <td>0.000000</td>\n",
       "      <td>0</td>\n",
       "      <td>0</td>\n",
       "      <td>0</td>\n",
       "      <td>0</td>\n",
       "      <td>0.00</td>\n",
       "      <td>0</td>\n",
       "      <td>0</td>\n",
       "      <td>0</td>\n",
       "      <td>0</td>\n",
       "      <td>0</td>\n",
       "      <td>0.016844</td>\n",
       "      <td>0.01</td>\n",
       "      <td>0.01</td>\n",
       "      <td>0.01</td>\n",
       "      <td>0.03</td>\n",
       "      <td>0.0</td>\n",
       "      <td>0.0</td>\n",
       "      <td>0.0</td>\n",
       "      <td>0.0</td>\n",
       "      <td>0.000000</td>\n",
       "    </tr>\n",
       "    <tr>\n",
       "      <th>23081</th>\n",
       "      <td>0.932173</td>\n",
       "      <td>1</td>\n",
       "      <td>1</td>\n",
       "      <td>1</td>\n",
       "      <td>1</td>\n",
       "      <td>0.95</td>\n",
       "      <td>1</td>\n",
       "      <td>1</td>\n",
       "      <td>1</td>\n",
       "      <td>1</td>\n",
       "      <td>1</td>\n",
       "      <td>0.402705</td>\n",
       "      <td>0.44</td>\n",
       "      <td>0.39</td>\n",
       "      <td>0.39</td>\n",
       "      <td>0.62</td>\n",
       "      <td>1.0</td>\n",
       "      <td>1.0</td>\n",
       "      <td>1.0</td>\n",
       "      <td>1.0</td>\n",
       "      <td>0.961699</td>\n",
       "    </tr>\n",
       "    <tr>\n",
       "      <th>23082</th>\n",
       "      <td>0.000000</td>\n",
       "      <td>0</td>\n",
       "      <td>0</td>\n",
       "      <td>0</td>\n",
       "      <td>0</td>\n",
       "      <td>0.00</td>\n",
       "      <td>0</td>\n",
       "      <td>0</td>\n",
       "      <td>0</td>\n",
       "      <td>0</td>\n",
       "      <td>0</td>\n",
       "      <td>0.043004</td>\n",
       "      <td>0.03</td>\n",
       "      <td>0.03</td>\n",
       "      <td>0.02</td>\n",
       "      <td>0.03</td>\n",
       "      <td>0.0</td>\n",
       "      <td>0.0</td>\n",
       "      <td>0.0</td>\n",
       "      <td>0.0</td>\n",
       "      <td>0.023998</td>\n",
       "    </tr>\n",
       "    <tr>\n",
       "      <th>23083</th>\n",
       "      <td>0.000000</td>\n",
       "      <td>0</td>\n",
       "      <td>0</td>\n",
       "      <td>0</td>\n",
       "      <td>0</td>\n",
       "      <td>0.09</td>\n",
       "      <td>0</td>\n",
       "      <td>0</td>\n",
       "      <td>0</td>\n",
       "      <td>0</td>\n",
       "      <td>0</td>\n",
       "      <td>0.098559</td>\n",
       "      <td>0.09</td>\n",
       "      <td>0.06</td>\n",
       "      <td>0.06</td>\n",
       "      <td>0.11</td>\n",
       "      <td>0.0</td>\n",
       "      <td>0.0</td>\n",
       "      <td>0.0</td>\n",
       "      <td>0.0</td>\n",
       "      <td>0.000000</td>\n",
       "    </tr>\n",
       "  </tbody>\n",
       "</table>\n",
       "</div>"
      ],
      "text/plain": [
       "       GLAD_mean100m  GLAD_median100m  GLAD_mode100m  GLAD_q1  GLAD_q3  \\\n",
       "23079       0.246136                0              0        0        1   \n",
       "23080       0.000000                0              0        0        0   \n",
       "23081       0.932173                1              1        1        1   \n",
       "23082       0.000000                0              0        0        0   \n",
       "23083       0.000000                0              0        0        0   \n",
       "\n",
       "       CLC10m_mean  CLC10m_median  CLC10m_mode.  CLC10m_q1  CLC10m_q3  \\\n",
       "23079         0.60              1             1          0          1   \n",
       "23080         0.00              0             0          0          0   \n",
       "23081         0.95              1             1          1          1   \n",
       "23082         0.00              0             0          0          0   \n",
       "23083         0.09              0             0          0          0   \n",
       "\n",
       "       CLC_01.vrt  C-GLOPS_mean  C-GLOPS_median  C-GLOPS_mode  C-GLOPS_q1  \\\n",
       "23079           0      0.191063            0.07          0.07        0.04   \n",
       "23080           0      0.016844            0.01          0.01        0.01   \n",
       "23081           1      0.402705            0.44          0.39        0.39   \n",
       "23082           0      0.043004            0.03          0.03        0.02   \n",
       "23083           0      0.098559            0.09          0.06        0.06   \n",
       "\n",
       "       C-GLOPS_q3  JAXA_q3  JAXA_q1  JAXA_mode  JAXA_median  JAXA_mean  \n",
       "23079        0.08      0.5      0.0        0.0          0.0   0.277736  \n",
       "23080        0.03      0.0      0.0        0.0          0.0   0.000000  \n",
       "23081        0.62      1.0      1.0        1.0          1.0   0.961699  \n",
       "23082        0.03      0.0      0.0        0.0          0.0   0.023998  \n",
       "23083        0.11      0.0      0.0        0.0          0.0   0.000000  "
      ]
     },
     "execution_count": 3,
     "metadata": {},
     "output_type": "execute_result"
    }
   ],
   "source": [
    "predictors_names = pd.read_csv(\"out_data/available_features_names.csv\", sep=\",\",  index_col=False)\n",
    "predictors.columns = predictors_names.name.tolist()\n",
    "predictors.tail(5)"
   ]
  },
  {
   "cell_type": "markdown",
   "id": "3b515778",
   "metadata": {},
   "source": [
    "Now the left hand side"
   ]
  },
  {
   "cell_type": "code",
   "execution_count": 4,
   "id": "94faa470",
   "metadata": {},
   "outputs": [
    {
     "data": {
      "text/html": [
       "<div>\n",
       "<style scoped>\n",
       "    .dataframe tbody tr th:only-of-type {\n",
       "        vertical-align: middle;\n",
       "    }\n",
       "\n",
       "    .dataframe tbody tr th {\n",
       "        vertical-align: top;\n",
       "    }\n",
       "\n",
       "    .dataframe thead th {\n",
       "        text-align: right;\n",
       "    }\n",
       "</style>\n",
       "<table border=\"1\" class=\"dataframe\">\n",
       "  <thead>\n",
       "    <tr style=\"text-align: right;\">\n",
       "      <th></th>\n",
       "      <th>X</th>\n",
       "      <th>Y</th>\n",
       "      <th>LC1</th>\n",
       "      <th>LC1_PERC</th>\n",
       "      <th>forest</th>\n",
       "    </tr>\n",
       "  </thead>\n",
       "  <tbody>\n",
       "    <tr>\n",
       "      <th>23079</th>\n",
       "      <td>5.278000e+06</td>\n",
       "      <td>3.114000e+06</td>\n",
       "      <td>C22</td>\n",
       "      <td>100</td>\n",
       "      <td>1</td>\n",
       "    </tr>\n",
       "    <tr>\n",
       "      <th>23080</th>\n",
       "      <td>5.278000e+06</td>\n",
       "      <td>3.136000e+06</td>\n",
       "      <td>B11</td>\n",
       "      <td>100</td>\n",
       "      <td>0</td>\n",
       "    </tr>\n",
       "    <tr>\n",
       "      <th>23081</th>\n",
       "      <td>5.294000e+06</td>\n",
       "      <td>3.150000e+06</td>\n",
       "      <td>C10</td>\n",
       "      <td>100</td>\n",
       "      <td>1</td>\n",
       "    </tr>\n",
       "    <tr>\n",
       "      <th>23082</th>\n",
       "      <td>5.294000e+06</td>\n",
       "      <td>3.172000e+06</td>\n",
       "      <td>B11</td>\n",
       "      <td>92</td>\n",
       "      <td>0</td>\n",
       "    </tr>\n",
       "    <tr>\n",
       "      <th>23083</th>\n",
       "      <td>5.286000e+06</td>\n",
       "      <td>3.116000e+06</td>\n",
       "      <td>Bx1</td>\n",
       "      <td>98</td>\n",
       "      <td>0</td>\n",
       "    </tr>\n",
       "  </tbody>\n",
       "</table>\n",
       "</div>"
      ],
      "text/plain": [
       "                  X             Y  LC1  LC1_PERC  forest\n",
       "23079  5.278000e+06  3.114000e+06  C22       100       1\n",
       "23080  5.278000e+06  3.136000e+06  B11       100       0\n",
       "23081  5.294000e+06  3.150000e+06  C10       100       1\n",
       "23082  5.294000e+06  3.172000e+06  B11        92       0\n",
       "23083  5.286000e+06  3.116000e+06  Bx1        98       0"
      ]
     },
     "execution_count": 4,
     "metadata": {},
     "output_type": "execute_result"
    }
   ],
   "source": [
    "outcome = pd.read_csv(\"out_data/LUCAS/LUCAS_locations.csv\", sep=\",\",  index_col=False)\n",
    "outcome.tail(5)"
   ]
  },
  {
   "cell_type": "code",
   "execution_count": 5,
   "id": "c7863217",
   "metadata": {},
   "outputs": [
    {
     "name": "stdout",
     "output_type": "stream",
     "text": [
      "23084\n",
      "23084\n"
     ]
    }
   ],
   "source": [
    "print (len(outcome))\n",
    "print (len(predictors))"
   ]
  },
  {
   "cell_type": "code",
   "execution_count": 6,
   "id": "6df3f2a0",
   "metadata": {},
   "outputs": [
    {
     "data": {
      "text/html": [
       "<div>\n",
       "<style scoped>\n",
       "    .dataframe tbody tr th:only-of-type {\n",
       "        vertical-align: middle;\n",
       "    }\n",
       "\n",
       "    .dataframe tbody tr th {\n",
       "        vertical-align: top;\n",
       "    }\n",
       "\n",
       "    .dataframe thead th {\n",
       "        text-align: right;\n",
       "    }\n",
       "</style>\n",
       "<table border=\"1\" class=\"dataframe\">\n",
       "  <thead>\n",
       "    <tr style=\"text-align: right;\">\n",
       "      <th></th>\n",
       "      <th>X</th>\n",
       "      <th>Y</th>\n",
       "      <th>LC1</th>\n",
       "      <th>LC1_PERC</th>\n",
       "      <th>forest</th>\n",
       "    </tr>\n",
       "  </thead>\n",
       "  <tbody>\n",
       "    <tr>\n",
       "      <th>0</th>\n",
       "      <td>5.214000e+06</td>\n",
       "      <td>3.064000e+06</td>\n",
       "      <td>B16</td>\n",
       "      <td>95</td>\n",
       "      <td>0</td>\n",
       "    </tr>\n",
       "    <tr>\n",
       "      <th>1</th>\n",
       "      <td>5.214000e+06</td>\n",
       "      <td>3.116000e+06</td>\n",
       "      <td>E20</td>\n",
       "      <td>100</td>\n",
       "      <td>0</td>\n",
       "    </tr>\n",
       "    <tr>\n",
       "      <th>2</th>\n",
       "      <td>5.214000e+06</td>\n",
       "      <td>3.388000e+06</td>\n",
       "      <td>C10</td>\n",
       "      <td>100</td>\n",
       "      <td>1</td>\n",
       "    </tr>\n",
       "    <tr>\n",
       "      <th>3</th>\n",
       "      <td>5.214000e+06</td>\n",
       "      <td>3.474000e+06</td>\n",
       "      <td>B16</td>\n",
       "      <td>1</td>\n",
       "      <td>0</td>\n",
       "    </tr>\n",
       "    <tr>\n",
       "      <th>4</th>\n",
       "      <td>4.792000e+06</td>\n",
       "      <td>3.082000e+06</td>\n",
       "      <td>B14</td>\n",
       "      <td>50</td>\n",
       "      <td>0</td>\n",
       "    </tr>\n",
       "  </tbody>\n",
       "</table>\n",
       "</div>"
      ],
      "text/plain": [
       "              X             Y  LC1  LC1_PERC  forest\n",
       "0  5.214000e+06  3.064000e+06  B16        95       0\n",
       "1  5.214000e+06  3.116000e+06  E20       100       0\n",
       "2  5.214000e+06  3.388000e+06  C10       100       1\n",
       "3  5.214000e+06  3.474000e+06  B16         1       0\n",
       "4  4.792000e+06  3.082000e+06  B14        50       0"
      ]
     },
     "execution_count": 6,
     "metadata": {},
     "output_type": "execute_result"
    }
   ],
   "source": [
    "outcome.head()"
   ]
  },
  {
   "cell_type": "markdown",
   "id": "d59574f8",
   "metadata": {},
   "source": [
    "Split the Dataset"
   ]
  },
  {
   "cell_type": "code",
   "execution_count": 7,
   "id": "8de0f47d",
   "metadata": {},
   "outputs": [
    {
     "name": "stdout",
     "output_type": "stream",
     "text": [
      "(23084, 21)\n",
      "(23084, 1)\n",
      "<class 'pandas.core.frame.DataFrame'>\n",
      "<class 'pandas.core.frame.DataFrame'>\n"
     ]
    }
   ],
   "source": [
    "X    = predictors\n",
    "Y    = outcome.iloc[:,4].to_frame()\n",
    "feat = predictors.columns.values\n",
    "print(X.shape)\n",
    "print(Y.shape)\n",
    "print(type(X))\n",
    "print(type(Y))"
   ]
  },
  {
   "cell_type": "markdown",
   "id": "65725909",
   "metadata": {},
   "source": [
    "There are a handful of NAs"
   ]
  },
  {
   "cell_type": "code",
   "execution_count": 8,
   "id": "781c5744",
   "metadata": {},
   "outputs": [
    {
     "name": "stdout",
     "output_type": "stream",
     "text": [
      "NA rows: [   33    54    58 ... 23032 23046 23077]\n"
     ]
    }
   ],
   "source": [
    "na_rows = X.apply(lambda x: np.any(pd.isna(x)), axis=1)\n",
    "result = np.where(na_rows)[0]\n",
    "print('NA rows: ' + str(result))"
   ]
  },
  {
   "cell_type": "code",
   "execution_count": 9,
   "id": "ec4d2354",
   "metadata": {},
   "outputs": [],
   "source": [
    "X = X.drop(X.index[result])\n",
    "Y = Y.drop(Y.index[result])\n"
   ]
  },
  {
   "cell_type": "code",
   "execution_count": 10,
   "id": "e552acf2",
   "metadata": {},
   "outputs": [
    {
     "name": "stdout",
     "output_type": "stream",
     "text": [
      "(21819, 21)\n",
      "(21819, 1)\n"
     ]
    }
   ],
   "source": [
    "print(X.shape)\n",
    "print(Y.shape)"
   ]
  },
  {
   "cell_type": "markdown",
   "id": "82ebc05e",
   "metadata": {},
   "source": [
    "Create 4 dataset for training and testing the algorithm "
   ]
  },
  {
   "cell_type": "code",
   "execution_count": 11,
   "id": "0f0778f7",
   "metadata": {},
   "outputs": [],
   "source": [
    "X_train, X_test, Y_train, Y_test = train_test_split(X, Y, test_size=0.5, random_state=2023)\n",
    "y_train = np.ravel(Y_train)\n",
    "y_test = np.ravel(Y_test)"
   ]
  },
  {
   "cell_type": "code",
   "execution_count": 12,
   "id": "5e758d34",
   "metadata": {},
   "outputs": [
    {
     "name": "stdout",
     "output_type": "stream",
     "text": [
      "0.3208360069667247\n",
      "0.3242896425297892\n"
     ]
    }
   ],
   "source": [
    "print(np.mean(y_train==1))\n",
    "print(np.mean(y_test==1))"
   ]
  },
  {
   "cell_type": "markdown",
   "id": "357c95ab",
   "metadata": {},
   "source": [
    "Use wandb to seach the model space "
   ]
  },
  {
   "cell_type": "code",
   "execution_count": 13,
   "id": "33650f3e",
   "metadata": {},
   "outputs": [],
   "source": [
    "import wandb"
   ]
  },
  {
   "cell_type": "code",
   "execution_count": 14,
   "id": "a07ee277",
   "metadata": {},
   "outputs": [
    {
     "name": "stderr",
     "output_type": "stream",
     "text": [
      "\u001b[34m\u001b[1mwandb\u001b[0m: Currently logged in as: \u001b[33mhofer1991\u001b[0m (\u001b[33mnodes\u001b[0m). Use \u001b[1m`wandb login --relogin`\u001b[0m to force relogin\n",
      "Widget Javascript not detected.  It may not be installed or enabled properly. Reconnecting the current kernel may help.\n"
     ]
    },
    {
     "data": {
      "application/vnd.jupyter.widget-view+json": {
       "model_id": "12e3f9756e444c909a594637d206f40e"
      }
     },
     "metadata": {},
     "output_type": "display_data"
    },
    {
     "data": {
      "text/html": [
       "Tracking run with wandb version 0.15.4"
      ],
      "text/plain": [
       "<IPython.core.display.HTML object>"
      ]
     },
     "metadata": {},
     "output_type": "display_data"
    },
    {
     "data": {
      "text/html": [
       "Run data is saved locally in <code>/media/sf_geocomputation_class/forestmap/wandb/run-20230921_142410-ong2orgh</code>"
      ],
      "text/plain": [
       "<IPython.core.display.HTML object>"
      ]
     },
     "metadata": {},
     "output_type": "display_data"
    },
    {
     "data": {
      "text/html": [
       "Syncing run <strong><a href='https://wandb.ai/nodes/RF_Foresthybrid_sweep/runs/ong2orgh' target=\"_blank\">amber-lion-7</a></strong> to <a href='https://wandb.ai/nodes/RF_Foresthybrid_sweep' target=\"_blank\">Weights & Biases</a> (<a href='https://wandb.me/run' target=\"_blank\">docs</a>)<br/>"
      ],
      "text/plain": [
       "<IPython.core.display.HTML object>"
      ]
     },
     "metadata": {},
     "output_type": "display_data"
    },
    {
     "data": {
      "text/html": [
       " View project at <a href='https://wandb.ai/nodes/RF_Foresthybrid_sweep' target=\"_blank\">https://wandb.ai/nodes/RF_Foresthybrid_sweep</a>"
      ],
      "text/plain": [
       "<IPython.core.display.HTML object>"
      ]
     },
     "metadata": {},
     "output_type": "display_data"
    },
    {
     "data": {
      "text/html": [
       " View run at <a href='https://wandb.ai/nodes/RF_Foresthybrid_sweep/runs/ong2orgh' target=\"_blank\">https://wandb.ai/nodes/RF_Foresthybrid_sweep/runs/ong2orgh</a>"
      ],
      "text/plain": [
       "<IPython.core.display.HTML object>"
      ]
     },
     "metadata": {},
     "output_type": "display_data"
    },
    {
     "data": {
      "text/html": [
       "<button onClick=\"this.nextSibling.style.display='block';this.style.display='none';\">Display W&B run</button><iframe src='https://wandb.ai/nodes/RF_Foresthybrid_sweep/runs/ong2orgh?jupyter=true' style='border:none;width:100%;height:420px;display:none;'></iframe>"
      ],
      "text/plain": [
       "<wandb.sdk.wandb_run.Run at 0x7fa92ff8a1a0>"
      ]
     },
     "execution_count": 14,
     "metadata": {},
     "output_type": "execute_result"
    }
   ],
   "source": [
    "wandb.init(project=\"RF_Foresthybrid_sweep\")"
   ]
  },
  {
   "cell_type": "code",
   "execution_count": null,
   "id": "15079cc1",
   "metadata": {},
   "outputs": [],
   "source": [
    "#wandb.sklearn.plot_confusion_matrix(y_train, dic_pred['train'])\n",
    "\n"
   ]
  },
  {
   "cell_type": "code",
   "execution_count": 15,
   "id": "7320f17f",
   "metadata": {},
   "outputs": [],
   "source": [
    "sweep_config = {\n",
    "    'method': 'bayes',\n",
    "    'metric': {\n",
    "      'name': 'Accuracy/val',\n",
    "      'goal': 'maximize'   \n",
    "    },\n",
    "    'parameters': {\n",
    "        'tree__min_samples':{\n",
    "            'distribution': 'uniform',\n",
    "            'min' : 0.2 ,\n",
    "            'max' : 0.9\n",
    "        },\n",
    "        'tree__max_depth':{\n",
    "            'distribution': 'int_uniform',\n",
    "            'min' : 1 ,\n",
    "            'max' : 10\n",
    "        }\n",
    "    }\n",
    "}"
   ]
  },
  {
   "cell_type": "code",
   "execution_count": null,
   "id": "e374c503",
   "metadata": {},
   "outputs": [],
   "source": [
    "# Initialize a new sweep\n",
    "# Arguments:\n",
    "#     – sweep_config: the sweep config dictionary defined above\n",
    "#     – entity: Set the username for the sweep\n",
    "#     – project: Set the project name for the sweep\n",
    "sweep_id = wandb.sweep(sweep_config, entity=\"hofer1991\", project=\"SingleSimpleTree_Foresthybrid_sweep\")"
   ]
  },
  {
   "cell_type": "code",
   "execution_count": 14,
   "id": "ffa48098",
   "metadata": {},
   "outputs": [],
   "source": [
    "# Training and Evaluation routines for Sweeping\n",
    "def performance_metrics(y_true, y_pred):\n",
    "    tn, fp, fn, tp = confusion_matrix(y_true, y_pred).ravel()\n",
    "    acc = (tp + tn) / (tn + tp + fp + fn)\n",
    "    tpr = tp / (tp + fn)\n",
    "    tnr = tn / (tn + fn)\n",
    "    bacc= (tpr + tnr) * 0.5\n",
    "#    f1 = (tpr * tnr) / (tpr + tnr)\n",
    "    return(acc)\n",
    "\n",
    "def evaluate(model, X, y):\n",
    "    y_pred = model.predict(X) \n",
    "    metric  = performance_metrics(y, y_pred)\n",
    "    return(metric)\n",
    "    \n",
    "def train(config=None):\n",
    "    with wandb.init(config=config):\n",
    "        \n",
    "        # Config is a variable that holds and saves hyperparameters and inputs\n",
    "        config = wandb.config\n",
    "        \n",
    "        TreeClassifier = tree.DecisionTreeClassifier(\n",
    "                    # max_features=config.tree__max_features,\n",
    "                    max_depth   =config.tree__max_depth,\n",
    "                    min_samples_split=config.tree__min_samples) \n",
    "        \n",
    "        TreeClassifier.fit(X_train, y_train)\n",
    "        \n",
    "        \n",
    "        acc_train = evaluate(TreeClassifier,X_train, y_train)\n",
    "        acc_test = evaluate(TreeClassifier, X_test, y_test)\n",
    "        \n",
    "        wandb.log({\n",
    "                \"Accuracy/train\": acc_train,\n",
    "                \"Accuracy/val\": acc_test\n",
    "        })\n",
    "        "
   ]
  },
  {
   "cell_type": "code",
   "execution_count": null,
   "id": "0f72d5d4",
   "metadata": {},
   "outputs": [],
   "source": [
    "wandb.agent(sweep_id, train)"
   ]
  },
  {
   "cell_type": "code",
   "execution_count": 15,
   "id": "768680a8",
   "metadata": {},
   "outputs": [
    {
     "data": {
      "text/plain": [
       "0.8944087992667278"
      ]
     },
     "execution_count": 15,
     "metadata": {},
     "output_type": "execute_result"
    }
   ],
   "source": [
    "TreeClassifier = tree.DecisionTreeClassifier(\n",
    "                    max_depth=10,\n",
    "                    min_samples_split=0.3) \n",
    "\n",
    "TreeClassifier.fit(X_train, y_train)\n",
    "        \n",
    "        \n",
    "evaluate(TreeClassifier, X_test, y_test)"
   ]
  },
  {
   "cell_type": "code",
   "execution_count": 16,
   "id": "d490ec21",
   "metadata": {},
   "outputs": [],
   "source": [
    "from sklearn import tree\n",
    "import matplotlib.pyplot as plt\n",
    "from datetime import datetime"
   ]
  },
  {
   "cell_type": "markdown",
   "id": "a23ec940",
   "metadata": {},
   "source": [
    "# get current date and time\n",
    "now = datetime.now()\n",
    "dt_string = now.strftime(\"%Y-%m-%d_%H-%M-%S\")\n",
    "\n",
    "# create a unique filename based on the current date and time\n",
    "filename = f'fgood_model_{dt_string}.sav'\n",
    "\n",
    "# save the model to disk\n",
    "joblib.dump(rfc, filename)"
   ]
  },
  {
   "cell_type": "code",
   "execution_count": 17,
   "id": "85114ecb",
   "metadata": {
    "scrolled": false
   },
   "outputs": [
    {
     "data": {
      "image/png": "[encoded data removed]",
      "text/plain": [
       "<Figure size 1080x720 with 1 Axes>"
      ]
     },
     "metadata": {
      "needs_background": "light"
     },
     "output_type": "display_data"
    }
   ],
   "source": [
    "plt.figure(figsize=(15,10))\n",
    "tree.plot_tree(TreeClassifier, \n",
    "               feature_names = X.columns, \n",
    "               class_names= [\"NF\",\"F\"], \n",
    "               filled = True)\n",
    "\n",
    "plt.show()"
   ]
  },
  {
   "cell_type": "code",
   "execution_count": 20,
   "id": "c403e4f8",
   "metadata": {},
   "outputs": [
    {
     "name": "stdout",
     "output_type": "stream",
     "text": [
      "[[6967  405]\n",
      " [ 747 2791]]\n"
     ]
    },
    {
     "data": {
      "image/png": "[encoded data removed]",
      "text/plain": [
       "<Figure size 432x288 with 2 Axes>"
      ]
     },
     "metadata": {
      "needs_background": "light"
     },
     "output_type": "display_data"
    }
   ],
   "source": [
    "from sklearn.metrics import confusion_matrix, plot_confusion_matrix\n",
    "import matplotlib.pyplot as plt\n",
    "\n",
    "# make predictions on the test data\n",
    "y_pred = TreeClassifier.predict(X_test)\n",
    "\n",
    "# compute the confusion matrix\n",
    "cm = confusion_matrix(y_test, y_pred)\n",
    "\n",
    "# you can print the confusion matrix using\n",
    "print(cm)\n",
    "\n",
    "# alternatively, you can plot the confusion matrix using matplotlib\n",
    "plot_confusion_matrix(TreeClassifier, X_test, y_test, cmap=plt.cm.Blues)\n",
    "\n",
    "plt.show()"
   ]
  },
  {
   "cell_type": "markdown",
   "id": "8d926f79",
   "metadata": {},
   "source": [
    "TODO grab the LUCAS images"
   ]
  },
  {
   "cell_type": "code",
   "execution_count": 27,
   "id": "3944a445",
   "metadata": {},
   "outputs": [],
   "source": [
    "pred_proba = TreeClassifier.predict_proba(X_test)"
   ]
  },
  {
   "cell_type": "code",
   "execution_count": 32,
   "id": "ee9794d0",
   "metadata": {},
   "outputs": [
    {
     "data": {
      "text/plain": [
       "array([0, 1])"
      ]
     },
     "execution_count": 32,
     "metadata": {},
     "output_type": "execute_result"
    }
   ],
   "source": [
    "TreeClassifier.classes_"
   ]
  },
  {
   "cell_type": "code",
   "execution_count": 36,
   "id": "22cd477e",
   "metadata": {},
   "outputs": [],
   "source": [
    "class_proba = []\n",
    "for row in pred_proba:\n",
    "    class_proba.append(max(row))"
   ]
  },
  {
   "cell_type": "code",
   "execution_count": 18,
   "id": "1c68b2f0",
   "metadata": {},
   "outputs": [
    {
     "ename": "NameError",
     "evalue": "name 'class_proba' is not defined",
     "output_type": "error",
     "traceback": [
      "\u001b[0;31m---------------------------------------------------------------------------\u001b[0m",
      "\u001b[0;31mNameError\u001b[0m                                 Traceback (most recent call last)",
      "\u001b[0;32m/tmp/ipykernel_2956/1994143553.py\u001b[0m in \u001b[0;36m<module>\u001b[0;34m\u001b[0m\n\u001b[0;32m----> 1\u001b[0;31m \u001b[0mplt\u001b[0m\u001b[0;34m.\u001b[0m\u001b[0mhist\u001b[0m\u001b[0;34m(\u001b[0m\u001b[0mclass_proba\u001b[0m\u001b[0;34m,\u001b[0m \u001b[0mbins\u001b[0m\u001b[0;34m=\u001b[0m\u001b[0;34m'auto'\u001b[0m\u001b[0;34m,\u001b[0m \u001b[0mcolor\u001b[0m\u001b[0;34m=\u001b[0m\u001b[0;34m'blue'\u001b[0m\u001b[0;34m,\u001b[0m \u001b[0malpha\u001b[0m\u001b[0;34m=\u001b[0m\u001b[0;36m0.7\u001b[0m\u001b[0;34m,\u001b[0m \u001b[0mrwidth\u001b[0m\u001b[0;34m=\u001b[0m\u001b[0;36m0.85\u001b[0m\u001b[0;34m)\u001b[0m\u001b[0;34m\u001b[0m\u001b[0;34m\u001b[0m\u001b[0m\n\u001b[0m\u001b[1;32m      2\u001b[0m \u001b[0mplt\u001b[0m\u001b[0;34m.\u001b[0m\u001b[0mxlabel\u001b[0m\u001b[0;34m(\u001b[0m\u001b[0;34m'Probability'\u001b[0m\u001b[0;34m)\u001b[0m\u001b[0;34m\u001b[0m\u001b[0;34m\u001b[0m\u001b[0m\n\u001b[1;32m      3\u001b[0m \u001b[0mplt\u001b[0m\u001b[0;34m.\u001b[0m\u001b[0mylabel\u001b[0m\u001b[0;34m(\u001b[0m\u001b[0;34m'Frequency'\u001b[0m\u001b[0;34m)\u001b[0m\u001b[0;34m\u001b[0m\u001b[0;34m\u001b[0m\u001b[0m\n\u001b[1;32m      4\u001b[0m \u001b[0mplt\u001b[0m\u001b[0;34m.\u001b[0m\u001b[0mtitle\u001b[0m\u001b[0;34m(\u001b[0m\u001b[0;34m'Histogram of pred_proba'\u001b[0m\u001b[0;34m)\u001b[0m\u001b[0;34m\u001b[0m\u001b[0;34m\u001b[0m\u001b[0m\n\u001b[1;32m      5\u001b[0m \u001b[0mplt\u001b[0m\u001b[0;34m.\u001b[0m\u001b[0mshow\u001b[0m\u001b[0;34m(\u001b[0m\u001b[0;34m)\u001b[0m\u001b[0;34m\u001b[0m\u001b[0;34m\u001b[0m\u001b[0m\n",
      "\u001b[0;31mNameError\u001b[0m: name 'class_proba' is not defined"
     ]
    }
   ],
   "source": [
    "plt.hist(class_proba, bins='auto', color='blue', alpha=0.7, rwidth=0.85)\n",
    "plt.xlabel('Probability')\n",
    "plt.ylabel('Frequency')\n",
    "plt.title('Histogram of pred_proba')\n",
    "plt.show()"
   ]
  },
  {
   "cell_type": "code",
   "execution_count": null,
   "id": "bcff35a3",
   "metadata": {},
   "outputs": [],
   "source": []
  }
 ],
 "metadata": {
  "kernelspec": {
   "display_name": "Python 3 (ipykernel)",
   "language": "python",
   "name": "python3"
  },
  "language_info": {
   "codemirror_mode": {
    "name": "ipython",
    "version": 3
   },
   "file_extension": ".py",
   "mimetype": "text/x-python",
   "name": "python",
   "nbconvert_exporter": "python",
   "pygments_lexer": "ipython3",
   "version": "3.10.12"
  }
 },
 "nbformat": 4,
 "nbformat_minor": 5
}
